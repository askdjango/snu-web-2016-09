{
 "cells": [
  {
   "cell_type": "markdown",
   "metadata": {},
   "source": [
    "## 과제 Book 클래스"
   ]
  },
  {
   "cell_type": "code",
   "execution_count": 56,
   "metadata": {
    "collapsed": true
   },
   "outputs": [],
   "source": [
    "class Person:\n",
    "    def __init__(self, name, age):\n",
    "        self.name = name\n",
    "        self.age = age\n",
    "    \n",
    "    def __repr__(self):\n",
    "        return '<Person : {}, {}>'.format(self.name, self.age)\n",
    "    \n",
    "    def __str__(self):\n",
    "        return self.name\n",
    "\n",
    "people = [\n",
    "    Person('Tom', 10),\n",
    "    Person('Stve', 12),\n",
    "    Person('John', 8),\n",
    "]"
   ]
  },
  {
   "cell_type": "code",
   "execution_count": 54,
   "metadata": {
    "collapsed": false
   },
   "outputs": [
    {
     "data": {
      "text/plain": [
       "[<__main__.Person at 0x106d42eb8>,\n",
       " <__main__.Person at 0x106d42f98>,\n",
       " <__main__.Person at 0x106d42ef0>]"
      ]
     },
     "execution_count": 54,
     "metadata": {},
     "output_type": "execute_result"
    }
   ],
   "source": [
    "people"
   ]
  },
  {
   "cell_type": "code",
   "execution_count": 55,
   "metadata": {
    "collapsed": false
   },
   "outputs": [
    {
     "name": "stdout",
     "output_type": "stream",
     "text": [
      "Tom\n"
     ]
    }
   ],
   "source": [
    "print(people[0])  # print(str(people[0]))"
   ]
  },
  {
   "cell_type": "code",
   "execution_count": 2,
   "metadata": {
    "collapsed": true
   },
   "outputs": [],
   "source": [
    "first_people = people[0]"
   ]
  },
  {
   "cell_type": "code",
   "execution_count": 3,
   "metadata": {
    "collapsed": false
   },
   "outputs": [
    {
     "data": {
      "text/plain": [
       "'Tom'"
      ]
     },
     "execution_count": 3,
     "metadata": {},
     "output_type": "execute_result"
    }
   ],
   "source": [
    "first_people.name"
   ]
  },
  {
   "cell_type": "code",
   "execution_count": 4,
   "metadata": {
    "collapsed": false
   },
   "outputs": [
    {
     "data": {
      "text/plain": [
       "10"
      ]
     },
     "execution_count": 4,
     "metadata": {},
     "output_type": "execute_result"
    }
   ],
   "source": [
    "first_people.age"
   ]
  },
  {
   "cell_type": "code",
   "execution_count": 5,
   "metadata": {
    "collapsed": false
   },
   "outputs": [
    {
     "data": {
      "text/plain": [
       "'Tom'"
      ]
     },
     "execution_count": 5,
     "metadata": {},
     "output_type": "execute_result"
    }
   ],
   "source": [
    "getattr(first_people, 'name')"
   ]
  },
  {
   "cell_type": "code",
   "execution_count": 6,
   "metadata": {
    "collapsed": false
   },
   "outputs": [
    {
     "data": {
      "text/plain": [
       "10"
      ]
     },
     "execution_count": 6,
     "metadata": {},
     "output_type": "execute_result"
    }
   ],
   "source": [
    "getattr(first_people, 'age')"
   ]
  },
  {
   "cell_type": "code",
   "execution_count": 9,
   "metadata": {
    "collapsed": false
   },
   "outputs": [
    {
     "name": "stdout",
     "output_type": "stream",
     "text": [
      "Tom\n",
      "Tom\n",
      "20\n",
      "True\n",
      "False\n"
     ]
    }
   ],
   "source": [
    "# getattr\n",
    "print(first_people.name)\n",
    "print(getattr(first_people, 'name'))\n",
    "\n",
    "# setattr\n",
    "# first_people.age = 20\n",
    "setattr(first_people, 'age', 20)\n",
    "print(first_people.age)\n",
    "\n",
    "# hasattr\n",
    "print(hasattr(first_people, 'age'))\n",
    "print(hasattr(first_people, 'region'))"
   ]
  },
  {
   "cell_type": "code",
   "execution_count": 10,
   "metadata": {
    "collapsed": true
   },
   "outputs": [],
   "source": [
    "def sortfn(list, standard_name):\n",
    "    return sorted(list, key = lambda i: getattr(i, standard_name))"
   ]
  },
  {
   "cell_type": "code",
   "execution_count": 13,
   "metadata": {
    "collapsed": false
   },
   "outputs": [
    {
     "name": "stdout",
     "output_type": "stream",
     "text": [
      "Tom 20\n",
      "Stve 12\n",
      "John 8\n"
     ]
    }
   ],
   "source": [
    "for person in people:\n",
    "    print(person.name, person.age)"
   ]
  },
  {
   "cell_type": "code",
   "execution_count": 15,
   "metadata": {
    "collapsed": false
   },
   "outputs": [
    {
     "name": "stdout",
     "output_type": "stream",
     "text": [
      "John 8\n",
      "Stve 12\n",
      "Tom 20\n"
     ]
    }
   ],
   "source": [
    "for person in sortfn(people, 'age'):\n",
    "    print(person.name, person.age)"
   ]
  },
  {
   "cell_type": "markdown",
   "metadata": {
    "collapsed": true
   },
   "source": [
    "## 장식자 base"
   ]
  },
  {
   "cell_type": "code",
   "execution_count": 23,
   "metadata": {
    "collapsed": false
   },
   "outputs": [
    {
     "name": "stdout",
     "output_type": "stream",
     "text": [
      "called base_10\n",
      "called base_20\n",
      "called base_30\n",
      "63\n"
     ]
    }
   ],
   "source": [
    "def base_10(fn):\n",
    "    def wrap(x, y):\n",
    "        print(\"called base_10\")\n",
    "        return fn(x, y) + 10\n",
    "    return wrap\n",
    "\n",
    "def base_20(fn):\n",
    "    def wrap(x, y):\n",
    "        print(\"called base_20\")\n",
    "        return fn(x, y) + 20\n",
    "    return wrap\n",
    "\n",
    "def base_30(fn):\n",
    "    def wrap(x, y):\n",
    "        print(\"called base_30\")\n",
    "        return fn(x, y) + 30\n",
    "    return wrap\n",
    "\n",
    "@base_10\n",
    "@base_20\n",
    "@base_30\n",
    "def mysum(x, y):\n",
    "    return x + y\n",
    "\n",
    "# mysum = base_30(mysum)\n",
    "# mysum = base_20(mysum)\n",
    "# mysum = base_10(mysum)\n",
    "\n",
    "print(mysum(1, 2))"
   ]
  },
  {
   "cell_type": "markdown",
   "metadata": {},
   "source": [
    "### 가변인자를 처리하는 장식자"
   ]
  },
  {
   "cell_type": "code",
   "execution_count": 24,
   "metadata": {
    "collapsed": false
   },
   "outputs": [
    {
     "name": "stdout",
     "output_type": "stream",
     "text": [
      "13\n",
      "16\n"
     ]
    }
   ],
   "source": [
    "def base_10(fn):\n",
    "    def wrap(*args):\n",
    "        return fn(*args) + 10\n",
    "    return wrap\n",
    "\n",
    "@base_10\n",
    "def mysum2(x, y):\n",
    "    return x + y\n",
    "\n",
    "@base_10\n",
    "def mysum3(x, y, z):\n",
    "    return x + y + z\n",
    "\n",
    "print(mysum2(1, 2))\n",
    "print(mysum3(1, 2, 3))"
   ]
  },
  {
   "cell_type": "markdown",
   "metadata": {},
   "source": [
    "### 인자를 받는 장식자"
   ]
  },
  {
   "cell_type": "code",
   "execution_count": 26,
   "metadata": {
    "collapsed": false
   },
   "outputs": [
    {
     "name": "stdout",
     "output_type": "stream",
     "text": [
      "13\n"
     ]
    }
   ],
   "source": [
    "def base(i):\n",
    "    def wrap(fn):\n",
    "        def inner(*args):\n",
    "            return fn(*args) + i\n",
    "        return inner\n",
    "    return wrap\n",
    "\n",
    "@base(10)\n",
    "def mysum2(x, y):\n",
    "    return x + y\n",
    "\n",
    "print(mysum2(1, 2))"
   ]
  },
  {
   "cell_type": "code",
   "execution_count": 30,
   "metadata": {
    "collapsed": false
   },
   "outputs": [
    {
     "name": "stdout",
     "output_type": "stream",
     "text": [
      "6\n"
     ]
    }
   ],
   "source": [
    "def myfilter(filter_fn):\n",
    "    def wrap(fn):\n",
    "        def inner(*args):\n",
    "            # args  # (1, 2, 3, 4) => (0, 2, 0, 4)\n",
    "            \n",
    "            filtered_args = (i if filter_fn(i) else 0 for i in args)\n",
    "\n",
    "            '''\n",
    "            filtered_args = []\n",
    "            for i in args:\n",
    "                if filter_fn(i):\n",
    "                    filtered_args.append(i)\n",
    "                else:\n",
    "                    filtered_args.append(0)\n",
    "            '''\n",
    "            return fn(*filtered_args)\n",
    "        return inner\n",
    "    return wrap\n",
    "\n",
    "@myfilter(lambda i: i%2==0)\n",
    "def mysum4(a, b, c, d):\n",
    "    return a + b + c + d\n",
    "\n",
    "print(mysum4(1, 2, 3, 4))"
   ]
  },
  {
   "cell_type": "markdown",
   "metadata": {},
   "source": [
    "### 클래스로 장식자 만들기"
   ]
  },
  {
   "cell_type": "code",
   "execution_count": 34,
   "metadata": {
    "collapsed": false
   },
   "outputs": [
    {
     "name": "stdout",
     "output_type": "stream",
     "text": [
      "30\n"
     ]
    }
   ],
   "source": [
    "class Base:\n",
    "    def __init__(self, i):\n",
    "        self.i = i\n",
    "    \n",
    "    def __call__(self, fn):\n",
    "        def wrap(*args):\n",
    "            return self.process(fn(*args))\n",
    "        return wrap\n",
    "    \n",
    "    def process(self, value):\n",
    "        return value + self.i\n",
    "\n",
    "class Multiply(Base):\n",
    "    def process(self, value):\n",
    "        return value * self.i\n",
    "    \n",
    "# @Base(10)\n",
    "@Multiply(10)\n",
    "def mysum2(x, y):\n",
    "    return x + y\n",
    "\n",
    "# base_10_instance = Base(10)\n",
    "# mysum2 = base_10_instance(mysum2)\n",
    "\n",
    "print(mysum2(1, 2))"
   ]
  },
  {
   "cell_type": "code",
   "execution_count": 38,
   "metadata": {
    "collapsed": false
   },
   "outputs": [
    {
     "name": "stdout",
     "output_type": "stream",
     "text": [
      "6\n"
     ]
    }
   ],
   "source": [
    "def myfilter(filter_fn):\n",
    "    def wrap(fn):\n",
    "        def inner(*args):\n",
    "            filtered_args = (i if filter_fn(i) else 0 for i in args)\n",
    "            return fn(*filtered_args)\n",
    "        return inner\n",
    "    return wrap\n",
    "\n",
    "\n",
    "class MyFilter:\n",
    "    def __init__(self, filter_fn):\n",
    "        self.filter_fn = filter_fn\n",
    "    \n",
    "    def __call__(self, fn):\n",
    "        def wrap(*args):\n",
    "            filtered_args = (i if self.filter_fn(i) else 0 for i in args)\n",
    "            return fn(*filtered_args)\n",
    "        return wrap\n",
    "    \n",
    "\n",
    "# @myfilter(lambda i: i%2==0)\n",
    "@MyFilter(lambda i: i%2==0)\n",
    "def mysum4(a, b, c, d):\n",
    "    return a + b + c + d\n",
    "\n",
    "print(mysum4(1, 2, 3, 4))"
   ]
  },
  {
   "cell_type": "markdown",
   "metadata": {},
   "source": [
    "### 클래스를 장식하기"
   ]
  },
  {
   "cell_type": "code",
   "execution_count": 44,
   "metadata": {
    "collapsed": false
   },
   "outputs": [
    {
     "name": "stdout",
     "output_type": "stream",
     "text": [
      "Hi Hi Tom\n",
      "bye bye Tom\n"
     ]
    }
   ],
   "source": [
    "class Person:\n",
    "    def __init__(self, name, age):\n",
    "        self.name = name\n",
    "        self.age = age\n",
    "    \n",
    "    def say_hello(self):\n",
    "        print('Hello, {}.'.format(self.name))\n",
    "\n",
    "Person.byebye = lambda self: print('bye bye {}'.format(self.name))\n",
    "Person.say_hello = lambda self: print('Hi Hi {}'.format(self.name))\n",
    "        \n",
    "tom = Person('Tom', 10)\n",
    "tom.region = 'Seoul'\n",
    "tom.say_hello()\n",
    "tom.byebye()"
   ]
  },
  {
   "cell_type": "code",
   "execution_count": null,
   "metadata": {
    "collapsed": true
   },
   "outputs": [],
   "source": [
    "\n",
    "import sys\n",
    "\n",
    "PY2 = sys.version_info[0] == 2\n",
    "\n",
    "def python_2_unicode_compatible(klass):\n",
    "    if PY2:\n",
    "        klass.__unicode__ = klass.__str__\n",
    "        klass.__str__ = lambda self: self.__unicode__().encode('utf-8')\n",
    "    return klass\n",
    "\n",
    "@python_2_unicode_compatible\n",
    "class Person:\n",
    "    def __init__(self, name):\n",
    "        self.name = name\n",
    "    \n",
    "    def __str__(self):\n",
    "        return self.name\n"
   ]
  },
  {
   "cell_type": "code",
   "execution_count": 61,
   "metadata": {
    "collapsed": false
   },
   "outputs": [
    {
     "name": "stdout",
     "output_type": "stream",
     "text": [
      "118\n"
     ]
    }
   ],
   "source": [
    "def base_klass(i):\n",
    "    def wrap(klass):\n",
    "        klass.BASE = i\n",
    "        return klass\n",
    "    return wrap\n",
    "\n",
    "@base_klass(100)\n",
    "class Person:\n",
    "    BASE = 0\n",
    "\n",
    "    def __init__(self, name, age):\n",
    "        self.name = name\n",
    "        self.age = age\n",
    "    \n",
    "    def old(self, years):\n",
    "        self.age += (self.BASE + years)\n",
    "\n",
    "tom = Person('Tom', 8)\n",
    "tom.old(10)\n",
    "print(tom.age)"
   ]
  },
  {
   "cell_type": "code",
   "execution_count": 57,
   "metadata": {
    "collapsed": false
   },
   "outputs": [
    {
     "data": {
      "text/plain": [
       "sys.version_info(major=3, minor=5, micro=2, releaselevel='final', serial=0)"
      ]
     },
     "execution_count": 57,
     "metadata": {},
     "output_type": "execute_result"
    }
   ],
   "source": [
    "import sys\n",
    "sys.version_info"
   ]
  },
  {
   "cell_type": "code",
   "execution_count": 58,
   "metadata": {
    "collapsed": false
   },
   "outputs": [
    {
     "data": {
      "text/plain": [
       "(3, 5, 2)"
      ]
     },
     "execution_count": 58,
     "metadata": {},
     "output_type": "execute_result"
    }
   ],
   "source": [
    "sys.version_info[:3]"
   ]
  },
  {
   "cell_type": "code",
   "execution_count": 59,
   "metadata": {
    "collapsed": false
   },
   "outputs": [
    {
     "data": {
      "text/plain": [
       "3"
      ]
     },
     "execution_count": 59,
     "metadata": {},
     "output_type": "execute_result"
    }
   ],
   "source": [
    "sys.version_info[0]"
   ]
  },
  {
   "cell_type": "code",
   "execution_count": null,
   "metadata": {
    "collapsed": true
   },
   "outputs": [],
   "source": []
  }
 ],
 "metadata": {
  "anaconda-cloud": {},
  "kernelspec": {
   "display_name": "Python [conda root]",
   "language": "python",
   "name": "conda-root-py"
  },
  "language_info": {
   "codemirror_mode": {
    "name": "ipython",
    "version": 3
   },
   "file_extension": ".py",
   "mimetype": "text/x-python",
   "name": "python",
   "nbconvert_exporter": "python",
   "pygments_lexer": "ipython3",
   "version": "3.5.2"
  }
 },
 "nbformat": 4,
 "nbformat_minor": 1
}
