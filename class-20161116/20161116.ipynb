{
 "cells": [
  {
   "cell_type": "markdown",
   "metadata": {},
   "source": [
    "## 과제 Book 클래스"
   ]
  },
  {
   "cell_type": "code",
   "execution_count": 1,
   "metadata": {
    "collapsed": true
   },
   "outputs": [],
   "source": [
    "class Person:\n",
    "    def __init__(self, name, age):\n",
    "        self.name = name\n",
    "        self.age = age\n",
    "\n",
    "people = [\n",
    "    Person('Tom', 10),\n",
    "    Person('Stve', 12),\n",
    "    Person('John', 8),\n",
    "]"
   ]
  },
  {
   "cell_type": "code",
   "execution_count": 2,
   "metadata": {
    "collapsed": true
   },
   "outputs": [],
   "source": [
    "first_people = people[0]"
   ]
  },
  {
   "cell_type": "code",
   "execution_count": 3,
   "metadata": {
    "collapsed": false
   },
   "outputs": [
    {
     "data": {
      "text/plain": [
       "'Tom'"
      ]
     },
     "execution_count": 3,
     "metadata": {},
     "output_type": "execute_result"
    }
   ],
   "source": [
    "first_people.name"
   ]
  },
  {
   "cell_type": "code",
   "execution_count": 4,
   "metadata": {
    "collapsed": false
   },
   "outputs": [
    {
     "data": {
      "text/plain": [
       "10"
      ]
     },
     "execution_count": 4,
     "metadata": {},
     "output_type": "execute_result"
    }
   ],
   "source": [
    "first_people.age"
   ]
  },
  {
   "cell_type": "code",
   "execution_count": 5,
   "metadata": {
    "collapsed": false
   },
   "outputs": [
    {
     "data": {
      "text/plain": [
       "'Tom'"
      ]
     },
     "execution_count": 5,
     "metadata": {},
     "output_type": "execute_result"
    }
   ],
   "source": [
    "getattr(first_people, 'name')"
   ]
  },
  {
   "cell_type": "code",
   "execution_count": 6,
   "metadata": {
    "collapsed": false
   },
   "outputs": [
    {
     "data": {
      "text/plain": [
       "10"
      ]
     },
     "execution_count": 6,
     "metadata": {},
     "output_type": "execute_result"
    }
   ],
   "source": [
    "getattr(first_people, 'age')"
   ]
  },
  {
   "cell_type": "code",
   "execution_count": 9,
   "metadata": {
    "collapsed": false
   },
   "outputs": [
    {
     "name": "stdout",
     "output_type": "stream",
     "text": [
      "Tom\n",
      "Tom\n",
      "20\n",
      "True\n",
      "False\n"
     ]
    }
   ],
   "source": [
    "# getattr\n",
    "print(first_people.name)\n",
    "print(getattr(first_people, 'name'))\n",
    "\n",
    "# setattr\n",
    "# first_people.age = 20\n",
    "setattr(first_people, 'age', 20)\n",
    "print(first_people.age)\n",
    "\n",
    "# hasattr\n",
    "print(hasattr(first_people, 'age'))\n",
    "print(hasattr(first_people, 'region'))"
   ]
  },
  {
   "cell_type": "code",
   "execution_count": 10,
   "metadata": {
    "collapsed": true
   },
   "outputs": [],
   "source": [
    "def sortfn(list, standard_name):\n",
    "    return sorted(list, key = lambda i: getattr(i, standard_name))"
   ]
  },
  {
   "cell_type": "code",
   "execution_count": 13,
   "metadata": {
    "collapsed": false
   },
   "outputs": [
    {
     "name": "stdout",
     "output_type": "stream",
     "text": [
      "Tom 20\n",
      "Stve 12\n",
      "John 8\n"
     ]
    }
   ],
   "source": [
    "for person in people:\n",
    "    print(person.name, person.age)"
   ]
  },
  {
   "cell_type": "code",
   "execution_count": 15,
   "metadata": {
    "collapsed": false
   },
   "outputs": [
    {
     "name": "stdout",
     "output_type": "stream",
     "text": [
      "John 8\n",
      "Stve 12\n",
      "Tom 20\n"
     ]
    }
   ],
   "source": [
    "for person in sortfn(people, 'age'):\n",
    "    print(person.name, person.age)"
   ]
  },
  {
   "cell_type": "markdown",
   "metadata": {
    "collapsed": true
   },
   "source": [
    "## 장식자 base"
   ]
  },
  {
   "cell_type": "code",
   "execution_count": 23,
   "metadata": {
    "collapsed": false
   },
   "outputs": [
    {
     "name": "stdout",
     "output_type": "stream",
     "text": [
      "called base_10\n",
      "called base_20\n",
      "called base_30\n",
      "63\n"
     ]
    }
   ],
   "source": [
    "def base_10(fn):\n",
    "    def wrap(x, y):\n",
    "        print(\"called base_10\")\n",
    "        return fn(x, y) + 10\n",
    "    return wrap\n",
    "\n",
    "def base_20(fn):\n",
    "    def wrap(x, y):\n",
    "        print(\"called base_20\")\n",
    "        return fn(x, y) + 20\n",
    "    return wrap\n",
    "\n",
    "def base_30(fn):\n",
    "    def wrap(x, y):\n",
    "        print(\"called base_30\")\n",
    "        return fn(x, y) + 30\n",
    "    return wrap\n",
    "\n",
    "@base_10\n",
    "@base_20\n",
    "@base_30\n",
    "def mysum(x, y):\n",
    "    return x + y\n",
    "\n",
    "# mysum = base_30(mysum)\n",
    "# mysum = base_20(mysum)\n",
    "# mysum = base_10(mysum)\n",
    "\n",
    "print(mysum(1, 2))"
   ]
  },
  {
   "cell_type": "markdown",
   "metadata": {},
   "source": [
    "### 가변인자를 처리하는 장식자"
   ]
  },
  {
   "cell_type": "code",
   "execution_count": 24,
   "metadata": {
    "collapsed": false
   },
   "outputs": [
    {
     "name": "stdout",
     "output_type": "stream",
     "text": [
      "13\n",
      "16\n"
     ]
    }
   ],
   "source": [
    "def base_10(fn):\n",
    "    def wrap(*args):\n",
    "        return fn(*args) + 10\n",
    "    return wrap\n",
    "\n",
    "@base_10\n",
    "def mysum2(x, y):\n",
    "    return x + y\n",
    "\n",
    "@base_10\n",
    "def mysum3(x, y, z):\n",
    "    return x + y + z\n",
    "\n",
    "print(mysum2(1, 2))\n",
    "print(mysum3(1, 2, 3))"
   ]
  },
  {
   "cell_type": "markdown",
   "metadata": {},
   "source": [
    "### 인자를 받는 장식자"
   ]
  },
  {
   "cell_type": "code",
   "execution_count": 26,
   "metadata": {
    "collapsed": false
   },
   "outputs": [
    {
     "name": "stdout",
     "output_type": "stream",
     "text": [
      "13\n"
     ]
    }
   ],
   "source": [
    "def base(i):\n",
    "    def wrap(fn):\n",
    "        def inner(*args):\n",
    "            return fn(*args) + i\n",
    "        return inner\n",
    "    return wrap\n",
    "\n",
    "@base(10)\n",
    "def mysum2(x, y):\n",
    "    return x + y\n",
    "\n",
    "print(mysum2(1, 2))"
   ]
  },
  {
   "cell_type": "code",
   "execution_count": 29,
   "metadata": {
    "collapsed": false
   },
   "outputs": [
    {
     "name": "stdout",
     "output_type": "stream",
     "text": [
      "6\n"
     ]
    }
   ],
   "source": [
    "def myfilter(filter_fn):\n",
    "    def wrap(fn):\n",
    "        def inner(*args):\n",
    "            # args  # (1, 2, 3, 4) => (0, 2, 0, 4)\n",
    "            \n",
    "            filtered_args = [i if filter_fn(i) else 0 for i in args]\n",
    "\n",
    "            '''\n",
    "            filtered_args = []\n",
    "            for i in args:\n",
    "                if filter_fn(i):\n",
    "                    filtered_args.append(i)\n",
    "                else:\n",
    "                    filtered_args.append(0)\n",
    "            '''\n",
    "            return fn(*filtered_args)\n",
    "        return inner\n",
    "    return wrap\n",
    "\n",
    "@myfilter(lambda i: i%2==0)\n",
    "def mysum4(a, b, c, d):\n",
    "    return a + b + c + d\n",
    "\n",
    "print(mysum4(1, 2, 3, 4))"
   ]
  },
  {
   "cell_type": "code",
   "execution_count": null,
   "metadata": {
    "collapsed": true
   },
   "outputs": [],
   "source": []
  }
 ],
 "metadata": {
  "anaconda-cloud": {},
  "kernelspec": {
   "display_name": "Python [conda root]",
   "language": "python",
   "name": "conda-root-py"
  },
  "language_info": {
   "codemirror_mode": {
    "name": "ipython",
    "version": 3
   },
   "file_extension": ".py",
   "mimetype": "text/x-python",
   "name": "python",
   "nbconvert_exporter": "python",
   "pygments_lexer": "ipython3",
   "version": "3.5.2"
  }
 },
 "nbformat": 4,
 "nbformat_minor": 1
}
