{
 "cells": [
  {
   "cell_type": "markdown",
   "metadata": {},
   "source": [
    "## 책 클래스 만들기"
   ]
  },
  {
   "cell_type": "code",
   "execution_count": 1,
   "metadata": {
    "collapsed": false
   },
   "outputs": [],
   "source": [
    "class Book():\n",
    "    def __init__(self, name, price, auther, year, Qy):\n",
    "        self.name = name\n",
    "        self.price = price\n",
    "        self.auther = auther\n",
    "        self.year = year\n",
    "        self.Qy = Qy\n",
    "        \n"
   ]
  },
  {
   "cell_type": "markdown",
   "metadata": {},
   "source": [
    "## 임의의 책(Book class) list 설정"
   ]
  },
  {
   "cell_type": "code",
   "execution_count": 32,
   "metadata": {
    "collapsed": false
   },
   "outputs": [],
   "source": [
    "booklist = [\n",
    "Book(\"HarryPotter\", 25000, \"Rowling\", 1997, 30000),\n",
    "Book(\"Lord of the Ring\", 13600, \"Tolkien\", 1954, 25000),\n",
    "Book(\"Odysseia\", 30000, \"Homer\", -800, 400000),\n",
    "Book(\"The Little Prince\", 13100,\"Saint-Exupery\", 1943, 30000),\n",
    "Book(\"DivineComedy\", 21600, \"Dante\", 1321, 120000),\n",
    "]"
   ]
  },
  {
   "cell_type": "markdown",
   "metadata": {},
   "source": [
    "## Sort 작업\n",
    "- 시작 단어의 알파벳 순서\n",
    "- 가격 순서\n",
    "- 출판년도 순서"
   ]
  },
  {
   "cell_type": "code",
   "execution_count": 57,
   "metadata": {
    "collapsed": false,
    "scrolled": true
   },
   "outputs": [
    {
     "name": "stdout",
     "output_type": "stream",
     "text": [
      "시작 단어의 알파벳 순서로 정렬\n",
      "DivineComedy , 21600 원, Dante  저, 1321 년, 120000 권 판매\n",
      "HarryPotter , 25000 원, Rowling  저, 1997 년, 30000 권 판매\n",
      "Lord of the Ring , 13600 원, Tolkien  저, 1954 년, 25000 권 판매\n",
      "Odysseia , 30000 원, Homer  저, -800 년, 400000 권 판매\n",
      "The Little Prince , 13100 원, Saint-Exupery  저, 1943 년, 30000 권 판매\n",
      "\n",
      "책 가격의 높은 순으로 정렬\n",
      "Odysseia , 30000 원, Homer  저, -800 년, 400000 권 판매\n",
      "HarryPotter , 25000 원, Rowling  저, 1997 년, 30000 권 판매\n",
      "DivineComedy , 21600 원, Dante  저, 1321 년, 120000 권 판매\n",
      "Lord of the Ring , 13600 원, Tolkien  저, 1954 년, 25000 권 판매\n",
      "The Little Prince , 13100 원, Saint-Exupery  저, 1943 년, 30000 권 판매\n",
      "\n",
      "출판년도 순으로 정렬\n",
      "Odysseia , -800 년, 30000 원, Homer  저, 400000 권 판매\n",
      "DivineComedy , 1321 년, 21600 원, Dante  저, 120000 권 판매\n",
      "The Little Prince , 1943 년, 13100 원, Saint-Exupery  저, 30000 권 판매\n",
      "Lord of the Ring , 1954 년, 13600 원, Tolkien  저, 25000 권 판매\n",
      "HarryPotter , 1997 년, 25000 원, Rowling  저, 30000 권 판매\n"
     ]
    }
   ],
   "source": [
    "book_firstname = list(sorted(booklist, key = lambda Book: Book.name))\n",
    "print('시작 단어의 알파벳 순서로 정렬')\n",
    "for bookname in book_firstname:\n",
    "    print(bookname.name,',', bookname.price,'원,', bookname.auther,' 저,', bookname.year,'년,', bookname.Qy,'권 판매')\n",
    "    \n",
    "book_price = list(sorted(booklist, key = lambda Book: Book.price, reverse = True))\n",
    "print('\\n책 가격의 높은 순으로 정렬')\n",
    "for bookprice in book_price:\n",
    "    print(bookprice.name,',', bookprice.price,'원,', bookprice.auther,' 저,', bookprice.year,'년,', bookprice.Qy,'권 판매')\n",
    "\n",
    "book_year = list(sorted(booklist, key = lambda Book: Book.year))\n",
    "print('\\n출판년도 순으로 정렬')\n",
    "for bookyear in book_year:\n",
    "    print(bookyear.name,',', bookyear.year,'년,' , bookyear.price,'원,', bookyear.auther,' 저,', bookyear.Qy,'권 판매')"
   ]
  },
  {
   "cell_type": "markdown",
   "metadata": {},
   "source": [
    "## 인자를 받는 장식자 base\n",
    "\n",
    "- 초기값이라는 부분이 잘 이해되지 않습니다 \n",
    "- 초기값 + 함수 연산 결과인지, 초기값을 함수의 연산에 적용하는건지 잘 모르겠습니다\n",
    "- 문제로 나온 sum 함수의 경우는 위의 두 경우 같기 때문에 확인이 어려워서\n",
    "- 후자의 경우로 이해하고 문제를 풀었습니다\n",
    "- 이를 잘 보여주기 위해 과제에서 주어진 sum 함수 외에 multi(곱셉)함수도\n",
    "- @base로 꾸며 초기값을 설정하여 출력해보았습니다"
   ]
  },
  {
   "cell_type": "code",
   "execution_count": 163,
   "metadata": {
    "collapsed": false
   },
   "outputs": [],
   "source": [
    "def base(start):\n",
    "    def wrap(my_fn):\n",
    "        def wrap2(x,y):\n",
    "            ret = my_fn(my_fn(start,x),y)\n",
    "            return ret \n",
    "        return wrap2\n",
    "    return wrap"
   ]
  },
  {
   "cell_type": "code",
   "execution_count": 165,
   "metadata": {
    "collapsed": false
   },
   "outputs": [
    {
     "name": "stdout",
     "output_type": "stream",
     "text": [
      "13\n",
      "20\n"
     ]
    }
   ],
   "source": [
    "@base(10)\n",
    "def sum(x,y):\n",
    "    return x + y\n",
    "\n",
    "print(sum(1,2))\n",
    "\n",
    "@base(10)\n",
    "def multi(x,y):\n",
    "    return x*y\n",
    "print(multi(1,2))\n"
   ]
  }
 ],
 "metadata": {
  "kernelspec": {
   "display_name": "Python [default]",
   "language": "python",
   "name": "python3"
  },
  "language_info": {
   "codemirror_mode": {
    "name": "ipython",
    "version": 3
   },
   "file_extension": ".py",
   "mimetype": "text/x-python",
   "name": "python",
   "nbconvert_exporter": "python",
   "pygments_lexer": "ipython3",
   "version": "3.5.2"
  }
 },
 "nbformat": 4,
 "nbformat_minor": 1
}
