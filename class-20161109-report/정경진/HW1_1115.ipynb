{
 "cells": [
  {
   "cell_type": "code",
   "execution_count": 6,
   "metadata": {
    "collapsed": false
   },
   "outputs": [
    {
     "name": "stdout",
     "output_type": "stream",
     "text": [
      "\n",
      "저자별\n",
      "『백의 그림자』, 황정은\n",
      "『피로사회』, 한병철\n",
      "『바벨』, 정용준\n",
      "『오래된 연장통』, 전중환\n",
      "『우리는 차별에 찬성한다』, 오찬호\n",
      "『단속사회』, 엄기호\n",
      "『그들에게 린디합을』, 손보미\n",
      "『남자들은 자꾸 나를 가르치려 든다』, 리베카 솔닛\n",
      "『세계의 끝 여자친구』, 김연수\n",
      "\n",
      "출판사별\n",
      "『단속사회』, 창비\n",
      "『남자들은 자꾸 나를 가르치려 든다』, 창비\n",
      "『오래된 연장통』, 사이언스북스\n",
      "『백의 그림자』, 민음사\n",
      "『그들에게 린디합을』, 문학동네\n",
      "『세계의 끝 여자친구』, 문학동네\n",
      "『피로사회』, 문학과지성사\n",
      "『바벨』, 문학과지성사\n",
      "『우리는 차별에 찬성한다』, 개마고원\n",
      "\n",
      "출간년도별\n",
      "『남자들은 자꾸 나를 가르치려 든다』, 2015\n",
      "『단속사회』, 2014\n",
      "『바벨』, 2014\n",
      "『그들에게 린디합을』, 2013\n",
      "『우리는 차별에 찬성한다』, 2013\n",
      "『피로사회』, 2012\n",
      "『오래된 연장통』, 2010\n",
      "『백의 그림자』, 2009\n",
      "『세계의 끝 여자친구』, 2008\n"
     ]
    }
   ],
   "source": [
    "class Book(object):\n",
    "    def __init__(self, author, title, publisher, year):\n",
    "        self.author = author\n",
    "        self.title = title\n",
    "        self.publisher = publisher\n",
    "        self.year = year\n",
    "\n",
    "        \n",
    "booklist = [    \n",
    "    Book('오찬호', '『우리는 차별에 찬성한다』', '개마고원', 2013),\n",
    "    Book('엄기호', '『단속사회』', '창비', 2014),\n",
    "    Book('한병철', '『피로사회』', '문학과지성사', 2012),\n",
    "    Book('전중환', '『오래된 연장통』', '사이언스북스', 2010),\n",
    "    Book('리베카 솔닛', '『남자들은 자꾸 나를 가르치려 든다』', '창비', 2015),\n",
    "    Book('김연수', '『세계의 끝 여자친구』', '문학동네', 2008),\n",
    "    Book('손보미', '『그들에게 린디합을』', '문학동네', 2013),\n",
    "    Book('황정은', '『백의 그림자』', '민음사', 2009),\n",
    "    Book('정용준', '『바벨』', '문학과지성사', 2014),\n",
    "]\n",
    "\n",
    "print(\"\\n저자별\")\n",
    "booklist.sort(key=lambda book: book.author, reverse=True)\n",
    "for book in booklist:\n",
    "    print('{}, {}'.format(book.title, book.author))\n",
    "    \n",
    "print(\"\\n출판사별\")\n",
    "booklist.sort(key=lambda book: book.publisher, reverse=True)\n",
    "for book in booklist:\n",
    "    print('{}, {}'.format(book.title, book.publisher))\n",
    "    \n",
    "print(\"\\n출간년도별\")\n",
    "booklist.sort(key=lambda book: book.year, reverse=True)\n",
    "for book in booklist:\n",
    "    print('{}, {}'.format(book.title, book.year))"
   ]
  },
  {
   "cell_type": "code",
   "execution_count": null,
   "metadata": {
    "collapsed": true
   },
   "outputs": [],
   "source": []
  }
 ],
 "metadata": {
  "kernelspec": {
   "display_name": "Python 3",
   "language": "python",
   "name": "python3"
  },
  "language_info": {
   "codemirror_mode": {
    "name": "ipython",
    "version": 3
   },
   "file_extension": ".py",
   "mimetype": "text/x-python",
   "name": "python",
   "nbconvert_exporter": "python",
   "pygments_lexer": "ipython3",
   "version": "3.4.2"
  }
 },
 "nbformat": 4,
 "nbformat_minor": 1
}
