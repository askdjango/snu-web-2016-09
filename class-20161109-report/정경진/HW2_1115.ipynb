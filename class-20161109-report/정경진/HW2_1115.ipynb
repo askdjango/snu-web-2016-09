{
 "cells": [
  {
   "cell_type": "code",
   "execution_count": null,
   "metadata": {
    "collapsed": true
   },
   "outputs": [],
   "source": [
    "def base(base_num):\n",
    "    def set_decorator(fn):\n",
    "        def wrap(x,y):\n",
    "            return x + y + base_num\n",
    "        return wrap\n",
    "    return set_decorator\n",
    "\n",
    "@base(10)\n",
    "def sum(x,y):\n",
    "    return x + y\n",
    "print(sum(1,2))"
   ]
  }
 ],
 "metadata": {
  "kernelspec": {
   "display_name": "Python 3",
   "language": "python",
   "name": "python3"
  },
  "language_info": {
   "codemirror_mode": {
    "name": "ipython",
    "version": 3
   },
   "file_extension": ".py",
   "mimetype": "text/x-python",
   "name": "python",
   "nbconvert_exporter": "python",
   "pygments_lexer": "ipython3",
   "version": "3.4.2"
  }
 },
 "nbformat": 4,
 "nbformat_minor": 1
}
