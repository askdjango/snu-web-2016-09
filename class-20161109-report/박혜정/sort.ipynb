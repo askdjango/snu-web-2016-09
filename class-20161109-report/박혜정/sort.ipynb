{
 "cells": [
  {
   "cell_type": "code",
   "execution_count": 1,
   "metadata": {
    "collapsed": true
   },
   "outputs": [],
   "source": [
    "class Book:\n",
    "    def __init__(self, name, price, author, year, sell):\n",
    "        self.name = name\n",
    "        self.price = price\n",
    "        self.author = author\n",
    "        self.year = year\n",
    "        self.sell = sell"
   ]
  },
  {
   "cell_type": "code",
   "execution_count": 2,
   "metadata": {
    "collapsed": true
   },
   "outputs": [],
   "source": [
    "books = [\n",
    "    Book('Harry Potter', 20000,  'J.K. Rowling', 2008, 200),\n",
    "    Book('Jane Eyre', 8000, 'Charlotte Bronte', 1847, 500),\n",
    "    Book('Steve Jobs', 11000, 'Walter Isaacson', 2011, 280),\n",
    "    Book('Don Quixote', 9500, 'Miguel de Cervantes', 1605, 500),\n",
    "]"
   ]
  },
  {
   "cell_type": "code",
   "execution_count": 5,
   "metadata": {
    "collapsed": false
   },
   "outputs": [
    {
     "name": "stdout",
     "output_type": "stream",
     "text": [
      "Don Quixote 1605\n",
      "Jane Eyre 1847\n",
      "Harry Potter 2008\n",
      "Steve Jobs 2011\n"
     ]
    }
   ],
   "source": [
    "# sort by year\n",
    "books.sort(key=lambda book: book.year)\n",
    "for book in books:\n",
    "    print(book.name, book.year)"
   ]
  },
  {
   "cell_type": "code",
   "execution_count": 6,
   "metadata": {
    "collapsed": false
   },
   "outputs": [
    {
     "name": "stdout",
     "output_type": "stream",
     "text": [
      "Jane Eyre 500 1847\n",
      "Don Quixote 500 1605\n",
      "Steve Jobs 280 2011\n",
      "Harry Potter 200 2008\n"
     ]
    }
   ],
   "source": [
    "# sort by sell and year\n",
    "books.sort(key=lambda book: [book.sell, book.year], reverse=True)\n",
    "for book in books:\n",
    "    print(book.name, book.sell, book.year)"
   ]
  },
  {
   "cell_type": "code",
   "execution_count": 7,
   "metadata": {
    "collapsed": false
   },
   "outputs": [
    {
     "name": "stdout",
     "output_type": "stream",
     "text": [
      "Harry Potter 2008\n",
      "Don Quixote 1605\n",
      "Steve Jobs 2011\n",
      "Jane Eyre 1847\n"
     ]
    }
   ],
   "source": [
    "# sort by name length\n",
    "books.sort(key=lambda book: len(book.name), reverse=True)\n",
    "for book in books:\n",
    "    print(book.name, book.year)"
   ]
  },
  {
   "cell_type": "code",
   "execution_count": null,
   "metadata": {
    "collapsed": true
   },
   "outputs": [],
   "source": []
  }
 ],
 "metadata": {
  "kernelspec": {
   "display_name": "Python 3",
   "language": "python",
   "name": "python3"
  },
  "language_info": {
   "codemirror_mode": {
    "name": "ipython",
    "version": 3
   },
   "file_extension": ".py",
   "mimetype": "text/x-python",
   "name": "python",
   "nbconvert_exporter": "python",
   "pygments_lexer": "ipython3",
   "version": "3.5.1"
  }
 },
 "nbformat": 4,
 "nbformat_minor": 1
}
