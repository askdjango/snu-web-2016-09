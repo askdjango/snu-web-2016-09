{
 "cells": [
  {
   "cell_type": "code",
   "execution_count": 1,
   "metadata": {
    "collapsed": true
   },
   "outputs": [],
   "source": [
    "class Book:\n",
    "    def __init__(self, title, price, author, year, copies):\n",
    "        self.title = title\n",
    "        self.price = price\n",
    "        self.author = author\n",
    "        self.year = year\n",
    "        self.copies = copies"
   ]
  },
  {
   "cell_type": "code",
   "execution_count": 17,
   "metadata": {
    "collapsed": true
   },
   "outputs": [],
   "source": [
    "books = [\n",
    "    Book('Entrophy', 10000, 'Tom', 1957, 30000),\n",
    "    Book('Harry Poter', 8000, 'Jenny', 1988, 25000),\n",
    "    Book('Steve Jobs', 11000, 'Tommy', 1970, 500000),\n",
    "    Book('Hillary Clinton', 9000, 'Hong', 2012, 5200),\n",
    "]"
   ]
  },
  {
   "cell_type": "code",
   "execution_count": 18,
   "metadata": {
    "collapsed": true
   },
   "outputs": [],
   "source": [
    "books.sort(key=lambda book: book.copies, reverse=True)"
   ]
  },
  {
   "cell_type": "code",
   "execution_count": 19,
   "metadata": {
    "collapsed": false
   },
   "outputs": [
    {
     "name": "stdout",
     "output_type": "stream",
     "text": [
      "1 Steve Jobs 500000\n",
      "2 Entrophy 30000\n",
      "3 Harry Poter 25000\n",
      "4 Hillary Clinton 5200\n"
     ]
    }
   ],
   "source": [
    "i=1\n",
    "for book in books:\n",
    "    print(i,book.title, book.copies)\n",
    "    i+=1"
   ]
  },
  {
   "cell_type": "code",
   "execution_count": 20,
   "metadata": {
    "collapsed": true
   },
   "outputs": [],
   "source": [
    "books.sort(key=lambda book: book.price, reverse=True)"
   ]
  },
  {
   "cell_type": "code",
   "execution_count": 21,
   "metadata": {
    "collapsed": false
   },
   "outputs": [
    {
     "name": "stdout",
     "output_type": "stream",
     "text": [
      "1 Steve Jobs 11000\n",
      "2 Entrophy 10000\n",
      "3 Hillary Clinton 9000\n",
      "4 Harry Poter 8000\n"
     ]
    }
   ],
   "source": [
    "i=1\n",
    "for book in books:\n",
    "    print(i,book.title, book.price)\n",
    "    i+=1"
   ]
  },
  {
   "cell_type": "code",
   "execution_count": 22,
   "metadata": {
    "collapsed": true
   },
   "outputs": [],
   "source": [
    "books.sort(key=lambda book: len(book.title), reverse=True)"
   ]
  },
  {
   "cell_type": "code",
   "execution_count": 23,
   "metadata": {
    "collapsed": false
   },
   "outputs": [
    {
     "name": "stdout",
     "output_type": "stream",
     "text": [
      "1 Hillary Clinton\n",
      "2 Harry Poter\n",
      "3 Steve Jobs\n",
      "4 Entrophy\n"
     ]
    }
   ],
   "source": [
    "i=1\n",
    "for book in books:\n",
    "    print(i,book.title)\n",
    "    i+=1"
   ]
  },
  {
   "cell_type": "code",
   "execution_count": null,
   "metadata": {
    "collapsed": true
   },
   "outputs": [],
   "source": []
  }
 ],
 "metadata": {
  "anaconda-cloud": {},
  "kernelspec": {
   "display_name": "Python [Root]",
   "language": "python",
   "name": "Python [Root]"
  },
  "language_info": {
   "codemirror_mode": {
    "name": "ipython",
    "version": 3
   },
   "file_extension": ".py",
   "mimetype": "text/x-python",
   "name": "python",
   "nbconvert_exporter": "python",
   "pygments_lexer": "ipython3",
   "version": "3.5.2"
  }
 },
 "nbformat": 4,
 "nbformat_minor": 0
}
