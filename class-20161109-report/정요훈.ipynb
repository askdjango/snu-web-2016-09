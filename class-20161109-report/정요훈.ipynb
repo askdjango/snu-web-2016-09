{
 "cells": [
  {
   "cell_type": "markdown",
   "metadata": {},
   "source": [
    "## Book 클래스를 만들고, 다양한 기준으로 정렬하기"
   ]
  },
  {
   "cell_type": "code",
   "execution_count": 5,
   "metadata": {
    "collapsed": true
   },
   "outputs": [],
   "source": [
    "class Book:\n",
    "    def __init__(self, title, price, author, published, sales):\n",
    "        self.title = title\n",
    "        self.price = price\n",
    "        self.author = author\n",
    "        self.published = published\n",
    "        self.sales = sales\n",
    "        \n",
    "books = [\n",
    "Book('Becoming the Boss', 14800, 'Linsey Pollak', 2014, 2000000),\n",
    "Book('Management Science', 47000, 'Powell Stephen G.', 2008, 500000),\n",
    "Book('The Vegetarian', 15990, 'Han Gang', 2015, 1500000),\n",
    "Book('Harry Potter And The Sorcerer\\'s Stone', 12000, 'Joan K. Rowling', 1997, 50000000)\n",
    "\n",
    "]\n",
    "\n"
   ]
  },
  {
   "cell_type": "markdown",
   "metadata": {},
   "source": [
    "### 책 제목 길이 오름차순 정렬(다른 변수 포함하여 표현)"
   ]
  },
  {
   "cell_type": "code",
   "execution_count": 6,
   "metadata": {
    "collapsed": false
   },
   "outputs": [
    {
     "name": "stdout",
     "output_type": "stream",
     "text": [
      "The Vegetarian / 15990 / Han Gang / 2015 / 1500000\n",
      "Becoming the Boss / 14800 / Linsey Pollak / 2014 / 2000000\n",
      "Management Science / 47000 / Powell Stephen G. / 2008 / 500000\n",
      "Harry Potter And The Sorcerer's Stone / 12000 / Joan K. Rowling / 1997 / 50000000\n"
     ]
    }
   ],
   "source": [
    "books.sort(key=lambda Book: len(Book.title), reverse=False)\n",
    "\n",
    "for Book in books:\n",
    "    print(Book.title, \"/\", Book.price, \"/\", Book.author, \"/\", Book.published, \"/\", Book.sales)"
   ]
  },
  {
   "cell_type": "markdown",
   "metadata": {},
   "source": [
    "### 책값 오름차순 정렬"
   ]
  },
  {
   "cell_type": "code",
   "execution_count": 7,
   "metadata": {
    "collapsed": false
   },
   "outputs": [
    {
     "name": "stdout",
     "output_type": "stream",
     "text": [
      "Harry Potter And The Sorcerer's Stone 12000\n",
      "Becoming the Boss 14800\n",
      "The Vegetarian 15990\n",
      "Management Science 47000\n"
     ]
    }
   ],
   "source": [
    "books.sort(key=lambda Book: Book.price, reverse=False)\n",
    "\n",
    "for Book in books:\n",
    "    print(Book.title, Book.price)"
   ]
  },
  {
   "cell_type": "markdown",
   "metadata": {},
   "source": [
    "### 판매부수 내림차순 정렬"
   ]
  },
  {
   "cell_type": "code",
   "execution_count": 8,
   "metadata": {
    "collapsed": false
   },
   "outputs": [
    {
     "name": "stdout",
     "output_type": "stream",
     "text": [
      "Harry Potter And The Sorcerer's Stone 50000000\n",
      "Becoming the Boss 2000000\n",
      "The Vegetarian 1500000\n",
      "Management Science 500000\n"
     ]
    }
   ],
   "source": [
    "books.sort(key=lambda Book: Book.sales, reverse=True)\n",
    "\n",
    "for Book in books:\n",
    "    print(Book.title, Book.sales)"
   ]
  },
  {
   "cell_type": "markdown",
   "metadata": {},
   "source": [
    "### 책값 10의 자리 수 크기대로 내림차순 정렬"
   ]
  },
  {
   "cell_type": "code",
   "execution_count": 9,
   "metadata": {
    "collapsed": false
   },
   "outputs": [
    {
     "name": "stdout",
     "output_type": "stream",
     "text": [
      "The Vegetarian 15990\n",
      "Harry Potter And The Sorcerer's Stone 12000\n",
      "Becoming the Boss 14800\n",
      "Management Science 47000\n"
     ]
    }
   ],
   "source": [
    "books.sort(key=lambda Book: Book.price%100, reverse=True)\n",
    "\n",
    "for Book in books:\n",
    "    print(Book.title, Book.price)"
   ]
  },
  {
   "cell_type": "markdown",
   "metadata": {},
   "source": [
    "## 인자를 받는 장식자 base를 구현"
   ]
  },
  {
   "cell_type": "code",
   "execution_count": 2,
   "metadata": {
    "collapsed": false
   },
   "outputs": [
    {
     "name": "stdout",
     "output_type": "stream",
     "text": [
      "13\n"
     ]
    }
   ],
   "source": [
    "# 어떤 함수의 기능을 감싸는 용도의 함수 만들기\n",
    "\n",
    "def base(fn):\n",
    "    def wrap(x, y):\n",
    "        ret = fn(x, y) + 10\n",
    "        return ret\n",
    "    return wrap\n",
    "\n",
    "def sum(x, y):\n",
    "    return x + y\n",
    "\n",
    "sum = base(sum)\n",
    "\n",
    "print(sum(1, 2))"
   ]
  },
  {
   "cell_type": "code",
   "execution_count": 3,
   "metadata": {
    "collapsed": false
   },
   "outputs": [
    {
     "name": "stdout",
     "output_type": "stream",
     "text": [
      "13\n"
     ]
    }
   ],
   "source": [
    "# class에 default 값으로 같은 기능하기\n",
    "\n",
    "class Calculator(object):\n",
    "    def __init__(self, base):\n",
    "        self.base = base\n",
    "    def __call__(self, x, y):\n",
    "        return self.base + x + y\n",
    "calculator = Calculator(10)\n",
    "print(calculator(1, 2))"
   ]
  },
  {
   "cell_type": "code",
   "execution_count": 4,
   "metadata": {
    "collapsed": false
   },
   "outputs": [
    {
     "data": {
      "text/plain": [
       "13"
      ]
     },
     "execution_count": 4,
     "metadata": {},
     "output_type": "execute_result"
    }
   ],
   "source": [
    "# 익명함수를 이용하여 return문 쓰지 않고, 마지막 값을 반환하기\n",
    "\n",
    "mysum2 = lambda x, y: 10 + x + y\n",
    "mysum2(1, 2)"
   ]
  },
  {
   "cell_type": "code",
   "execution_count": null,
   "metadata": {
    "collapsed": true
   },
   "outputs": [],
   "source": []
  }
 ],
 "metadata": {
  "kernelspec": {
   "display_name": "Python [conda root]",
   "language": "python",
   "name": "conda-root-py"
  },
  "language_info": {
   "codemirror_mode": {
    "name": "ipython",
    "version": 3
   },
   "file_extension": ".py",
   "mimetype": "text/x-python",
   "name": "python",
   "nbconvert_exporter": "python",
   "pygments_lexer": "ipython3",
   "version": "3.5.2"
  }
 },
 "nbformat": 4,
 "nbformat_minor": 1
}
