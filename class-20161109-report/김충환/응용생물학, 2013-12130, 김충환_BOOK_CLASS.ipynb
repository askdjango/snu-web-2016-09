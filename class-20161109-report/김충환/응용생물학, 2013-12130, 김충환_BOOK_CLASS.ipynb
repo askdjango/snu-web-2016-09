{
 "cells": [
  {
   "cell_type": "code",
   "execution_count": 9,
   "metadata": {
    "collapsed": false
   },
   "outputs": [],
   "source": [
    "class Book :\n",
    "    def __init__(self, title, price, author, publish_date, copies):\n",
    "        self.title = title\n",
    "        self.price = price\n",
    "        self.author = author\n",
    "        self.publish_date = publish_date\n",
    "        self.copies = copies"
   ]
  },
  {
   "cell_type": "code",
   "execution_count": 10,
   "metadata": {
    "collapsed": false
   },
   "outputs": [],
   "source": [
    "Books = [\n",
    "         Book(\"Norwegian wood\",\"11520\",\"Murakami Haruki\", \"1989\",\"10000000\"), \n",
    "         Book(\"The Vegetarian\", \"10700\", \"Han kang\", \"2007\", \"5000000\"), \n",
    "         Book(\"Demian\", \"8000\",\"Hermann Hesse\", \"1919\", \"20000000\"), \n",
    "         Book(\"The Present\", \"12000\", \"Spensor Johnson\", \"2003\", \"1545000\")]\n"
   ]
  },
  {
   "cell_type": "markdown",
   "metadata": {},
   "source": [
    "# 1. 책 제목 첫 알파벳 순"
   ]
  },
  {
   "cell_type": "code",
   "execution_count": 69,
   "metadata": {
    "collapsed": false
   },
   "outputs": [
    {
     "name": "stdout",
     "output_type": "stream",
     "text": [
      "D  Demian\n",
      "N  Norwegian wood\n",
      "T  The Present\n",
      "T  The Vegetarian\n"
     ]
    }
   ],
   "source": [
    "title_order = sorted(Books, key = lambda x: x.publish_date)\n",
    "for x in title_order :\n",
    "    print(x.title[0]+\"  \"+x.title)\n",
    "\n"
   ]
  },
  {
   "cell_type": "markdown",
   "metadata": {},
   "source": [
    "# 2. 책 판매 부수 많은 순"
   ]
  },
  {
   "cell_type": "code",
   "execution_count": 67,
   "metadata": {
    "collapsed": false
   },
   "outputs": [
    {
     "name": "stdout",
     "output_type": "stream",
     "text": [
      "20000000  copies  /  Demian\n",
      "10000000  copies  /  Norwegian wood\n",
      "5000000   copies  /  The Vegetarian\n",
      "1545000   copies  /  The Present\n"
     ]
    }
   ],
   "source": [
    "copies_order = sorted(Books, key = lambda x: int(x.copies), reverse = True)\n",
    "copies_max = sorted(Books, key = lambda x : len(x.copies), reverse = True)\n",
    "\n",
    "max_count = []\n",
    "\n",
    "for y in copies_max :\n",
    "    max_count.append(len(y.copies))\n",
    "    \n",
    "max_count = max(max_count)\n",
    "                   \n",
    "for x in copies_order :\n",
    "    print(x.copies.ljust(max_count)+\"  copies \"+ \" /  \"+x.title)"
   ]
  },
  {
   "cell_type": "markdown",
   "metadata": {},
   "source": [
    "# 3. 신작 순\n"
   ]
  },
  {
   "cell_type": "code",
   "execution_count": 73,
   "metadata": {
    "collapsed": false
   },
   "outputs": [
    {
     "name": "stdout",
     "output_type": "stream",
     "text": [
      "The Vegetarian  2007\n",
      "The Present     2003\n",
      "Norwegian wood  1989\n",
      "Demian          1919\n"
     ]
    }
   ],
   "source": [
    "new_publish = sorted(Books, key = lambda x: int(x.publish_date), reverse = True)\n",
    "title_max = sorted(Books, key = lambda x : len(x.title), reverse = True)\n",
    "\n",
    "max_count = []\n",
    "\n",
    "for y in title_max :\n",
    "    max_count.append(len(y.title))\n",
    "    \n",
    "max_count = max(max_count)\n",
    "\n",
    "for x in new_publish:\n",
    "    print(x.title.ljust(max_count)+\"  \" + x.publish_date)"
   ]
  },
  {
   "cell_type": "markdown",
   "metadata": {},
   "source": []
  }
 ],
 "metadata": {
  "anaconda-cloud": {},
  "kernelspec": {
   "display_name": "Python [default]",
   "language": "python",
   "name": "python3"
  },
  "language_info": {
   "codemirror_mode": {
    "name": "ipython",
    "version": 3
   },
   "file_extension": ".py",
   "mimetype": "text/x-python",
   "name": "python",
   "nbconvert_exporter": "python",
   "pygments_lexer": "ipython3",
   "version": "3.5.2"
  }
 },
 "nbformat": 4,
 "nbformat_minor": 1
}
