{
 "cells": [
  {
   "cell_type": "markdown",
   "metadata": {},
   "source": [
    "# 장식자 구현"
   ]
  },
  {
   "cell_type": "code",
   "execution_count": 8,
   "metadata": {
    "collapsed": false
   },
   "outputs": [
    {
     "name": "stdout",
     "output_type": "stream",
     "text": [
      "x : 2\n",
      "y : 3\n",
      "50\n",
      "160\n"
     ]
    }
   ],
   "source": [
    "x = int(input(\"x : \"))\n",
    "y = int(input(\"y : \"))\n",
    "\n",
    "def base(n) :\n",
    "    def wrap(fn) :\n",
    "        def wrap2(x, y) :\n",
    "           return n * fn(x,y)\n",
    "        return wrap2\n",
    "    return wrap\n",
    "\n",
    "@base(10)\n",
    "def sum(x,y) :\n",
    "    return x + y\n",
    "\n",
    "\n",
    "\n",
    "@base(20)\n",
    "def square(x, y) :\n",
    "    return x**y\n",
    "\n",
    "print(sum(x,y))\n",
    "print(square(x, y))"
   ]
  },
  {
   "cell_type": "code",
   "execution_count": null,
   "metadata": {
    "collapsed": true
   },
   "outputs": [],
   "source": []
  }
 ],
 "metadata": {
  "anaconda-cloud": {},
  "kernelspec": {
   "display_name": "Python [default]",
   "language": "python",
   "name": "python3"
  },
  "language_info": {
   "codemirror_mode": {
    "name": "ipython",
    "version": 3
   },
   "file_extension": ".py",
   "mimetype": "text/x-python",
   "name": "python",
   "nbconvert_exporter": "python",
   "pygments_lexer": "ipython3",
   "version": "3.5.2"
  }
 },
 "nbformat": 4,
 "nbformat_minor": 1
}
