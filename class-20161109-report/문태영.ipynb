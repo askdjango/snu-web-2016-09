{
 "cells": [
  {
   "cell_type": "markdown",
   "metadata": {},
   "source": [
    "## 과제 1\n",
    "Book 클래스를 만들고, Book 리스트를 다양한 기준으로 정렬(Sort) 하는 예를 3개 이상 만들어보세요."
   ]
  },
  {
   "cell_type": "code",
   "execution_count": 13,
   "metadata": {
    "collapsed": false
   },
   "outputs": [
    {
     "name": "stdout",
     "output_type": "stream",
     "text": [
      "#책 제목 단어 갯수로 내림차수 정렬\n",
      "지적 대화를 위한 넓고 얕은 지식, 16000원, 채사장, 2014년, 256709부\n",
      "완벽하지 않은 것들에 대한 사랑, 14800원, 혜민, 2016년, 185347부\n",
      "꽃을 보듯 너를 본다, 10000원, 나태주, 2015년, 63498부\n",
      "해리포터와 저주받은 아이, 12000원, J.K. 롤링, 2016년, 259270부\n",
      "그럴 때 있으시죠?, 15800원, 김제동, 2016년, 159905부\n",
      "나미야 잡화점의 기적, 14800원, 히가시노 게이고, 2012년, 203592부\n",
      "대통령의 글쓰기, 16000원, 강원국, 2014년, 107357부\n",
      "이갈리아의 딸들, 15000원, 브란튼베르그, 2016년, 291300부\n",
      "설민석의 조선왕조실록, 22000원, 설민석, 2016년, 307515부\n",
      "채식주의자, 12000원, 한강, 2007년, 362870부\n",
      "\n",
      "#책 제목 글자 수로 오름차수 정렬\n",
      "채식주의자, 12000원, 한강, 2007년, 362870부\n",
      "대통령의 글쓰기, 16000원, 강원국, 2014년, 107357부\n",
      "이갈리아의 딸들, 15000원, 브란튼베르그, 2016년, 291300부\n",
      "꽃을 보듯 너를 본다, 10000원, 나태주, 2015년, 63498부\n",
      "그럴 때 있으시죠?, 15800원, 김제동, 2016년, 159905부\n",
      "나미야 잡화점의 기적, 14800원, 히가시노 게이고, 2012년, 203592부\n",
      "설민석의 조선왕조실록, 22000원, 설민석, 2016년, 307515부\n",
      "해리포터와 저주받은 아이, 12000원, J.K. 롤링, 2016년, 259270부\n",
      "완벽하지 않은 것들에 대한 사랑, 14800원, 혜민, 2016년, 185347부\n",
      "지적 대화를 위한 넓고 얕은 지식, 16000원, 채사장, 2014년, 256709부\n",
      "\n",
      "#책 가격으로 내림차수 정렬\n",
      "22000원, 설민석의 조선왕조실록, 설민석, 2016년, 307515부\n",
      "16000원, 대통령의 글쓰기, 강원국, 2014년, 107357부\n",
      "16000원, 지적 대화를 위한 넓고 얕은 지식, 채사장, 2014년, 256709부\n",
      "15800원, 그럴 때 있으시죠?, 김제동, 2016년, 159905부\n",
      "15000원, 이갈리아의 딸들, 브란튼베르그, 2016년, 291300부\n",
      "14800원, 완벽하지 않은 것들에 대한 사랑, 혜민, 2016년, 185347부\n",
      "14800원, 나미야 잡화점의 기적, 히가시노 게이고, 2012년, 203592부\n",
      "12000원, 해리포터와 저주받은 아이, J.K. 롤링, 2016년, 259270부\n",
      "12000원, 채식주의자, 한강, 2007년, 362870부\n",
      "10000원, 꽃을 보듯 너를 본다, 나태주, 2015년, 63498부\n",
      "\n",
      "#책 판매부수로 오름차수 정렬\n",
      "63498부, 꽃을 보듯 너를 본다, 나태주, 10000원, 2015년\n",
      "107357부, 대통령의 글쓰기, 강원국, 16000원, 2014년\n",
      "159905부, 그럴 때 있으시죠?, 김제동, 15800원, 2016년\n",
      "185347부, 완벽하지 않은 것들에 대한 사랑, 혜민, 14800원, 2016년\n",
      "203592부, 나미야 잡화점의 기적, 히가시노 게이고, 14800원, 2012년\n",
      "256709부, 지적 대화를 위한 넓고 얕은 지식, 채사장, 16000원, 2014년\n",
      "259270부, 해리포터와 저주받은 아이, J.K. 롤링, 12000원, 2016년\n",
      "291300부, 이갈리아의 딸들, 브란튼베르그, 15000원, 2016년\n",
      "307515부, 설민석의 조선왕조실록, 설민석, 22000원, 2016년\n",
      "362870부, 채식주의자, 한강, 12000원, 2007년\n",
      "\n",
      "#작가 이름 가나다순으로 정렬\n",
      "J.K. 롤링, 해리포터와 저주받은 아이, 12000원, 2016년, 259270부\n",
      "강원국, 대통령의 글쓰기, 16000원, 2014년, 107357부\n",
      "김제동, 그럴 때 있으시죠?, 15800원, 2016년, 159905부\n",
      "나태주, 꽃을 보듯 너를 본다, 10000원, 2015년, 63498부\n",
      "브란튼베르그, 이갈리아의 딸들, 15000원, 2016년, 291300부\n",
      "설민석, 설민석의 조선왕조실록, 22000원, 2016년, 307515부\n",
      "채사장, 지적 대화를 위한 넓고 얕은 지식, 16000원, 2014년, 256709부\n",
      "한강, 채식주의자, 12000원, 2007년, 362870부\n",
      "혜민, 완벽하지 않은 것들에 대한 사랑, 14800원, 2016년, 185347부\n",
      "히가시노 게이고, 나미야 잡화점의 기적, 14800원, 2012년, 203592부\n",
      "\n"
     ]
    }
   ],
   "source": [
    "class Book(object):\n",
    "    def __init__(self, title, price, author, published_year, circulation):\n",
    "        self.title = title\n",
    "        self.price = price\n",
    "        self.author = author\n",
    "        self.published_year = published_year\n",
    "        self.circulation = circulation\n",
    "        \n",
    "Book_list = []\n",
    "Book_list.append(Book('완벽하지 않은 것들에 대한 사랑', 14800, '혜민', 2016, 185347))\n",
    "Book_list.append(Book('대통령의 글쓰기', 16000, '강원국', 2014, 107357))\n",
    "Book_list.append(Book('지적 대화를 위한 넓고 얕은 지식', 16000, '채사장', 2014, 256709))\n",
    "Book_list.append(Book('꽃을 보듯 너를 본다', 10000, '나태주', 2015, 63498))\n",
    "Book_list.append(Book('이갈리아의 딸들', 15000, '브란튼베르그', 2016, 291300))\n",
    "Book_list.append(Book('해리포터와 저주받은 아이', 12000, 'J.K. 롤링', 2016, 259270))\n",
    "Book_list.append(Book('설민석의 조선왕조실록', 22000, '설민석', 2016, 307515))\n",
    "Book_list.append(Book('그럴 때 있으시죠?', 15800, '김제동', 2016, 159905))\n",
    "Book_list.append(Book('채식주의자', 12000, '한강', 2007, 362870))\n",
    "Book_list.append(Book('나미야 잡화점의 기적', 14800, '히가시노 게이고', 2012, 203592))\n",
    "\n",
    "print('#책 제목 단어 갯수로 내림차수 정렬')\n",
    "for book in sorted(Book_list, key=lambda i: len(i.title.split()), reverse=True):\n",
    "    print(\"{}, {}원, {}, {}년, {}부\".format(book.title, book.price, book.author, book.published_year, book.circulation))\n",
    "print()\n",
    "\n",
    "print('#책 제목 글자 수로 오름차수 정렬')\n",
    "for book in sorted(Book_list, key=lambda i: len(i.title.replace(\" \",\"\"))):\n",
    "    print(\"{}, {}원, {}, {}년, {}부\".format(book.title, book.price, book.author, book.published_year, book.circulation))\n",
    "print()\n",
    "\n",
    "print('#책 가격으로 내림차수 정렬')\n",
    "for book in sorted(Book_list, key=lambda i: i.price, reverse=True):\n",
    "    print(\"{}원, {}, {}, {}년, {}부\".format(book.price, book.title, book.author, book.published_year, book.circulation))\n",
    "print()  \n",
    "\n",
    "print('#책 판매부수로 오름차수 정렬')\n",
    "for book in sorted(Book_list, key=lambda i: i.circulation):\n",
    "    print(\"{}부, {}, {}, {}원, {}년\".format(book.circulation, book.title, book.author, book.price, book.published_year))\n",
    "print()\n",
    "\n",
    "print('#작가 이름 가나다순으로 정렬')\n",
    "for book in sorted(Book_list, key=lambda i: i.author):\n",
    "    print(\"{}, {}, {}원, {}년, {}부\".format(book.author, book.title, book.price, book.published_year, book.circulation))\n",
    "print()"
   ]
  },
  {
   "cell_type": "markdown",
   "metadata": {},
   "source": [
    "## 과제 2\n",
    "인자를 받는 장식자 base 를 구현해보세요."
   ]
  },
  {
   "cell_type": "code",
   "execution_count": 12,
   "metadata": {
    "collapsed": false
   },
   "outputs": [
    {
     "name": "stdout",
     "output_type": "stream",
     "text": [
      "13\n",
      "27\n"
     ]
    }
   ],
   "source": [
    "def base(num):\n",
    "    def wrap(fn):\n",
    "        def inner(x, y):\n",
    "            ret = fn(x, y) + num\n",
    "            return ret\n",
    "        return inner\n",
    "    return wrap\n",
    "\n",
    "\n",
    "#Decorator type 1\n",
    "def mysum1(x, y):\n",
    "    return x + y\n",
    "mysum1 = base(10)(mysum1)\n",
    "\n",
    "print(mysum1(1,2))\n",
    "\n",
    "\n",
    "#Decorator type 2\n",
    "@base(20)\n",
    "def mysum2(x, y):\n",
    "    return x + y\n",
    "\n",
    "print(mysum2(3,4))"
   ]
  },
  {
   "cell_type": "code",
   "execution_count": null,
   "metadata": {
    "collapsed": true
   },
   "outputs": [],
   "source": []
  },
  {
   "cell_type": "code",
   "execution_count": null,
   "metadata": {
    "collapsed": true
   },
   "outputs": [],
   "source": []
  }
 ],
 "metadata": {
  "anaconda-cloud": {},
  "kernelspec": {
   "display_name": "Python [default]",
   "language": "python",
   "name": "python3"
  },
  "language_info": {
   "codemirror_mode": {
    "name": "ipython",
    "version": 3
   },
   "file_extension": ".py",
   "mimetype": "text/x-python",
   "name": "python",
   "nbconvert_exporter": "python",
   "pygments_lexer": "ipython3",
   "version": "3.5.2"
  }
 },
 "nbformat": 4,
 "nbformat_minor": 1
}
