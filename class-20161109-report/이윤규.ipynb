{
 "cells": [
  {
   "cell_type": "markdown",
   "metadata": {},
   "source": [
    "# 2014-15935 이윤규 과제 due 20161115"
   ]
  },
  {
   "cell_type": "markdown",
   "metadata": {},
   "source": [
    "## 1. 책 분류"
   ]
  },
  {
   "cell_type": "code",
   "execution_count": 30,
   "metadata": {
    "collapsed": true
   },
   "outputs": [],
   "source": [
    "class Book(object):\n",
    "    def __init__(self, title, price, author, date, sold):\n",
    "        self.title = title\n",
    "        self.price = price\n",
    "        self.author = author\n",
    "        self.date = date\n",
    "        self.sold = sold"
   ]
  },
  {
   "cell_type": "code",
   "execution_count": 82,
   "metadata": {
    "collapsed": false
   },
   "outputs": [],
   "source": [
    "books = [\n",
    "    Book('어린왕자',10000, '생택쥐페리', 1943, 10000),\n",
    "    Book('완득이',6700, '개똥', 2007, 9000),\n",
    "    Book('누가 내머리에 똥쌌어', 27000, '철수' , 1999, 27000)\n",
    "]"
   ]
  },
  {
   "cell_type": "markdown",
   "metadata": {},
   "source": [
    "### 1-1) 가격에 따라 분류"
   ]
  },
  {
   "cell_type": "code",
   "execution_count": 84,
   "metadata": {
    "collapsed": false
   },
   "outputs": [],
   "source": [
    "books.sort(key = lambda book : book.price, reverse=True)\n"
   ]
  },
  {
   "cell_type": "code",
   "execution_count": 85,
   "metadata": {
    "collapsed": false
   },
   "outputs": [
    {
     "name": "stdout",
     "output_type": "stream",
     "text": [
      "--------가격 기준으로 분류--------\n",
      "제목 : 누가 내머리에 똥쌌어, 가격 : 27000원\n",
      "제목 : 어린왕자, 가격 : 10000원\n",
      "제목 : 완득이, 가격 : 6700원\n"
     ]
    }
   ],
   "source": [
    "print('--------가격 기준으로 분류--------')\n",
    "for book in books:\n",
    "    print('제목 : {}, 가격 : {}원'.format(book.title, book.price))"
   ]
  },
  {
   "cell_type": "markdown",
   "metadata": {},
   "source": [
    "### 1-2) 발행년도로 분류"
   ]
  },
  {
   "cell_type": "code",
   "execution_count": 86,
   "metadata": {
    "collapsed": true
   },
   "outputs": [],
   "source": [
    "books.sort(key = lambda book : book.date, reverse=True)\n"
   ]
  },
  {
   "cell_type": "code",
   "execution_count": 87,
   "metadata": {
    "collapsed": false
   },
   "outputs": [
    {
     "name": "stdout",
     "output_type": "stream",
     "text": [
      "--------발행일 기준으로 분류--------\n",
      "제목 : 완득이, 발행년도 : 2007년\n",
      "제목 : 누가 내머리에 똥쌌어, 발행년도 : 1999년\n",
      "제목 : 어린왕자, 발행년도 : 1943년\n"
     ]
    }
   ],
   "source": [
    "print('--------발행일 기준으로 분류--------')\n",
    "for book in books:\n",
    "    print('제목 : {}, 발행년도 : {}년'.format(book.title, book.date))"
   ]
  },
  {
   "cell_type": "markdown",
   "metadata": {},
   "source": [
    "### 1-3) 책제목 길이로 분류"
   ]
  },
  {
   "cell_type": "code",
   "execution_count": 88,
   "metadata": {
    "collapsed": true
   },
   "outputs": [],
   "source": [
    "books.sort(key = lambda book : len(book.title), reverse=True)"
   ]
  },
  {
   "cell_type": "code",
   "execution_count": 92,
   "metadata": {
    "collapsed": false
   },
   "outputs": [
    {
     "name": "stdout",
     "output_type": "stream",
     "text": [
      "--------제목길이 기준으로 분류--------\n",
      "제목 : 누가 내머리에 똥쌌어, 제목길이 : 9\n",
      "제목 : 어린왕자, 제목길이 : 4\n",
      "제목 : 완득이, 제목길이 : 3\n"
     ]
    }
   ],
   "source": [
    "print('--------제목길이 기준으로 분류--------')\n",
    "for book in books:\n",
    "    length = 0\n",
    "    for words in sorted(book.title):\n",
    "        if words == ' ':\n",
    "            length += 0\n",
    "        else:\n",
    "            length += 1\n",
    "   \n",
    "    print('제목 : {}, 제목길이 : {}'.format(book.title,length))"
   ]
  },
  {
   "cell_type": "markdown",
   "metadata": {},
   "source": [
    "## 2. 장식자"
   ]
  },
  {
   "cell_type": "markdown",
   "metadata": {},
   "source": [
    "문제에서 요구하는 바를 파악하지 못하였습니다.."
   ]
  },
  {
   "cell_type": "code",
   "execution_count": 105,
   "metadata": {
    "collapsed": false
   },
   "outputs": [],
   "source": [
    "def base(call):\n",
    "    def wrap(func):\n",
    "        def inner(a,b):\n",
    "            return a+b\n",
    "        return inner\n",
    "    return wrap\n"
   ]
  },
  {
   "cell_type": "code",
   "execution_count": 103,
   "metadata": {
    "collapsed": false
   },
   "outputs": [
    {
     "name": "stdout",
     "output_type": "stream",
     "text": [
      "3\n"
     ]
    }
   ],
   "source": [
    "@base(10)\n",
    "def sum(x, y):\n",
    "    return x + y\n",
    "\n",
    "print(sum(1, 2))"
   ]
  },
  {
   "cell_type": "code",
   "execution_count": null,
   "metadata": {
    "collapsed": true
   },
   "outputs": [],
   "source": []
  }
 ],
 "metadata": {
  "kernelspec": {
   "display_name": "Python [Root]",
   "language": "python",
   "name": "Python [Root]"
  },
  "language_info": {
   "codemirror_mode": {
    "name": "ipython",
    "version": 3
   },
   "file_extension": ".py",
   "mimetype": "text/x-python",
   "name": "python",
   "nbconvert_exporter": "python",
   "pygments_lexer": "ipython3",
   "version": "3.5.2"
  }
 },
 "nbformat": 4,
 "nbformat_minor": 0
}
