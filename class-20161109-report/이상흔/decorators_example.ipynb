{
 "cells": [
  {
   "cell_type": "markdown",
   "metadata": {},
   "source": [
    "# 인자를 받는 장식자"
   ]
  },
  {
   "cell_type": "code",
   "execution_count": 10,
   "metadata": {
    "collapsed": false
   },
   "outputs": [
    {
     "name": "stdout",
     "output_type": "stream",
     "text": [
      "13\n",
      "20\n",
      "22.0\n"
     ]
    }
   ],
   "source": [
    "def base(num):\n",
    "    def wrap(func):\n",
    "        def wrap_inner(x, y):\n",
    "            return num + func(x, y)\n",
    "        return wrap_inner\n",
    "    return wrap\n",
    "    \n",
    "@base(10)\n",
    "def sum(x,y):\n",
    "    return x + y\n",
    "\n",
    "@base(5)\n",
    "def multiply(x,y):\n",
    "    return x * y\n",
    "\n",
    "@base(20)\n",
    "def divide(x,y):\n",
    "    return x / y\n",
    "\n",
    "print(sum(1,2))\n",
    "print(multiply(3,5))\n",
    "print(divide(10,5))"
   ]
  }
 ],
 "metadata": {
  "kernelspec": {
   "display_name": "Python 3",
   "language": "python",
   "name": "python3"
  },
  "language_info": {
   "codemirror_mode": {
    "name": "ipython",
    "version": 3
   },
   "file_extension": ".py",
   "mimetype": "text/x-python",
   "name": "python",
   "nbconvert_exporter": "python",
   "pygments_lexer": "ipython3",
   "version": "3.5.2"
  }
 },
 "nbformat": 4,
 "nbformat_minor": 1
}
