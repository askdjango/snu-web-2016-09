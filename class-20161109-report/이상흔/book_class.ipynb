{
 "cells": [
  {
   "cell_type": "code",
   "execution_count": 70,
   "metadata": {
    "collapsed": true
   },
   "outputs": [],
   "source": [
    "class Book:\n",
    "    def __init__(self, name, author, pub_date, sales):\n",
    "        self.name = name\n",
    "        self.author = author\n",
    "        self.pub_date = pub_date\n",
    "        self.sales = sales"
   ]
  },
  {
   "cell_type": "code",
   "execution_count": 79,
   "metadata": {
    "collapsed": false
   },
   "outputs": [],
   "source": [
    "books = [\n",
    "         Book(\"One Piece\", \"Eiichiro Oda\", 1997, 380),\n",
    "         Book(\"Dragon Ball\", \"Akira Toriyama\", 1984, 240),\n",
    "         Book(\"Naruto\", \"Masashi Kishimoto\", 1999, 220),\n",
    "         Book(\"Slam Dunk\", \"Takehiko Inoue\", 1990, 120),\n",
    "         Book(\"Doraemon\", \"Fujiko Fujio\", 1969, 100)\n",
    "        ]x`"
   ]
  },
  {
   "cell_type": "markdown",
   "metadata": {},
   "source": [
    "# 1) 출간 년도"
   ]
  },
  {
   "cell_type": "code",
   "execution_count": 80,
   "metadata": {
    "collapsed": false
   },
   "outputs": [
    {
     "name": "stdout",
     "output_type": "stream",
     "text": [
      "Doraemon 1969\n",
      "Dragon Ball 1984\n",
      "Slam Dunk 1990\n",
      "One Piece 1997\n",
      "Naruto 1999\n"
     ]
    }
   ],
   "source": [
    "books_order_by_pub_date = sorted(books, key=lambda book: book.pub_date)\n",
    "for book in books_order_by_pub_date:\n",
    "    print(book.name, book.pub_date)"
   ]
  },
  {
   "cell_type": "markdown",
   "metadata": {},
   "source": [
    "# 2) 작가 이름 알파벳 수"
   ]
  },
  {
   "cell_type": "code",
   "execution_count": 82,
   "metadata": {
    "collapsed": false
   },
   "outputs": [
    {
     "name": "stdout",
     "output_type": "stream",
     "text": [
      "One Piece Eiichiro Oda 12\n",
      "Doraemon Fujiko Fujio 12\n",
      "Dragon Ball Akira Toriyama 14\n",
      "Slam Dunk Takehiko Inoue 14\n",
      "Naruto Masashi Kishimoto 17\n"
     ]
    }
   ],
   "source": [
    "books_order_by_num_of_author_name = sorted(books, key=lambda book: len(book.author))\n",
    "for book in books_order_by_num_of_author_name:\n",
    "    print(book.name, book.author,len(book.author))"
   ]
  },
  {
   "cell_type": "markdown",
   "metadata": {},
   "source": [
    "# 3) 판매 부수 역순"
   ]
  },
  {
   "cell_type": "code",
   "execution_count": 84,
   "metadata": {
    "collapsed": false
   },
   "outputs": [
    {
     "name": "stdout",
     "output_type": "stream",
     "text": [
      "Doraemon 100\n",
      "Slam Dunk 120\n",
      "Naruto 220\n",
      "Dragon Ball 240\n",
      "One Piece 380\n"
     ]
    }
   ],
   "source": [
    "books_order_by_sales = sorted(books, key=lambda book: book.sales, reverse=False)\n",
    "for book in books_order_by_sales:\n",
    "    print(book.name, book.sales)"
   ]
  }
 ],
 "metadata": {
  "kernelspec": {
   "display_name": "Python 3",
   "language": "python",
   "name": "python3"
  },
  "language_info": {
   "codemirror_mode": {
    "name": "ipython",
    "version": 3
   },
   "file_extension": ".py",
   "mimetype": "text/x-python",
   "name": "python",
   "nbconvert_exporter": "python",
   "pygments_lexer": "ipython3",
   "version": "3.5.2"
  }
 },
 "nbformat": 4,
 "nbformat_minor": 1
}
