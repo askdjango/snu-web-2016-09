{
 "cells": [
  {
   "cell_type": "code",
   "execution_count": 2,
   "metadata": {
    "collapsed": true
   },
   "outputs": [],
   "source": [
    "class Book:\n",
    "    def __init__(self,title,price,author,year,number):\n",
    "        self.title = title\n",
    "        self.price = price\n",
    "        self.author = author\n",
    "        self.year = year\n",
    "        self.number = number\n",
    "    "
   ]
  },
  {
   "cell_type": "code",
   "execution_count": 6,
   "metadata": {
    "collapsed": false
   },
   "outputs": [
    {
     "name": "stdout",
     "output_type": "stream",
     "text": [
      "ABC\n",
      "Aladin\n",
      "Harry Porter\n",
      "Lets Go\n",
      "---------------------\n",
      "ABC 300 2916\n",
      "Lets Go 5000 373\n",
      "Aladin 10000 999999\n",
      "Harry Porter 10000 1000000000000\n",
      "---------------------\n",
      "Harry Porter JK\n",
      "ABC Whatup\n",
      "Lets Go Donghwi\n",
      "Aladin Superman\n",
      "---------------------\n",
      "Aladin 2017\n",
      "Lets Go 2016\n",
      "ABC 2008\n",
      "Harry Porter 1996\n"
     ]
    }
   ],
   "source": [
    "book = [Book('Harry Porter',10000,'JK',1996,1000000000000),Book('Lets Go',5000,'Donghwi',2016,373),Book('ABC',300,'Whatup',2008,2916),Book('Aladin',10000,'Superman',2017,999999)]\n",
    "\n",
    "\n",
    "## 제목 빠른 순서\n",
    "\n",
    "book.sort(key=lambda x:x.title)\n",
    "for item in book:\n",
    "    print(item.title)\n",
    "    \n",
    "print('---------------------')\n",
    "\n",
    "\n",
    "## 가격 오름차순(가격 같으면 판매랑 적은 순서)\n",
    "\n",
    "book.sort(key=lambda x:[x.price,x.number])\n",
    "for item in book:\n",
    "    print(item.title,item.price,item.number)\n",
    "    \n",
    "print('---------------------')\n",
    "\n",
    "\n",
    "## 작가 이름 알파벳(띄어쓰기 포함) 개수 오름차순\n",
    "\n",
    "book.sort(key=lambda x:len(x.author))\n",
    "for item in book:\n",
    "    print(item.title,item.author)\n",
    "    \n",
    "print('---------------------')\n",
    "\n",
    "\n",
    "## 발행 연도 늦은 순서\n",
    "\n",
    "book.sort(key=lambda x:x.year,reverse=True)\n",
    "for item in book:\n",
    "    print(item.title,item.year)"
   ]
  }
 ],
 "metadata": {
  "anaconda-cloud": {},
  "kernelspec": {
   "display_name": "Python [Root]",
   "language": "python",
   "name": "Python [Root]"
  },
  "language_info": {
   "codemirror_mode": {
    "name": "ipython",
    "version": 3
   },
   "file_extension": ".py",
   "mimetype": "text/x-python",
   "name": "python",
   "nbconvert_exporter": "python",
   "pygments_lexer": "ipython3",
   "version": "3.5.2"
  }
 },
 "nbformat": 4,
 "nbformat_minor": 0
}
