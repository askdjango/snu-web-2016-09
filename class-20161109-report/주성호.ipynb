{
 "cells": [
  {
   "cell_type": "markdown",
   "metadata": {},
   "source": [
    "## Book class sort"
   ]
  },
  {
   "cell_type": "code",
   "execution_count": 16,
   "metadata": {
    "collapsed": true
   },
   "outputs": [],
   "source": [
    "class Book:\n",
    "    def __init__(self, name, price, writer, year, sell):\n",
    "        self.name = name\n",
    "        self.price = price\n",
    "        self.writer = writer\n",
    "        self.year = year\n",
    "        self.sell = sell"
   ]
  },
  {
   "cell_type": "code",
   "execution_count": 25,
   "metadata": {
    "collapsed": false
   },
   "outputs": [],
   "source": [
    "books = [\n",
    "    Book('난쏘공', 10000, '조세희', 1975, 1000),\n",
    "    Book('1Q84', 6000, '무라카미', 2005, 5000),\n",
    "    Book('은교', 5000, '박범신', 2006, 7000)\n",
    "]"
   ]
  },
  {
   "cell_type": "code",
   "execution_count": 29,
   "metadata": {
    "collapsed": false
   },
   "outputs": [
    {
     "name": "stdout",
     "output_type": "stream",
     "text": [
      "5000 은교\n",
      "6000 1Q84\n",
      "10000 난쏘공\n"
     ]
    }
   ],
   "source": [
    "books.sort(key = lambda Book : Book.price)\n",
    "for Book in books:\n",
    "    print(Book.price, Book.name)\n"
   ]
  },
  {
   "cell_type": "code",
   "execution_count": 33,
   "metadata": {
    "collapsed": false
   },
   "outputs": [
    {
     "name": "stdout",
     "output_type": "stream",
     "text": [
      "6000 1Q84\n",
      "10000 난쏘공\n",
      "5000 은교\n"
     ]
    }
   ],
   "source": [
    "books.sort(key = lambda Book : len(Book.name),reverse = True)\n",
    "for Book in books:\n",
    "    print(Book.price, Book.name)"
   ]
  },
  {
   "cell_type": "code",
   "execution_count": 37,
   "metadata": {
    "collapsed": false,
    "scrolled": true
   },
   "outputs": [
    {
     "name": "stdout",
     "output_type": "stream",
     "text": [
      "은교 5000 박범신 2006 7000\n",
      "난쏘공 10000 조세희 1975 1000\n",
      "1Q84 6000 무라카미 2005 5000\n"
     ]
    }
   ],
   "source": [
    "books.sort(key = lambda Book : [len(Book.name), Book.year])\n",
    "for Book in books:\n",
    "    print(Book.name, Book.price, Book.writer, Book.year, Book.sell)"
   ]
  },
  {
   "cell_type": "markdown",
   "metadata": {},
   "source": [
    "## 장식자 base 구현"
   ]
  },
  {
   "cell_type": "code",
   "execution_count": 14,
   "metadata": {
    "collapsed": false
   },
   "outputs": [],
   "source": [
    "def base(base_number):\n",
    "    def set_decorator(func):\n",
    "        def wrapper(*args,**kwargs):\n",
    "            return base_number + func(*args,**kwargs)\n",
    "        return wrapper\n",
    "    return set_decorator"
   ]
  },
  {
   "cell_type": "code",
   "execution_count": 16,
   "metadata": {
    "collapsed": true
   },
   "outputs": [],
   "source": [
    "@base(10)\n",
    "def sum(x, y):\n",
    "    return x + y"
   ]
  },
  {
   "cell_type": "code",
   "execution_count": 18,
   "metadata": {
    "collapsed": false
   },
   "outputs": [
    {
     "data": {
      "text/plain": [
       "18"
      ]
     },
     "execution_count": 18,
     "metadata": {},
     "output_type": "execute_result"
    }
   ],
   "source": [
    "sum(3,5)"
   ]
  }
 ],
 "metadata": {
  "anaconda-cloud": {},
  "kernelspec": {
   "display_name": "Python [default]",
   "language": "python",
   "name": "python3"
  },
  "language_info": {
   "codemirror_mode": {
    "name": "ipython",
    "version": 3
   },
   "file_extension": ".py",
   "mimetype": "text/x-python",
   "name": "python",
   "nbconvert_exporter": "python",
   "pygments_lexer": "ipython3",
   "version": "3.5.2"
  }
 },
 "nbformat": 4,
 "nbformat_minor": 1
}
