{
 "cells": [
  {
   "cell_type": "markdown",
   "metadata": {},
   "source": [
    "# 1. Book Class 과제"
   ]
  },
  {
   "cell_type": "code",
   "execution_count": 3,
   "metadata": {
    "collapsed": false
   },
   "outputs": [],
   "source": [
    "class Book : \n",
    "    def __init__(self, title, price, author, year, sales) :\n",
    "        self.title = title\n",
    "        self.price = price\n",
    "        self.author = author\n",
    "        self.year = year\n",
    "        self.sales = sales\n",
    "        \n",
    "Booklist = [\n",
    "    Book('Harry Potter Series', 15000, 'J.K.Rowling', 1999, 450000000),\n",
    "    Book('Twilight Saga', 13000, 'Stephanie Meyer', 2006, 120000000),\n",
    "    Book('Narnia Chronicles', 27000, 'C.S.Lewis', 1949, 85000000),\n",
    "    Book('Nancy Drew', 10000, 'Carolyn', 1930, 200000000),\n",
    "    Book('Diary of a Wimpy Kid', 9000, 'Jeff Kinney', 2007, 164000000),\n",
    "    Book('Goosebumps', 8000, 'R.L.Stein', 1992, 350000000)\n",
    "]"
   ]
  },
  {
   "cell_type": "markdown",
   "metadata": {},
   "source": [
    "## 제목 알파벳 순"
   ]
  },
  {
   "cell_type": "code",
   "execution_count": 13,
   "metadata": {
    "collapsed": false
   },
   "outputs": [
    {
     "name": "stdout",
     "output_type": "stream",
     "text": [
      "Diary of a Wimpy Kid    9000    Jeff Kinney    2007    164000000\n",
      "Goosebumps    8000    R.L.Stein    1992    350000000\n",
      "Harry Potter Series    15000    J.K.Rowling    1999    450000000\n",
      "Nancy Drew    10000    Carolyn    1930    200000000\n",
      "Narnia Chronicles    27000    C.S.Lewis    1949    85000000\n",
      "Twilight Saga    13000    Stephanie Meyer    2006    120000000\n"
     ]
    }
   ],
   "source": [
    "byTitle = sorted(Booklist, key=lambda Book : Book.title)\n",
    "\n",
    "for Book in byTitle :\n",
    "    print(Book.title, '  ', Book.price, '  ', Book.author, '  ', Book.year, '  ', Book.sales)"
   ]
  },
  {
   "cell_type": "markdown",
   "metadata": {},
   "source": [
    "## 높은 가격 순"
   ]
  },
  {
   "cell_type": "code",
   "execution_count": 14,
   "metadata": {
    "collapsed": false
   },
   "outputs": [
    {
     "name": "stdout",
     "output_type": "stream",
     "text": [
      "Narnia Chronicles    27000    C.S.Lewis    1949    85000000\n",
      "Harry Potter Series    15000    J.K.Rowling    1999    450000000\n",
      "Twilight Saga    13000    Stephanie Meyer    2006    120000000\n",
      "Nancy Drew    10000    Carolyn    1930    200000000\n",
      "Diary of a Wimpy Kid    9000    Jeff Kinney    2007    164000000\n",
      "Goosebumps    8000    R.L.Stein    1992    350000000\n"
     ]
    }
   ],
   "source": [
    "byHighPrice = sorted(Booklist, key=lambda Book : Book.price, reverse=True)\n",
    "\n",
    "for Book in byHighPrice :\n",
    "    print(Book.title, '  ', Book.price, '  ', Book.author, '  ', Book.year, '  ', Book.sales)"
   ]
  },
  {
   "cell_type": "markdown",
   "metadata": {},
   "source": [
    "## 제목 글자 갯수 많은 순"
   ]
  },
  {
   "cell_type": "code",
   "execution_count": 16,
   "metadata": {
    "collapsed": false,
    "scrolled": true
   },
   "outputs": [
    {
     "name": "stdout",
     "output_type": "stream",
     "text": [
      "Diary of a Wimpy Kid    9000    Jeff Kinney    2007    164000000\n",
      "Harry Potter Series    15000    J.K.Rowling    1999    450000000\n",
      "Narnia Chronicles    27000    C.S.Lewis    1949    85000000\n",
      "Twilight Saga    13000    Stephanie Meyer    2006    120000000\n",
      "Nancy Drew    10000    Carolyn    1930    200000000\n",
      "Goosebumps    8000    R.L.Stein    1992    350000000\n"
     ]
    }
   ],
   "source": [
    "byTitleLetters = sorted(Booklist, key=lambda Book : len(Book.title), reverse=True)\n",
    "\n",
    "for Book in byTitleLetters :\n",
    "    print(Book.title, '  ', Book.price, '  ', Book.author, '  ', Book.year, '  ', Book.sales)"
   ]
  },
  {
   "cell_type": "markdown",
   "metadata": {},
   "source": [
    "## 오래 된 순"
   ]
  },
  {
   "cell_type": "code",
   "execution_count": 19,
   "metadata": {
    "collapsed": false
   },
   "outputs": [
    {
     "name": "stdout",
     "output_type": "stream",
     "text": [
      "Nancy Drew    10000    Carolyn    1930    200000000\n",
      "Narnia Chronicles    27000    C.S.Lewis    1949    85000000\n",
      "Goosebumps    8000    R.L.Stein    1992    350000000\n",
      "Harry Potter Series    15000    J.K.Rowling    1999    450000000\n",
      "Twilight Saga    13000    Stephanie Meyer    2006    120000000\n",
      "Diary of a Wimpy Kid    9000    Jeff Kinney    2007    164000000\n"
     ]
    }
   ],
   "source": [
    "byOldbook = sorted(Booklist, key=lambda Book : Book.year)\n",
    "\n",
    "for Book in byOldbook :\n",
    "    print(Book.title, '  ', Book.price, '  ', Book.author, '  ', Book.year, '  ', Book.sales)"
   ]
  },
  {
   "cell_type": "markdown",
   "metadata": {},
   "source": [
    "# 2. 장식자 과제"
   ]
  },
  {
   "cell_type": "code",
   "execution_count": 21,
   "metadata": {
    "collapsed": true
   },
   "outputs": [],
   "source": [
    "def base(number) :\n",
    "    def function(fn) :\n",
    "        def wrap(x, y) :\n",
    "            ret = fn(x, y) + number\n",
    "            return ret\n",
    "        return wrap\n",
    "    return function"
   ]
  },
  {
   "cell_type": "code",
   "execution_count": 23,
   "metadata": {
    "collapsed": false
   },
   "outputs": [],
   "source": [
    "@base(10)\n",
    "def sum(x, y):\n",
    "    return x + y"
   ]
  },
  {
   "cell_type": "code",
   "execution_count": 24,
   "metadata": {
    "collapsed": false
   },
   "outputs": [
    {
     "name": "stdout",
     "output_type": "stream",
     "text": [
      "13\n"
     ]
    }
   ],
   "source": [
    "print(sum(1, 2))"
   ]
  },
  {
   "cell_type": "code",
   "execution_count": null,
   "metadata": {
    "collapsed": true
   },
   "outputs": [],
   "source": []
  }
 ],
 "metadata": {
  "anaconda-cloud": {},
  "kernelspec": {
   "display_name": "Python [default]",
   "language": "python",
   "name": "python3"
  },
  "language_info": {
   "codemirror_mode": {
    "name": "ipython",
    "version": 3
   },
   "file_extension": ".py",
   "mimetype": "text/x-python",
   "name": "python",
   "nbconvert_exporter": "python",
   "pygments_lexer": "ipython3",
   "version": "3.5.2"
  }
 },
 "nbformat": 4,
 "nbformat_minor": 1
}
