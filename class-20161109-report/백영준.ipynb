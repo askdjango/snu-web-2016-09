{
 "cells": [
  {
   "cell_type": "markdown",
   "metadata": {},
   "source": [
    "\n",
    "# Book 클래스를 만들고, Book 리스트를 다양한 기준으로정렬 (Sort) 하는 예를 3개 이상\n",
    "\n",
    "•Book 클래스 멤버변수 : 책 제목, 책값, 저자, 출간년도, 판매부수\n",
    "\n",
    "ex) 책 제목 단어 갯수로 내림차순 정렬"
   ]
  },
  {
   "cell_type": "code",
   "execution_count": 69,
   "metadata": {
    "collapsed": false
   },
   "outputs": [
    {
     "name": "stdout",
     "output_type": "stream",
     "text": [
      "10\n",
      "[<__main__.Book object at 0x10428c1d0>, <__main__.Book object at 0x10428c198>, <__main__.Book object at 0x10428ccc0>, <__main__.Book object at 0x10429f860>, <__main__.Book object at 0x10429fb38>, <__main__.Book object at 0x10429fba8>, <__main__.Book object at 0x10429fe48>, <__main__.Book object at 0x10429f9b0>, <__main__.Book object at 0x104272240>, <__main__.Book object at 0x104272c50>]\n",
      "\n",
      "커스텀클래스\n",
      "클래스\n",
      "커스텀클래스2\n",
      "가변인자\n",
      "collections\n",
      "함수\n",
      "주피터노트북\n",
      "파이썬서버\n",
      "파이썬장고\n",
      "django\n",
      "\n",
      "클래스\n"
     ]
    }
   ],
   "source": [
    "class Book(object):\n",
    "    def __init__(self,title,price,writer,year,sold):\n",
    "        self.title = title\n",
    "        self.price = price\n",
    "        self.writer = writer\n",
    "        self.year = year\n",
    "        self.sold = sold\n",
    "    \n",
    "        \n",
    "books = []\n",
    "books.append(Book('커스텀클래스',30000,'슬랙이',1991,100))\n",
    "books.append(Book('클래스',15000,'슬랙이',1994,5))\n",
    "books.append(Book('커스텀클래스2',40000,'슬랙이',2000,300))\n",
    "books.append(Book('가변인자',10000,'슬랙이',2010,1001))\n",
    "books.append(Book('collections',90000,'슬랙이',2011,1030))\n",
    "books.append(Book('함수',3000,'슬랙이',2002,10))\n",
    "books.append(Book('주피터노트북',8000,'슬랙이',2013,60))\n",
    "books.append(Book('파이썬서버',25000,'슬랙이',2014,40))\n",
    "books.append(Book('파이썬장고',30000,'슬랙이',1995,24))\n",
    "books.append(Book('django',30000,'슬랙이',1999,123))\n",
    "print(len(books))\n"
   ]
  },
  {
   "cell_type": "code",
   "execution_count": 98,
   "metadata": {
    "collapsed": false
   },
   "outputs": [],
   "source": [
    "def printBookList(bookList,sortKey):\n",
    "    bookList = []\n",
    "    for book in books:\n",
    "        if sortKey == \"title\":\n",
    "            bookList.append(book.title)\n",
    "#             print(book.title)\n",
    "        elif sortKey == \"price\":\n",
    "            bookList.append(book.price)\n",
    "#             print(book.price)\n",
    "        elif sortKey == \"writer\":\n",
    "            bookList.append(book.writer)\n",
    "#             print(book.writer)\n",
    "        elif sortKey == \"year\":\n",
    "            bookList.append(book.year)\n",
    "#             print(book.year)\n",
    "        elif sortKey == \"sold\":\n",
    "            bookList.append(book.sold)\n",
    "#             print(book.sold)\n",
    "        else:\n",
    "            print(\"Wrong sortKey\")\n",
    "    print(bookList)"
   ]
  },
  {
   "cell_type": "code",
   "execution_count": 107,
   "metadata": {
    "collapsed": false
   },
   "outputs": [
    {
     "name": "stdout",
     "output_type": "stream",
     "text": [
      "['커스텀클래스2', 'django', 'collections', '파이썬장고', '파이썬서버', '주피터노트북', '함수', '클래스', '커스텀클래스', '가변인자']\n",
      "['슬랙이', '슬랙이', '슬랙이', '슬랙이', '슬랙이', '슬랙이', '슬랙이', '슬랙이', '슬랙이', '슬랙이']\n",
      "['클래스', '함수', '파이썬장고', '파이썬서버', '주피터노트북', '커스텀클래스', 'django', '커스텀클래스2', '가변인자', 'collections']\n",
      "[5, 10, 24, 40, 60, 100, 123, 300, 1001, 1030]\n",
      "['파이썬서버', '주피터노트북', 'collections', '가변인자', '함수', '커스텀클래스2', 'django', '파이썬장고', '클래스', '커스텀클래스']\n",
      "[2014, 2013, 2011, 2010, 2002, 2000, 1999, 1995, 1994, 1991]\n",
      "['collections', 'django', '가변인자', '주피터노트북', '커스텀클래스', '커스텀클래스2', '클래스', '파이썬서버', '파이썬장고', '함수']\n",
      "['django', 'collections', '클래스', '가변인자', '함수', '커스텀클래스', '커스텀클래스2', '파이썬서버', '파이썬장고', '주피터노트북']\n",
      "['커스텀클래스2', 'django', 'collections', '파이썬장고', '파이썬서버', '주피터노트북', '함수', '클래스', '커스텀클래스', '가변인자']\n"
     ]
    }
   ],
   "source": [
    "books.sort(key = lambda x: x.writer)\n",
    "printBookList(books,\"title\")\n",
    "printBookList(books,\"writer\")\n",
    "books.sort(key = lambda x: x.sold)\n",
    "printBookList(books,\"title\")\n",
    "printBookList(books,\"sold\")\n",
    "books.sort(key = lambda x: x.year,reverse=True)\n",
    "printBookList(books,\"title\")\n",
    "printBookList(books,\"year\")\n",
    "books.sort(key = lambda x: x.title)\n",
    "printBookList(books,\"title\")\n",
    "books.sort(key = lambda x: x.title[1])\n",
    "printBookList(books,\"title\")\n",
    "books.sort(key = lambda x: x.title[-1])\n",
    "printBookList(books,\"title\")"
   ]
  },
  {
   "cell_type": "markdown",
   "metadata": {},
   "source": [
    "# 인자를 받는 장식자 base 를 구현해보세요.\n",
    "\n",
    "@base(10)\n",
    "\n",
    "def sum(x, y):\n",
    "\n",
    "    returnx+y\n",
    "\n",
    "\n",
    "print(sum(1, 2))"
   ]
  },
  {
   "cell_type": "code",
   "execution_count": 113,
   "metadata": {
    "collapsed": false
   },
   "outputs": [
    {
     "name": "stdout",
     "output_type": "stream",
     "text": [
      "13\n",
      "18\n"
     ]
    }
   ],
   "source": [
    "def base(arg):\n",
    "    def realDeco(func):\n",
    "        def wrapper(a,b):\n",
    "            return func(a,b)+arg\n",
    "        return wrapper\n",
    "    return realDeco\n",
    "\n",
    "@base(10)\n",
    "def sum(x,y):\n",
    "    return x+y\n",
    "\n",
    "print(sum(1,2))\n",
    "\n",
    "@base(15)\n",
    "def sum(x,y):\n",
    "    return x+y\n",
    "\n",
    "print(sum(1,2))"
   ]
  }
 ],
 "metadata": {
  "anaconda-cloud": {},
  "kernelspec": {
   "display_name": "Python [Root]",
   "language": "python",
   "name": "Python [Root]"
  },
  "language_info": {
   "codemirror_mode": {
    "name": "ipython",
    "version": 3
   },
   "file_extension": ".py",
   "mimetype": "text/x-python",
   "name": "python",
   "nbconvert_exporter": "python",
   "pygments_lexer": "ipython3",
   "version": "3.5.2"
  }
 },
 "nbformat": 4,
 "nbformat_minor": 0
}
