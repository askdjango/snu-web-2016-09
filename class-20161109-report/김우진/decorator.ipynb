{
 "cells": [
  {
   "cell_type": "code",
   "execution_count": null,
   "metadata": {
    "collapsed": false
   },
   "outputs": [],
   "source": [
    "#decorator 활용"
   ]
  },
  {
   "cell_type": "code",
   "execution_count": 3,
   "metadata": {
    "collapsed": true
   },
   "outputs": [],
   "source": [
    "def int2base(x, base):\n",
    "    if x < 0: sign = -1\n",
    "    elif x == 0: return digs[0]\n",
    "    else: sign = 1\n",
    "    x *= sign\n",
    "    digits = []\n",
    "    while x:\n",
    "        digits.append(digs[x % base])\n",
    "        x //= base\n",
    "    if sign < 0:\n",
    "        digits.append('-')\n",
    "    digits.reverse()\n",
    "    return ''.join(digits)"
   ]
  },
  {
   "cell_type": "code",
   "execution_count": 4,
   "metadata": {
    "collapsed": false
   },
   "outputs": [
    {
     "name": "stdout",
     "output_type": "stream",
     "text": [
      "3\n"
     ]
    }
   ],
   "source": [
    "def base(num):\n",
    "    def decorator(func):\n",
    "        def wrapper(*args):\n",
    "            return int2base(func(*args), num)\n",
    "        return wrapper\n",
    "    return decorator\n",
    "\n",
    "def my_sum(num1, num2):\n",
    "    return num1 + num2\n",
    "\n",
    "@base(10)\n",
    "def sum(x, y):\n",
    "    return x+y\n",
    "\n",
    "print(my_sum(1,2))"
   ]
  },
  {
   "cell_type": "code",
   "execution_count": null,
   "metadata": {
    "collapsed": true
   },
   "outputs": [],
   "source": []
  }
 ],
 "metadata": {
  "kernelspec": {
   "display_name": "Python [Root]",
   "language": "python",
   "name": "Python [Root]"
  },
  "language_info": {
   "codemirror_mode": {
    "name": "ipython",
    "version": 3
   },
   "file_extension": ".py",
   "mimetype": "text/x-python",
   "name": "python",
   "nbconvert_exporter": "python",
   "pygments_lexer": "ipython3",
   "version": "3.5.2"
  }
 },
 "nbformat": 4,
 "nbformat_minor": 0
}
