{
 "cells": [
  {
   "cell_type": "code",
   "execution_count": 1,
   "metadata": {
    "collapsed": true
   },
   "outputs": [],
   "source": [
    "class Book:\n",
    "    def __init__(self, title, price, author, year, sales):\n",
    "        self.title= title\n",
    "        self.price= price\n",
    "        self.author= author\n",
    "        self.year= year\n",
    "        self.sales= sales\n",
    "    def __repr__(self):\n",
    "        return repr((self.title,self.price,self.author,self.year,self.sales))"
   ]
  },
  {
   "cell_type": "code",
   "execution_count": 2,
   "metadata": {
    "collapsed": true
   },
   "outputs": [],
   "source": [
    "book_obj = [\n",
    "    Book('Win It Like Trump',9900,'Trump',2011,99999),\n",
    "    Book('Live It Like Hilary',3000,'Hilary',2012,8000),\n",
    "    Book('Negotiate It Like Obama',13000,'Obama',2010,5555),\n",
    "    Book('Slap It Like DoDo',11000,'DoDo',2014,8001),\n",
    "    Book('Love Her Like Jie',100400,'Jie',2016,2)\n",
    "]"
   ]
  },
  {
   "cell_type": "code",
   "execution_count": 4,
   "metadata": {
    "collapsed": false
   },
   "outputs": [
    {
     "data": {
      "text/plain": [
       "[('Love Her Like Jie', 100400, 'Jie', 2016, 2),\n",
       " ('Negotiate It Like Obama', 13000, 'Obama', 2010, 5555),\n",
       " ('Slap It Like DoDo', 11000, 'DoDo', 2014, 8001),\n",
       " ('Win It Like Trump', 9900, 'Trump', 2011, 99999),\n",
       " ('Live It Like Hilary', 3000, 'Hilary', 2012, 8000)]"
      ]
     },
     "execution_count": 4,
     "metadata": {},
     "output_type": "execute_result"
    }
   ],
   "source": [
    "#책값 내림차순으로 정렬\n",
    "sorted(book_obj, key=lambda x: x.price, reverse=True)"
   ]
  },
  {
   "cell_type": "code",
   "execution_count": 5,
   "metadata": {
    "collapsed": false
   },
   "outputs": [
    {
     "data": {
      "text/plain": [
       "[('Slap It Like DoDo', 11000, 'DoDo', 2014, 8001),\n",
       " ('Live It Like Hilary', 3000, 'Hilary', 2012, 8000),\n",
       " ('Love Her Like Jie', 100400, 'Jie', 2016, 2),\n",
       " ('Negotiate It Like Obama', 13000, 'Obama', 2010, 5555),\n",
       " ('Win It Like Trump', 9900, 'Trump', 2011, 99999)]"
      ]
     },
     "execution_count": 5,
     "metadata": {},
     "output_type": "execute_result"
    }
   ],
   "source": [
    "# 저자 알파벳순으로 정렬\n",
    "sorted(book_obj, key=lambda x: x.author, reverse=False)"
   ]
  },
  {
   "cell_type": "code",
   "execution_count": 6,
   "metadata": {
    "collapsed": false
   },
   "outputs": [
    {
     "data": {
      "text/plain": [
       "[('Love Her Like Jie', 100400, 'Jie', 2016, 2),\n",
       " ('Negotiate It Like Obama', 13000, 'Obama', 2010, 5555),\n",
       " ('Live It Like Hilary', 3000, 'Hilary', 2012, 8000),\n",
       " ('Slap It Like DoDo', 11000, 'DoDo', 2014, 8001),\n",
       " ('Win It Like Trump', 9900, 'Trump', 2011, 99999)]"
      ]
     },
     "execution_count": 6,
     "metadata": {},
     "output_type": "execute_result"
    }
   ],
   "source": [
    "# 판매부수 오름차순으로 정렬\n",
    "sorted(book_obj, key=lambda x: x.sales, reverse=False)"
   ]
  },
  {
   "cell_type": "code",
   "execution_count": null,
   "metadata": {
    "collapsed": true
   },
   "outputs": [],
   "source": []
  }
 ],
 "metadata": {
  "anaconda-cloud": {},
  "kernelspec": {
   "display_name": "Python [Root]",
   "language": "python",
   "name": "Python [Root]"
  },
  "language_info": {
   "codemirror_mode": {
    "name": "ipython",
    "version": 3
   },
   "file_extension": ".py",
   "mimetype": "text/x-python",
   "name": "python",
   "nbconvert_exporter": "python",
   "pygments_lexer": "ipython3",
   "version": "3.5.2"
  }
 },
 "nbformat": 4,
 "nbformat_minor": 0
}
