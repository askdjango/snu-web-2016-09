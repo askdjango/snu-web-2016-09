{
 "cells": [
  {
   "cell_type": "markdown",
   "metadata": {},
   "source": [
    "## Book 클래스 만들고, Book 리스트 정렬(sort)"
   ]
  },
  {
   "cell_type": "code",
   "execution_count": 14,
   "metadata": {
    "collapsed": false
   },
   "outputs": [],
   "source": [
    "class Book(object):\n",
    "    def __init__(self, title, price, author, year, sale):\n",
    "        self.title = title\n",
    "        self.price = price\n",
    "        self.author = author\n",
    "        self.year = year\n",
    "        self.sale = sale\n",
    "\n",
    "        \n",
    "booklist = [    \n",
    "    Book('A Tale of Two Cities', 13, 'Charles Dickens', 1859, 210000000),\n",
    "    Book('Le Petit Prince', 9,'Saint-Exupery', 1943, 200000000),\n",
    "    Book('The Hobbit', 29, 'J.R.R.Tolkien', 1937, 100000000),\n",
    "    Book('And Then There Were None', 8, 'Agatha Christie', 1939, 120000000),\n",
    "]\n"
   ]
  },
  {
   "cell_type": "code",
   "execution_count": 15,
   "metadata": {
    "collapsed": false
   },
   "outputs": [
    {
     "name": "stdout",
     "output_type": "stream",
     "text": [
      "The Hobbit, $29\n",
      "A Tale of Two Cities, $13\n",
      "Le Petit Prince, $9\n",
      "And Then There Were None, $8\n"
     ]
    }
   ],
   "source": [
    "# 책값(price, $) 기준으로 내림차순 정렬\n",
    "booklist.sort(key=lambda book: book.price, reverse=True)\n",
    "\n",
    "for book in booklist:\n",
    "    print('{}, ${}'.format(book.title, book.price))"
   ]
  },
  {
   "cell_type": "code",
   "execution_count": 16,
   "metadata": {
    "collapsed": false
   },
   "outputs": [
    {
     "name": "stdout",
     "output_type": "stream",
     "text": [
      "A Tale of Two Cities, $1859\n",
      "The Hobbit, $1937\n",
      "And Then There Were None, $1939\n",
      "Le Petit Prince, $1943\n"
     ]
    }
   ],
   "source": [
    "# 발행년도(year) 기준으로 오름차순 정렬\n",
    "booklist.sort(key=lambda book: book.year, reverse=False)\n",
    "\n",
    "for book in booklist:\n",
    "    print('{}, ${}'.format(book.title, book.year))"
   ]
  },
  {
   "cell_type": "code",
   "execution_count": 17,
   "metadata": {
    "collapsed": false
   },
   "outputs": [
    {
     "name": "stdout",
     "output_type": "stream",
     "text": [
      "The Hobbit\n",
      "Le Petit Prince\n",
      "A Tale of Two Cities\n",
      "And Then There Were None\n"
     ]
    }
   ],
   "source": [
    "# 책 제목 단어 개수 기준으로 오름차순 정렬\n",
    "booklist.sort(key=lambda book: len(book.title), reverse=False)\n",
    "\n",
    "for book in booklist:\n",
    "    print(book.title)"
   ]
  },
  {
   "cell_type": "code",
   "execution_count": null,
   "metadata": {
    "collapsed": true
   },
   "outputs": [],
   "source": []
  },
  {
   "cell_type": "markdown",
   "metadata": {},
   "source": [
    "## 인자를 받는 장식자 base"
   ]
  },
  {
   "cell_type": "code",
   "execution_count": 54,
   "metadata": {
    "collapsed": false
   },
   "outputs": [
    {
     "name": "stdout",
     "output_type": "stream",
     "text": [
      "13\n"
     ]
    }
   ],
   "source": [
    "def base(a):\n",
    "    def set(fn):\n",
    "        def wrap(x, y):\n",
    "            return a + x + y\n",
    "        return wrap\n",
    "    return set\n",
    "\n",
    "@base(10)\n",
    "def sum(x, y):\n",
    "    return x + y\n",
    "print(sum(1, 2))"
   ]
  },
  {
   "cell_type": "code",
   "execution_count": null,
   "metadata": {
    "collapsed": true
   },
   "outputs": [],
   "source": []
  }
 ],
 "metadata": {
  "kernelspec": {
   "display_name": "Python [default]",
   "language": "python",
   "name": "python3"
  },
  "language_info": {
   "codemirror_mode": {
    "name": "ipython",
    "version": 3
   },
   "file_extension": ".py",
   "mimetype": "text/x-python",
   "name": "python",
   "nbconvert_exporter": "python",
   "pygments_lexer": "ipython3",
   "version": "3.5.2"
  }
 },
 "nbformat": 4,
 "nbformat_minor": 1
}
