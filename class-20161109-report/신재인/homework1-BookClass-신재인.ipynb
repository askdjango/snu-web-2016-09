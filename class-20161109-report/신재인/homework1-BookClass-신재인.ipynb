{
 "cells": [
  {
   "cell_type": "markdown",
   "metadata": {},
   "source": [
    "## Book 클래스를 만들고, Book 리스트를 다양한 기준으로정렬 (Sort) 하는 예를 3개 이상 만들어보세요.\n",
    "\n",
    "* Book 클래스 멤버변수 : 책 제목, 책값, 저자, 출간년도, 판매부수\n",
    "* ex) 책 제목 단어 갯수로 내림차순 정렬 \n",
    "\n"
   ]
  },
  {
   "cell_type": "code",
   "execution_count": 3,
   "metadata": {
    "collapsed": false
   },
   "outputs": [],
   "source": [
    "class Book :\n",
    "    def __init__(self, title, author, price, year, sold) : \n",
    "        self.title = title\n",
    "        self.author = author\n",
    "        self.price = price\n",
    "        self.year = year\n",
    "        self.sold = sold \n"
   ]
  },
  {
   "cell_type": "code",
   "execution_count": 4,
   "metadata": {
    "collapsed": false
   },
   "outputs": [
    {
     "name": "stdout",
     "output_type": "stream",
     "text": [
      "1번째 책의 정보를 순서대로 기입해주세요\n",
      "제목: 핫시트\n",
      "저자: 댄샤피로\n",
      "가격: 18000\n",
      "출간년도: 2015\n",
      "판매부수: 55000\n",
      "더 입력할 책이 있습니까?(네/아니오) : 네\n",
      "2번째 책의 정보를 순서대로 기입해주세요\n",
      "제목: 4차산업혁명\n",
      "저자: 클라우드슈밥\n",
      "가격: 19000\n",
      "출간년도: 2016\n",
      "판매부수: 40000\n",
      "더 입력할 책이 있습니까?(네/아니오) : 네\n",
      "3번째 책의 정보를 순서대로 기입해주세요\n",
      "제목: 100달러스타트업\n",
      "저자: 크리스길아보\n",
      "가격: 20000\n",
      "출간년도: 2008\n",
      "판매부수: 110000\n",
      "더 입력할 책이 있습니까?(네/아니오) : 네\n",
      "4번째 책의 정보를 순서대로 기입해주세요\n",
      "제목: 좋은펀드나쁜펀드\n",
      "저자: 신관수\n",
      "가격: 13000\n",
      "출간년도: 2007\n",
      "판매부수: 85000\n",
      "더 입력할 책이 있습니까?(네/아니오) : 아니오\n"
     ]
    }
   ],
   "source": [
    "booklist = [] \n",
    "        \n",
    "i = 1         \n",
    "while True : \n",
    "    print('%d번째 책의 정보를 순서대로 기입해주세요'%i )\n",
    "    t = input('제목: ')\n",
    "    a = input('저자: ')\n",
    "    p = input('가격: ')\n",
    "    y = input('출간년도: ')\n",
    "    s = input('판매부수: ')\n",
    "    booklist.append(Book(t, a, p, y, s))\n",
    "    \n",
    "    answer = str(input('더 입력할 책이 있습니까?(네/아니오) : '))\n",
    "    if answer == '아니오':\n",
    "        break\n",
    "    else : \n",
    "        i+=1\n",
    "        "
   ]
  },
  {
   "cell_type": "code",
   "execution_count": 16,
   "metadata": {
    "collapsed": false
   },
   "outputs": [
    {
     "name": "stdout",
     "output_type": "stream",
     "text": [
      "<제목 글자 갯수 순(내림차순)>\n",
      "100달러스타트업\n",
      "좋은펀드나쁜펀드\n",
      "4차산업혁명\n",
      "핫시트\n"
     ]
    }
   ],
   "source": [
    "print('<제목 글자 갯수 순(내림차순)>')\n",
    "booklist.sort(key = lambda book : len( str(book.title) ), reverse = True )\n",
    "for book in booklist : \n",
    "    print( book.title )\n"
   ]
  },
  {
   "cell_type": "code",
   "execution_count": 18,
   "metadata": {
    "collapsed": false
   },
   "outputs": [
    {
     "name": "stdout",
     "output_type": "stream",
     "text": [
      "<1년당 판매액 높은 순>\n",
      "4차산업혁명\n",
      "핫시트\n",
      "100달러스타트업\n",
      "좋은펀드나쁜펀드\n"
     ]
    }
   ],
   "source": [
    "print('<1년당 판매액 높은 순>') \n",
    "booklist.sort(key = lambda book : (int(book.price)*int(book.sold))/(2017 - (int(book.year))), reverse = True)\n",
    "for book in booklist :\n",
    "    print( book.title )\n",
    "                                                                                                                     "
   ]
  },
  {
   "cell_type": "code",
   "execution_count": 19,
   "metadata": {
    "collapsed": false
   },
   "outputs": [
    {
     "name": "stdout",
     "output_type": "stream",
     "text": [
      "<책으로 돈을 가장 많이 번 저자 순>\n",
      "크리스길아보\n",
      "신관수\n",
      "댄샤피로\n",
      "클라우드슈밥\n"
     ]
    }
   ],
   "source": [
    "print('<책으로 돈을 가장 많이 번 저자 순>')\n",
    "booklist.sort(key = lambda book : (int(book.price)*int(book.sold)), reverse = True)\n",
    "for book in booklist : \n",
    "    print( book.author )"
   ]
  }
 ],
 "metadata": {
  "kernelspec": {
   "display_name": "Python [default]",
   "language": "python",
   "name": "python3"
  },
  "language_info": {
   "codemirror_mode": {
    "name": "ipython",
    "version": 3
   },
   "file_extension": ".py",
   "mimetype": "text/x-python",
   "name": "python",
   "nbconvert_exporter": "python",
   "pygments_lexer": "ipython3",
   "version": "3.5.2"
  }
 },
 "nbformat": 4,
 "nbformat_minor": 1
}
