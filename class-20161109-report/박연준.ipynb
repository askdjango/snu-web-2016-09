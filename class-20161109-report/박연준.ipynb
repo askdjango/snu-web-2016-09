{
 "cells": [
  {
   "cell_type": "markdown",
   "metadata": {},
   "source": [
    "## Book 클래스를 만들고, Book 리스트를 다양한 기준으로 정렬(sort)하는 예를 3개 이상 만들어보세요. \n",
    "* Book 클래스 멤버변수 : 책 제목, 책 값, 저자, 출간년도, 판매부수\n",
    "* ex) 책 제목 단어 갯수로 내림차순 정렬"
   ]
  },
  {
   "cell_type": "markdown",
   "metadata": {},
   "source": [
    "## sort1, 출간년도로 sorting"
   ]
  },
  {
   "cell_type": "code",
   "execution_count": 22,
   "metadata": {
    "collapsed": false
   },
   "outputs": [],
   "source": [
    "class Book1:\n",
    "    def __init__(self, title, price, author, publication_date, circulation):\n",
    "        self.title = title\n",
    "        self.price = price\n",
    "        self.author = author\n",
    "        self.publication_date = publication_date\n",
    "        self.circulation = circulation\n",
    "    \n",
    "    def __lt__(self, other):\n",
    "        return self.publication_date < other.publication_date\n",
    "    \n",
    "    def __str__(self):\n",
    "        return \"Title: {}, Price: ${}, Author: {}, Publication date: {}, Circulation: {} sales\".format(\n",
    "        self.title, self.price, self.author, self.publication_date, self.circulation)"
   ]
  },
  {
   "cell_type": "code",
   "execution_count": 23,
   "metadata": {
    "collapsed": true
   },
   "outputs": [],
   "source": [
    "books1 = [\n",
    "    Book1('Two Scoops of Django', 37.06, 'Daniel Roy Greenfeld', 20150515, 100),\n",
    "    Book1('Effective PYTHON', 29.40, 'Brett Slatkin', 20150308, 120),\n",
    "    Book1('Fluent Python', 33.86, 'Luciano Ramalho', 20150820, 130),\n",
    "]"
   ]
  },
  {
   "cell_type": "code",
   "execution_count": 24,
   "metadata": {
    "collapsed": false
   },
   "outputs": [],
   "source": [
    "books1.sort()"
   ]
  },
  {
   "cell_type": "code",
   "execution_count": 25,
   "metadata": {
    "collapsed": false
   },
   "outputs": [
    {
     "name": "stdout",
     "output_type": "stream",
     "text": [
      "Effective PYTHON 29.4 Brett Slatkin 20150308 120\n",
      "Two Scoops of Django 37.06 Daniel Roy Greenfeld 20150515 100\n",
      "Fluent Python 33.86 Luciano Ramalho 20150820 130\n"
     ]
    }
   ],
   "source": [
    "for book1 in books1:\n",
    "    print(book1.title, book1.price, book1.author, book1.publication_date, book1.circulation)"
   ]
  },
  {
   "cell_type": "markdown",
   "metadata": {},
   "source": [
    "## 판매부수로 sorting"
   ]
  },
  {
   "cell_type": "code",
   "execution_count": 26,
   "metadata": {
    "collapsed": true
   },
   "outputs": [],
   "source": [
    "class Book2:\n",
    "    def __init__(self, title, price, author, publication_date, circulation):\n",
    "        self.title = title\n",
    "        self.price = price\n",
    "        self.author = author\n",
    "        self.publication_date = publication_date\n",
    "        self.circulation = circulation\n",
    "    \n",
    "    def __lt__(self, other):\n",
    "        return self.circulation < other.circulation\n",
    "    \n",
    "    def __str__(self):\n",
    "        return \"Title: {}, Price: ${}, Author: {}, Publication date: {}, Circulation: {} sales\".format(\n",
    "        self.title, self.price, self.author, self.publication_date, self.circulation)"
   ]
  },
  {
   "cell_type": "code",
   "execution_count": 34,
   "metadata": {
    "collapsed": true
   },
   "outputs": [],
   "source": [
    "books2 = [\n",
    "    Book2('Two Scoops of Django', 37.06, 'Daniel Roy Greenfeld', 20150515, 100),\n",
    "    Book2('Effective PYTHON', 29.40, 'Brett Slatkin', 20150308, 120),\n",
    "    Book2('Fluent Python', 33.86, 'Luciano Ramalho', 20150820, 130),\n",
    "]"
   ]
  },
  {
   "cell_type": "code",
   "execution_count": 32,
   "metadata": {
    "collapsed": false
   },
   "outputs": [],
   "source": [
    "books2.sort()"
   ]
  },
  {
   "cell_type": "code",
   "execution_count": 35,
   "metadata": {
    "collapsed": false
   },
   "outputs": [
    {
     "name": "stdout",
     "output_type": "stream",
     "text": [
      "Two Scoops of Django 37.06 Daniel Roy Greenfeld 20150515 100\n",
      "Effective PYTHON 29.4 Brett Slatkin 20150308 120\n",
      "Fluent Python 33.86 Luciano Ramalho 20150820 130\n"
     ]
    }
   ],
   "source": [
    "for book2 in books2:\n",
    "    print(book2.title, book2.price, book2.author, book2.publication_date, book2.circulation)"
   ]
  },
  {
   "cell_type": "markdown",
   "metadata": {},
   "source": [
    "## 책 제목을 ABC순으로 sorting"
   ]
  },
  {
   "cell_type": "code",
   "execution_count": 37,
   "metadata": {
    "collapsed": true
   },
   "outputs": [],
   "source": [
    "class Book3:\n",
    "    def __init__(self, title, price, author, publication_date, circulation):\n",
    "        self.title = title\n",
    "        self.price = price\n",
    "        self.author = author\n",
    "        self.publication_date = publication_date\n",
    "        self.circulation = circulation\n",
    "    \n",
    "    def __lt__(self, other):\n",
    "        self.title_list = [x.lower() for x in self.title]\n",
    "        other.title_list = [x.lower() for x in other.title]\n",
    "        return self.title_list < other.title_list\n",
    "    \n",
    "    def __str__(self):\n",
    "        return \"Title: {}, Price: ${}, Author: {}, Publication date: {}, Circulation: {} sales\".format(\n",
    "        self.title, self.price, self.author, self.publication_date, self.circulation)"
   ]
  },
  {
   "cell_type": "code",
   "execution_count": 38,
   "metadata": {
    "collapsed": true
   },
   "outputs": [],
   "source": [
    "books3 = [\n",
    "    Book3('Two Scoops of Django', 37.06, 'Daniel Roy Greenfeld', 20150515, 100),\n",
    "    Book3('Effective PYTHON', 29.40, 'Brett Slatkin', 20150308, 120),\n",
    "    Book3('Fluent Python', 33.86, 'Luciano Ramalho', 20150820, 130),\n",
    "]"
   ]
  },
  {
   "cell_type": "code",
   "execution_count": 39,
   "metadata": {
    "collapsed": true
   },
   "outputs": [],
   "source": [
    "books3.sort()"
   ]
  },
  {
   "cell_type": "code",
   "execution_count": 40,
   "metadata": {
    "collapsed": false
   },
   "outputs": [
    {
     "name": "stdout",
     "output_type": "stream",
     "text": [
      "Effective PYTHON 29.4 Brett Slatkin 20150308 120\n",
      "Fluent Python 33.86 Luciano Ramalho 20150820 130\n",
      "Two Scoops of Django 37.06 Daniel Roy Greenfeld 20150515 100\n"
     ]
    }
   ],
   "source": [
    "for book3 in books3:\n",
    "    print(book3.title, book3.price, book3.author, book3.publication_date, book3.circulation)"
   ]
  },
  {
   "cell_type": "markdown",
   "metadata": {},
   "source": [
    "## 인자를 받는 장식자 base를 구현해보세요."
   ]
  },
  {
   "cell_type": "code",
   "execution_count": 59,
   "metadata": {
    "collapsed": false
   },
   "outputs": [],
   "source": [
    "def base(base):\n",
    "    def real_decorator(fn):\n",
    "        def wrap(x, y):\n",
    "            return fn(x, y) + base\n",
    "        return wrap\n",
    "    return real_decorator"
   ]
  },
  {
   "cell_type": "code",
   "execution_count": 64,
   "metadata": {
    "collapsed": false
   },
   "outputs": [],
   "source": [
    "@base(13)\n",
    "def sum(x, y):\n",
    "    return x + y"
   ]
  },
  {
   "cell_type": "code",
   "execution_count": 66,
   "metadata": {
    "collapsed": false
   },
   "outputs": [
    {
     "name": "stdout",
     "output_type": "stream",
     "text": [
      "16\n"
     ]
    }
   ],
   "source": [
    "print(sum(1,2))"
   ]
  },
  {
   "cell_type": "code",
   "execution_count": null,
   "metadata": {
    "collapsed": true
   },
   "outputs": [],
   "source": []
  }
 ],
 "metadata": {
  "kernelspec": {
   "display_name": "Python 3",
   "language": "python",
   "name": "python3"
  },
  "language_info": {
   "codemirror_mode": {
    "name": "ipython",
    "version": 3
   },
   "file_extension": ".py",
   "mimetype": "text/x-python",
   "name": "python",
   "nbconvert_exporter": "python",
   "pygments_lexer": "ipython3",
   "version": "3.5.2"
  }
 },
 "nbformat": 4,
 "nbformat_minor": 0
}
