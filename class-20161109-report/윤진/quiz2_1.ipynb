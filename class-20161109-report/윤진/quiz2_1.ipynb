{
 "cells": [
  {
   "cell_type": "code",
   "execution_count": 1,
   "metadata": {
    "collapsed": true
   },
   "outputs": [],
   "source": [
    "class Book(object):\n",
    "    def __init__(self, name, price, author, year, sold):\n",
    "        self.name = name\n",
    "        self.price = price\n",
    "        self.author = author\n",
    "        self.year = year\n",
    "        self.sold = sold"
   ]
  },
  {
   "cell_type": "code",
   "execution_count": 13,
   "metadata": {
    "collapsed": false
   },
   "outputs": [],
   "source": [
    "books = [\n",
    "    Book(\"Harry Potter\", 10000, \"JKrowling\", 2002, 100000),\n",
    "    Book(\"Narnia\", 8000, \"CSLewis\", 2005, 80000),\n",
    "    Book(\"Sharlot\", 6000, \"EBWhite\", 1952, 9000),\n",
    "    Book(\"Peter Pan\", 7000, \"James Berry\", 1902, 20000),\n",
    "]"
   ]
  },
  {
   "cell_type": "code",
   "execution_count": 27,
   "metadata": {
    "collapsed": false
   },
   "outputs": [
    {
     "name": "stdout",
     "output_type": "stream",
     "text": [
      "<Sharlot> costs 6000 won.\n",
      "<Peter Pan> costs 7000 won.\n",
      "<Narnia> costs 8000 won.\n",
      "<Harry Potter> costs 10000 won.\n"
     ]
    }
   ],
   "source": [
    "books_by_price = sorted(books,key = lambda i: i.price)\n",
    "for book in books_by_price:\n",
    "    print(\"<{}> costs {} won.\".format(book.name, book.price))"
   ]
  },
  {
   "cell_type": "code",
   "execution_count": 22,
   "metadata": {
    "collapsed": false
   },
   "outputs": [
    {
     "name": "stdout",
     "output_type": "stream",
     "text": [
      "Harry Potter\n",
      "Narnia\n",
      "Peter Pan\n",
      "Sharlot\n"
     ]
    }
   ],
   "source": [
    "books_by_title = sorted(books, key = lambda i: i.name)\n",
    "for book in books_by_title:\n",
    "    print(book.name)"
   ]
  },
  {
   "cell_type": "code",
   "execution_count": 28,
   "metadata": {
    "collapsed": false
   },
   "outputs": [
    {
     "name": "stdout",
     "output_type": "stream",
     "text": [
      "<Peter Pan> was written in 1902.\n",
      "<Sharlot> was written in 1952.\n",
      "<Harry Potter> was written in 2002.\n",
      "<Narnia> was written in 2005.\n"
     ]
    }
   ],
   "source": [
    "books_by_year = sorted(books, key = lambda i: i.year)\n",
    "for book in books_by_year:\n",
    "    print(\"<{}> was written in {}.\".format(book.name, book.year))"
   ]
  },
  {
   "cell_type": "code",
   "execution_count": null,
   "metadata": {
    "collapsed": true
   },
   "outputs": [],
   "source": []
  }
 ],
 "metadata": {
  "kernelspec": {
   "display_name": "Python [Root]",
   "language": "python",
   "name": "Python [Root]"
  },
  "language_info": {
   "codemirror_mode": {
    "name": "ipython",
    "version": 3
   },
   "file_extension": ".py",
   "mimetype": "text/x-python",
   "name": "python",
   "nbconvert_exporter": "python",
   "pygments_lexer": "ipython3",
   "version": "3.5.2"
  }
 },
 "nbformat": 4,
 "nbformat_minor": 0
}
