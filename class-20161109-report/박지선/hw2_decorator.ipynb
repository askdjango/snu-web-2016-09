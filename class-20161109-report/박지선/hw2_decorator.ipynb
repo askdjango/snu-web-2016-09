{
 "cells": [
  {
   "cell_type": "code",
   "execution_count": 12,
   "metadata": {
    "collapsed": false
   },
   "outputs": [
    {
     "name": "stdout",
     "output_type": "stream",
     "text": [
      "13\n",
      "\n"
     ]
    }
   ],
   "source": [
    "def base(num):\n",
    "    def base_decorator(func):\n",
    "        def func_wrapper(*args, **kwargs):\n",
    "            print(func(*args, **kwargs) + num)\n",
    "            return(\"\")\n",
    "        return func_wrapper\t\n",
    "    return base_decorator\n",
    "\n",
    "@base(10)\n",
    "def sum(x,y):\n",
    "    return x+y\n",
    "\n",
    "print(sum(1,2))\n"
   ]
  },
  {
   "cell_type": "code",
   "execution_count": null,
   "metadata": {
    "collapsed": true
   },
   "outputs": [],
   "source": []
  }
 ],
 "metadata": {
  "anaconda-cloud": {},
  "kernelspec": {
   "display_name": "Python [conda root]",
   "language": "python",
   "name": "conda-root-py"
  },
  "language_info": {
   "codemirror_mode": {
    "name": "ipython",
    "version": 3
   },
   "file_extension": ".py",
   "mimetype": "text/x-python",
   "name": "python",
   "nbconvert_exporter": "python",
   "pygments_lexer": "ipython3",
   "version": "3.5.2"
  }
 },
 "nbformat": 4,
 "nbformat_minor": 1
}
