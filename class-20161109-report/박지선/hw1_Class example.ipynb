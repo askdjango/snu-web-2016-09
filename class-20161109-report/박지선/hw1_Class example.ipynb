{
 "cells": [
  {
   "cell_type": "code",
   "execution_count": 31,
   "metadata": {
    "collapsed": false
   },
   "outputs": [
    {
     "name": "stdout",
     "output_type": "stream",
     "text": [
      "sort_by_name\n",
      "가라사다 1000 가군 1998 13\n",
      "벤창웹 50000 박양 2002 350\n",
      "영상 8700 최양 2005 173\n",
      "파이썬 2500 이군 2016 1000\n",
      "히포크라테스 5500 나군 1500 250\n",
      "sort_by_publish\n",
      "히포크라테스 5500 나군 1500 250\n",
      "가라사다 1000 가군 1998 13\n",
      "벤창웹 50000 박양 2002 350\n",
      "영상 8700 최양 2005 173\n",
      "파이썬 2500 이군 2016 1000\n",
      "sort_by_sales\n",
      "가라사다 1000 가군 1998 13\n",
      "영상 8700 최양 2005 173\n",
      "히포크라테스 5500 나군 1500 250\n",
      "벤창웹 50000 박양 2002 350\n",
      "파이썬 2500 이군 2016 1000\n"
     ]
    }
   ],
   "source": [
    "class Book:\n",
    "    def __init__(self, name, price, author, publish, sales):\n",
    "        self.name = name\n",
    "        self.price = price\n",
    "        self.author = author\n",
    "        self.publish = publish\n",
    "        self.sales = sales\n",
    "\n",
    "\n",
    "books = [\n",
    "    Book('가라사다',1000,'가군',1998,13),\n",
    "    Book('히포크라테스',5500,'나군',1500,250),\n",
    "    Book('파이썬',2500,'이군',2016,1000),\n",
    "    Book('벤창웹',50000,'박양',2002,350),\n",
    "    Book('영상',8700,'최양',2005,173)\n",
    "]\n",
    "\n",
    "print('sort_by_name')\n",
    "books.sort(key=lambda book: book.name)\n",
    "for book in books:\n",
    "    print(book.name, book.price, book.author,book.publish, book.sales)\n",
    "\n",
    "print('sort_by_publish')\n",
    "books.sort(key=lambda book: book.publish)\n",
    "for book in books:\n",
    "    print(book.name, book.price, book.author,book.publish, book.sales)\n",
    "\n",
    "print('sort_by_sales')\n",
    "books.sort(key=lambda book: book.sales)\n",
    "for book in books:\n",
    "    print(book.name, book.price, book.author,book.publish, book.sales)\n",
    "\n",
    "    \n",
    "    "
   ]
  },
  {
   "cell_type": "code",
   "execution_count": null,
   "metadata": {
    "collapsed": true
   },
   "outputs": [],
   "source": []
  }
 ],
 "metadata": {
  "anaconda-cloud": {},
  "kernelspec": {
   "display_name": "Python [conda root]",
   "language": "python",
   "name": "conda-root-py"
  },
  "language_info": {
   "codemirror_mode": {
    "name": "ipython",
    "version": 3
   },
   "file_extension": ".py",
   "mimetype": "text/x-python",
   "name": "python",
   "nbconvert_exporter": "python",
   "pygments_lexer": "ipython3",
   "version": "3.5.2"
  }
 },
 "nbformat": 4,
 "nbformat_minor": 1
}
