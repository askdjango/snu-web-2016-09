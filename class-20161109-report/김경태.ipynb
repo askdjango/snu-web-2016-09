{
 "cells": [
  {
   "cell_type": "code",
   "execution_count": null,
   "metadata": {
    "collapsed": true
   },
   "outputs": [],
   "source": [
    "#과제1\n",
    "class Book(object):\n",
    "    def __init__(self, title, price, author, publishing_year, circulation):\n",
    "        self.title = title\n",
    "        self.price = price\n",
    "        self.author = author\n",
    "        self.publishing_year = publishing_year\n",
    "        self.circulation = circulation\n",
    "\n",
    "book_list = [\n",
    "    Book('해리포터와 저주받은 아이 1부', 10801, '조앤K롤링', 2016, 100000),\n",
    "    Book('그럴 때 있으시죠', 14222, '김제동', 2016, 90000),\n",
    "    Book('설민석의 조선왕조실록', 19803, '설민석', 2016, 80000),\n",
    "    Book('대통령의 글쓰기', 14404, '강원국', 2014, 70000),\n",
    "    Book('그릿', 14405, '앤젤라더크워스', 2016, 60000),\n",
    "    Book('트렌드코리아 2017', 14406, '김난도', 2016, 50000),\n",
    "    Book('악마기자 정의사제', 13507, '함세웅', 2016, 40000),\n",
    "    Book('지적 대화를 위한 넓고 얕은 지식', 14408, '채사장', 2014, 30000),\n",
    "    Book('대통령의 말하기', 13509, '윤태영', 2016, 20000),\n",
    "    Book('자존감 수업', 12610, '윤홍균', 2016, 10000)\n",
    "]\n",
    "#책 제목 단어 갯수로 내림차순 정렬\n",
    "print(\"1.책 제목 단어 갯수로 내림차순 정렬\")\n",
    "worddescend_list = sorted(book_list, key=lambda i: len(i.title.split()), reverse=True)\n",
    "\n",
    "for i in worddescend_list:\n",
    "    print(\"제목:{}, {}원, 작가:{}, {}년, {}부\".format(i.title, i.price, i.author, i.publishing_year, i.circulation))\n",
    "\n",
    "#판매부수로 내림차순 정렬\n",
    "print(\"2.판매부수로 내림차순 정렬\")\n",
    "copydescend_list = sorted(book_list, key=lambda i: i.circulation, reverse=True)\n",
    "\n",
    "for i in copydescend_list:\n",
    "    print(\"제목:{}, {}원, 작가:{}, {}년, {}부\".format(i.title, i.price, i.author, i.publishing_year, i.circulation))\n",
    "\n",
    "#책 가격으로 오름차순 정렬\n",
    "print(\"3.책 가격으로 오름차순 정렬\")\n",
    "priceascend_list = sorted(book_list, key=lambda i: i.price, reverse=False)\n",
    "\n",
    "for i in priceascend_list:\n",
    "    print(\"제목:{}, {}원, 작가:{}, {}년, {}부\".format(i.title, i.price, i.author, i.publishing_year, i.circulation))"
   ]
  },
  {
   "cell_type": "code",
   "execution_count": null,
   "metadata": {
    "collapsed": true
   },
   "outputs": [],
   "source": [
    "#과제2\n",
    "def base(num):\n",
    "    def wrap(fn):\n",
    "        ret = lambda x, y: fn(x, y)+ num\n",
    "        return ret\n",
    "    return wrap\n",
    "\n",
    "\n",
    "@base(10)\n",
    "def sum(x, y):\n",
    "    return x + y\n",
    "\n",
    "print(sum(1,2))"
   ]
  }
 ],
 "metadata": {
  "kernelspec": {
   "display_name": "Python [Root]",
   "language": "python",
   "name": "Python [Root]"
  },
  "language_info": {
   "codemirror_mode": {
    "name": "ipython",
    "version": 3
   },
   "file_extension": ".py",
   "mimetype": "text/x-python",
   "name": "python",
   "nbconvert_exporter": "python",
   "pygments_lexer": "ipython3",
   "version": "3.5.2"
  }
 },
 "nbformat": 4,
 "nbformat_minor": 0
}
