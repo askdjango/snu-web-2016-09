{
 "cells": [
  {
   "cell_type": "code",
   "execution_count": 4,
   "metadata": {
    "collapsed": false
   },
   "outputs": [
    {
     "name": "stdout",
     "output_type": "stream",
     "text": [
      "Sorted by price:\n",
      "Doctor Strange is 5 dollars, written by Marvel on 2014. 99999 books sold.\n",
      "Fire A B C D E is 10 dollars, written by Neanderthal on -1000. 9999 books sold.\n",
      "Enigma A B C D is 50 dollars, written by Germany on 1920. 5000 books sold.\n",
      "Camry is 200 dollars, written by Toyota on 1982. 5555 books sold.\n",
      "Apple Pen 2 is 500 dollars, written by PikoTaro on 2016. 1000 books sold.\n",
      "Brexit A B C is 2000 dollars, written by Great Britain on 2015. 4444 books sold.\n",
      "\n",
      "\n",
      "Sorted by number of words in title:\n",
      "Camry is 200 dollars, written by Toyota on 1982. 5555 books sold.\n",
      "Doctor Strange is 5 dollars, written by Marvel on 2014. 99999 books sold.\n",
      "Apple Pen 2 is 500 dollars, written by PikoTaro on 2016. 1000 books sold.\n",
      "Brexit A B C is 2000 dollars, written by Great Britain on 2015. 4444 books sold.\n",
      "Enigma A B C D is 50 dollars, written by Germany on 1920. 5000 books sold.\n",
      "Fire A B C D E is 10 dollars, written by Neanderthal on -1000. 9999 books sold.\n",
      "\n",
      "\n",
      "Sorted by author alphabetically:\n",
      "Enigma A B C D is 50 dollars, written by Germany on 1920. 5000 books sold.\n",
      "Brexit A B C is 2000 dollars, written by Great Britain on 2015. 4444 books sold.\n",
      "Doctor Strange is 5 dollars, written by Marvel on 2014. 99999 books sold.\n",
      "Fire A B C D E is 10 dollars, written by Neanderthal on -1000. 9999 books sold.\n",
      "Apple Pen 2 is 500 dollars, written by PikoTaro on 2016. 1000 books sold.\n",
      "Camry is 200 dollars, written by Toyota on 1982. 5555 books sold.\n",
      "\n",
      "\n",
      "3\n"
     ]
    }
   ],
   "source": [
    "class Book:\n",
    "    def __init__(self,title,price,author,year,sold):\n",
    "        self.title = title\n",
    "        self.price = price\n",
    "        self.author = author\n",
    "        self.year = year\n",
    "        self.sold = sold\n",
    "        self.titlewords = len(title.split())\n",
    "\n",
    "bookList = []\n",
    "bookList.append(Book(\"Apple Pen 2\",500,\"PikoTaro\",2016,1000))\n",
    "bookList.append(Book(\"Brexit A B C\",2000,\"Great Britain\",2015,4444))\n",
    "bookList.append(Book(\"Camry\",200,\"Toyota\",1982,5555))\n",
    "bookList.append(Book(\"Doctor Strange\",5,\"Marvel\",2014,99999))\n",
    "bookList.append(Book(\"Enigma A B C D\",50,\"Germany\",1920,5000))\n",
    "bookList.append(Book(\"Fire A B C D E\",10,\"Neanderthal\",-1000,9999))\n",
    "\n",
    "from operator import attrgetter\n",
    "bookList.sort(key=attrgetter('price'))\n",
    "\n",
    "print('Sorted by price:')\n",
    "for book in bookList:\n",
    "    print('{} is {} dollars, written by {} on {}. {} books sold.'.format(book.title,book.price,book.author,book.year,book.sold))\n",
    "\n",
    "print('')\n",
    "print('')\n",
    "\n",
    "bookList.sort(key=attrgetter('titlewords'))\n",
    "\n",
    "print('Sorted by number of words in title:')\n",
    "for book in bookList:\n",
    "    print('{} is {} dollars, written by {} on {}. {} books sold.'.format(book.title,book.price,book.author,book.year,book.sold))\n",
    "\n",
    "print('')\n",
    "print('')\n",
    "\n",
    "bookList.sort(key=attrgetter('author'))\n",
    "\n",
    "print('Sorted by author alphabetically:')\n",
    "for book in bookList:\n",
    "    print('{} is {} dollars, written by {} on {}. {} books sold.'.format(book.title,book.price,book.author,book.year,book.sold))\n",
    "\n",
    "print('')\n",
    "print('')\n",
    "\n",
    "def base(num):\n",
    "    def wrap(func):\n",
    "        def inner(*args):\n",
    "            args = list(map(lambda i: int(str(i),num),args))\n",
    "            ret = func(*args)\n",
    "            return ret\n",
    "        return inner\n",
    "    return wrap\n",
    "\n",
    "@base(10)\n",
    "def sum(x,y):\n",
    "    return x + y\n",
    "\n",
    "print(sum(1,2))"
   ]
  },
  {
   "cell_type": "code",
   "execution_count": null,
   "metadata": {
    "collapsed": true
   },
   "outputs": [],
   "source": []
  }
 ],
 "metadata": {
  "kernelspec": {
   "display_name": "Python 3",
   "language": "python",
   "name": "python3"
  },
  "language_info": {
   "codemirror_mode": {
    "name": "ipython",
    "version": 3
   },
   "file_extension": ".py",
   "mimetype": "text/x-python",
   "name": "python",
   "nbconvert_exporter": "python",
   "pygments_lexer": "ipython3",
   "version": "3.5.2"
  }
 },
 "nbformat": 4,
 "nbformat_minor": 1
}
