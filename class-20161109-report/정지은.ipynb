{
 "cells": [
  {
   "cell_type": "code",
   "execution_count": 1,
   "metadata": {
    "collapsed": true
   },
   "outputs": [],
   "source": [
    "class Book :\n",
    "    def __init__(self, title, price, author, pb_yr, sold_num) :\n",
    "        self.title = title\n",
    "        self.price = price\n",
    "        self.author = author\n",
    "        self.pb_yr = pb_yr\n",
    "        self.sold_num = sold_num"
   ]
  },
  {
   "cell_type": "code",
   "execution_count": 7,
   "metadata": {
    "collapsed": false
   },
   "outputs": [],
   "source": [
    "# 네이버 지식인의 서재 추천책 TOP 10\n",
    "books = [\n",
    "    Book('백년 동안의 고독', 12800, '가브리엘 가르시아 마르케스', 2005, 470),\n",
    "    Book('그리스인 조르바', 12800, '카잔차키스', 2009, 482),\n",
    "    Book('생각의 탄생', 25000, '미셸 루트번스타인', 2007, 455),\n",
    "    Book('서양미술사', 38000, '에른스트 곰브리치', 2003, 688),\n",
    "    Book('강의', 18000, '신영복', 2004, 516),\n",
    "    Book('김수영 전집', 15000, '김수영', 2003, 394),\n",
    "    Book('일리아스', 33000, '호메로스', 2015, 839),\n",
    "    Book('참을 수 없는 존재의 가벼움', 11000, '밀란 쿤데라', 2009, 484),\n",
    "    Book('카라마조프 가의 형제들', 9500, '도스토옙스키', 2007, 593),\n",
    "    Book('거의 모든 것의 역사', 23000, '빌 브라이슨', 2003, 558)\n",
    "]"
   ]
  },
  {
   "cell_type": "code",
   "execution_count": 21,
   "metadata": {
    "collapsed": false
   },
   "outputs": [],
   "source": [
    "# 책 제목 가나다 순\n",
    "books.sort(key = lambda books : books.title)"
   ]
  },
  {
   "cell_type": "code",
   "execution_count": 29,
   "metadata": {
    "collapsed": false
   },
   "outputs": [
    {
     "name": "stdout",
     "output_type": "stream",
     "text": [
      "일리아스 33000 원\n",
      "참을 수 없는 존재의 가벼움 11000 원\n",
      "그리스인 조르바 12800 원\n",
      "카라마조프 가의 형제들 9500 원\n",
      "서양미술사 38000 원\n",
      "생각의 탄생 25000 원\n",
      "강의 18000 원\n",
      "거의 모든 것의 역사 23000 원\n",
      "백년 동안의 고독 12800 원\n",
      "김수영 전집 15000 원\n"
     ]
    }
   ],
   "source": [
    "for book in books :    \n",
    "    print(book.title, book.price, '원')"
   ]
  },
  {
   "cell_type": "code",
   "execution_count": 25,
   "metadata": {
    "collapsed": true
   },
   "outputs": [],
   "source": [
    "# 연 평균 판매부수\n",
    "books.sort(key = lambda books : books.sold_num / (2016 - books.pb_yr), reverse = True)"
   ]
  },
  {
   "cell_type": "code",
   "execution_count": 32,
   "metadata": {
    "collapsed": false
   },
   "outputs": [
    {
     "name": "stdout",
     "output_type": "stream",
     "text": [
      "일리아스 2015 839\n",
      "참을 수 없는 존재의 가벼움 2009 484\n",
      "그리스인 조르바 2009 482\n",
      "카라마조프 가의 형제들 2007 593\n",
      "서양미술사 2003 688\n",
      "생각의 탄생 2007 455\n",
      "강의 2004 516\n",
      "거의 모든 것의 역사 2003 558\n",
      "백년 동안의 고독 2005 470\n",
      "김수영 전집 2003 394\n"
     ]
    }
   ],
   "source": [
    "for book in books :    \n",
    "    print(book.title, book.pb_yr, book.sold_num)"
   ]
  },
  {
   "cell_type": "code",
   "execution_count": 41,
   "metadata": {
    "collapsed": true
   },
   "outputs": [],
   "source": [
    "# 저자 이름 길이\n",
    "books.sort(key = lambda books : [len(books.author), books.author])"
   ]
  },
  {
   "cell_type": "code",
   "execution_count": 42,
   "metadata": {
    "collapsed": false
   },
   "outputs": [
    {
     "name": "stdout",
     "output_type": "stream",
     "text": [
      "김수영 전집  by. 김수영\n",
      "강의  by. 신영복\n",
      "일리아스  by. 호메로스\n",
      "그리스인 조르바  by. 카잔차키스\n",
      "카라마조프 가의 형제들  by. 도스토옙스키\n",
      "참을 수 없는 존재의 가벼움  by. 밀란 쿤데라\n",
      "거의 모든 것의 역사  by. 빌 브라이슨\n",
      "생각의 탄생  by. 미셸 루트번스타인\n",
      "서양미술사  by. 에른스트 곰브리치\n",
      "백년 동안의 고독  by. 가브리엘 가르시아 마르케스\n"
     ]
    }
   ],
   "source": [
    "for book in books :    \n",
    "    print(book.title, ' by.', book.author)"
   ]
  },
  {
   "cell_type": "code",
   "execution_count": 142,
   "metadata": {
    "collapsed": false
   },
   "outputs": [],
   "source": [
    "def base(num):\n",
    "    def copy(fn) :\n",
    "        def number(x, y) :\n",
    "            for i in range(0, num) :\n",
    "                print(fn(x, y))\n",
    "        return number\n",
    "    return copy"
   ]
  },
  {
   "cell_type": "code",
   "execution_count": 143,
   "metadata": {
    "collapsed": false
   },
   "outputs": [
    {
     "name": "stdout",
     "output_type": "stream",
     "text": [
      "3\n",
      "3\n",
      "3\n",
      "3\n",
      "3\n",
      "3\n",
      "3\n",
      "3\n",
      "3\n",
      "3\n",
      "None\n"
     ]
    }
   ],
   "source": [
    "@base(10)\n",
    "def sum1(x, y) :\n",
    "    return x + y\n",
    "\n",
    "print(sum1(1, 2))"
   ]
  },
  {
   "cell_type": "code",
   "execution_count": null,
   "metadata": {
    "collapsed": true
   },
   "outputs": [],
   "source": []
  }
 ],
 "metadata": {
  "anaconda-cloud": {},
  "kernelspec": {
   "display_name": "Python [Root]",
   "language": "python",
   "name": "Python [Root]"
  },
  "language_info": {
   "codemirror_mode": {
    "name": "ipython",
    "version": 3
   },
   "file_extension": ".py",
   "mimetype": "text/x-python",
   "name": "python",
   "nbconvert_exporter": "python",
   "pygments_lexer": "ipython3",
   "version": "3.5.2"
  }
 },
 "nbformat": 4,
 "nbformat_minor": 0
}
