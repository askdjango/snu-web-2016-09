{
 "cells": [
  {
   "cell_type": "code",
   "execution_count": 1,
   "metadata": {
    "collapsed": true
   },
   "outputs": [],
   "source": [
    "class Book(object):\n",
    "    def __init__(self, title, price, author, year, sell):\n",
    "        self.title = title\n",
    "        self.price = price\n",
    "        self.author = author\n",
    "        self.year = year\n",
    "        self.sell = sell"
   ]
  },
  {
   "cell_type": "code",
   "execution_count": 2,
   "metadata": {
    "collapsed": true
   },
   "outputs": [],
   "source": [
    "books = [\n",
    "    Book('Harry Potter 1', 10000, 'J. K. Rowling', 1999, 100000),\n",
    "    Book('Harry Potter 2', 13000, 'J. K. Rowling', 2001, 90000),\n",
    "    Book('Harry Potter 3', 12000, 'J. K. Rowling', 2002, 80000),\n",
    "    Book('Harry Potter 4', 9000, 'J. K. Rowling', 2004, 110000),\n",
    "    Book('Harry Potter 5', 15000, 'J. K. Rowling', 2005, 70000),\n",
    "    Book('Harry Potter 6', 16000, 'J. K. Rowling', 2007, 85000),\n",
    "    Book('Harry Potter 7', 10000, 'J. K. Rowling', 2009, 130000)\n",
    "    ]"
   ]
  },
  {
   "cell_type": "code",
   "execution_count": 3,
   "metadata": {
    "collapsed": false,
    "scrolled": true
   },
   "outputs": [
    {
     "name": "stdout",
     "output_type": "stream",
     "text": [
      "Harry Potter 1 10000\n",
      "Harry Potter 2 13000\n",
      "Harry Potter 3 12000\n",
      "Harry Potter 4 9000\n",
      "Harry Potter 5 15000\n",
      "Harry Potter 6 16000\n",
      "Harry Potter 7 10000\n"
     ]
    }
   ],
   "source": [
    "for p in books:\n",
    "    print(p.title, p.price)"
   ]
  },
  {
   "cell_type": "code",
   "execution_count": 4,
   "metadata": {
    "collapsed": true
   },
   "outputs": [],
   "source": [
    "books.sort(key=lambda Book: Book.year, reverse=True)"
   ]
  },
  {
   "cell_type": "markdown",
   "metadata": {},
   "source": [
    "위의 코드를 통해 출간년도의 역순(내림차순)으로 정렬합니다."
   ]
  },
  {
   "cell_type": "code",
   "execution_count": 5,
   "metadata": {
    "collapsed": false
   },
   "outputs": [
    {
     "name": "stdout",
     "output_type": "stream",
     "text": [
      "Harry Potter 7 2009\n",
      "Harry Potter 6 2007\n",
      "Harry Potter 5 2005\n",
      "Harry Potter 4 2004\n",
      "Harry Potter 3 2002\n",
      "Harry Potter 2 2001\n",
      "Harry Potter 1 1999\n"
     ]
    }
   ],
   "source": [
    "for p in books:\n",
    "    print(p.title, p.year)"
   ]
  },
  {
   "cell_type": "code",
   "execution_count": 6,
   "metadata": {
    "collapsed": true
   },
   "outputs": [],
   "source": [
    "books.sort(key=lambda Book: Book.sell, reverse=True)"
   ]
  },
  {
   "cell_type": "markdown",
   "metadata": {},
   "source": [
    "위의 코드를 통해 판매부수의 역순(내림차순)으로 정렬합니다."
   ]
  },
  {
   "cell_type": "code",
   "execution_count": 7,
   "metadata": {
    "collapsed": false
   },
   "outputs": [
    {
     "name": "stdout",
     "output_type": "stream",
     "text": [
      "Harry Potter 7 130000\n",
      "Harry Potter 4 110000\n",
      "Harry Potter 1 100000\n",
      "Harry Potter 2 90000\n",
      "Harry Potter 6 85000\n",
      "Harry Potter 3 80000\n",
      "Harry Potter 5 70000\n"
     ]
    }
   ],
   "source": [
    "for p in books:\n",
    "    print(p.title, p.sell)"
   ]
  },
  {
   "cell_type": "code",
   "execution_count": 8,
   "metadata": {
    "collapsed": true
   },
   "outputs": [],
   "source": [
    "books.sort(key=lambda Book: Book.sell*Book.price, reverse=True)"
   ]
  },
  {
   "cell_type": "markdown",
   "metadata": {},
   "source": [
    "위의 코드를 통해 판매액(=판매부수와 책값의 곱)의 역순(내림차순)으로 정렬합니다."
   ]
  },
  {
   "cell_type": "code",
   "execution_count": 9,
   "metadata": {
    "collapsed": false
   },
   "outputs": [
    {
     "name": "stdout",
     "output_type": "stream",
     "text": [
      "Harry Potter 6 1360000000\n",
      "Harry Potter 7 1300000000\n",
      "Harry Potter 2 1170000000\n",
      "Harry Potter 5 1050000000\n",
      "Harry Potter 1 1000000000\n",
      "Harry Potter 4 990000000\n",
      "Harry Potter 3 960000000\n"
     ]
    }
   ],
   "source": [
    "for p in books:\n",
    "    print(p.title, p.sell*p.price)"
   ]
  }
 ],
 "metadata": {
  "kernelspec": {
   "display_name": "Python [conda root]",
   "language": "python",
   "name": "conda-root-py"
  },
  "language_info": {
   "codemirror_mode": {
    "name": "ipython",
    "version": 3
   },
   "file_extension": ".py",
   "mimetype": "text/x-python",
   "name": "python",
   "nbconvert_exporter": "python",
   "pygments_lexer": "ipython3",
   "version": "3.5.2"
  }
 },
 "nbformat": 4,
 "nbformat_minor": 1
}
