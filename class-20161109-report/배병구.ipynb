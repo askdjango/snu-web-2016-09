{
 "cells": [
  {
   "cell_type": "code",
   "execution_count": 1,
   "metadata": {
    "collapsed": false
   },
   "outputs": [
    {
     "name": "stdout",
     "output_type": "stream",
     "text": [
      "<책 제목 abc 순서>\n",
      "['Dracula', 'Emma', 'Leviathan', 'Metamorphosis', 'Moby Dick', 'The Republic', 'Ulysses']\n",
      "\n",
      "\n",
      "<책 가격 오름차순>\n",
      "[('Moby Dick', 8000), ('Dracula', 9000), ('Metamorphosis', 10000), ('Emma', 11000), ('The Republic', 11500), ('Leviathan', 12000), ('Ulysses', 13000)]\n",
      "\n",
      "\n",
      "<책 출간년도 오름차순>\n",
      "[('The Republic', -360), ('Leviathan', 1651), ('Emma', 1815), ('Moby Dick', 1851), ('Dracula', 1897), ('Metamorphosis', 1916), ('Ulysses', 1922)]\n",
      "\n",
      "\n",
      "<책 판매부수 오름차순>\n",
      "[('The Republic', 4173), ('Emma', 6186), ('Moby Dick', 6514), ('Ulysses', 7078), ('Leviathan', 8249), ('Dracula', 9346), ('Metamorphosis', 9580)]\n"
     ]
    }
   ],
   "source": [
    "class Book(object):\n",
    "    def __init__(self, name, price, writer, years, sold):\n",
    "        self.name = name\n",
    "        self.price = price\n",
    "        self.writer = writer\n",
    "        self.years = years\n",
    "        self.sold = sold\n",
    "\n",
    "Metamorphosis = Book('Metamorphosis', 10000, 'Franz Kafka', 1916, 9580)\n",
    "Dracula = Book('Dracula', 9000, 'Bram Stoker', 1897, 9346)\n",
    "Leviathan = Book('Leviathan', 12000, 'Thomas Hobbes', 1651, 8249)\n",
    "Ulysses = Book('Ulysses', 13000, 'James Joyce', 1922, 7078)\n",
    "Emma = Book('Emma', 11000, 'Jane Austen', 1815, 6186)\n",
    "MobyDick = Book('Moby Dick', 8000, 'Herman Melville', 1851, 6514)\n",
    "TheRepublic = Book('The Republic', 11500, 'Plato', -360, 4173)\n",
    "\n",
    "name_list = []\n",
    "name_list.append(Metamorphosis.name)\n",
    "name_list.append(Dracula.name)\n",
    "name_list.append(Leviathan.name)\n",
    "name_list.append(Ulysses.name)\n",
    "name_list.append(Emma.name)\n",
    "name_list.append(MobyDick.name)\n",
    "name_list.append(TheRepublic.name)\n",
    "name_list.sort(key=None, reverse=False)\n",
    "print(\"<책 제목 abc 순서>\")\n",
    "print(name_list)\n",
    "print('\\n')\n",
    "\n",
    "import operator\n",
    "price_dict ={}\n",
    "price_dict[Metamorphosis.name] = Metamorphosis.price\n",
    "price_dict[Dracula.name] = Dracula.price\n",
    "price_dict[Leviathan.name] = Leviathan.price\n",
    "price_dict[Ulysses.name] = Ulysses.price\n",
    "price_dict[Emma.name] = Emma.price\n",
    "price_dict[MobyDick.name] = MobyDick.price\n",
    "price_dict[TheRepublic.name] = TheRepublic.price\n",
    "price_dict_sorted = sorted(price_dict.items(), key=operator.itemgetter(1))\n",
    "print(\"<책 가격 오름차순>\")\n",
    "print(price_dict_sorted)\n",
    "print('\\n')\n",
    "\n",
    "years_dict ={}\n",
    "years_dict[Metamorphosis.name] = Metamorphosis.years\n",
    "years_dict[Dracula.name] = Dracula.years\n",
    "years_dict[Leviathan.name] = Leviathan.years\n",
    "years_dict[Ulysses.name] = Ulysses.years\n",
    "years_dict[Emma.name] = Emma.years\n",
    "years_dict[MobyDick.name] = MobyDick.years\n",
    "years_dict[TheRepublic.name] = TheRepublic.years\n",
    "years_dict_sorted = sorted(years_dict.items(), key=operator.itemgetter(1))\n",
    "print(\"<책 출간년도 오름차순>\")\n",
    "print(years_dict_sorted)\n",
    "print('\\n')\n",
    "\n",
    "sold_dict ={}\n",
    "sold_dict[Metamorphosis.name] = Metamorphosis.sold\n",
    "sold_dict[Dracula.name] = Dracula.sold\n",
    "sold_dict[Leviathan.name] = Leviathan.sold\n",
    "sold_dict[Ulysses.name] = Ulysses.sold\n",
    "sold_dict[Emma.name] = Emma.sold\n",
    "sold_dict[MobyDick.name] = MobyDick.sold\n",
    "sold_dict[TheRepublic.name] = TheRepublic.sold\n",
    "sold_dict_sorted = sorted(sold_dict.items(), key=operator.itemgetter(1))\n",
    "print(\"<책 판매부수 오름차순>\")\n",
    "print(sold_dict_sorted)"
   ]
  },
  {
   "cell_type": "code",
   "execution_count": 2,
   "metadata": {
    "collapsed": false
   },
   "outputs": [
    {
     "name": "stdout",
     "output_type": "stream",
     "text": [
      "17\n"
     ]
    }
   ],
   "source": [
    "def base(number):\n",
    "    def wrap(fn):\n",
    "        def mysum1(*args, **kwargs):\n",
    "            f = fn(*args, **kwargs)\n",
    "            s = number + f\n",
    "            return s\n",
    "        return mysum1\n",
    "    return wrap\n",
    "\n",
    "@base(10)\n",
    "def mysum(x, y):\n",
    "    return x + y\n",
    "print(mysum(3,4))"
   ]
  },
  {
   "cell_type": "code",
   "execution_count": null,
   "metadata": {
    "collapsed": true
   },
   "outputs": [],
   "source": []
  }
 ],
 "metadata": {
  "anaconda-cloud": {},
  "kernelspec": {
   "display_name": "Python [Root]",
   "language": "python",
   "name": "Python [Root]"
  },
  "language_info": {
   "codemirror_mode": {
    "name": "ipython",
    "version": 3
   },
   "file_extension": ".py",
   "mimetype": "text/x-python",
   "name": "python",
   "nbconvert_exporter": "python",
   "pygments_lexer": "ipython3",
   "version": "3.5.2"
  }
 },
 "nbformat": 4,
 "nbformat_minor": 0
}
