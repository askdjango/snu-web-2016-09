{
 "cells": [
  {
   "cell_type": "code",
   "execution_count": 1,
   "metadata": {
    "collapsed": false
   },
   "outputs": [
    {
     "name": "stdout",
     "output_type": "stream",
     "text": [
      "총 몇 권의 책인가요?4\n",
      "책 제목: 수학\n",
      "책값: 1\n",
      "저자: 수학자\n",
      "출간년도: 10\n",
      "판매부수: 100\n",
      "책 제목: 과학\n",
      "책값: 2\n",
      "저자: 과학자\n",
      "출간년도: 20\n",
      "판매부수: 200\n",
      "책 제목: 사회\n",
      "책값: 5\n",
      "저자: 사회학자\n",
      "출간년도: 30\n",
      "판매부수: 500\n",
      "책 제목: 공학\n",
      "책값: 3\n",
      "저자: 공학자\n",
      "출간년도: 40\n",
      "판매부수: 250\n",
      "제목 역순 정렬\n",
      "수학 1 수학자 10 100\n",
      "사회 5 사회학자 30 500\n",
      "과학 2 과학자 20 200\n",
      "공학 3 공학자 40 250\n",
      "-----\n",
      "가격순 정렬\n",
      "수학 1 수학자 10 100\n",
      "과학 2 과학자 20 200\n",
      "공학 3 공학자 40 250\n",
      "사회 5 사회학자 30 500\n",
      "-----\n",
      "저자순 정렬\n",
      "공학 3 공학자 40 250\n",
      "과학 2 과학자 20 200\n",
      "사회 5 사회학자 30 500\n",
      "수학 1 수학자 10 100\n",
      "-----\n"
     ]
    }
   ],
   "source": [
    "class Book(object):\n",
    "    def __init__(self, title, price, author, year, number):\n",
    "        self.title = title\n",
    "        self.price = price\n",
    "        self.author = author\n",
    "        self.year = year\n",
    "        self.number = number\n",
    "\n",
    "list_length = int(input('총 몇 권의 책인가요?'))\n",
    "\n",
    "books = []\n",
    "\n",
    "for i in range(list_length):\n",
    "    list_book = Book(\n",
    "        input('책 제목: '),\n",
    "        int(input('책값: ')),\n",
    "        input('저자: '),\n",
    "        int(input('출간년도: ')),\n",
    "        int(input('판매부수: ')),\n",
    "    )\n",
    "    books.append(list_book)\n",
    "\n",
    "books.sort(key=lambda book: book.title, reverse=True)\n",
    "\n",
    "print('제목 역순 정렬')\n",
    "for book in books:\n",
    "    print(book.title, book.price, book.author,book.year, book.number)\n",
    "print('-----')\n",
    "\n",
    "print('가격순 정렬')\n",
    "books.sort(key=lambda book: book.price)\n",
    "for book in books:\n",
    "    print(book.title, book.price, book.author,book.year, book.number)    \n",
    "print('-----')\n",
    "\n",
    "print('저자순 정렬')\n",
    "books.sort(key=lambda book: book.author)\n",
    "for book in books:\n",
    "    print(book.title, book.price, book.author,book.year, book.number)\n",
    "print('-----')"
   ]
  },
  {
   "cell_type": "code",
   "execution_count": null,
   "metadata": {
    "collapsed": true
   },
   "outputs": [],
   "source": []
  }
 ],
 "metadata": {
  "kernelspec": {
   "display_name": "Python 3",
   "language": "python",
   "name": "python3"
  },
  "language_info": {
   "codemirror_mode": {
    "name": "ipython",
    "version": 3
   },
   "file_extension": ".py",
   "mimetype": "text/x-python",
   "name": "python",
   "nbconvert_exporter": "python",
   "pygments_lexer": "ipython3",
   "version": "3.5.2"
  }
 },
 "nbformat": 4,
 "nbformat_minor": 1
}
