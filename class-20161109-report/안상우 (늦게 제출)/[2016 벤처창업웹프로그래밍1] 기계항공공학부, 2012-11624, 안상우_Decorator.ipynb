{
 "cells": [
  {
   "cell_type": "markdown",
   "metadata": {},
   "source": [
    "# 장식자 구현"
   ]
  },
  {
   "cell_type": "code",
   "execution_count": 4,
   "metadata": {
    "collapsed": false
   },
   "outputs": [
    {
     "name": "stdout",
     "output_type": "stream",
     "text": [
      "17\n",
      "41\n",
      "29\n"
     ]
    }
   ],
   "source": [
    "def base(num):\n",
    "    def wrap(func):\n",
    "        def wrap2(x, y):\n",
    "            return num + func(x, y)\n",
    "        return wrap2\n",
    "    return wrap\n",
    "    \n",
    "@base(10)\n",
    "def sum(x,y):\n",
    "    return x + y\n",
    "\n",
    "@base(5)\n",
    "def multiply(x,y):\n",
    "    return x * y\n",
    "\n",
    "@base(20)\n",
    "def square(x,y):\n",
    "    return x ** y\n",
    "\n",
    "print(sum(4,3))\n",
    "print(multiply(6,6))\n",
    "print(square(3,2))"
   ]
  },
  {
   "cell_type": "code",
   "execution_count": null,
   "metadata": {
    "collapsed": true
   },
   "outputs": [],
   "source": []
  }
 ],
 "metadata": {
  "anaconda-cloud": {},
  "kernelspec": {
   "display_name": "Python [Root]",
   "language": "python",
   "name": "Python [Root]"
  },
  "language_info": {
   "codemirror_mode": {
    "name": "ipython",
    "version": 3
   },
   "file_extension": ".py",
   "mimetype": "text/x-python",
   "name": "python",
   "nbconvert_exporter": "python",
   "pygments_lexer": "ipython3",
   "version": "3.5.2"
  }
 },
 "nbformat": 4,
 "nbformat_minor": 1
}
