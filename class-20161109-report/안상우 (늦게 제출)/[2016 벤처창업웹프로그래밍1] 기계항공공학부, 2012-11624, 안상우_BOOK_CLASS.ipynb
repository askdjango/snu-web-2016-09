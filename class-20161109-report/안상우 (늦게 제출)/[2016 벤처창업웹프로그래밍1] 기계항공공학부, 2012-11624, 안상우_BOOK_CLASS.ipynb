{
 "cells": [
  {
   "cell_type": "code",
   "execution_count": 2,
   "metadata": {
    "collapsed": false
   },
   "outputs": [],
   "source": [
    "class Book :\n",
    "    def __init__(self, title, price, author, publish_date, count):\n",
    "        self.title = title\n",
    "        self.price = price\n",
    "        self.author = author\n",
    "        self.publish_date = publish_date\n",
    "        self.count = count"
   ]
  },
  {
   "cell_type": "code",
   "execution_count": 3,
   "metadata": {
    "collapsed": false
   },
   "outputs": [],
   "source": [
    "Books = [\n",
    "         Book(\"Never Go\",\"5520\",\"Muse\", \"1999\",\"10150000\"), \n",
    "         Book(\"She Went\", \"4818\", \"King\", \"1907\", \"60000\"), \n",
    "         Book(\"Foker\", \"80000\",\"Holdem\", \"1920\", \"20030000\"), \n",
    "         Book(\"Triple Seven\", \"1000\", \"Jupyter\", \"2023\", \"1445000\")]\n"
   ]
  },
  {
   "cell_type": "markdown",
   "metadata": {},
   "source": [
    "# 1. 책 제목 첫 알파벳 순"
   ]
  },
  {
   "cell_type": "code",
   "execution_count": 4,
   "metadata": {
    "collapsed": false
   },
   "outputs": [
    {
     "name": "stdout",
     "output_type": "stream",
     "text": [
      "S  She Went\n",
      "F  Foker\n",
      "N  Never Go\n",
      "T  Triple Seven\n"
     ]
    }
   ],
   "source": [
    "title_order = sorted(Books, key = lambda x: x.publish_date)\n",
    "for x in title_order :\n",
    "    print(x.title[0]+\"  \"+x.title)\n",
    "\n"
   ]
  },
  {
   "cell_type": "markdown",
   "metadata": {},
   "source": [
    "# 2. 책 판매 부수 많은 순"
   ]
  },
  {
   "cell_type": "code",
   "execution_count": 5,
   "metadata": {
    "collapsed": false
   },
   "outputs": [
    {
     "name": "stdout",
     "output_type": "stream",
     "text": [
      "20030000  count  /  Foker\n",
      "10150000  count  /  Never Go\n",
      "1445000   count  /  Triple Seven\n",
      "60000     count  /  She Went\n"
     ]
    }
   ],
   "source": [
    "count_order = sorted(Books, key = lambda x: int(x.count), reverse = True)\n",
    "count_max = sorted(Books, key = lambda x : len(x.count), reverse = True)\n",
    "\n",
    "max_count = []\n",
    "\n",
    "for y in count_max :\n",
    "    max_count.append(len(y.count))\n",
    "    \n",
    "max_count = max(max_count)\n",
    "                   \n",
    "for x in count_order :\n",
    "    print(x.count.ljust(max_count)+\"  count \"+ \" /  \"+x.title)"
   ]
  },
  {
   "cell_type": "markdown",
   "metadata": {},
   "source": [
    "# 3. 신작 순\n"
   ]
  },
  {
   "cell_type": "code",
   "execution_count": 6,
   "metadata": {
    "collapsed": false,
    "scrolled": true
   },
   "outputs": [
    {
     "name": "stdout",
     "output_type": "stream",
     "text": [
      "Triple Seven  2023\n",
      "Never Go      1999\n",
      "Foker         1920\n",
      "She Went      1907\n"
     ]
    }
   ],
   "source": [
    "new_publish = sorted(Books, key = lambda x: int(x.publish_date), reverse = True)\n",
    "title_max = sorted(Books, key = lambda x : len(x.title), reverse = True)\n",
    "\n",
    "max_count = []\n",
    "\n",
    "for y in title_max :\n",
    "    max_count.append(len(y.title))\n",
    "    \n",
    "max_count = max(max_count)\n",
    "\n",
    "for x in new_publish:\n",
    "    print(x.title.ljust(max_count)+\"  \" + x.publish_date)"
   ]
  }
 ],
 "metadata": {
  "anaconda-cloud": {},
  "kernelspec": {
   "display_name": "Python [Root]",
   "language": "python",
   "name": "Python [Root]"
  },
  "language_info": {
   "codemirror_mode": {
    "name": "ipython",
    "version": 3
   },
   "file_extension": ".py",
   "mimetype": "text/x-python",
   "name": "python",
   "nbconvert_exporter": "python",
   "pygments_lexer": "ipython3",
   "version": "3.5.2"
  }
 },
 "nbformat": 4,
 "nbformat_minor": 1
}
