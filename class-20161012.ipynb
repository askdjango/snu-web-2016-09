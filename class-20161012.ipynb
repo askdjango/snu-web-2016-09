{
 "cells": [
  {
   "cell_type": "code",
   "execution_count": 2,
   "metadata": {
    "collapsed": false
   },
   "outputs": [
    {
     "name": "stdout",
     "output_type": "stream",
     "text": [
      "hello world\n",
      "0\n",
      "1\n",
      "2\n"
     ]
    }
   ],
   "source": [
    "print(\"hello world\")\n",
    "\n",
    "for i in range(3):\n",
    "    print(i)"
   ]
  },
  {
   "cell_type": "markdown",
   "metadata": {},
   "source": [
    "## 벤처창업 웹프로그래밍 1 (2016년)\n",
    "\n",
    " * 파이썬 강의"
   ]
  },
  {
   "cell_type": "code",
   "execution_count": 8,
   "metadata": {
    "collapsed": false
   },
   "outputs": [
    {
     "name": "stdout",
     "output_type": "stream",
     "text": [
      "step 1\n",
      "step 2\n",
      "step 3\n",
      "16\n",
      "step 3\n",
      "25\n",
      "step 3\n",
      "34\n",
      "step 3\n",
      "4300\n",
      "step 4\n"
     ]
    }
   ],
   "source": [
    "print('step 1')\n",
    "def myfn3(a, b, c):\n",
    "    print('step 3')\n",
    "    result = a + b + c + 10\n",
    "    return result\n",
    "\n",
    "print('step 2')\n",
    "print(myfn3(1, 2, 3))\n",
    "print(myfn3(4, 5, 6))\n",
    "print(myfn3(7, 8, 9))\n",
    "result = myfn3(10, 11, 12)\n",
    "print(result * 100)\n",
    "print('step 4')"
   ]
  },
  {
   "cell_type": "code",
   "execution_count": null,
   "metadata": {
    "collapsed": true
   },
   "outputs": [],
   "source": []
  }
 ],
 "metadata": {
  "anaconda-cloud": {},
  "kernelspec": {
   "display_name": "Python [default]",
   "language": "python",
   "name": "python3"
  },
  "language_info": {
   "codemirror_mode": {
    "name": "ipython",
    "version": 3
   },
   "file_extension": ".py",
   "mimetype": "text/x-python",
   "name": "python",
   "nbconvert_exporter": "python",
   "pygments_lexer": "ipython3",
   "version": "3.5.2"
  }
 },
 "nbformat": 4,
 "nbformat_minor": 1
}
