{
 "cells": [
  {
   "cell_type": "code",
   "execution_count": 2,
   "metadata": {
    "collapsed": false
   },
   "outputs": [
    {
     "name": "stdout",
     "output_type": "stream",
     "text": [
      "hello world\n",
      "0\n",
      "1\n",
      "2\n"
     ]
    }
   ],
   "source": [
    "print(\"hello world\")\n",
    "\n",
    "for i in range(3):\n",
    "    print(i)"
   ]
  },
  {
   "cell_type": "markdown",
   "metadata": {},
   "source": [
    "## 벤처창업 웹프로그래밍 1 (2016년)\n",
    "\n",
    " * 파이썬 강의"
   ]
  },
  {
   "cell_type": "code",
   "execution_count": 9,
   "metadata": {
    "collapsed": false
   },
   "outputs": [
    {
     "name": "stdout",
     "output_type": "stream",
     "text": [
      "step 1 step 2\n",
      "step 3\n",
      "16\n",
      "step 3\n",
      "25\n",
      "step 3\n",
      "34\n",
      "step 3\n",
      "4300\n",
      "step 4\n"
     ]
    }
   ],
   "source": [
    "print('step 1', end=' ')\n",
    "def myfn3(a, b, c):\n",
    "    print('step 3')\n",
    "    result = a + b + c + 10\n",
    "    return result\n",
    "\n",
    "print('step 2')\n",
    "print(myfn3(1, 2, 3))\n",
    "print(myfn3(4, 5, 6))\n",
    "print(myfn3(7, 8, 9))\n",
    "result = myfn3(10, 11, 12)\n",
    "print(result * 100)\n",
    "print('step 4')"
   ]
  },
  {
   "cell_type": "markdown",
   "metadata": {},
   "source": [
    "## 지정 갯수의 다이아몬드 출력하기"
   ]
  },
  {
   "cell_type": "code",
   "execution_count": 15,
   "metadata": {
    "collapsed": true
   },
   "outputs": [],
   "source": [
    "def print_diamond(size):\n",
    "    '지정된 크기의 ascii 다이아몬드를 출력해줍니다.'\n",
    "\n",
    "    print('TODO: {} 크기의 다이아몬드를 출력해봅시다.'.format(size))\n",
    "\n",
    "    width = 2 * size - 1\n",
    "    formatter = '{:^' + str(width) + '}'\n",
    "\n",
    "    for i in range(1, size+1):\n",
    "        amount = 2 * i - 1\n",
    "        print(formatter.format('*' * amount))\n",
    "\n",
    "    for i in range(size-1, 0, -1):\n",
    "        amount = 2 * i - 1\n",
    "        print(formatter.format('*' * amount))"
   ]
  },
  {
   "cell_type": "code",
   "execution_count": 11,
   "metadata": {
    "collapsed": false
   },
   "outputs": [
    {
     "name": "stdout",
     "output_type": "stream",
     "text": [
      "TODO: 3 크기의 다이아몬드를 출력해봅시다.\n",
      "  *  \n",
      " *** \n",
      "*****\n",
      " *** \n",
      "  *  \n"
     ]
    }
   ],
   "source": [
    "print_diamond(3)"
   ]
  },
  {
   "cell_type": "code",
   "execution_count": 12,
   "metadata": {
    "collapsed": false
   },
   "outputs": [
    {
     "name": "stdout",
     "output_type": "stream",
     "text": [
      "TODO: 5 크기의 다이아몬드를 출력해봅시다.\n",
      "    *    \n",
      "   ***   \n",
      "  *****  \n",
      " ******* \n",
      "*********\n",
      " ******* \n",
      "  *****  \n",
      "   ***   \n",
      "    *    \n"
     ]
    }
   ],
   "source": [
    "print_diamond(5)"
   ]
  },
  {
   "cell_type": "code",
   "execution_count": 14,
   "metadata": {
    "collapsed": true
   },
   "outputs": [],
   "source": [
    "print?"
   ]
  },
  {
   "cell_type": "code",
   "execution_count": 16,
   "metadata": {
    "collapsed": true
   },
   "outputs": [],
   "source": [
    "print_diamond?"
   ]
  },
  {
   "cell_type": "code",
   "execution_count": 18,
   "metadata": {
    "collapsed": false
   },
   "outputs": [
    {
     "name": "stdout",
     "output_type": "stream",
     "text": [
      "Who are you? hello world\n",
      "hello world\n",
      "None\n"
     ]
    }
   ],
   "source": [
    "def myfn1():\n",
    "    \"\"\"별 의미없는 함수\n",
    "\n",
    "    - 인자 : \n",
    "    - 리턴값 : 없음\n",
    "\"\"\"\n",
    "    answer = input('Who are you? ')\n",
    "    print(answer)\n",
    "\n",
    "print(myfn1())\n"
   ]
  },
  {
   "cell_type": "code",
   "execution_count": 20,
   "metadata": {
    "collapsed": true
   },
   "outputs": [],
   "source": [
    "myfn1?"
   ]
  },
  {
   "cell_type": "markdown",
   "metadata": {},
   "source": [
    "## 인자 (Arguments)"
   ]
  },
  {
   "cell_type": "code",
   "execution_count": 38,
   "metadata": {
    "collapsed": true
   },
   "outputs": [],
   "source": [
    "def fn_with_positional_arguments(name, age):\n",
    "    print(\"당신의 이름은 {}이며, 나이는 {}입니다.\".format(name, age))"
   ]
  },
  {
   "cell_type": "code",
   "execution_count": 39,
   "metadata": {
    "collapsed": false
   },
   "outputs": [
    {
     "name": "stdout",
     "output_type": "stream",
     "text": [
      "당신의 이름은 Tom이며, 나이는 10입니다.\n"
     ]
    }
   ],
   "source": [
    "fn_with_positional_arguments(\"Tom\", 10)"
   ]
  },
  {
   "cell_type": "code",
   "execution_count": 37,
   "metadata": {
    "collapsed": true
   },
   "outputs": [],
   "source": [
    "def fn_with_keyword_arguments(name=\"\", age=0):\n",
    "    print(\"당신의 이름은 {}이며, 나이는 {}입니다.\".format(name, age))"
   ]
  },
  {
   "cell_type": "code",
   "execution_count": 40,
   "metadata": {
    "collapsed": false
   },
   "outputs": [
    {
     "name": "stdout",
     "output_type": "stream",
     "text": [
      "당신의 이름은 Tom이며, 나이는 10입니다.\n"
     ]
    }
   ],
   "source": [
    "fn_with_keyword_arguments(name=\"Tom\", age=10)"
   ]
  },
  {
   "cell_type": "code",
   "execution_count": 42,
   "metadata": {
    "collapsed": false
   },
   "outputs": [
    {
     "name": "stdout",
     "output_type": "stream",
     "text": [
      "당신의 이름은 Tom이며, 나이는 0입니다.\n"
     ]
    }
   ],
   "source": [
    "fn_with_keyword_arguments(name=\"Tom\")"
   ]
  },
  {
   "cell_type": "code",
   "execution_count": 43,
   "metadata": {
    "collapsed": false
   },
   "outputs": [
    {
     "name": "stdout",
     "output_type": "stream",
     "text": [
      "당신의 이름은 이며, 나이는 0입니다.\n"
     ]
    }
   ],
   "source": [
    "fn_with_keyword_arguments()"
   ]
  },
  {
   "cell_type": "code",
   "execution_count": 44,
   "metadata": {
    "collapsed": false
   },
   "outputs": [
    {
     "name": "stdout",
     "output_type": "stream",
     "text": [
      "당신의 이름은 Tom이며, 나이는 10입니다.\n"
     ]
    }
   ],
   "source": [
    "fn_with_keyword_arguments(\"Tom\", 10)"
   ]
  },
  {
   "cell_type": "code",
   "execution_count": 45,
   "metadata": {
    "collapsed": true
   },
   "outputs": [],
   "source": [
    "def fn_with_arguments(name, age=0):\n",
    "    print(\"당신의 이름은 {}이며, 나이는 {}입니다.\".format(name, age))"
   ]
  },
  {
   "cell_type": "code",
   "execution_count": 48,
   "metadata": {
    "collapsed": false
   },
   "outputs": [
    {
     "name": "stdout",
     "output_type": "stream",
     "text": [
      "당신의 이름은 Tom이며, 나이는 0입니다.\n",
      "당신의 이름은 Tom이며, 나이는 10입니다.\n",
      "당신의 이름은 Tom이며, 나이는 10입니다.\n"
     ]
    }
   ],
   "source": [
    "fn_with_arguments(\"Tom\")\n",
    "fn_with_arguments(\"Tom\", 10)\n",
    "fn_with_arguments(\"Tom\", age=10)"
   ]
  },
  {
   "cell_type": "markdown",
   "metadata": {},
   "source": [
    "## 가변인자"
   ]
  },
  {
   "cell_type": "code",
   "execution_count": 50,
   "metadata": {
    "collapsed": false
   },
   "outputs": [
    {
     "name": "stdout",
     "output_type": "stream",
     "text": [
      "(1, 2)\n",
      "3\n",
      "(1, 2, 3)\n",
      "6\n",
      "(1, 2, 3, 4)\n",
      "10\n"
     ]
    }
   ],
   "source": [
    "def mysum2(x, y):\n",
    "    return x + y\n",
    "\n",
    "def mysum3(x, y, z):\n",
    "    return x + y + z\n",
    "\n",
    "def mysum4(x, y, z, a):\n",
    "    return x + y + z + a\n",
    "\n",
    "def mysum(*args):  # args : 튜플 타입\n",
    "    print(args)\n",
    "    result = 0\n",
    "    for i in args:\n",
    "        result += i\n",
    "    return result\n",
    "\n",
    "print(mysum(1, 2))\n",
    "print(mysum(1, 2, 3))\n",
    "print(mysum(1, 2, 3, 4))"
   ]
  },
  {
   "cell_type": "code",
   "execution_count": 55,
   "metadata": {
    "collapsed": false
   },
   "outputs": [
    {
     "name": "stdout",
     "output_type": "stream",
     "text": [
      "()\n",
      "3\n",
      "(3,)\n",
      "6\n",
      "(3, 4)\n",
      "10\n",
      "(3, 4, 5, 6, 7, 8, 9, 10)\n",
      "55\n"
     ]
    }
   ],
   "source": [
    "def mysum10(x, y, *args):  # args : 튜플 타입\n",
    "    print(args)\n",
    "    result = x + y\n",
    "    for i in args:\n",
    "        result += i\n",
    "    return result\n",
    "\n",
    "print(mysum10(1, 2))\n",
    "print(mysum10(1, 2, 3))\n",
    "print(mysum10(1, 2, 3, 4))\n",
    "\n",
    "params = [1, 2, 3, 4, 5, 6, 7, 8, 9, 10] # tuple or list\n",
    "print(mysum10(*params))  # 하나의 list 에 담겨진 10개의 값이지만, 10개의 인자로 넘기자!"
   ]
  },
  {
   "cell_type": "code",
   "execution_count": 56,
   "metadata": {
    "collapsed": false
   },
   "outputs": [
    {
     "name": "stdout",
     "output_type": "stream",
     "text": [
      "(1, 2, 3, 4, 5, 6, 7, 8, 9, 10)\n",
      "355\n"
     ]
    }
   ],
   "source": [
    "params = [1, 2, 3, 4, 5, 6, 7, 8, 9, 10] # tuple or list\n",
    "print(mysum10(100, 200, *params))"
   ]
  },
  {
   "cell_type": "markdown",
   "metadata": {},
   "source": [
    "## * 형식 지정자"
   ]
  },
  {
   "cell_type": "code",
   "execution_count": 21,
   "metadata": {
    "collapsed": false
   },
   "outputs": [
    {
     "name": "stdout",
     "output_type": "stream",
     "text": [
      "***\n"
     ]
    }
   ],
   "source": [
    "print(\"{}\".format(\"***\"))"
   ]
  },
  {
   "cell_type": "code",
   "execution_count": 26,
   "metadata": {
    "collapsed": false
   },
   "outputs": [
    {
     "name": "stdout",
     "output_type": "stream",
     "text": [
      "***       \n"
     ]
    }
   ],
   "source": [
    "print(\"{:<10}\".format(\"***\"))  # 10칸 중에 나머지 칸은 공백으로 채움 (좌측정렬)"
   ]
  },
  {
   "cell_type": "code",
   "execution_count": 24,
   "metadata": {
    "collapsed": false
   },
   "outputs": [
    {
     "name": "stdout",
     "output_type": "stream",
     "text": [
      "   ***    \n"
     ]
    }
   ],
   "source": [
    "print(\"{:^10}\".format(\"***\"))  # 10칸 중에 나머지 칸은 공백으로 채움 (중앙정렬)"
   ]
  },
  {
   "cell_type": "code",
   "execution_count": 25,
   "metadata": {
    "collapsed": false
   },
   "outputs": [
    {
     "name": "stdout",
     "output_type": "stream",
     "text": [
      "       ***\n"
     ]
    }
   ],
   "source": [
    "print(\"{:>10}\".format(\"***\"))  # 10칸 중에 나머지 칸은 공백으로 채움 (중앙정렬)"
   ]
  },
  {
   "cell_type": "code",
   "execution_count": 28,
   "metadata": {
    "collapsed": true
   },
   "outputs": [],
   "source": [
    "format_string = \"{:>10}\"\n",
    "format_string = \"{:>\" + \"10\" + \"}\""
   ]
  },
  {
   "cell_type": "code",
   "execution_count": null,
   "metadata": {
    "collapsed": true
   },
   "outputs": [],
   "source": []
  }
 ],
 "metadata": {
  "anaconda-cloud": {},
  "kernelspec": {
   "display_name": "Python [default]",
   "language": "python",
   "name": "python3"
  },
  "language_info": {
   "codemirror_mode": {
    "name": "ipython",
    "version": 3
   },
   "file_extension": ".py",
   "mimetype": "text/x-python",
   "name": "python",
   "nbconvert_exporter": "python",
   "pygments_lexer": "ipython3",
   "version": "3.5.2"
  }
 },
 "nbformat": 4,
 "nbformat_minor": 1
}
