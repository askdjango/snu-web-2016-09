{
 "cells": [
  {
   "cell_type": "code",
   "execution_count": 13,
   "metadata": {
    "collapsed": false
   },
   "outputs": [
    {
     "name": "stdout",
     "output_type": "stream",
     "text": [
      "입력양식 : 이름, 키, 몸무게, 좋아하는브랜드\n",
      "(중단 : n)\n",
      "\n",
      "> a,150,50,zara\n",
      "> b,160,50,hnm\n",
      "> c,170,55,hnm\n",
      "> d,165,49,topshop\n",
      "> e,157,51,zara\n",
      "> f,160,53,uniqlo\n",
      "> g,173,68,hnm\n",
      "> h,180,75,uniqlo\n",
      "> i,176,71,uniqlo\n",
      "> j,169,60,uniqlo\n",
      "> n\n",
      "{'h': {'name': 'h', 'brand': 'uniqlo', 'weight': '75', 'height': '180'}, 'f': {'name': 'f', 'brand': 'uniqlo', 'weight': '53', 'height': '160'}, 'j': {'name': 'j', 'brand': 'uniqlo', 'weight': '60', 'height': '169'}, 'c': {'name': 'c', 'brand': 'hnm', 'weight': '55', 'height': '170'}, 'a': {'name': 'a', 'brand': 'zara', 'weight': '50', 'height': '150'}, 'b': {'name': 'b', 'brand': 'hnm', 'weight': '50', 'height': '160'}, 'e': {'name': 'e', 'brand': 'zara', 'weight': '51', 'height': '157'}, 'd': {'name': 'd', 'brand': 'topshop', 'weight': '49', 'height': '165'}, 'g': {'name': 'g', 'brand': 'hnm', 'weight': '68', 'height': '173'}, 'i': {'name': 'i', 'brand': 'uniqlo', 'weight': '71', 'height': '176'}}\n"
     ]
    }
   ],
   "source": [
    "print('입력양식 : 이름, 키, 몸무게, 좋아하는브랜드')\n",
    "print('(중단 : n)')\n",
    "\n",
    "print('')\n",
    "\n",
    "people = {}\n",
    "\n",
    "while True:\n",
    "\n",
    "    line = input('> ')\n",
    "\n",
    "    if line.lower() == 'n':\n",
    "\n",
    "        break\n",
    "\n",
    "    name, height, weight, brand = line.split(',')\n",
    "    people[name] ={\n",
    "        'name': name,\n",
    "        'height' : height,\n",
    "        'weight' : weight,\n",
    "        'brand' : brand\n",
    "    }\n",
    "\n",
    "print(people)"
   ]
  },
  {
   "cell_type": "code",
   "execution_count": 14,
   "metadata": {
    "collapsed": false,
    "scrolled": true
   },
   "outputs": [
    {
     "name": "stdout",
     "output_type": "stream",
     "text": [
      "몸무게 최대값 : 75\n",
      "몸무게 최소값 : 49\n",
      "몸무게 평균값 : 58.2\n",
      "몸무게 중위값 : 54.0\n",
      "키 최대값 : 180\n",
      "키 최소값 : 150\n",
      "키 평균값 : 166.0\n",
      "키 중위값 : 167.0\n",
      "브랜드 Top 3 : ['uniqlo', 'hnm', 'zara']\n"
     ]
    }
   ],
   "source": [
    "height_list = []\n",
    "weight_list = []\n",
    "brand_list = []\n",
    "\n",
    "total_weight = 0\n",
    "total_height = 0\n",
    "\n",
    "for name in people:\n",
    "    weight = int(people[name]['weight'])\n",
    "    height = int(people[name]['height'])\n",
    "    brand = people[name]['brand']\n",
    "    \n",
    "    height_list.append(height)\n",
    "    weight_list.append(weight)\n",
    "    brand_list.append(brand)\n",
    "    \n",
    "    total_weight += weight\n",
    "    total_height += height\n",
    "    \n",
    "def median(x):\n",
    "    center = int(len(x) / 2)\n",
    "    if len(x) % 2 == 1:\n",
    "        return x[center]\n",
    "    else:\n",
    "        return (x[center-1] + x[center])/2\n",
    "    \n",
    "\n",
    "brand_result = {}\n",
    "\n",
    "for brand in brand_list:\n",
    "    if brand in brand_result:\n",
    "        brand_result[brand] += 1\n",
    "    else:\n",
    "        brand_result[brand] = 1\n",
    "        \n",
    "sorted_brand = sorted(brand_result,key=brand_result.__getitem__,reverse=True)\n",
    "\n",
    "print ('몸무게 최대값 : {}'.format(max(weight_list)))\n",
    "print ('몸무게 최소값 : {}'.format(min(weight_list)))\n",
    "print ('몸무게 평균값 : {}'.format(total_weight/len(people)))\n",
    "print ('몸무게 중위값 : {}'.format(median(sorted(weight_list))))\n",
    "print ('키 최대값 : {}'.format(max(height_list)))\n",
    "print ('키 최소값 : {}'.format(min(height_list)))\n",
    "print ('키 평균값 : {}'.format(total_height/len(people)))\n",
    "print ('키 중위값 : {}'.format(median(sorted(height_list))))\n",
    "print ('브랜드 Top 3 : {}'.format(sorted_brand[:3]))"
   ]
  },
  {
   "cell_type": "code",
   "execution_count": null,
   "metadata": {
    "collapsed": true
   },
   "outputs": [],
   "source": []
  }
 ],
 "metadata": {
  "anaconda-cloud": {},
  "kernelspec": {
   "display_name": "Python [Root]",
   "language": "python",
   "name": "Python [Root]"
  },
  "language_info": {
   "codemirror_mode": {
    "name": "ipython",
    "version": 3
   },
   "file_extension": ".py",
   "mimetype": "text/x-python",
   "name": "python",
   "nbconvert_exporter": "python",
   "pygments_lexer": "ipython3",
   "version": "3.5.2"
  }
 },
 "nbformat": 4,
 "nbformat_minor": 0
}
