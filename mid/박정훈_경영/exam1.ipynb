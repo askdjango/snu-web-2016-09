{
 "cells": [
  {
   "cell_type": "code",
   "execution_count": 16,
   "metadata": {
    "collapsed": false
   },
   "outputs": [],
   "source": [
    "# CASE 1\n",
    "def print_diamond_1(size):\n",
    "    '지정된 크기의 ascii 다이아몬드를 출력해줍니다.'\n",
    "\n",
    "    print('TODO: {} 크기의 다이아몬드를 출력해봅시다.'.format(size))\n",
    "\n",
    "    width = size\n",
    "    formatter = '{:<' + str(width) + '}'\n",
    "    \n",
    "    for i in range(1, size+1):\n",
    "        amount = i\n",
    "        print(formatter.format('*'*amount))\n",
    "\n",
    "# CASE 2\n",
    "def print_diamond_2(size):\n",
    "    '지정된 크기의 ascii 다이아몬드를 출력해줍니다.'\n",
    "\n",
    "    print('TODO: {} 크기의 다이아몬드를 출력해봅시다.'.format(size))\n",
    "\n",
    "    width = size\n",
    "    formatter = '{:>' + str(width) + '}'\n",
    "    \n",
    "    for i in range(1, size+1):\n",
    "        amount = i\n",
    "        print(formatter.format('*'*amount))\n",
    "\n",
    "# CASE 3\n",
    "def print_diamond_3(size):\n",
    "    '지정된 크기의 ascii 다이아몬드를 출력해줍니다.'\n",
    "\n",
    "    print('TODO: {} 크기의 다이아몬드를 출력해봅시다.'.format(size))\n",
    "\n",
    "    width = 2 * size - 1\n",
    "    formatter = '{:^' + str(width) + '}'\n",
    "\n",
    "    for i in range(1, size+1):\n",
    "        amount = 2 * i - 1\n",
    "        print(formatter.format('*' * amount))\n",
    "\n",
    "# CASE 4\n",
    "def print_diamond_4(size):\n",
    "    '지정된 크기의 ascii 다이아몬드를 출력해줍니다.'\n",
    "\n",
    "    print('TODO: {} 크기의 다이아몬드를 출력해봅시다.'.format(size))\n",
    "\n",
    "    width = 2 * size - 1\n",
    "    formatter = '{:^' + str(width) + '}'\n",
    "\n",
    "    for i in range(size, 0, -1):\n",
    "        amount = 2 * i - 1\n",
    "        print(formatter.format('*' * amount))\n",
    "\n",
    "# CASE 5       \n",
    "def print_diamond_5(size):\n",
    "    '지정된 크기의 ascii 다이아몬드를 출력해줍니다.'\n",
    "\n",
    "    print('TODO: {} 크기의 다이아몬드를 출력해봅시다.'.format(size))\n",
    "\n",
    "    width = 2 * size - 1\n",
    "    formatter = '{:^' + str(width) + '}'\n",
    "\n",
    "    for i in range(1, size+1):\n",
    "        amount = 2 * i - 1\n",
    "        print(formatter.format('*' * amount))\n",
    "\n",
    "    for i in range(size-1, 0, -1):\n",
    "        amount = 2 * i - 1\n",
    "        print(formatter.format('*' * amount))\n",
    "\n",
    "# CASE 6\n",
    "def print_diamond_6(size):\n",
    "    '지정된 크기의 ascii 다이아몬드를 출력해줍니다.'\n",
    "\n",
    "    print('TODO: {} 크기의 다이아몬드를 출력해봅시다.'.format(size))\n",
    "\n",
    "    width = 2 * size - 1\n",
    "    formatter = '{:^' + str(width) + '}'\n",
    "\n",
    "    for i in range(1) :\n",
    "        print(formatter.format('#'))\n",
    "    for i in range(1, (size * 2) - 1, 2):\n",
    "        amount_1 = ((size * 2) - 2 - i)//2\n",
    "        amount_2 = i\n",
    "        print('{}{}{}{}'.format(' ' * amount_1, '#', '*' * amount_2, '#'))\n",
    "\n",
    "    for i in range((size * 2 - 5), 0, -2):\n",
    "        amount_1 = ((size * 2) - 2 - i)//2\n",
    "        amount_2 = i\n",
    "        print('{}{}{}{}'.format(' ' * amount_1, '#', '*' * amount_2, '#'))\n",
    "    for i in range(1) :\n",
    "        print(formatter.format('#'))"
   ]
  },
  {
   "cell_type": "code",
   "execution_count": 2,
   "metadata": {
    "collapsed": false,
    "scrolled": true
   },
   "outputs": [
    {
     "name": "stdout",
     "output_type": "stream",
     "text": [
      "TODO: 5 크기의 다이아몬드를 출력해봅시다.\n",
      "*    \n",
      "**   \n",
      "***  \n",
      "**** \n",
      "*****\n"
     ]
    }
   ],
   "source": [
    "print_diamond_1(5)"
   ]
  },
  {
   "cell_type": "code",
   "execution_count": 3,
   "metadata": {
    "collapsed": false
   },
   "outputs": [
    {
     "name": "stdout",
     "output_type": "stream",
     "text": [
      "TODO: 5 크기의 다이아몬드를 출력해봅시다.\n",
      "    *\n",
      "   **\n",
      "  ***\n",
      " ****\n",
      "*****\n"
     ]
    }
   ],
   "source": [
    "print_diamond_2(5)"
   ]
  },
  {
   "cell_type": "code",
   "execution_count": 4,
   "metadata": {
    "collapsed": false
   },
   "outputs": [
    {
     "name": "stdout",
     "output_type": "stream",
     "text": [
      "TODO: 5 크기의 다이아몬드를 출력해봅시다.\n",
      "    *    \n",
      "   ***   \n",
      "  *****  \n",
      " ******* \n",
      "*********\n"
     ]
    }
   ],
   "source": [
    "print_diamond_3(5)"
   ]
  },
  {
   "cell_type": "code",
   "execution_count": 5,
   "metadata": {
    "collapsed": false
   },
   "outputs": [
    {
     "name": "stdout",
     "output_type": "stream",
     "text": [
      "TODO: 5 크기의 다이아몬드를 출력해봅시다.\n",
      "*********\n",
      " ******* \n",
      "  *****  \n",
      "   ***   \n",
      "    *    \n"
     ]
    }
   ],
   "source": [
    "print_diamond_4(5)"
   ]
  },
  {
   "cell_type": "code",
   "execution_count": 6,
   "metadata": {
    "collapsed": false
   },
   "outputs": [
    {
     "name": "stdout",
     "output_type": "stream",
     "text": [
      "TODO: 5 크기의 다이아몬드를 출력해봅시다.\n",
      "    *    \n",
      "   ***   \n",
      "  *****  \n",
      " ******* \n",
      "*********\n",
      " ******* \n",
      "  *****  \n",
      "   ***   \n",
      "    *    \n"
     ]
    }
   ],
   "source": [
    "print_diamond_5(5)"
   ]
  },
  {
   "cell_type": "code",
   "execution_count": 20,
   "metadata": {
    "collapsed": false
   },
   "outputs": [
    {
     "name": "stdout",
     "output_type": "stream",
     "text": [
      "TODO: 5 크기의 다이아몬드를 출력해봅시다.\n",
      "    #    \n",
      "   #*#\n",
      "  #***#\n",
      " #*****#\n",
      "#*******#\n",
      " #*****#\n",
      "  #***#\n",
      "   #*#\n",
      "    #    \n"
     ]
    }
   ],
   "source": [
    "print_diamond_6(5)"
   ]
  },
  {
   "cell_type": "code",
   "execution_count": 21,
   "metadata": {
    "collapsed": false
   },
   "outputs": [
    {
     "name": "stdout",
     "output_type": "stream",
     "text": [
      "TODO: 11 크기의 다이아몬드를 출력해봅시다.\n",
      "          #          \n",
      "         #*#\n",
      "        #***#\n",
      "       #*****#\n",
      "      #*******#\n",
      "     #*********#\n",
      "    #***********#\n",
      "   #*************#\n",
      "  #***************#\n",
      " #*****************#\n",
      "#*******************#\n",
      " #*****************#\n",
      "  #***************#\n",
      "   #*************#\n",
      "    #***********#\n",
      "     #*********#\n",
      "      #*******#\n",
      "       #*****#\n",
      "        #***#\n",
      "         #*#\n",
      "          #          \n"
     ]
    }
   ],
   "source": [
    "print_diamond_6(11)"
   ]
  },
  {
   "cell_type": "code",
   "execution_count": null,
   "metadata": {
    "collapsed": true
   },
   "outputs": [],
   "source": []
  }
 ],
 "metadata": {
  "anaconda-cloud": {},
  "kernelspec": {
   "display_name": "Python [Root]",
   "language": "python",
   "name": "Python [Root]"
  },
  "language_info": {
   "codemirror_mode": {
    "name": "ipython",
    "version": 3
   },
   "file_extension": ".py",
   "mimetype": "text/x-python",
   "name": "python",
   "nbconvert_exporter": "python",
   "pygments_lexer": "ipython3",
   "version": "3.5.2"
  }
 },
 "nbformat": 4,
 "nbformat_minor": 1
}
