{
 "cells": [
  {
   "cell_type": "markdown",
   "metadata": {},
   "source": [
    "# 중간고사 과제(1)"
   ]
  },
  {
   "cell_type": "code",
   "execution_count": null,
   "metadata": {
    "collapsed": false
   },
   "outputs": [
    {
     "name": "stdout",
     "output_type": "stream",
     "text": [
      "Case #1\n"
     ]
    }
   ],
   "source": [
    "print(\"Case #1\")\n",
    "\n",
    "size = int(input(\"도형의 크기를 입력하세요.\"))\n",
    "\n",
    "for i in range(1, size+1):\n",
    "    print('*'*i)"
   ]
  },
  {
   "cell_type": "code",
   "execution_count": null,
   "metadata": {
    "collapsed": false
   },
   "outputs": [],
   "source": [
    "print(\"Case #2\")\n",
    "\n",
    "size = int(input(\"도형의 크기를 입력하세요.\"))\n",
    "\n",
    "for i in range(1, size+1):\n",
    "    space = ' '*(size-i)\n",
    "    star = '*'*(i)\n",
    "    print(space+star)"
   ]
  },
  {
   "cell_type": "code",
   "execution_count": null,
   "metadata": {
    "collapsed": false
   },
   "outputs": [],
   "source": [
    "print(\"Case #3\")\n",
    "\n",
    "size = int(input(\"도형의 크기를 입력하세요.\"))\n",
    "\n",
    "for i in range(1, size+1):\n",
    "    space = ' '*(size-i)\n",
    "    star = '*'*(2*i-1)\n",
    "    print(space+star)"
   ]
  },
  {
   "cell_type": "code",
   "execution_count": null,
   "metadata": {
    "collapsed": false
   },
   "outputs": [],
   "source": [
    "print(\"Case #4\")\n",
    "\n",
    "size = int(input(\"도형의 크기를 입력하세요.\"))\n",
    "\n",
    "for i in range(1, size+1):\n",
    "    space = ' '*(i)\n",
    "    star = '*'*(2*(size-i)+1)\n",
    "    print(space+star)"
   ]
  },
  {
   "cell_type": "code",
   "execution_count": null,
   "metadata": {
    "collapsed": false
   },
   "outputs": [],
   "source": [
    "print(\"Case #5\")\n",
    "\n",
    "size = int(input(\"도형의 크기를 입력하세요.\"))\n",
    "\n",
    "for i in range(1, size+1):\n",
    "    space = ' '*(size-i)\n",
    "    star = '*'*(2*i-1)\n",
    "    print(space+star)\n",
    "\n",
    "for i in range(1, size):\n",
    "    space = ' '*(i)\n",
    "    star = '*'*(2*(size-i)-1)\n",
    "    print(space+star)\n"
   ]
  },
  {
   "cell_type": "code",
   "execution_count": null,
   "metadata": {
    "collapsed": false,
    "scrolled": true
   },
   "outputs": [],
   "source": [
    "print(\"Case #6\")\n",
    "\n",
    "size = int(input(\"도형의 크기를 입력하세요.\"))\n",
    "\n",
    "for i in range(1, size+1):\n",
    "    space = ' '*(size-i)\n",
    "    star = '#'+'*'*(2*i-3)+'#'\n",
    "    if i == 1:\n",
    "        print(space+'#')\n",
    "    else:\n",
    "        print(space+star)\n",
    "\n",
    "for i in range(1, size):\n",
    "    space = ' '*(i)\n",
    "    star = '#'+'*'*(2*(size-i)-3)+'#'\n",
    "    if i == size-1:\n",
    "        print(space+'#')\n",
    "    else:\n",
    "        print(space+star)"
   ]
  }
 ],
 "metadata": {
  "kernelspec": {
   "display_name": "Python 3",
   "language": "python",
   "name": "python3"
  },
  "language_info": {
   "codemirror_mode": {
    "name": "ipython",
    "version": 3
   },
   "file_extension": ".py",
   "mimetype": "text/x-python",
   "name": "python",
   "nbconvert_exporter": "python",
   "pygments_lexer": "ipython3",
   "version": "3.5.2"
  }
 },
 "nbformat": 4,
 "nbformat_minor": 0
}
