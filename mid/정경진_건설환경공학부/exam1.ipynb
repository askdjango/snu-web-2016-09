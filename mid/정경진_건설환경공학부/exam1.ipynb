{
 "cells": [
  {
   "cell_type": "code",
   "execution_count": 2,
   "metadata": {
    "collapsed": false,
    "scrolled": false
   },
   "outputs": [
    {
     "name": "stdout",
     "output_type": "stream",
     "text": [
      "case: 5\n",
      "case#1\n",
      "*\n",
      "**\n",
      "***\n",
      "****\n",
      "*****\n",
      "case#2\n",
      "    *\n",
      "   **\n",
      "  ***\n",
      " ****\n",
      "*****\n",
      "case#3\n",
      "    *\n",
      "   ***\n",
      "  *****\n",
      " *******\n",
      "*********\n",
      "case#4\n",
      "*********\n",
      " *******\n",
      "  *****\n",
      "   ***\n",
      "    *\n",
      "case#5\n",
      "    *\n",
      "   ***\n",
      "  *****\n",
      " *******\n",
      "*********\n",
      " *******\n",
      "  *****\n",
      "   ***\n",
      "    *\n",
      "case#6\n",
      "    #\n",
      "   #*#\n",
      "  #***#\n",
      " #*****#\n",
      "#*******#\n",
      " #*****#\n",
      "  #***#\n",
      "   #*#\n",
      "    #\n"
     ]
    }
   ],
   "source": [
    "def case1(c):\n",
    "    print('case#1')\n",
    "    for i in range(1, c + 1):\n",
    "        print('*' * i)\n",
    "        \n",
    "def case2(c):\n",
    "    print('case#2')\n",
    "    for i in range(1, c + 1):\n",
    "        blanks = c - i\n",
    "        print(' ' * blanks + '*' * i)\n",
    "        \n",
    "def case3(c):\n",
    "    print('case#3')\n",
    "    for i in range(1, c + 1):\n",
    "        blanks = c - i\n",
    "        stars = 2 * i - 1\n",
    "        print(' ' * blanks + '*' * stars)\n",
    "\n",
    "def case4(c):\n",
    "    print('case#4')\n",
    "    for i in range(1, c + 1):\n",
    "        blanks = i - 1\n",
    "        stars = 2 * (c - i) + 1\n",
    "        print(' ' * blanks + '*' * stars)\n",
    "        \n",
    "def case5(c):\n",
    "    print('case#5')\n",
    "    d = 2 * c\n",
    "    for i in range(1,d):\n",
    "        stars = -abs(2 * i - d) + (d - 1)\n",
    "        blanks = abs(i - c)\n",
    "        print(' ' * blanks + '*' * stars)\n",
    "        \n",
    "def case6(c):\n",
    "    print('case#6')\n",
    "    if c == 1:\n",
    "        print('*')\n",
    "    else:\n",
    "        d = 2 * c\n",
    "        for i in range(1,d):\n",
    "            stars = max(0,-abs(2 * i - d) + (d - 3))\n",
    "            blanks = abs(i - c)\n",
    "            charp = int(i % (d - 2) != 1)\n",
    "            print(' ' * blanks + '#' + '*' * stars + '#' * charp)\n",
    "        \n",
    "count = int(input(\"case: \"))\n",
    "case1(count)\n",
    "case2(count)\n",
    "case3(count)\n",
    "case4(count)\n",
    "case5(count)\n",
    "case6(count)\n"
   ]
  },
  {
   "cell_type": "code",
   "execution_count": null,
   "metadata": {
    "collapsed": true
   },
   "outputs": [],
   "source": []
  },
  {
   "cell_type": "code",
   "execution_count": null,
   "metadata": {
    "collapsed": true
   },
   "outputs": [],
   "source": []
  }
 ],
 "metadata": {
  "kernelspec": {
   "display_name": "Python 3",
   "language": "python",
   "name": "python3"
  },
  "language_info": {
   "codemirror_mode": {
    "name": "ipython",
    "version": 3
   },
   "file_extension": ".py",
   "mimetype": "text/x-python",
   "name": "python",
   "nbconvert_exporter": "python",
   "pygments_lexer": "ipython3",
   "version": "3.4.2"
  }
 },
 "nbformat": 4,
 "nbformat_minor": 1
}
