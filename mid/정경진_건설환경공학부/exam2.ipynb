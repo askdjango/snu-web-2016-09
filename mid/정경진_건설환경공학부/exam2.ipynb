{
 "cells": [
  {
   "cell_type": "code",
   "execution_count": 1,
   "metadata": {
    "collapsed": false
   },
   "outputs": [
    {
     "name": "stdout",
     "output_type": "stream",
     "text": [
      "입력양식 : 이름, 키, 몸무게, 좋아하는브랜드\n",
      "(중단 : n)\n",
      "\n",
      "> a,1,3,ㄱ\n",
      "> b,2,6,ㄴ\n",
      "> c,8,4,ㄱ\n",
      "> d,9,6,ㄴ\n",
      "> n\n",
      "10명 이상의 데이터를 입력해주세요\n",
      "> e,4,5,ㄱ\n",
      "> f,3,7,ㄱ\n",
      "> g,3,8,ㄴ\n",
      "> h,9,4,ㄷ\n",
      "> i,8,5,ㄷ\n",
      "> j,9,3,ㄹ\n",
      "> n\n",
      "<키>\n",
      "최대값: 9\n",
      "최소값: 1\n",
      "평균값: 5.6\n",
      "중위값: 8\n",
      "\n",
      "<몸무게>\n",
      "최대값: 8\n",
      "최소값: 3\n",
      "평균값: 5.1\n",
      "중위값: 5\n",
      "\n",
      "<브랜드>\n",
      "1위: ㄱ\n",
      "2위: ㄴ\n",
      "3위: ㄷ\n"
     ]
    }
   ],
   "source": [
    "\n",
    "print('입력양식 : 이름, 키, 몸무게, 좋아하는브랜드')\n",
    "print('(중단 : n)')\n",
    "print('')\n",
    "people = {}\n",
    "while True:\n",
    "    line = input('> ')\n",
    "    if line.lower() == 'n':\n",
    "        if len(people) < 10:\n",
    "            print('10명 이상의 데이터를 입력해주세요')\n",
    "            continue\n",
    "        else:\n",
    "            break\n",
    "    name, height, weight, brand = line.split(',')\n",
    "    people[name] = {\n",
    "        'name': name,\n",
    "        'height': height,\n",
    "        'weight': weight,\n",
    "        'brand': brand\n",
    "    }\n",
    "    \n",
    "heights = {'키':[]}\n",
    "weights = {'몸무게':[]}\n",
    "brands = []\n",
    "for name in people:\n",
    "    heights['키'].append(int(people[name]['height']))\n",
    "    weights['몸무게'].append(int(people[name]['weight']))\n",
    "    brands.append(people[name]['brand'])\n",
    "    \n",
    "def stat(dic):\n",
    "    key = list(dic.keys())[0]\n",
    "    #vls = weights['몸무게']\n",
    "    vls = dic[key]\n",
    "    print('<{}>\\n최대값: {}\\n최소값: {}\\n평균값: {}\\n중위값: {}\\n'.format(key,max(vls),min(vls),float(sum(vls) / len(vls)),sorted(vls)[int(len(vls) / 2)]))\n",
    "\n",
    "def popular(lst):\n",
    "    brand_dic = {x:lst.count(x) for x in lst}\n",
    "    sorted_brands = sorted(brand_dic, key=brand_dic.__getitem__, reverse=True)\n",
    "    print('<브랜드>\\n1위: {}\\n2위: {}\\n3위: {}'.format(sorted_brands[0], sorted_brands[1], sorted_brands[2]))\n",
    "    \n",
    "stat(heights)\n",
    "stat(weights)\n",
    "popular(brands)\n",
    "\n",
    "\n"
   ]
  },
  {
   "cell_type": "code",
   "execution_count": null,
   "metadata": {
    "collapsed": true
   },
   "outputs": [],
   "source": []
  }
 ],
 "metadata": {
  "kernelspec": {
   "display_name": "Python 3",
   "language": "python",
   "name": "python3"
  },
  "language_info": {
   "codemirror_mode": {
    "name": "ipython",
    "version": 3
   },
   "file_extension": ".py",
   "mimetype": "text/x-python",
   "name": "python",
   "nbconvert_exporter": "python",
   "pygments_lexer": "ipython3",
   "version": "3.4.2"
  }
 },
 "nbformat": 4,
 "nbformat_minor": 1
}
