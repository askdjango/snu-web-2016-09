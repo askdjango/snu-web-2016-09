{
 "cells": [
  {
   "cell_type": "markdown",
   "metadata": {},
   "source": [
    "# Q1_case 1"
   ]
  },
  {
   "cell_type": "code",
   "execution_count": 2,
   "metadata": {
    "collapsed": false
   },
   "outputs": [],
   "source": [
    "def print_halfdia_left():\n",
    "    size=int(input('원하는 크기를 입력해주세요:'))\n",
    "    for i in range(1,size+1):\n",
    "        print('*'*i)"
   ]
  },
  {
   "cell_type": "code",
   "execution_count": 4,
   "metadata": {
    "collapsed": false
   },
   "outputs": [
    {
     "name": "stdout",
     "output_type": "stream",
     "text": [
      "원하는 크기를 입력해주세요:5\n",
      "*\n",
      "**\n",
      "***\n",
      "****\n",
      "*****\n"
     ]
    }
   ],
   "source": [
    "print_halfdia_left()"
   ]
  },
  {
   "cell_type": "markdown",
   "metadata": {},
   "source": [
    "# Q1_case 2"
   ]
  },
  {
   "cell_type": "code",
   "execution_count": 5,
   "metadata": {
    "collapsed": true
   },
   "outputs": [],
   "source": [
    "def print_halfdia_right():\n",
    "    size=int(input('원하는 크기를 입력해주세요:'))\n",
    "    for i in range(1,size+1):\n",
    "        blank_count=size-i\n",
    "        print(('{}{}'.format(' '*blank_count,'*'*i)))"
   ]
  },
  {
   "cell_type": "code",
   "execution_count": 6,
   "metadata": {
    "collapsed": false
   },
   "outputs": [
    {
     "name": "stdout",
     "output_type": "stream",
     "text": [
      "원하는 크기를 입력해주세요:5\n",
      "    *\n",
      "   **\n",
      "  ***\n",
      " ****\n",
      "*****\n"
     ]
    }
   ],
   "source": [
    "print_halfdia_right()"
   ]
  },
  {
   "cell_type": "markdown",
   "metadata": {},
   "source": [
    "# Q1_case 3"
   ]
  },
  {
   "cell_type": "code",
   "execution_count": 2,
   "metadata": {
    "collapsed": true
   },
   "outputs": [],
   "source": [
    "def print_halfdia_mid():\n",
    "    size=int(input('원하는 크기를 입력해주세요:'))\n",
    "    for i in range(1,size+1):\n",
    "        blank_count=size-i\n",
    "        star_count=2*i-1\n",
    "        print(('{}{}'.format(' '*blank_count,'*'*star_count)))"
   ]
  },
  {
   "cell_type": "code",
   "execution_count": 3,
   "metadata": {
    "collapsed": false
   },
   "outputs": [
    {
     "name": "stdout",
     "output_type": "stream",
     "text": [
      "원하는 크기를 입력해주세요:5\n",
      "    *\n",
      "   ***\n",
      "  *****\n",
      " *******\n",
      "*********\n"
     ]
    }
   ],
   "source": [
    "print_halfdia_mid()"
   ]
  },
  {
   "cell_type": "markdown",
   "metadata": {},
   "source": [
    "# Q1_case 4"
   ]
  },
  {
   "cell_type": "code",
   "execution_count": 4,
   "metadata": {
    "collapsed": false
   },
   "outputs": [],
   "source": [
    "def print_halfdia_reverse():\n",
    "    size=int(input('원하는 크기를 입력해주세요:'))\n",
    "    for i in range(size,0,-1):\n",
    "        blank_count = size - i\n",
    "        star_count = i * 2 - 1\n",
    "        print(('{}{} '.format(' ' * blank_count,'*' * star_count)))"
   ]
  },
  {
   "cell_type": "code",
   "execution_count": 5,
   "metadata": {
    "collapsed": false
   },
   "outputs": [
    {
     "name": "stdout",
     "output_type": "stream",
     "text": [
      "원하는 크기를 입력해주세요:5\n",
      "********* \n",
      " ******* \n",
      "  ***** \n",
      "   *** \n",
      "    * \n"
     ]
    }
   ],
   "source": [
    "print_halfdia_reverse()"
   ]
  },
  {
   "cell_type": "markdown",
   "metadata": {},
   "source": [
    "# Q1_case 5"
   ]
  },
  {
   "cell_type": "code",
   "execution_count": 6,
   "metadata": {
    "collapsed": false
   },
   "outputs": [],
   "source": [
    "def print_diamond():\n",
    "    size=int(input('원하는 다이아몬드 크기를 입력해주세요 : '))\n",
    "    print('{} 크기의 다이아몬드를 출력합니다.'.format(size))\n",
    "\n",
    "    for i in range(1, size+1):\n",
    "        blank_count = size - i\n",
    "        star_count = i * 2 - 1\n",
    "        print(('{}{} '.format(' ' * blank_count,'*' * star_count)))\n",
    "\n",
    "    for i in range(size-1,0,-1):\n",
    "        blank_count = size - i\n",
    "        star_count = i * 2 - 1\n",
    "        print(('{}{} '.format(' ' * blank_count,'*' * star_count)))"
   ]
  },
  {
   "cell_type": "code",
   "execution_count": 7,
   "metadata": {
    "collapsed": false
   },
   "outputs": [
    {
     "name": "stdout",
     "output_type": "stream",
     "text": [
      "원하는 다이아몬드 크기를 입력해주세요 : 5\n",
      "5 크기의 다이아몬드를 출력합니다.\n",
      "    * \n",
      "   *** \n",
      "  ***** \n",
      " ******* \n",
      "********* \n",
      " ******* \n",
      "  ***** \n",
      "   *** \n",
      "    * \n"
     ]
    }
   ],
   "source": [
    "print_diamond()"
   ]
  },
  {
   "cell_type": "markdown",
   "metadata": {},
   "source": [
    "# Q1_case 6"
   ]
  },
  {
   "cell_type": "code",
   "execution_count": 8,
   "metadata": {
    "collapsed": false
   },
   "outputs": [],
   "source": [
    "def print_diamond_sharp():\n",
    "    size=int(input('원하는 사이즈는?: '))\n",
    "    for i in range(1, size+1):\n",
    "        if i==1:\n",
    "            blank_count = size - (i-1)\n",
    "            print('{}{}'.format(' ' * blank_count,'#'))\n",
    "        else:\n",
    "            blank_count = size - (i-1)\n",
    "            star_count = i * 2 - 3\n",
    "            print(('{}{}{}{} '.format(' ' * blank_count,'#','*' * star_count,'#')))\n",
    "\n",
    "    for i in range(size-1,0,-1):\n",
    "        if i==1:\n",
    "            blank_count = size - (i-1)\n",
    "            print('{}{}'.format(' ' * blank_count,'#'))\n",
    "        else:\n",
    "            blank_count = size - (i-1)\n",
    "            star_count = i * 2 - 3\n",
    "            print(('{}{}{}{} '.format(' ' * blank_count,'#','*' * star_count,'#')))"
   ]
  },
  {
   "cell_type": "code",
   "execution_count": 9,
   "metadata": {
    "collapsed": false
   },
   "outputs": [
    {
     "name": "stdout",
     "output_type": "stream",
     "text": [
      "원하는 사이즈는?: 5\n",
      "     #\n",
      "    #*# \n",
      "   #***# \n",
      "  #*****# \n",
      " #*******# \n",
      "  #*****# \n",
      "   #***# \n",
      "    #*# \n",
      "     #\n"
     ]
    }
   ],
   "source": [
    "print_diamond_sharp()"
   ]
  },
  {
   "cell_type": "code",
   "execution_count": null,
   "metadata": {
    "collapsed": true
   },
   "outputs": [],
   "source": []
  }
 ],
 "metadata": {
  "anaconda-cloud": {},
  "kernelspec": {
   "display_name": "Python [conda root]",
   "language": "python",
   "name": "conda-root-py"
  },
  "language_info": {
   "codemirror_mode": {
    "name": "ipython",
    "version": 3
   },
   "file_extension": ".py",
   "mimetype": "text/x-python",
   "name": "python",
   "nbconvert_exporter": "python",
   "pygments_lexer": "ipython3",
   "version": "3.5.2"
  }
 },
 "nbformat": 4,
 "nbformat_minor": 1
}
