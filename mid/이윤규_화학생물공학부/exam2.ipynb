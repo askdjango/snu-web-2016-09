{
 "cells": [
  {
   "cell_type": "markdown",
   "metadata": {},
   "source": [
    "# 과제 2) 명단 관리 프로그램"
   ]
  },
  {
   "cell_type": "markdown",
   "metadata": {},
   "source": [
    "# 1. 중앙값 및 평균 함수 제작"
   ]
  },
  {
   "cell_type": "markdown",
   "metadata": {},
   "source": [
    "## 1-1) 중앙값 함수"
   ]
  },
  {
   "cell_type": "code",
   "execution_count": 1,
   "metadata": {
    "collapsed": true
   },
   "outputs": [],
   "source": [
    "def median(list):\n",
    "\n",
    "\tlist.sort()\n",
    "\tlength = len(list)\n",
    "\n",
    "\tif len(list)%2 == 1:\n",
    "\t\tresult = list[int((length-1)/2)]\n",
    "\t\t\n",
    "\t\treturn result\n",
    "\telse:\n",
    "\t\tresult = (list[int(length/2)] + list[int(length/2)-1])/2\n",
    "\t\t\n",
    "\t\treturn result\n"
   ]
  },
  {
   "cell_type": "markdown",
   "metadata": {},
   "source": [
    "중앙값은 도수의 개수가 홀수일 때는 중간에 존재하는 값이고, 도수가 홀수일 때는 가운데 값 두개의 평균값으로 계산하므로, 두 경우를 나누어 계산해야 함"
   ]
  },
  {
   "cell_type": "markdown",
   "metadata": {},
   "source": [
    "## 1-2) 평균값 함수"
   ]
  },
  {
   "cell_type": "code",
   "execution_count": 2,
   "metadata": {
    "collapsed": true
   },
   "outputs": [],
   "source": [
    "def mean(list):\n",
    "\n",
    "\tlength = len(list)\n",
    "\n",
    "\tresult = sum(list)/len(list)\n",
    "\treturn result"
   ]
  },
  {
   "cell_type": "markdown",
   "metadata": {},
   "source": [
    "# 2. 명단 입력 알고리즘"
   ]
  },
  {
   "cell_type": "markdown",
   "metadata": {},
   "source": [
    "## 2-1) 명단 입력 쉘"
   ]
  },
  {
   "cell_type": "code",
   "execution_count": 3,
   "metadata": {
    "collapsed": false
   },
   "outputs": [
    {
     "name": "stdout",
     "output_type": "stream",
     "text": [
      "입력양식 : 이름, 키, 몸무게, 좋아하는 브랜드\n",
      "(중단을 원하면 n 입력)\n",
      " \n",
      "> 윤규, 176, 61, 아디다스\n",
      "> 선민, 164, 53, 퓨마\n",
      "> 사강, 166, 51, 삼성\n",
      "> 재성, 173, 63, 아디다스\n",
      "> 수연, 163, 46, 나이키\n",
      "> 세영, 175, 66, 삼성\n",
      "> 봉수, 163, 60, 아디다스\n",
      "> 세환, 164, 58, 버버리\n",
      "> 민지, 167, 58, 아딸\n",
      "> 동원, 178, 65, 모나미\n",
      "> n\n"
     ]
    }
   ],
   "source": [
    "print('입력양식 : 이름, 키, 몸무게, 좋아하는 브랜드')\n",
    "print('(중단을 원하면 n 입력)')\n",
    "print(' ')\n",
    "people = {}\n",
    "\n",
    "\n",
    "while True:\n",
    "\tline = input('> ')\n",
    "\tif line.lower() == 'n':\n",
    "\t\tbreak\n",
    "\n",
    "\tname, height, weight, brand = line.split(',')\n",
    "\n",
    "\tpeople[name] = {\n",
    "\t\t'height' : int(height),\n",
    "\t\t'weight' : int(weight),\n",
    "\t\t'brand' : brand,\n",
    "\t}"
   ]
  },
  {
   "cell_type": "markdown",
   "metadata": {},
   "source": [
    "## 2-2) 목록 리스트 제작"
   ]
  },
  {
   "cell_type": "code",
   "execution_count": 4,
   "metadata": {
    "collapsed": true
   },
   "outputs": [],
   "source": [
    "height_list = []\n",
    "weight_list = []\n",
    "brand_list = []\n",
    "\n",
    "for name in people:\n",
    "\theight_list.append(people[name]['height'])\n",
    "\tweight_list.append(people[name]['weight'])\n",
    "\tbrand_list.append(people[name]['brand'])"
   ]
  },
  {
   "cell_type": "markdown",
   "metadata": {},
   "source": [
    "## 2-3) 브랜드 랭킹 결정 툴"
   ]
  },
  {
   "cell_type": "code",
   "execution_count": 18,
   "metadata": {
    "collapsed": true
   },
   "outputs": [],
   "source": [
    "brand_rank = {}\n",
    "\n",
    "for brand in brand_list:\n",
    "\tif brand in brand_rank:\n",
    "\t\tbrand_rank[brand] += 1\n",
    "\telse:\n",
    "\t\tbrand_rank[brand] = 1\n",
    "\n",
    "import operator\n",
    "ranking = sorted(brand_rank.items(), key=operator.itemgetter(1),reverse=True)"
   ]
  },
  {
   "cell_type": "markdown",
   "metadata": {},
   "source": [
    "## 2-4) 결과 출력"
   ]
  },
  {
   "cell_type": "code",
   "execution_count": 19,
   "metadata": {
    "collapsed": false
   },
   "outputs": [
    {
     "name": "stdout",
     "output_type": "stream",
     "text": [
      "키 : 최소163, 최대178, 평균168.9, 중앙값166.5\n",
      "몸무게 : 최소46, 최대66, 평균58.1, 중앙값59.0\n",
      "브랜드 랭킹 : 1위 아디다스, 2위 삼성, 3위 버버리\n"
     ]
    }
   ],
   "source": [
    "print('키 : 최소{}, 최대{}, 평균{}, 중앙값{}'.format(min(height_list),max(height_list),mean(height_list),median(height_list)))\n",
    "print('몸무게 : 최소{}, 최대{}, 평균{}, 중앙값{}'.format(min(weight_list),max(weight_list),mean(weight_list),median(weight_list)))\n",
    "print('브랜드 랭킹 : 1위{}, 2위{}, 3위{}'.format(ranking[0][0],ranking[1][0],ranking[2][0]))"
   ]
  },
  {
   "cell_type": "code",
   "execution_count": null,
   "metadata": {
    "collapsed": true
   },
   "outputs": [],
   "source": []
  },
  {
   "cell_type": "code",
   "execution_count": null,
   "metadata": {
    "collapsed": true
   },
   "outputs": [],
   "source": []
  }
 ],
 "metadata": {
  "anaconda-cloud": {},
  "kernelspec": {
   "display_name": "Python [Root]",
   "language": "python",
   "name": "Python [Root]"
  },
  "language_info": {
   "codemirror_mode": {
    "name": "ipython",
    "version": 3
   },
   "file_extension": ".py",
   "mimetype": "text/x-python",
   "name": "python",
   "nbconvert_exporter": "python",
   "pygments_lexer": "ipython3",
   "version": "3.5.2"
  }
 },
 "nbformat": 4,
 "nbformat_minor": 0
}
