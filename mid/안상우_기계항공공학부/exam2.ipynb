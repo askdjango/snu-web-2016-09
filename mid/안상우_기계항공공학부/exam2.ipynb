{
 "cells": [
  {
   "cell_type": "code",
   "execution_count": 9,
   "metadata": {
    "collapsed": false
   },
   "outputs": [
    {
     "name": "stdout",
     "output_type": "stream",
     "text": [
      "입력양식 : 이름, 키, 몸무게, 좋아하는브랜드\n",
      "(중단 : n)\n",
      "\n",
      ">aaa, 165, 50, a\n",
      ">bbb, 175, 60, a\n",
      ">ccc, 160, 45, c\n",
      ">ddd, 185, 80, d\n",
      ">eee, 172, 70, a\n",
      ">fff, 170, 60, c\n",
      ">ggg, 160, 65, d\n",
      ">hhh, 150, 30, c\n",
      ">iii, 176, 64, a\n",
      ">jjj, 177, 65, c\n",
      ">kkk, 190, 90, d\n",
      ">lll, 150, 55, a\n",
      ">n\n",
      "키\n",
      " 최대값 :   190 \n",
      " 최소값 :   150 \n",
      " 평균값 :  169.16666666666666 \n",
      " 중위값 :   172 ,  170 \n",
      "\n",
      "몸무게\n",
      " 최대값 :   90 \n",
      " 최소값 :   30 \n",
      " 평균값 :  61.166666666666664 \n",
      " 중위값 :   64 ,  60\n",
      "사람들이 좋아하는 브랜드 랭킹 TOP 1 :  a\n",
      "사람들이 좋아하는 브랜드 랭킹 TOP 2 :  c\n",
      "사람들이 좋아하는 브랜드 랭킹 TOP 3 :  d\n"
     ]
    }
   ],
   "source": [
    "print(\"입력양식 : 이름, 키, 몸무게, 좋아하는브랜드\")\n",
    "print(\"(중단 : n)\")\n",
    "print('')\n",
    "\n",
    "people = {}\n",
    "names = []\n",
    "heights = []\n",
    "weights = []\n",
    "brands = []\n",
    "brand_score = {}\n",
    "\n",
    "while True :\n",
    "    line = input('>')\n",
    "    if line.lower() == 'n' :\n",
    "        break\n",
    "\n",
    "    name, height, weight, brand = line.split(',')\n",
    "    names.append(name)\n",
    "    heights.append(height)\n",
    "    weights.append(weight)\n",
    "    brands.append(brand)\n",
    "\n",
    "heights.sort()\n",
    "weights.sort()\n",
    "\n",
    "p = len(names)\n",
    "\n",
    "def average(list):\n",
    "    sum = 0\n",
    "    for q in list :\n",
    "        sum = sum + int(q)\n",
    "    average = sum / len(list)\n",
    "    return average\n",
    "\n",
    "\n",
    "\n",
    "if p %2 == 0 :\n",
    "    p = p/2\n",
    "    print(\"키\" \"\\n\", \"최대값 : \", max(heights), \"\\n\", \"최소값 : \", min(heights), \"\\n\", \"평균값 : \", average(heights), \"\\n\", \"중위값 : \", heights[int(p)], \",\", heights[int(p-1)], '\\n')\n",
    "    print(\"몸무게\" \"\\n\", \"최대값 : \", max(weights), \"\\n\", \"최소값 : \", min(weights), \"\\n\", \"평균값 : \",average(weights),  \"\\n\",\"중위값 : \", weights[int(p)], \",\", weights[int(p-1)])\n",
    "else :\n",
    "    p = p/2\n",
    "    print(\"키\" \"\\n\", \"최대값 : \", max(heights), \"\\n\", \"최소값 : \", min(heights), \"\\n\", \"평균값 : \",average(heights),  \"\\n\", \"중위값 : \", heights[int(p)], '\\n')\n",
    "    print(\"몸무게\" \"\\n\", \"최대값 : \", max(weights), \"\\n\", \"최소값 : \", min(weights), \"\\n\", \"평균값 : \",average(weights),  \"\\n\",\"중위값 : \", weights[int(p)])\n",
    "\n",
    "    \n",
    "for i in list(brands) :\n",
    "    if i not in brand_score :\n",
    "        brand_score[i] = 1\n",
    "    elif i in brand_score :\n",
    "        brand_score[i] += 1\n",
    "\n",
    "sorted_brand_score = sorted(brand_score, key=brand_score.get, reverse=True)\n",
    "for r in range(1,4):\n",
    "    print(\"사람들이 좋아하는 브랜드 랭킹 TOP\", r, \":\", sorted_brand_score[r-1])"
   ]
  },
  {
   "cell_type": "code",
   "execution_count": null,
   "metadata": {
    "collapsed": true
   },
   "outputs": [],
   "source": []
  }
 ],
 "metadata": {
  "anaconda-cloud": {},
  "kernelspec": {
   "display_name": "Python [Root]",
   "language": "python",
   "name": "Python [Root]"
  },
  "language_info": {
   "codemirror_mode": {
    "name": "ipython",
    "version": 3
   },
   "file_extension": ".py",
   "mimetype": "text/x-python",
   "name": "python",
   "nbconvert_exporter": "python",
   "pygments_lexer": "ipython3",
   "version": "3.5.2"
  }
 },
 "nbformat": 4,
 "nbformat_minor": 0
}
