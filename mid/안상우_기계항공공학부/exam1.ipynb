{
 "cells": [
  {
   "cell_type": "code",
   "execution_count": 20,
   "metadata": {
    "collapsed": false
   },
   "outputs": [
    {
     "name": "stdout",
     "output_type": "stream",
     "text": [
      "size? 5\n",
      "*\n",
      "**\n",
      "***\n",
      "****\n",
      "*****\n"
     ]
    }
   ],
   "source": [
    "def stairs_right():\n",
    "    size = int(input('size? '))\n",
    "    for i in range(1,size+1):\n",
    "        print('*'*i)\n",
    "        \n",
    "stairs_right()"
   ]
  },
  {
   "cell_type": "code",
   "execution_count": 26,
   "metadata": {
    "collapsed": false,
    "scrolled": false
   },
   "outputs": [
    {
     "name": "stdout",
     "output_type": "stream",
     "text": [
      "size? 5\n",
      "    *\n",
      "   **\n",
      "  ***\n",
      " ****\n",
      "*****\n"
     ]
    }
   ],
   "source": [
    "def stairs_left():\n",
    "    size = int(input('size? '))\n",
    "    for i in range(1,size+1):\n",
    "        space = size-i\n",
    "        print(('{}{}'.format(' '*space,'*'*i)))\n",
    "\n",
    "stairs_left()"
   ]
  },
  {
   "cell_type": "code",
   "execution_count": 25,
   "metadata": {
    "collapsed": false
   },
   "outputs": [
    {
     "name": "stdout",
     "output_type": "stream",
     "text": [
      "size? 5\n",
      "    *\n",
      "   ***\n",
      "  *****\n",
      " *******\n",
      "*********\n"
     ]
    }
   ],
   "source": [
    "def stairs_both():\n",
    "    size = int(input('size? '))\n",
    "    for i in range(1,size+1):\n",
    "        space = size-i\n",
    "        print(('{}{}'.format(' '*space,'*'*(2*i-1))))\n",
    "\n",
    "stairs_both()"
   ]
  },
  {
   "cell_type": "code",
   "execution_count": 24,
   "metadata": {
    "collapsed": false
   },
   "outputs": [
    {
     "name": "stdout",
     "output_type": "stream",
     "text": [
      "size? 5\n",
      "*********\n",
      " *******\n",
      "  *****\n",
      "   ***\n",
      "    *\n"
     ]
    }
   ],
   "source": [
    "def stairs_reverse():\n",
    "    size = int(input('size? '))\n",
    "    for i in range(size,0,-1):\n",
    "        space = size-i\n",
    "        print(('{}{}'.format(' '*space,'*'*(2*i-1))))\n",
    "\n",
    "stairs_reverse()"
   ]
  },
  {
   "cell_type": "code",
   "execution_count": 37,
   "metadata": {
    "collapsed": false
   },
   "outputs": [
    {
     "name": "stdout",
     "output_type": "stream",
     "text": [
      "size? 5\n",
      "    *\n",
      "   ***\n",
      "  *****\n",
      " *******\n",
      "*********\n",
      " *******\n",
      "  *****\n",
      "   ***\n",
      "    *\n"
     ]
    }
   ],
   "source": [
    "def stairs_rhombus():\n",
    "    size = int(input('size? '))\n",
    "    for i in range(1,size):\n",
    "        space = size-i\n",
    "        print(('{}{}'.format(' '*space,'*'*(2*i-1))))\n",
    "    for i in range(size,0,-1):\n",
    "        space = size-i\n",
    "        print(('{}{}'.format(' '*space,'*'*(2*i-1))))\n",
    "\n",
    "stairs_rhombus()"
   ]
  },
  {
   "cell_type": "code",
   "execution_count": 39,
   "metadata": {
    "collapsed": false
   },
   "outputs": [
    {
     "name": "stdout",
     "output_type": "stream",
     "text": [
      "size? 5\n",
      "    #\n",
      "   #*#\n",
      "  #***#\n",
      " #*****#\n",
      "#*******#\n",
      " #*****#\n",
      "  #***#\n",
      "   #*#\n",
      "    #\n"
     ]
    }
   ],
   "source": [
    "def stairs_sharprhombus():\n",
    "    size = int(input('size? '))\n",
    "    for i in range(1,size):\n",
    "        if i==1:\n",
    "            space = size-i\n",
    "            print('{}{}'.format(' '*space, '#'))\n",
    "        else:\n",
    "            space = size-i\n",
    "            print(('{}{}{}{}'.format(' '*space, '#', '*'*(2*i-3), '#')))\n",
    "    for i in range(size,0,-1):\n",
    "        if i==1:\n",
    "            space = size-i\n",
    "            print('{}{}'.format(' '*space, '#'))\n",
    "        else:\n",
    "            space = size-i\n",
    "            print(('{}{}{}{}'.format(' '*space, '#', '*'*(2*i-3),'#')))\n",
    "\n",
    "stairs_sharprhombus()"
   ]
  }
 ],
 "metadata": {
  "kernelspec": {
   "display_name": "Python [Root]",
   "language": "python",
   "name": "Python [Root]"
  },
  "language_info": {
   "codemirror_mode": {
    "name": "ipython",
    "version": 3
   },
   "file_extension": ".py",
   "mimetype": "text/x-python",
   "name": "python",
   "nbconvert_exporter": "python",
   "pygments_lexer": "ipython3",
   "version": "3.5.2"
  }
 },
 "nbformat": 4,
 "nbformat_minor": 0
}
