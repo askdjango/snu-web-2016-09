{
 "cells": [
  {
   "cell_type": "markdown",
   "metadata": {},
   "source": [
    "## 문제 2\n",
    "\n",
    "아래 코드를 보완하여, 명단 관리 프로그램을 완성하세요.\n",
    " * 항상 유저가 입력양식에 맞춰 입력함을 가정합니다.\n",
    " * 10명 이상의 데이터를 입력받을 것\n",
    "\n",
    "입력이 완료되면\n",
    "\n",
    " * 키와 몸무게의 최소값, 최대값, 평균값, 중위값을 출력할 것\n",
    " * 좋아하는 브랜드 랭킹 TOP 3 출력할 것"
   ]
  },
  {
   "cell_type": "code",
   "execution_count": 1,
   "metadata": {
    "collapsed": true
   },
   "outputs": [],
   "source": [
    "from collections import defaultdict\n",
    "# from statistics import median\n",
    "\n",
    "\n",
    "class MyList(list):\n",
    "    def __init__(self, *args, **kwargs):\n",
    "        super().__init__(*args, **kwargs)\n",
    "\n",
    "    def min(self):\n",
    "        return min(self)\n",
    "\n",
    "    def max(self):\n",
    "        return max(self)\n",
    "\n",
    "    def average(self):\n",
    "        return sum(self) / len(self)\n",
    "\n",
    "    def median(self):\n",
    "        sorted_list = sorted(self)\n",
    "        center_index = len(sorted_list) // 2\n",
    "\n",
    "        if len(sorted_list) % 2 == 1:\n",
    "            return sorted_list[center_index]\n",
    "        else:\n",
    "            return (sorted_list[center_index-1] + sorted_list[center_index]) / 2\n",
    "\n",
    "    def top(self):\n",
    "        counter_dict = defaultdict(int)\n",
    "        for name in self:\n",
    "            counter_dict[name] += 1\n",
    "\n",
    "        rank_dict = defaultdict(list)\n",
    "        for name, count in counter_dict.items():\n",
    "            rank_dict[count].append(name)\n",
    "\n",
    "        result = []\n",
    "        for count in sorted(rank_dict.keys(), reverse=True):\n",
    "            result.append((count, rank_dict[count]))\n",
    "        return result"
   ]
  },
  {
   "cell_type": "code",
   "execution_count": 2,
   "metadata": {
    "collapsed": false
   },
   "outputs": [
    {
     "name": "stdout",
     "output_type": "stream",
     "text": [
      "입력양식 : 이름, 키, 몸무게, 좋아하는브랜드\n",
      "(중단 : n)\n",
      "\n",
      "Jimmy, 159, 48, Apple\n",
      "Tom, 150, 40, Apple\n",
      "Steve, 155, 45, Samsung\n",
      "Jobs, 157, 40, Samsung\n",
      "Olivia, 152, 43, Apple\n",
      "Tim, 148, 50, Sony\n",
      "Han, 152, 41, Sony\n",
      "Cook, 150, 43, Apple\n",
      "Ronaldo, 165, 55, Sony\n",
      "Zidane, 167, 60, Kakao\n",
      "Ballack, 170, 52, Dell\n",
      "Django, 172, 60, Python\n",
      "Kim, 165, 59, Kakao\n",
      "n\n",
      "키     : 최소 148.0, 최대 172.0, 평균 158.6153846153846, 중위 157.0\n",
      "몸무게 : 최소  40.0, 최대  60.0, 평균 48.92307692307692, 중위  48.0\n",
      "브랜드 TOP 3\n",
      "[' Apple'] 4\n",
      "[' Sony'] 3\n",
      "[' Kakao', ' Samsung'] 2\n"
     ]
    }
   ],
   "source": [
    "    print('입력양식 : 이름, 키, 몸무게, 좋아하는브랜드')\n",
    "    print('(중단 : n)')\n",
    "    print('')\n",
    "\n",
    "    people = {}\n",
    "\n",
    "    while True:\n",
    "        line = input('')\n",
    "\n",
    "        if line.lower() == 'n':\n",
    "            break\n",
    "\n",
    "        name, height, weight, brand = line.split(',')\n",
    "        people[name] = {\n",
    "            'name': name,\n",
    "            'height': float(height),\n",
    "            'weight': float(weight),\n",
    "            'brand': brand,\n",
    "        }\n",
    "\n",
    "    height_list = MyList(value['height'] for value in people.values())\n",
    "    weight_list = MyList(value['weight'] for value in people.values())\n",
    "    brand_list = MyList(value['brand'] for value in people.values())\n",
    "\n",
    "    print('키     : 최소 {:5}, 최대 {:5}, 평균 {:5}, 중위 {:5}'.format(\n",
    "        height_list.min(), height_list.max(), height_list.average(), height_list.median()))\n",
    "    print('몸무게 : 최소 {:5}, 최대 {:5}, 평균 {:5}, 중위 {:5}'.format(\n",
    "        weight_list.min(), weight_list.max(), weight_list.average(), weight_list.median()))\n",
    "\n",
    "    print('브랜드 TOP 3')\n",
    "    for count, names in brand_list.top()[:3]:\n",
    "        print(names, count)"
   ]
  },
  {
   "cell_type": "code",
   "execution_count": null,
   "metadata": {
    "collapsed": true
   },
   "outputs": [],
   "source": []
  }
 ],
 "metadata": {
  "anaconda-cloud": {},
  "kernelspec": {
   "display_name": "Python [conda root]",
   "language": "python",
   "name": "conda-root-py"
  },
  "language_info": {
   "codemirror_mode": {
    "name": "ipython",
    "version": 3
   },
   "file_extension": ".py",
   "mimetype": "text/x-python",
   "name": "python",
   "nbconvert_exporter": "python",
   "pygments_lexer": "ipython3",
   "version": "3.5.2"
  }
 },
 "nbformat": 4,
 "nbformat_minor": 1
}
