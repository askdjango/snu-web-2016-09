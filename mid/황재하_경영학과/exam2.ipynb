{
 "cells": [
  {
   "cell_type": "markdown",
   "metadata": {},
   "source": [
    "## 최소값, 최대값, 평균값, 중위값을 출력하는 함수 정의\n",
    "- 함수 설정을 보기 쉽게 하기 위해 별개의 cell로 저장하였음\n",
    "- kernel 재시작 시, 재정의가 필요한 경우가 있어 명단 관리 프로그램 실행 전 함수 정의를 실행해줄 것"
   ]
  },
  {
   "cell_type": "code",
   "execution_count": 1,
   "metadata": {
    "collapsed": false
   },
   "outputs": [],
   "source": [
    "def min(arg_list):\n",
    "    arg_list.sort()\n",
    "    min_value = arg_list[0]\n",
    "    return min_value   "
   ]
  },
  {
   "cell_type": "code",
   "execution_count": 2,
   "metadata": {
    "collapsed": false
   },
   "outputs": [],
   "source": [
    "def max(arg_list):\n",
    "    arg_list.sort(reverse=True)\n",
    "    max_value = arg_list[0]\n",
    "    return max_value"
   ]
  },
  {
   "cell_type": "code",
   "execution_count": 3,
   "metadata": {
    "collapsed": false
   },
   "outputs": [],
   "source": [
    "def average(arg_list):\n",
    "    total = 0\n",
    "    for arg in arg_list:\n",
    "        total += arg\n",
    "    average_value = total/len(arg_list)\n",
    "    return average_value"
   ]
  },
  {
   "cell_type": "code",
   "execution_count": 4,
   "metadata": {
    "collapsed": true
   },
   "outputs": [],
   "source": [
    "def mean(arg_list):\n",
    "    arg_list.sort()\n",
    "    mean_index =len(arg_list)//2\n",
    "    if len(arg_list)%2 == 0:\n",
    "        mean_value = (arg_list[mean_index -1] + arg_list[mean_index])/2\n",
    "    else:\n",
    "        mean_value = arg_list[mean_index]\n",
    "    return mean_value"
   ]
  },
  {
   "cell_type": "markdown",
   "metadata": {},
   "source": [
    "## 명단 관리 프로그램(뼈대 코드 수정)\n",
    "- 과제에서 요구하는 정보는 전체 통계치라서 개인 별 정보로 저장할 필요가 없음\n",
    "- 그래서 초기에 주어져있던 people(dict)과 name이라는 변수를 사용하지 않음\n",
    "- 개인 별 정보를 따로 저장해 놓는 people(dict)를 이용하는 방식은 아래의 cell에 따로 만들어 두었음"
   ]
  },
  {
   "cell_type": "code",
   "execution_count": 5,
   "metadata": {
    "collapsed": false
   },
   "outputs": [
    {
     "name": "stdout",
     "output_type": "stream",
     "text": [
      "입력양식 : 이름, 키, 몸무게, 좋아하는브랜드\n",
      "(중단 : n)\n",
      "\n",
      "> 황재하,170,60,유니클로\n",
      "> 양현서,172,70,유니클로\n",
      "> 김세헌,170,75,빈폴\n",
      "> 강우영,174,65,아디다스\n",
      "> 곽도섭,176,70,아디다스\n",
      "> 박종민,175,65,닥스\n",
      "> 이윤상,176,80,아디다스\n",
      "> 전형철,169,70,유니클로\n",
      "> 홍예지,160,48,빈폴\n",
      "> 최홍석,170,67,닥스\n",
      "> 신서빈,164,48,8seconds\n",
      "> 오슬기,177,68,스누프라이스\n",
      "> 유수정,158,45,발악\n",
      "> n\n",
      "\n",
      "인적사항 통계 자료\n",
      "사람들의 키      최소값: 158, 최대값: 177, 평균: 170.07692307692307, 중위값: 170입니다\n",
      "사람들의 몸무게  최소값: 45, 최대값: 80, 평균: 63.92307692307692, 중위값: 67입니다\n",
      "\n",
      "선호도 Top3 브랜드\n",
      "1위:  ['아디다스', '유니클로']  득표수:  3\n",
      "2위:  ['빈폴', '닥스']  득표수:  2\n",
      "3위:  ['발악', '8seconds', '스누프라이스'] 득표수:  1\n"
     ]
    }
   ],
   "source": [
    "height_list = []\n",
    "weight_list = []\n",
    "from collections import defaultdict\n",
    "brand_dict = defaultdict(int)\n",
    "\n",
    "print('입력양식 : 이름, 키, 몸무게, 좋아하는브랜드')\n",
    "print('(중단 : n)')\n",
    "print('')\n",
    "\n",
    "while True:\n",
    "    line = input('> ')\n",
    "    if line.lower() == 'n':\n",
    "        break\n",
    "    name, height, weight, brand = line.split(',')\n",
    "    height_list.append(int(height))\n",
    "    weight_list.append(int(weight))\n",
    "    brand_dict[brand] += 1\n",
    "\n",
    "print('\\n인적사항 통계 자료') \n",
    "print('사람들의 키      최소값: {}, 최대값: {}, 평균: {}, 중위값: {}입니다'\n",
    "      .format(min(height_list),max(height_list),average(height_list),mean(height_list)))\n",
    "print('사람들의 몸무게  최소값: {}, 최대값: {}, 평균: {}, 중위값: {}입니다'\n",
    "      .format(min(weight_list),max(weight_list),average(weight_list),mean(weight_list)))\n",
    "if len(height_list)%2 ==0:\n",
    "    print('''참고: 정중앙에 해당하는 값이 없으므로,\n",
    "중앙에 가장 근접한 두 값의 평균값을 중위값으로 계산합니다.''')\n",
    "\n",
    "first_value=0\n",
    "first_rank =[]\n",
    "second_value=0\n",
    "second_rank = []\n",
    "third_value=0\n",
    "third_rank = []\n",
    "for brand in brand_dict:\n",
    "    if brand_dict[brand] > first_value:\n",
    "        third_value = second_value\n",
    "        third_rank = second_rank\n",
    "        second_value = first_value\n",
    "        second_rank = first_rank\n",
    "        first_value = brand_dict[brand]\n",
    "        first_rank = [brand]\n",
    "    elif brand_dict[brand] == first_value:\n",
    "        first_rank.append(brand)\n",
    "    else:\n",
    "        if brand_dict[brand] > second_value:\n",
    "            third_value = second_value\n",
    "            third_rank = second_rank\n",
    "            second_value = brand_dict[brand]\n",
    "            second_rank = [brand]\n",
    "        elif brand_dict[brand] == second_value:\n",
    "            second_rank.append(brand)\n",
    "        else:\n",
    "            if brand_dict[brand] > third_value:\n",
    "                third_value = brand_dict[brand]\n",
    "                third_rank = [brand]\n",
    "            elif brand_dict[brand] == third_value:\n",
    "                third_rank.append(brand)\n",
    "\n",
    "print('\\n선호도 Top3 브랜드')\n",
    "if len(second_rank) == 0 and len(third_rank)== 0:\n",
    "    print('1위: ', first_rank,' 득표수:', first_value)\n",
    "    print('2위와 3위는 없습니다.')\n",
    "elif len(third_rank) == 0:\n",
    "    print('1위: ', first_rank, ' 득표수:', first_value)\n",
    "    print('2위: ', second_rank,' 득표수:', second_value)\n",
    "    print('3위는 없습니다.')\n",
    "else:\n",
    "    print('1위: ', first_rank, ' 득표수: ', first_value)\n",
    "    print('2위: ', second_rank, ' 득표수: ', second_value)\n",
    "    print('3위: ', third_rank, '득표수: ', third_value)"
   ]
  },
  {
   "cell_type": "markdown",
   "metadata": {},
   "source": [
    "##  명단 관리 프로그램\n",
    "- 주어진 뼈대 코드를 수정하지 않고 people(dict)에 개인 별 정보를 남겨둔 프로그램"
   ]
  },
  {
   "cell_type": "code",
   "execution_count": 11,
   "metadata": {
    "collapsed": false,
    "scrolled": false
   },
   "outputs": [
    {
     "name": "stdout",
     "output_type": "stream",
     "text": [
      "입력양식 : 이름, 키, 몸무게, 좋아하는브랜드\n",
      "(중단 : n)\n",
      "\n",
      "> n\n",
      "\n",
      "인적사항 통계 자료\n",
      "사람들의 키      최소값: 158, 최대값: 177, 평균: 170.07692307692307, 중위값: 170입니다\n",
      "사람들의 몸무게  최소값: 45, 최대값: 80, 평균: 63.92307692307692, 중위값: 67입니다\n",
      "\n",
      "선호도 Top3 브랜드\n",
      "1위:  ['유니클로', '아디다스']  득표수:  3\n",
      "2위:  ['빈폴', '닥스']  득표수:  2\n",
      "3위:  ['스누프라이스', '발악', '8seconds'] 득표수:  1\n"
     ]
    }
   ],
   "source": [
    "people = {}\n",
    "\n",
    "print('입력양식 : 이름, 키, 몸무게, 좋아하는브랜드')\n",
    "print('(중단 : n)')\n",
    "print('')\n",
    "\n",
    "while True:\n",
    "    line = input('> ')\n",
    "    if line.lower() == 'n':\n",
    "        break\n",
    "    name, height, weight, brand = line.split(',')\n",
    "    people[name] = {'height': int(height), 'weight':int(weight), 'brand': brand}\n",
    "\n",
    "\n",
    "height_list = []\n",
    "weight_list = []\n",
    "from collections import defaultdict\n",
    "brand_dict = defaultdict(int)\n",
    "\n",
    "\n",
    "for name in people:\n",
    "    height_list.append(people[name]['height'])\n",
    "    weight_list.append(people[name]['weight'])\n",
    "    for favor_brand in people[name]['brand'].split():\n",
    "        brand_dict[favor_brand] += 1\n",
    "\n",
    "print('\\n인적사항 통계 자료') \n",
    "print('사람들의 키      최소값: {}, 최대값: {}, 평균: {}, 중위값: {}입니다'\n",
    "      .format(min(height_list),max(height_list),average(height_list),mean(height_list)))\n",
    "print('사람들의 몸무게  최소값: {}, 최대값: {}, 평균: {}, 중위값: {}입니다'\n",
    "      .format(min(weight_list),max(weight_list),average(weight_list),mean(weight_list)))\n",
    "if len(people)%2 ==0:\n",
    "    print('''참고: 정중앙에 해당하는 값이 없으므로,\n",
    "중앙에 가장 근접한 두 값의 평균값을 중위값으로 계산합니다.''')\n",
    "\n",
    "first_value=0\n",
    "first_rank =[]\n",
    "second_value=0\n",
    "second_rank = []\n",
    "third_value=0\n",
    "third_rank = []\n",
    "for brand in brand_dict:\n",
    "    if brand_dict[brand] > first_value:\n",
    "        third_value = second_value\n",
    "        third_rank = second_rank\n",
    "        second_value = first_value\n",
    "        second_rank = first_rank\n",
    "        first_value = brand_dict[brand]\n",
    "        first_rank = [brand]\n",
    "    elif brand_dict[brand] == first_value:\n",
    "        first_rank.append(brand)\n",
    "    else:\n",
    "        if brand_dict[brand] > second_value:\n",
    "            third_value = second_value\n",
    "            third_rank = second_rank\n",
    "            second_value = brand_dict[brand]\n",
    "            second_rank = [brand]\n",
    "        elif brand_dict[brand] == second_value:\n",
    "            second_rank.append(brand)\n",
    "        else:\n",
    "            if brand_dict[brand] > third_value:\n",
    "                third_value = brand_dict[brand]\n",
    "                third_rank = [brand]\n",
    "            elif brand_dict[brand] == third_value:\n",
    "                third_rank.append(brand)\n",
    "\n",
    "print('\\n선호도 Top3 브랜드')\n",
    "if len(second_rank) == 0 and len(third_rank)== 0:\n",
    "    print('1위: ', first_rank,' 득표수:', first_value)\n",
    "    print('2위와 3위는 없습니다.')\n",
    "elif len(third_rank) == 0:\n",
    "    print('1위: ', first_rank, ' 득표수:', first_value)\n",
    "    print('2위: ', second_rank,' 득표수:', second_value)\n",
    "    print('3위는 없습니다.')\n",
    "else:\n",
    "    print('1위: ', first_rank, ' 득표수: ', first_value)\n",
    "    print('2위: ', second_rank, ' 득표수: ', second_value)\n",
    "    print('3위: ', third_rank, '득표수: ', third_value)"
   ]
  },
  {
   "cell_type": "markdown",
   "metadata": {},
   "source": [
    "## 공동 순위 발생 시, 차순위를 생략하는 Top3 선발 방식\n",
    "- ex) 공동 1위 2명 발생 시, 2위는 생략 3위 발표"
   ]
  },
  {
   "cell_type": "code",
   "execution_count": 11,
   "metadata": {
    "collapsed": false
   },
   "outputs": [
    {
     "name": "stdout",
     "output_type": "stream",
     "text": [
      "\n",
      "선호 브랜드 Top3\n",
      "1위:  ['유니클로']  득표수: 2\n",
      "2위와 3위는 없습니다.\n"
     ]
    }
   ],
   "source": [
    "print('\\n선호 브랜드 Top3')\n",
    "if len(brand_dict) >= 3:\n",
    "    if len(first_rank) >= 3:\n",
    "        print('공동 1위: ', first_rank,' 득표수:', first_value)\n",
    "    elif len(first_rank)== 2 and len(second_rank)== 1:\n",
    "        print('공동 1위: ', first_rank, ' 득표수:', first_value)\n",
    "        print('3위: ', second_rank, ' 득표수:',second_value)\n",
    "    elif len(first_rank)== 2 and len(second_rank) > 1:\n",
    "        print('공동 1위: ', first_rank, ' 득표수:', first_value)\n",
    "        print('공동 3위: ', second_rank, ' 득표수:', second_value)\n",
    "    elif len(first_rank) == 1 and len(second_rank) > 1:\n",
    "        print('1위: ', first_rank, ' 득표수:', first_value)\n",
    "        print('공동 2위: ', second_rank, ' 득표수:', second_value)\n",
    "    elif len(first_rank) == 1 and len(second_rank)== 1 and len(third_rank)>1:\n",
    "        print('1위: ', first_rank, ' 득표수:', first_value)\n",
    "        print('2위: ', second_rank,' 득표수:', second_value)\n",
    "        print('공동 3위: ', third_rank, ' 득표수:', third_value)\n",
    "    else:\n",
    "        print('1위: ', first_rank, ' 득표수:', first_value)\n",
    "        print('2위: ', second_rank,' 득표수:', second_value)\n",
    "        print('3위: ', third_rank, ' 득표수:', third_value)\n",
    "elif len(brand_dict) == 2:\n",
    "    if len(first_rank) == 2:\n",
    "        print('공동 1위: ', first_rank,' 득표수:', first_value)\n",
    "        print('2위와 3위는 없습니다.')\n",
    "    else:\n",
    "        print('1위: ', first_rank, ' 득표수:', first_value)\n",
    "        print('2위: ', second_rank,' 득표수:', second_value)\n",
    "        print('3위는 없습니다.')\n",
    "else:\n",
    "    print('1위: ', first_rank,' 득표수:', first_value)\n",
    "    print('2위와 3위는 없습니다.')"
   ]
  },
  {
   "cell_type": "markdown",
   "metadata": {},
   "source": [
    "## 정상 실행 확인용 명단\n",
    "- 실행을 확인할 때마다 명단을 입력하는게 번거로워 미리 만들어둔 임의의 명단(13명)입니다\n",
    "- 아래의 cell을 프로그램 첫부분 (people = { })에 덮어쓰기"
   ]
  },
  {
   "cell_type": "code",
   "execution_count": null,
   "metadata": {
    "collapsed": true
   },
   "outputs": [],
   "source": [
    "people = {\n",
    "    '황재하': {'height':170 , 'weight':60 , 'brand':'유니클로' },\n",
    "    '양현서': {'height':172 , 'weight':70 , 'brand':'유니클로' },\n",
    "    '김세헌': {'height':170 , 'weight':75 , 'brand':'빈폴'},\n",
    "    '강우영': {'height':174 , 'weight':65 , 'brand':'아디다스' },\n",
    "    '곽도섭': {'height':176 , 'weight':70 , 'brand':'아디다스' },\n",
    "    '박종민': {'height':175 , 'weight':65 , 'brand':'닥스' },\n",
    "    '이윤상': {'height':176 , 'weight':80 , 'brand':'아디다스' },\n",
    "    '전형철': {'height':169 , 'weight':70 , 'brand':'유니클로' },\n",
    "    '홍예지': {'height':160 , 'weight':48 , 'brand':'빈폴' },\n",
    "    '최홍석': {'height':170 , 'weight':67 , 'brand':'닥스' },\n",
    "    '신서빈': {'height':164 , 'weight':48 , 'brand':'8seconds' },\n",
    "    '오슬기': {'height':177 , 'weight':68 , 'brand':'스누프라이스' },\n",
    "    '유수정': {'height':158 , 'weight':45 , 'brand':'발악' }}"
   ]
  }
 ],
 "metadata": {
  "anaconda-cloud": {},
  "kernelspec": {
   "display_name": "Python [Root]",
   "language": "python",
   "name": "Python [Root]"
  },
  "language_info": {
   "codemirror_mode": {
    "name": "ipython",
    "version": 3
   },
   "file_extension": ".py",
   "mimetype": "text/x-python",
   "name": "python",
   "nbconvert_exporter": "python",
   "pygments_lexer": "ipython3",
   "version": "3.5.2"
  }
 },
 "nbformat": 4,
 "nbformat_minor": 0
}
