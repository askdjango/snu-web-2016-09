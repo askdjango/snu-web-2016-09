{
 "cells": [
  {
   "cell_type": "markdown",
   "metadata": {},
   "source": [
    "## Case #1 함수 정의"
   ]
  },
  {
   "cell_type": "code",
   "execution_count": 30,
   "metadata": {
    "collapsed": false
   },
   "outputs": [],
   "source": [
    "def diamond_1(size):\n",
    "    wide = '{:<' + str(size) + '}'\n",
    "    floor = 1\n",
    "    while floor <= size:\n",
    "        amount = floor\n",
    "        print(wide.format('*'*amount))\n",
    "        floor += 1"
   ]
  },
  {
   "cell_type": "markdown",
   "metadata": {},
   "source": [
    "## Case #1 함수 이용"
   ]
  },
  {
   "cell_type": "code",
   "execution_count": 31,
   "metadata": {
    "collapsed": false,
    "scrolled": true
   },
   "outputs": [
    {
     "name": "stdout",
     "output_type": "stream",
     "text": [
      "몇 층의 삼각형을 만들까요? 5\n",
      "*    \n",
      "**   \n",
      "***  \n",
      "**** \n",
      "*****\n"
     ]
    }
   ],
   "source": [
    "size= int(input(\"몇 층의 삼각형을 만들까요? \"))\n",
    "diamond_1(size)"
   ]
  },
  {
   "cell_type": "markdown",
   "metadata": {},
   "source": [
    "## Case #2 함수정의"
   ]
  },
  {
   "cell_type": "code",
   "execution_count": 34,
   "metadata": {
    "collapsed": true
   },
   "outputs": [],
   "source": [
    "def diamond_2(size):\n",
    "    wide = '{:>' + str(size) + '}'\n",
    "    floor = 1\n",
    "    while floor <= size:\n",
    "        amount = floor\n",
    "        print(wide.format('*'*amount))\n",
    "        floor += 1"
   ]
  },
  {
   "cell_type": "markdown",
   "metadata": {},
   "source": [
    "## Case #2 함수 이용"
   ]
  },
  {
   "cell_type": "code",
   "execution_count": 35,
   "metadata": {
    "collapsed": false,
    "scrolled": true
   },
   "outputs": [
    {
     "name": "stdout",
     "output_type": "stream",
     "text": [
      "몇 층의 삼각형을 만들까요? 5\n",
      "    *\n",
      "   **\n",
      "  ***\n",
      " ****\n",
      "*****\n"
     ]
    }
   ],
   "source": [
    "size= int(input(\"몇 층의 삼각형을 만들까요? \"))\n",
    "diamond_2(size)"
   ]
  },
  {
   "cell_type": "markdown",
   "metadata": {},
   "source": [
    "## Case #3 함수 정의"
   ]
  },
  {
   "cell_type": "code",
   "execution_count": 36,
   "metadata": {
    "collapsed": true
   },
   "outputs": [],
   "source": [
    "def diamond_3(size):\n",
    "    wide = '{:^' + str((size*2)-1) + '}'\n",
    "    floor = 1\n",
    "    while floor <= size:\n",
    "        amount = floor*2 -1\n",
    "        print(wide.format('*'*amount))\n",
    "        floor += 1"
   ]
  },
  {
   "cell_type": "markdown",
   "metadata": {},
   "source": [
    "## Case #3 함수 이용"
   ]
  },
  {
   "cell_type": "code",
   "execution_count": 37,
   "metadata": {
    "collapsed": false,
    "scrolled": true
   },
   "outputs": [
    {
     "name": "stdout",
     "output_type": "stream",
     "text": [
      "몇 층의 탑을 만들까요? 6\n",
      "     *     \n",
      "    ***    \n",
      "   *****   \n",
      "  *******  \n",
      " ********* \n",
      "***********\n"
     ]
    }
   ],
   "source": [
    "size= int(input(\"몇 층의 탑을 만들까요? \"))\n",
    "diamond_3(size)"
   ]
  },
  {
   "cell_type": "markdown",
   "metadata": {},
   "source": [
    "## Case #4 함수 정의"
   ]
  },
  {
   "cell_type": "code",
   "execution_count": 38,
   "metadata": {
    "collapsed": true
   },
   "outputs": [],
   "source": [
    "def diamond_4(size):\n",
    "    wide = '{:^' + str((size*2)-1) + '}'\n",
    "    floor = 1\n",
    "    while floor <= size:\n",
    "        amount = (size-floor+1)*2 - 1\n",
    "        print(wide.format('*'*amount))\n",
    "        floor += 1"
   ]
  },
  {
   "cell_type": "markdown",
   "metadata": {},
   "source": [
    "## Case #4 함수 이용"
   ]
  },
  {
   "cell_type": "code",
   "execution_count": 39,
   "metadata": {
    "collapsed": false
   },
   "outputs": [
    {
     "name": "stdout",
     "output_type": "stream",
     "text": [
      "몇 층의 탑을 만들까요? 5\n",
      "*********\n",
      " ******* \n",
      "  *****  \n",
      "   ***   \n",
      "    *    \n"
     ]
    }
   ],
   "source": [
    "size= int(input(\"몇 층의 탑을 만들까요? \"))\n",
    "diamond_4(size)"
   ]
  },
  {
   "cell_type": "markdown",
   "metadata": {},
   "source": [
    "## Case #5 함수 정의"
   ]
  },
  {
   "cell_type": "code",
   "execution_count": 40,
   "metadata": {
    "collapsed": true
   },
   "outputs": [],
   "source": [
    "def diamond_5(size):\n",
    "    wide = '{:^' + str((size*2) - 1) + '}'\n",
    "    floor = 1\n",
    "    while floor < size:\n",
    "        amount = floor*2 -1\n",
    "        print(wide.format('*'*amount))\n",
    "        floor += 1\n",
    "    while floor >= 1:\n",
    "        amount = floor*2 - 1\n",
    "        print(wide.format('*'*amount))\n",
    "        floor -= 1"
   ]
  },
  {
   "cell_type": "markdown",
   "metadata": {},
   "source": [
    "## Case #5 함수 이용"
   ]
  },
  {
   "cell_type": "code",
   "execution_count": 41,
   "metadata": {
    "collapsed": false
   },
   "outputs": [
    {
     "name": "stdout",
     "output_type": "stream",
     "text": [
      "몇 층까지 넓어지는 다이아몬드를 만들까요?: 5\n",
      "    *    \n",
      "   ***   \n",
      "  *****  \n",
      " ******* \n",
      "*********\n",
      " ******* \n",
      "  *****  \n",
      "   ***   \n",
      "    *    \n"
     ]
    }
   ],
   "source": [
    "size = int(input(\"몇 층까지 넓어지는 다이아몬드를 만들까요?: \"))\n",
    "diamond_5(size)"
   ]
  },
  {
   "cell_type": "markdown",
   "metadata": {},
   "source": [
    "## Case #6 함수 정의"
   ]
  },
  {
   "cell_type": "code",
   "execution_count": 43,
   "metadata": {
    "collapsed": false
   },
   "outputs": [],
   "source": [
    "def diamond_6(size):\n",
    "    wide = '{:^' + str((size*2) - 1) + '}'\n",
    "    print(wide.format('#'))\n",
    "    floor = 2\n",
    "    while floor < size:\n",
    "        amount = (floor-1)*2 -1\n",
    "        print(wide.format('#'+'*'*amount+'#'))\n",
    "        floor += 1\n",
    "    while floor > 1:\n",
    "        if size == 1:\n",
    "            break\n",
    "        amount = (floor-1)*2 - 1\n",
    "        print(wide.format('#'+'*'*amount+'#'))\n",
    "        floor -= 1\n",
    "    print(wide.format('#'))"
   ]
  },
  {
   "cell_type": "markdown",
   "metadata": {},
   "source": [
    "## Case #6 함수 이용"
   ]
  },
  {
   "cell_type": "code",
   "execution_count": 45,
   "metadata": {
    "collapsed": false
   },
   "outputs": [
    {
     "name": "stdout",
     "output_type": "stream",
     "text": [
      "몇 층까지 넓어지는 다이아몬드를 만들까요?: 1\n",
      "#\n",
      "#\n"
     ]
    }
   ],
   "source": [
    "size = int(input(\"몇 층까지 넓어지는 다이아몬드를 만들까요?: \"))\n",
    "diamond_6(size)"
   ]
  },
  {
   "cell_type": "code",
   "execution_count": null,
   "metadata": {
    "collapsed": true
   },
   "outputs": [],
   "source": []
  }
 ],
 "metadata": {
  "anaconda-cloud": {},
  "kernelspec": {
   "display_name": "Python [Root]",
   "language": "python",
   "name": "Python [Root]"
  },
  "language_info": {
   "codemirror_mode": {
    "name": "ipython",
    "version": 3
   },
   "file_extension": ".py",
   "mimetype": "text/x-python",
   "name": "python",
   "nbconvert_exporter": "python",
   "pygments_lexer": "ipython3",
   "version": "3.5.2"
  }
 },
 "nbformat": 4,
 "nbformat_minor": 0
}
