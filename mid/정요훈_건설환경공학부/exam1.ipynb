{
 "cells": [
  {
   "cell_type": "code",
   "execution_count": 55,
   "metadata": {
    "collapsed": false
   },
   "outputs": [
    {
     "name": "stdout",
     "output_type": "stream",
     "text": [
      "원하는 도형의 크기를 입력하시오 : 5\n",
      "*    \n",
      "**   \n",
      "***  \n",
      "**** \n",
      "*****\n"
     ]
    }
   ],
   "source": [
    "# Case #1\n",
    "size = int(input(\"원하는 도형의 크기를 입력하시오 : \"))\n",
    "formatter = '{:<' + str(size) +'}'\n",
    "\n",
    "for i in range(1, size+1):\n",
    "    amount = i\n",
    "    print(formatter.format('*' * amount))"
   ]
  },
  {
   "cell_type": "code",
   "execution_count": 52,
   "metadata": {
    "collapsed": false
   },
   "outputs": [
    {
     "name": "stdout",
     "output_type": "stream",
     "text": [
      "원하는 도형의 크기를 입력하시오 : 5\n",
      "    *\n",
      "   **\n",
      "  ***\n",
      " ****\n",
      "*****\n"
     ]
    }
   ],
   "source": [
    "# Case #2\n",
    "size = int(input(\"원하는 도형의 크기를 입력하시오 : \"))\n",
    "formatter = '{:>' + str(size) +'}'\n",
    "\n",
    "for i in range(1, size+1):\n",
    "    amount = i\n",
    "    print(formatter.format('*' * amount))"
   ]
  },
  {
   "cell_type": "code",
   "execution_count": 38,
   "metadata": {
    "collapsed": false
   },
   "outputs": [
    {
     "name": "stdout",
     "output_type": "stream",
     "text": [
      "원하는 도형의 크기를 입력하시오 : 5\n",
      "    *\n",
      "   ***\n",
      "  *****\n",
      " *******\n",
      "*********\n"
     ]
    }
   ],
   "source": [
    "# Case #3\n",
    "size = int(input(\"원하는 도형의 크기를 입력하시오 : \"))\n",
    "\n",
    "for i in range(1, size+1):\n",
    "    blank = size - i\n",
    "    star = 2 * i - 1\n",
    "    print('{}{}'.format(\" \" * blank, \"*\" * star))\n"
   ]
  },
  {
   "cell_type": "code",
   "execution_count": 42,
   "metadata": {
    "collapsed": false
   },
   "outputs": [
    {
     "name": "stdout",
     "output_type": "stream",
     "text": [
      "원하는 도형의 크기를 입력하시오 : 5\n",
      "*********\n",
      " *******\n",
      "  *****\n",
      "   ***\n",
      "    *\n"
     ]
    }
   ],
   "source": [
    "# Case #4\n",
    "size = int(input(\"원하는 도형의 크기를 입력하시오 : \"))\n",
    "\n",
    "for i in range(size, 0, -1):\n",
    "    blank = size - i\n",
    "    star = 2 * i - 1\n",
    "    print('{}{}'.format(\" \" * blank, \"*\" * star))"
   ]
  },
  {
   "cell_type": "code",
   "execution_count": 67,
   "metadata": {
    "collapsed": false
   },
   "outputs": [
    {
     "name": "stdout",
     "output_type": "stream",
     "text": [
      "원하는 도형의 크기를 입력하시오 : 5\n",
      "    *    \n",
      "   ***   \n",
      "  *****  \n",
      " ******* \n",
      "*********\n",
      " ******* \n",
      "  *****  \n",
      "   ***   \n",
      "    *    \n"
     ]
    }
   ],
   "source": [
    "# Case #5\n",
    "size = int(input(\"원하는 도형의 크기를 입력하시오 : \"))\n",
    "width = 2 * size - 1\n",
    "formatter = '{:^' + str(width) +'}'\n",
    "\n",
    "for i in range(1, size+1):\n",
    "    amount = 2 * i - 1\n",
    "    print(formatter.format('*' * amount))\n",
    "\n",
    "for i in range(size-1, 0, -1):\n",
    "    amount = 2 * i - 1\n",
    "    print(formatter.format('*' * amount))"
   ]
  },
  {
   "cell_type": "code",
   "execution_count": 78,
   "metadata": {
    "collapsed": false
   },
   "outputs": [
    {
     "name": "stdout",
     "output_type": "stream",
     "text": [
      "원하는 도형의 크기를 입력하시오 : 5\n",
      "    #    \n",
      "   #*#   \n",
      "  #***#  \n",
      " #*****# \n",
      "#*******#\n",
      " #*****# \n",
      "  #***#  \n",
      "   #*#   \n",
      "    #    \n"
     ]
    }
   ],
   "source": [
    "# Case #6\n",
    "size = int(input(\"원하는 도형의 크기를 입력하시오 : \"))\n",
    "width = 2 * size - 1\n",
    "formatter = '{:^' + str(width) +'}'\n",
    "print(formatter.format('#'))\n",
    "for i in range(2, size+1):\n",
    "    amount = 2 * i - 3\n",
    "    print(formatter.format('#'+ '*' * (amount) +'#'))\n",
    "    \n",
    "\n",
    "for i in range(size-1, 1, -1):\n",
    "    amount = 2 * i - 3\n",
    "    print(formatter.format('#'+ '*' * (amount) +'#'))\n",
    "print(formatter.format('#'))"
   ]
  },
  {
   "cell_type": "code",
   "execution_count": null,
   "metadata": {
    "collapsed": false
   },
   "outputs": [],
   "source": []
  },
  {
   "cell_type": "code",
   "execution_count": null,
   "metadata": {
    "collapsed": true
   },
   "outputs": [],
   "source": []
  }
 ],
 "metadata": {
  "kernelspec": {
   "display_name": "Python [conda root]",
   "language": "python",
   "name": "conda-root-py"
  },
  "language_info": {
   "codemirror_mode": {
    "name": "ipython",
    "version": 3
   },
   "file_extension": ".py",
   "mimetype": "text/x-python",
   "name": "python",
   "nbconvert_exporter": "python",
   "pygments_lexer": "ipython3",
   "version": "3.5.2"
  }
 },
 "nbformat": 4,
 "nbformat_minor": 1
}
