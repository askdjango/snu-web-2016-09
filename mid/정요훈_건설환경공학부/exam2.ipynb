{
 "cells": [
  {
   "cell_type": "code",
   "execution_count": null,
   "metadata": {
    "collapsed": false
   },
   "outputs": [],
   "source": [
    "print('입력양식 : 이름, 키, 몸무게, 좋아하는브랜드')\n",
    "print('(중단 : n)')\n",
    "print('')\n",
    "\n",
    "people = {}\n",
    "\n",
    "# 사전(Dictionary)를 이용해서 순서대로 이름, 키, 몸무게, 좋아하는브랜드 입력받기\n",
    "for i in range(1, 11):\n",
    "    name = input('{}번째 사람 이름은?'.format(i))\n",
    "    hight = int(input('{}번째 사람의 키는?'.format(name)))\n",
    "    weight = int(input('{}번째 사람의 몸무게는?'.format(name)))\n",
    "    brand = str(input('{}번째 사람이 좋아하는 브랜드는?'.format(name)))\n",
    "\n",
    "while True:\n",
    "    line = input('> ')\n",
    "    if line.lower() =='n':\n",
    "        break\n",
    "        \n",
    "    name, height, weight, brand = line.split(',')\n",
    "    \n",
    "total_height = sum(people[name['height']])\n",
    "avg_height = total_height / len(people)\n",
    "center = int(len(people) / 2)\n",
    "\n",
    "\n",
    "def median(people[height]):\n",
    "    sort_height = people[height].sort()\n",
    "    if len(length % 2) == 1:                  # 입력되는 사람 수가 홀수일 경우(물론 여기선 짝수임)\n",
    "        return people[height[center]]  \n",
    "    else:                                     # 입력되는 사람 수가 짝수인 경우\n",
    "        return (people[height[center - 1]] + people[height[center]]) / 2.0\n",
    "\n",
    "\n",
    "print('키의 최소값: {}, 최대값: {}, 평균값: {}, 중위값: {}'.format(min(people[name['height']]), max(people[name['height']]), avg_height, median(people['height'])))\n",
    "\n",
    "total_weight = sum(people[name['weight']])\n",
    "avg_weight = total_weight / len(people)\n",
    "\n",
    "def median(people[weight]):\n",
    "    sort_weight = people[weight].sort()\n",
    "    if len(length % 2) == 1:                  # 입력되는 사람 수가 홀수일 경우(물론 여기선 짝수임)\n",
    "        return people[weight[center]]  \n",
    "    else:                                     # 입력되는 사람 수가 짝수인 경우\n",
    "        return (people[weight[center - 1]] + people[weight[center]]) / 2.0\n",
    "\n",
    "\n",
    "print('키의 최소값: {}, 최대값: {}, 평균값: {}, 중위값: {}'.format(min(people[name['weight']]), max(people[name['weight']]), avg_weight, median(people['weight'])))\n",
    "\n",
    "\n",
    "\n",
    "    # To do"
   ]
  },
  {
   "cell_type": "code",
   "execution_count": 6,
   "metadata": {
    "collapsed": false
   },
   "outputs": [
    {
     "data": {
      "text/plain": [
       "6"
      ]
     },
     "execution_count": 6,
     "metadata": {},
     "output_type": "execute_result"
    }
   ],
   "source": [
    "a = [3, 6, 7]\n",
    "\n",
    "def getMedian(a):\n",
    "    b = sorted(a)\n",
    "    b_len = len(b)\n",
    "    if (b_len == 0): return None\n",
    "    b_center = int(b_len / 2)\n",
    "    if (b_len % 2 == 1): return b[b_center]\n",
    "    else: return (b[b_center - 1] + b[b_center]) / 2.0\n",
    "    \n",
    "getMedian(a)"
   ]
  },
  {
   "cell_type": "code",
   "execution_count": null,
   "metadata": {
    "collapsed": true
   },
   "outputs": [],
   "source": []
  },
  {
   "cell_type": "code",
   "execution_count": null,
   "metadata": {
    "collapsed": true
   },
   "outputs": [],
   "source": []
  }
 ],
 "metadata": {
  "kernelspec": {
   "display_name": "Python [conda root]",
   "language": "python",
   "name": "conda-root-py"
  },
  "language_info": {
   "codemirror_mode": {
    "name": "ipython",
    "version": 3
   },
   "file_extension": ".py",
   "mimetype": "text/x-python",
   "name": "python",
   "nbconvert_exporter": "python",
   "pygments_lexer": "ipython3",
   "version": "3.5.2"
  }
 },
 "nbformat": 4,
 "nbformat_minor": 1
}
