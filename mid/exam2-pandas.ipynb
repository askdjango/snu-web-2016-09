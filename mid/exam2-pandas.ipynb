{
 "cells": [
  {
   "cell_type": "code",
   "execution_count": 1,
   "metadata": {
    "collapsed": false
   },
   "outputs": [
    {
     "name": "stdout",
     "output_type": "stream",
     "text": [
      "입력양식 : 이름, 키, 몸무게, 좋아하는브랜드\n",
      "(중단 : n)\n",
      "\n",
      "Jimmy, 159, 48, Apple\n",
      "Tom, 150, 40, Apple\n",
      "Steve, 155, 45, Samsung\n",
      "Jobs, 157, 40, Samsung\n",
      "Olivia, 152, 43, Apple\n",
      "Tim, 148, 50, Sony\n",
      "Han, 152, 41, Sony\n",
      "Cook, 150, 43, Apple\n",
      "Ronaldo, 165, 55, Sony\n",
      "Zidane, 167, 60, Kakao\n",
      "Ballack, 170, 52, Dell\n",
      "Django, 172, 60, Python\n",
      "Kim, 165, 59, Kakao\n",
      "n\n"
     ]
    }
   ],
   "source": [
    "from collections import defaultdict\n",
    "\n",
    "print('입력양식 : 이름, 키, 몸무게, 좋아하는브랜드')\n",
    "print('(중단 : n)')\n",
    "print('')\n",
    "\n",
    "people = {\n",
    "    'name': [],\n",
    "    'height': [],\n",
    "    'weight': [],\n",
    "    'brand': [],\n",
    "}\n",
    "\n",
    "while True:\n",
    "    line = input('')\n",
    "\n",
    "    if line.lower() == 'n':\n",
    "        break\n",
    "\n",
    "    name, height, weight, brand = line.split(',')\n",
    "    people['name'].append(name)\n",
    "    people['height'].append(float(height))\n",
    "    people['weight'].append(float(weight))\n",
    "    people['brand'].append(brand)"
   ]
  },
  {
   "cell_type": "code",
   "execution_count": 2,
   "metadata": {
    "collapsed": true
   },
   "outputs": [],
   "source": [
    "import pandas as pd\n",
    "\n",
    "df = pd.DataFrame(people,\n",
    "        index=people['name'],\n",
    "        columns=['name', 'height', 'weight', 'brand'])"
   ]
  },
  {
   "cell_type": "code",
   "execution_count": 3,
   "metadata": {
    "collapsed": false
   },
   "outputs": [
    {
     "data": {
      "text/html": [
       "<div>\n",
       "<table border=\"1\" class=\"dataframe\">\n",
       "  <thead>\n",
       "    <tr style=\"text-align: right;\">\n",
       "      <th></th>\n",
       "      <th>name</th>\n",
       "      <th>height</th>\n",
       "      <th>weight</th>\n",
       "      <th>brand</th>\n",
       "    </tr>\n",
       "  </thead>\n",
       "  <tbody>\n",
       "    <tr>\n",
       "      <th>Jimmy</th>\n",
       "      <td>Jimmy</td>\n",
       "      <td>159.0</td>\n",
       "      <td>48.0</td>\n",
       "      <td>Apple</td>\n",
       "    </tr>\n",
       "    <tr>\n",
       "      <th>Tom</th>\n",
       "      <td>Tom</td>\n",
       "      <td>150.0</td>\n",
       "      <td>40.0</td>\n",
       "      <td>Apple</td>\n",
       "    </tr>\n",
       "    <tr>\n",
       "      <th>Steve</th>\n",
       "      <td>Steve</td>\n",
       "      <td>155.0</td>\n",
       "      <td>45.0</td>\n",
       "      <td>Samsung</td>\n",
       "    </tr>\n",
       "    <tr>\n",
       "      <th>Jobs</th>\n",
       "      <td>Jobs</td>\n",
       "      <td>157.0</td>\n",
       "      <td>40.0</td>\n",
       "      <td>Samsung</td>\n",
       "    </tr>\n",
       "    <tr>\n",
       "      <th>Olivia</th>\n",
       "      <td>Olivia</td>\n",
       "      <td>152.0</td>\n",
       "      <td>43.0</td>\n",
       "      <td>Apple</td>\n",
       "    </tr>\n",
       "    <tr>\n",
       "      <th>Tim</th>\n",
       "      <td>Tim</td>\n",
       "      <td>148.0</td>\n",
       "      <td>50.0</td>\n",
       "      <td>Sony</td>\n",
       "    </tr>\n",
       "    <tr>\n",
       "      <th>Han</th>\n",
       "      <td>Han</td>\n",
       "      <td>152.0</td>\n",
       "      <td>41.0</td>\n",
       "      <td>Sony</td>\n",
       "    </tr>\n",
       "    <tr>\n",
       "      <th>Cook</th>\n",
       "      <td>Cook</td>\n",
       "      <td>150.0</td>\n",
       "      <td>43.0</td>\n",
       "      <td>Apple</td>\n",
       "    </tr>\n",
       "    <tr>\n",
       "      <th>Ronaldo</th>\n",
       "      <td>Ronaldo</td>\n",
       "      <td>165.0</td>\n",
       "      <td>55.0</td>\n",
       "      <td>Sony</td>\n",
       "    </tr>\n",
       "    <tr>\n",
       "      <th>Zidane</th>\n",
       "      <td>Zidane</td>\n",
       "      <td>167.0</td>\n",
       "      <td>60.0</td>\n",
       "      <td>Kakao</td>\n",
       "    </tr>\n",
       "    <tr>\n",
       "      <th>Ballack</th>\n",
       "      <td>Ballack</td>\n",
       "      <td>170.0</td>\n",
       "      <td>52.0</td>\n",
       "      <td>Dell</td>\n",
       "    </tr>\n",
       "    <tr>\n",
       "      <th>Django</th>\n",
       "      <td>Django</td>\n",
       "      <td>172.0</td>\n",
       "      <td>60.0</td>\n",
       "      <td>Python</td>\n",
       "    </tr>\n",
       "    <tr>\n",
       "      <th>Kim</th>\n",
       "      <td>Kim</td>\n",
       "      <td>165.0</td>\n",
       "      <td>59.0</td>\n",
       "      <td>Kakao</td>\n",
       "    </tr>\n",
       "  </tbody>\n",
       "</table>\n",
       "</div>"
      ],
      "text/plain": [
       "            name  height  weight     brand\n",
       "Jimmy      Jimmy   159.0    48.0     Apple\n",
       "Tom          Tom   150.0    40.0     Apple\n",
       "Steve      Steve   155.0    45.0   Samsung\n",
       "Jobs        Jobs   157.0    40.0   Samsung\n",
       "Olivia    Olivia   152.0    43.0     Apple\n",
       "Tim          Tim   148.0    50.0      Sony\n",
       "Han          Han   152.0    41.0      Sony\n",
       "Cook        Cook   150.0    43.0     Apple\n",
       "Ronaldo  Ronaldo   165.0    55.0      Sony\n",
       "Zidane    Zidane   167.0    60.0     Kakao\n",
       "Ballack  Ballack   170.0    52.0      Dell\n",
       "Django    Django   172.0    60.0    Python\n",
       "Kim          Kim   165.0    59.0     Kakao"
      ]
     },
     "execution_count": 3,
     "metadata": {},
     "output_type": "execute_result"
    }
   ],
   "source": [
    "df"
   ]
  },
  {
   "cell_type": "code",
   "execution_count": 4,
   "metadata": {
    "collapsed": false
   },
   "outputs": [
    {
     "data": {
      "text/plain": [
       "Jimmy      159.0\n",
       "Tom        150.0\n",
       "Steve      155.0\n",
       "Jobs       157.0\n",
       "Olivia     152.0\n",
       "Tim        148.0\n",
       "Han        152.0\n",
       "Cook       150.0\n",
       "Ronaldo    165.0\n",
       "Zidane     167.0\n",
       "Ballack    170.0\n",
       "Django     172.0\n",
       "Kim        165.0\n",
       "Name: height, dtype: float64"
      ]
     },
     "execution_count": 4,
     "metadata": {},
     "output_type": "execute_result"
    }
   ],
   "source": [
    "df.height"
   ]
  },
  {
   "cell_type": "code",
   "execution_count": 5,
   "metadata": {
    "collapsed": false
   },
   "outputs": [
    {
     "data": {
      "text/plain": [
       "(148.0, 2062.0, 158.6153846153846, 157.0)"
      ]
     },
     "execution_count": 5,
     "metadata": {},
     "output_type": "execute_result"
    }
   ],
   "source": [
    "df.height.min(), df.height.sum(), df.height.mean(), df.height.median()"
   ]
  },
  {
   "cell_type": "code",
   "execution_count": 6,
   "metadata": {
    "collapsed": false
   },
   "outputs": [
    {
     "data": {
      "text/plain": [
       "Jimmy      48.0\n",
       "Tom        40.0\n",
       "Steve      45.0\n",
       "Jobs       40.0\n",
       "Olivia     43.0\n",
       "Tim        50.0\n",
       "Han        41.0\n",
       "Cook       43.0\n",
       "Ronaldo    55.0\n",
       "Zidane     60.0\n",
       "Ballack    52.0\n",
       "Django     60.0\n",
       "Kim        59.0\n",
       "Name: weight, dtype: float64"
      ]
     },
     "execution_count": 6,
     "metadata": {},
     "output_type": "execute_result"
    }
   ],
   "source": [
    "df.weight"
   ]
  },
  {
   "cell_type": "code",
   "execution_count": 7,
   "metadata": {
    "collapsed": false
   },
   "outputs": [
    {
     "data": {
      "text/plain": [
       "(40.0, 636.0, 48.92307692307692, 48.0)"
      ]
     },
     "execution_count": 7,
     "metadata": {},
     "output_type": "execute_result"
    }
   ],
   "source": [
    "df.weight.min(), df.weight.sum(), df.weight.mean(), df.weight.median()"
   ]
  },
  {
   "cell_type": "code",
   "execution_count": 8,
   "metadata": {
    "collapsed": false
   },
   "outputs": [
    {
     "data": {
      "text/plain": [
       "Jimmy         Apple\n",
       "Tom           Apple\n",
       "Steve       Samsung\n",
       "Jobs        Samsung\n",
       "Olivia        Apple\n",
       "Tim            Sony\n",
       "Han            Sony\n",
       "Cook          Apple\n",
       "Ronaldo        Sony\n",
       "Zidane        Kakao\n",
       "Ballack        Dell\n",
       "Django       Python\n",
       "Kim           Kakao\n",
       "Name: brand, dtype: object"
      ]
     },
     "execution_count": 8,
     "metadata": {},
     "output_type": "execute_result"
    }
   ],
   "source": [
    "df.brand"
   ]
  },
  {
   "cell_type": "code",
   "execution_count": 9,
   "metadata": {
    "collapsed": true
   },
   "outputs": [],
   "source": [
    "counts = df.brand.value_counts(sort=True, ascending=False)"
   ]
  },
  {
   "cell_type": "code",
   "execution_count": 10,
   "metadata": {
    "collapsed": false
   },
   "outputs": [
    {
     "data": {
      "text/plain": [
       " Apple      4\n",
       " Sony       3\n",
       " Samsung    2\n",
       " Kakao      2\n",
       " Python     1\n",
       " Dell       1\n",
       "Name: brand, dtype: int64"
      ]
     },
     "execution_count": 10,
     "metadata": {},
     "output_type": "execute_result"
    }
   ],
   "source": [
    "counts"
   ]
  },
  {
   "cell_type": "code",
   "execution_count": 11,
   "metadata": {
    "collapsed": false
   },
   "outputs": [
    {
     "data": {
      "text/plain": [
       " Apple      4\n",
       " Sony       3\n",
       " Samsung    2\n",
       "Name: brand, dtype: int64"
      ]
     },
     "execution_count": 11,
     "metadata": {},
     "output_type": "execute_result"
    }
   ],
   "source": [
    "counts[:3]"
   ]
  },
  {
   "cell_type": "code",
   "execution_count": null,
   "metadata": {
    "collapsed": true
   },
   "outputs": [],
   "source": []
  }
 ],
 "metadata": {
  "anaconda-cloud": {},
  "kernelspec": {
   "display_name": "Python [conda root]",
   "language": "python",
   "name": "conda-root-py"
  },
  "language_info": {
   "codemirror_mode": {
    "name": "ipython",
    "version": 3
   },
   "file_extension": ".py",
   "mimetype": "text/x-python",
   "name": "python",
   "nbconvert_exporter": "python",
   "pygments_lexer": "ipython3",
   "version": "3.5.2"
  }
 },
 "nbformat": 4,
 "nbformat_minor": 1
}
