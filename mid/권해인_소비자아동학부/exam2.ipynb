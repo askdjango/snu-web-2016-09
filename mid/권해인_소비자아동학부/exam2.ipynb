{
 "cells": [
  {
   "cell_type": "markdown",
   "metadata": {},
   "source": [
    "## 명단 관리 프로그램\n",
    "* 키와 몸무게의 최소값, 최대값, 평균값, 중위값 출력\n",
    "* 좋아하는 브랜드 랭킹 TOP3 출력"
   ]
  },
  {
   "cell_type": "code",
   "execution_count": 2,
   "metadata": {
    "collapsed": false
   },
   "outputs": [
    {
     "name": "stdout",
     "output_type": "stream",
     "text": [
      "입력양식 : 이름,키,몸무게,좋아하는 브랜드\n",
      "(중단 : n)\n",
      "\n",
      "> a,1,11,a\n",
      "> b,2,22,b\n",
      "> c,3,33,c\n",
      "> d,4,44,d\n",
      "> e,5,55,e\n",
      "> f,6,66,e\n",
      "> g,7,77,d\n",
      "> h,8,88,d\n",
      "> i,9,99,d\n",
      "> j,10,110,c\n",
      "> n\n",
      "키: 최소값 1.0, 최대값 10.0, 평균 5.5, 중위값 6.0\n",
      "몸무게: 최소값 11.0, 최대값 110.0, 평균 60.5, 중위값 66.0\n",
      "좋아하는 브랜드 랭킹 1위: ['d'], 2위:['e', 'c'], 3위:['b', 'a']\n"
     ]
    }
   ],
   "source": [
    "print('입력양식 : 이름,키,몸무게,좋아하는 브랜드')\n",
    "print('(중단 : n)')\n",
    "print('')\n",
    "\n",
    "people={}\n",
    "h=[]\n",
    "w=[]\n",
    "b=[]\n",
    "while True:\n",
    "    line = input('> ')\n",
    "    if line.lower() == 'n':\n",
    "        break\n",
    "    \n",
    "    name, height, weight, brand = line.split(',')\n",
    "    \n",
    "    people[name]={\n",
    "        'height':float(height),\n",
    "        'weight':float(weight),\n",
    "        'brand':brand\n",
    "    }\n",
    "    h.append(float(height))\n",
    "    w.append(float(weight))\n",
    "    b.append(brand)\n",
    "\n",
    "\n",
    "def cal(lists):\n",
    "    lists.sort()\n",
    "    result = {\n",
    "        'min':min(lists),\n",
    "        'max':max(lists), \n",
    "        'mean':sum(lists)/len(lists), \n",
    "        'median':lists[int(len(lists)/2)]\n",
    "    }\n",
    "    return result\n",
    "\n",
    "print('키: 최소값 {min}, 최대값 {max}, 평균 {mean}, 중위값 {median}'.format(**cal(h)))\n",
    "print('몸무게: 최소값 {min}, 최대값 {max}, 평균 {mean}, 중위값 {median}'.format(**cal(w)))\n",
    "\n",
    "\n",
    "def top(lists):\n",
    "    from collections import Counter\n",
    "    from collections import defaultdict\n",
    "    rank=Counter(lists)\n",
    "    result=defaultdict(list)\n",
    "    for key,value in rank.items():\n",
    "        result[value].append(key)\n",
    "    result[0]=' '\n",
    "    result[-1]=' '\n",
    "    return sorted(result.items(),reverse=True)\n",
    "    \n",
    "    \n",
    "print('좋아하는 브랜드 랭킹 1위: {[0][1]}, 2위:{[1][1]}, 3위:{[2][1]}'.format(top(b),top(b),top(b)))"
   ]
  },
  {
   "cell_type": "code",
   "execution_count": null,
   "metadata": {
    "collapsed": true
   },
   "outputs": [],
   "source": []
  }
 ],
 "metadata": {
  "anaconda-cloud": {},
  "kernelspec": {
   "display_name": "Python [conda root]",
   "language": "python",
   "name": "conda-root-py"
  },
  "language_info": {
   "codemirror_mode": {
    "name": "ipython",
    "version": 3
   },
   "file_extension": ".py",
   "mimetype": "text/x-python",
   "name": "python",
   "nbconvert_exporter": "python",
   "pygments_lexer": "ipython3",
   "version": "3.5.2"
  }
 },
 "nbformat": 4,
 "nbformat_minor": 1
}
