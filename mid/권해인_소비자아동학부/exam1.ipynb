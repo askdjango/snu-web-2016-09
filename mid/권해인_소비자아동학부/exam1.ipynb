{
 "cells": [
  {
   "cell_type": "markdown",
   "metadata": {},
   "source": [
    "## Case #1"
   ]
  },
  {
   "cell_type": "code",
   "execution_count": 2,
   "metadata": {
    "collapsed": false
   },
   "outputs": [
    {
     "name": "stdout",
     "output_type": "stream",
     "text": [
      "크기?:5\n",
      "case#1\n",
      "*\n",
      "**\n",
      "***\n",
      "****\n",
      "*****\n"
     ]
    }
   ],
   "source": [
    "def case1(size):\n",
    "    print('case#1')\n",
    "    for i in range(1,size+1):\n",
    "        print(\"*\"*i)\n",
    "        \n",
    "size = eval(input('크기?:'))\n",
    "case1(size)"
   ]
  },
  {
   "cell_type": "markdown",
   "metadata": {},
   "source": [
    "## Case #2"
   ]
  },
  {
   "cell_type": "code",
   "execution_count": 3,
   "metadata": {
    "collapsed": false
   },
   "outputs": [
    {
     "name": "stdout",
     "output_type": "stream",
     "text": [
      "크기?:5\n",
      "case#2\n",
      "    *\n",
      "   **\n",
      "  ***\n",
      " ****\n",
      "*****\n"
     ]
    }
   ],
   "source": [
    "def case2(size):\n",
    "    print('case#2')\n",
    "    formatter = '{:>'+str(size)+'}'\n",
    "    for i in range(1,size+1):\n",
    "        print(formatter.format('*'*i))\n",
    "        \n",
    "size = eval(input('크기?:'))\n",
    "case2(size)"
   ]
  },
  {
   "cell_type": "markdown",
   "metadata": {},
   "source": [
    "## Case #3"
   ]
  },
  {
   "cell_type": "code",
   "execution_count": 4,
   "metadata": {
    "collapsed": false
   },
   "outputs": [
    {
     "name": "stdout",
     "output_type": "stream",
     "text": [
      "크기?:5\n",
      "case#3\n",
      "    *     \n",
      "   ***    \n",
      "  *****   \n",
      " *******  \n",
      "********* \n"
     ]
    }
   ],
   "source": [
    "def case3(size):\n",
    "    print('case#3')\n",
    "    formatter = '{:^'+str(2*size)+'}'\n",
    "    for i in range(1,2*size,2):\n",
    "        print(formatter.format('*'*i))\n",
    "\n",
    "size = eval(input('크기?:'))\n",
    "case3(size)"
   ]
  },
  {
   "cell_type": "markdown",
   "metadata": {},
   "source": [
    "## Case #4"
   ]
  },
  {
   "cell_type": "code",
   "execution_count": 5,
   "metadata": {
    "collapsed": false
   },
   "outputs": [
    {
     "name": "stdout",
     "output_type": "stream",
     "text": [
      "크기?:5\n",
      "case#4\n",
      "*********\n",
      " ******* \n",
      "  *****  \n",
      "   ***   \n",
      "    *    \n"
     ]
    }
   ],
   "source": [
    "def case4(size):\n",
    "    print('case#4')\n",
    "    formatter = '{:^'+str(2*size-1)+'}'\n",
    "    for i in range(2*size-1,0,-2):\n",
    "        print(formatter.format('*'*i))\n",
    "        \n",
    "size = eval(input('크기?:'))\n",
    "case4(size)"
   ]
  },
  {
   "cell_type": "markdown",
   "metadata": {},
   "source": [
    "## Case #5"
   ]
  },
  {
   "cell_type": "code",
   "execution_count": 6,
   "metadata": {
    "collapsed": false
   },
   "outputs": [
    {
     "name": "stdout",
     "output_type": "stream",
     "text": [
      "크기?:5\n",
      "case#5\n",
      "    *     \n",
      "   ***    \n",
      "  *****   \n",
      " *******  \n",
      "********* \n",
      " *******  \n",
      "  *****   \n",
      "   ***    \n",
      "    *     \n"
     ]
    }
   ],
   "source": [
    "def case5(size):\n",
    "    print('case#5')\n",
    "    formatter = '{:^'+str(2*size)+'}'\n",
    "    for i in range(1,4*size-2,2):\n",
    "        if i>2*size:\n",
    "            i=4*size-2-i\n",
    "        print(formatter.format('*'*i))\n",
    "        \n",
    "size = eval(input('크기?:'))\n",
    "case5(size)"
   ]
  },
  {
   "cell_type": "markdown",
   "metadata": {},
   "source": [
    "## Case #6"
   ]
  },
  {
   "cell_type": "code",
   "execution_count": 7,
   "metadata": {
    "collapsed": false
   },
   "outputs": [
    {
     "name": "stdout",
     "output_type": "stream",
     "text": [
      "크기?:5\n",
      "case#6\n",
      "    #     \n",
      "   #*#    \n",
      "  #***#   \n",
      " #*****#  \n",
      "#*******# \n",
      " #*****#  \n",
      "  #***#   \n",
      "   #*#    \n",
      "    #     \n"
     ]
    }
   ],
   "source": [
    "def case6(size):\n",
    "    print('case#6')\n",
    "    formatter = '{:^'+str(2*size)+'}'\n",
    "    print(formatter.format('#'))\n",
    "    for i in range(1,4*size-6,2):\n",
    "        if i>2*size-2:\n",
    "            i=4*size-6-i\n",
    "        print(formatter.format('#'+'*'*(i)+'#'))\n",
    "    print(formatter.format('#'))\n",
    "    \n",
    "size = eval(input('크기?:'))\n",
    "case6(size)"
   ]
  },
  {
   "cell_type": "code",
   "execution_count": 8,
   "metadata": {
    "collapsed": false
   },
   "outputs": [
    {
     "name": "stdout",
     "output_type": "stream",
     "text": [
      "크기?:5\n",
      "case#1\n",
      "*\n",
      "**\n",
      "***\n",
      "****\n",
      "*****\n",
      "case#2\n",
      "    *\n",
      "   **\n",
      "  ***\n",
      " ****\n",
      "*****\n",
      "case#3\n",
      "    *     \n",
      "   ***    \n",
      "  *****   \n",
      " *******  \n",
      "********* \n",
      "case#4\n",
      "*********\n",
      " ******* \n",
      "  *****  \n",
      "   ***   \n",
      "    *    \n",
      "case#5\n",
      "    *     \n",
      "   ***    \n",
      "  *****   \n",
      " *******  \n",
      "********* \n",
      " *******  \n",
      "  *****   \n",
      "   ***    \n",
      "    *     \n",
      "case#6\n",
      "    #     \n",
      "   #*#    \n",
      "  #***#   \n",
      " #*****#  \n",
      "#*******# \n",
      " #*****#  \n",
      "  #***#   \n",
      "   #*#    \n",
      "    #     \n"
     ]
    }
   ],
   "source": [
    "size = eval(input('크기?:'))\n",
    "case1(size)\n",
    "case2(size)\n",
    "case3(size)\n",
    "case4(size)\n",
    "case5(size)\n",
    "case6(size)"
   ]
  },
  {
   "cell_type": "code",
   "execution_count": null,
   "metadata": {
    "collapsed": true
   },
   "outputs": [],
   "source": []
  }
 ],
 "metadata": {
  "anaconda-cloud": {},
  "kernelspec": {
   "display_name": "Python [conda root]",
   "language": "python",
   "name": "conda-root-py"
  },
  "language_info": {
   "codemirror_mode": {
    "name": "ipython",
    "version": 3
   },
   "file_extension": ".py",
   "mimetype": "text/x-python",
   "name": "python",
   "nbconvert_exporter": "python",
   "pygments_lexer": "ipython3",
   "version": "3.5.2"
  }
 },
 "nbformat": 4,
 "nbformat_minor": 1
}
