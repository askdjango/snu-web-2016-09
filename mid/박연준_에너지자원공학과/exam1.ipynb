{
 "cells": [
  {
   "cell_type": "code",
   "execution_count": 65,
   "metadata": {
    "collapsed": false
   },
   "outputs": [
    {
     "name": "stdout",
     "output_type": "stream",
     "text": [
      "*\n",
      "**\n",
      "***\n",
      "****\n"
     ]
    }
   ],
   "source": [
    "def print_diamond1(size):\n",
    "\n",
    "    for i in range(1, size+1):\n",
    "        print('{}'.format('*' * i))\n",
    "        \n",
    "\n",
    "print_diamond1(4)"
   ]
  },
  {
   "cell_type": "code",
   "execution_count": 66,
   "metadata": {
    "collapsed": false
   },
   "outputs": [
    {
     "name": "stdout",
     "output_type": "stream",
     "text": [
      "     *\n",
      "    **\n",
      "   ***\n",
      "  ****\n",
      " *****\n",
      "******\n"
     ]
    }
   ],
   "source": [
    "def print_diamond2(size):\n",
    "    format_string = '{:>' + str(size) + '}'\n",
    "\n",
    "    for i in range(1, size+1):\n",
    "        print(format_string.format('*' * i))\n",
    "        \n",
    "\n",
    "print_diamond2(6)"
   ]
  },
  {
   "cell_type": "code",
   "execution_count": 67,
   "metadata": {
    "collapsed": false
   },
   "outputs": [
    {
     "name": "stdout",
     "output_type": "stream",
     "text": [
      "     *     \n",
      "    ***    \n",
      "   *****   \n",
      "  *******  \n",
      " ********* \n",
      "***********\n"
     ]
    }
   ],
   "source": [
    "def print_diamond3(size):\n",
    "\n",
    "    longgest_size = size * 2 - 1\n",
    "    format_string = '{:^' + str(longgest_size) + '}'\n",
    "\n",
    "    for i in range(1, size+1):\n",
    "        star_count = i * 2 - 1\n",
    "        print(format_string.format('*' * star_count))\n",
    "        \n",
    "\n",
    "print_diamond3(6)"
   ]
  },
  {
   "cell_type": "code",
   "execution_count": 20,
   "metadata": {
    "collapsed": false
   },
   "outputs": [
    {
     "name": "stdout",
     "output_type": "stream",
     "text": [
      "*********\n",
      " ******* \n",
      "  *****  \n",
      "   ***   \n",
      "    *    \n"
     ]
    }
   ],
   "source": [
    "def print_diamond4(size):\n",
    "\n",
    "    longgest_size = size * 2 - 1\n",
    "    format_string = '{:^' + str(longgest_size) + '}'\n",
    "\n",
    "    for i in range(size, 0, -1):\n",
    "        star_count = i * 2 - 1\n",
    "        print(format_string.format('*' * star_count))\n",
    "        \n",
    "\n",
    "print_diamond4(5)"
   ]
  },
  {
   "cell_type": "code",
   "execution_count": 70,
   "metadata": {
    "collapsed": false
   },
   "outputs": [
    {
     "name": "stdout",
     "output_type": "stream",
     "text": [
      "*\n"
     ]
    }
   ],
   "source": [
    "def print_diamond5(size):\n",
    "\n",
    "    longgest_size = size * 2 - 1\n",
    "    format_string = '{:^' + str(longgest_size) + '}'\n",
    "\n",
    "    for i in range(1, size+1):\n",
    "        star_count = i * 2 - 1\n",
    "        print(format_string.format('*' * star_count))\n",
    "\n",
    "    for i in range(size-1, 0, -1):\n",
    "        star_count = i * 2 - 1\n",
    "        print(format_string.format('*' * star_count))\n",
    "\n",
    "\n",
    "print_diamond5(1)"
   ]
  },
  {
   "cell_type": "code",
   "execution_count": 73,
   "metadata": {
    "collapsed": false,
    "scrolled": true
   },
   "outputs": [
    {
     "name": "stdout",
     "output_type": "stream",
     "text": [
      "   #   \n",
      "  #*#  \n",
      " #***# \n",
      "#*****#\n",
      " #***# \n",
      "  #*#  \n",
      "   #   \n"
     ]
    }
   ],
   "source": [
    "def print_diamond6(size):\n",
    "    \n",
    "    longgest_size = size * 2 - 1\n",
    "    format_string = '{:^' + str(longgest_size) + '}'\n",
    "\n",
    "    for i in range(1, size+1):\n",
    "        star = '*' *((i - 1) * 2 - 1)  \n",
    "        \n",
    "        if not star:\n",
    "            print(format_string.format('#'))\n",
    "        else:\n",
    "            star_with_sharp = '#' + star + '#'\n",
    "            print(format_string.format(star_with_sharp))\n",
    "\n",
    "    for i in range(size-1, 0, -1):\n",
    "        star = '*' *((i - 1) * 2 - 1)\n",
    "        \n",
    "        if not star:\n",
    "            print(format_string.format('#'))\n",
    "        else:\n",
    "            star_with_sharp = '#' + star + '#'\n",
    "            print(format_string.format(star_with_sharp))\n",
    "              \n",
    "\n",
    "print_diamond6(4)"
   ]
  },
  {
   "cell_type": "code",
   "execution_count": null,
   "metadata": {
    "collapsed": true
   },
   "outputs": [],
   "source": []
  },
  {
   "cell_type": "code",
   "execution_count": null,
   "metadata": {
    "collapsed": true
   },
   "outputs": [],
   "source": []
  }
 ],
 "metadata": {
  "kernelspec": {
   "display_name": "Python 3",
   "language": "python",
   "name": "python3"
  },
  "language_info": {
   "codemirror_mode": {
    "name": "ipython",
    "version": 3
   },
   "file_extension": ".py",
   "mimetype": "text/x-python",
   "name": "python",
   "nbconvert_exporter": "python",
   "pygments_lexer": "ipython3",
   "version": "3.5.2"
  }
 },
 "nbformat": 4,
 "nbformat_minor": 0
}
