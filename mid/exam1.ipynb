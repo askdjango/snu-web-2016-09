{
 "cells": [
  {
   "cell_type": "markdown",
   "metadata": {},
   "source": [
    "## 문제 1\n",
    "\n",
    " * 페이지 하단의 모양을 출력하는 6가지 함수를 작성하세요.\n",
    " * 도형의 크기를 결정하는 인자를 반드시 받으세요."
   ]
  },
  {
   "cell_type": "code",
   "execution_count": 1,
   "metadata": {
    "collapsed": true
   },
   "outputs": [],
   "source": [
    "def case_1(size, align='<'):\n",
    "    format_string = '{:' + align + str(size) + '}'\n",
    "    for i in range(1, size+1):\n",
    "        print(format_string.format('*' * i))\n",
    "\n",
    "\n",
    "def case_2(size):\n",
    "    case_1(size, align='>')\n",
    "\n",
    "\n",
    "def case_3(size, convert_fn=None):\n",
    "    format_string = '{:^' + str(2*size-1) + '}'\n",
    "    for i in range(1, size+1):\n",
    "        star = '*' * (2*i-1)\n",
    "        if convert_fn is not None:\n",
    "            star = convert_fn(star)\n",
    "        print(format_string.format(star))\n",
    "\n",
    "\n",
    "def case_4(size, prefix='', convert_fn=None):\n",
    "    format_string = '{:^' + str(2*size-1) + '}'\n",
    "    for i in range(size, 0, -1):\n",
    "        star = '*' * (2*i-1)\n",
    "        if convert_fn is not None:\n",
    "            star = convert_fn(star)\n",
    "        print(prefix + format_string.format(star))\n",
    "\n",
    "\n",
    "def case_5(size):\n",
    "    case_3(size)\n",
    "    case_4(size-1, prefix=' ')\n",
    "\n",
    "\n",
    "def case_6(size):\n",
    "    def fn(star):\n",
    "        if len(star) == 1:\n",
    "            return '#'\n",
    "        return '#' + star[1:-1] + '#'\n",
    "    case_3(size, convert_fn=fn)\n",
    "    case_4(size-1, prefix=' ', convert_fn=fn)"
   ]
  },
  {
   "cell_type": "code",
   "execution_count": 2,
   "metadata": {
    "collapsed": false
   },
   "outputs": [
    {
     "name": "stdout",
     "output_type": "stream",
     "text": [
      "Case #1\n",
      "*    \n",
      "**   \n",
      "***  \n",
      "**** \n",
      "*****\n",
      "Case #2\n",
      "    *\n",
      "   **\n",
      "  ***\n",
      " ****\n",
      "*****\n",
      "Case #3\n",
      "    *    \n",
      "   ***   \n",
      "  *****  \n",
      " ******* \n",
      "*********\n",
      "Case #4\n",
      "*********\n",
      " ******* \n",
      "  *****  \n",
      "   ***   \n",
      "    *    \n",
      "Case #5\n",
      "    *    \n",
      "   ***   \n",
      "  *****  \n",
      " ******* \n",
      "*********\n",
      " *******\n",
      "  ***** \n",
      "   ***  \n",
      "    *   \n",
      "Case #6\n",
      "    #    \n",
      "   #*#   \n",
      "  #***#  \n",
      " #*****# \n",
      "#*******#\n",
      " #*****#\n",
      "  #***# \n",
      "   #*#  \n",
      "    #   \n"
     ]
    }
   ],
   "source": [
    "size = 5\n",
    "\n",
    "print('Case #1')\n",
    "case_1(size)\n",
    "\n",
    "print('Case #2')\n",
    "case_2(size)\n",
    "\n",
    "print('Case #3')\n",
    "case_3(size)\n",
    "\n",
    "print('Case #4')\n",
    "case_4(size)\n",
    "\n",
    "print('Case #5')\n",
    "case_5(size)\n",
    "\n",
    "print('Case #6')\n",
    "case_6(size)"
   ]
  },
  {
   "cell_type": "code",
   "execution_count": null,
   "metadata": {
    "collapsed": true
   },
   "outputs": [],
   "source": []
  }
 ],
 "metadata": {
  "anaconda-cloud": {},
  "kernelspec": {
   "display_name": "Python [conda root]",
   "language": "python",
   "name": "conda-root-py"
  },
  "language_info": {
   "codemirror_mode": {
    "name": "ipython",
    "version": 3
   },
   "file_extension": ".py",
   "mimetype": "text/x-python",
   "name": "python",
   "nbconvert_exporter": "python",
   "pygments_lexer": "ipython3",
   "version": "3.5.2"
  }
 },
 "nbformat": 4,
 "nbformat_minor": 1
}
