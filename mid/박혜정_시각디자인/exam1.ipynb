{
 "cells": [
  {
   "cell_type": "code",
   "execution_count": 1,
   "metadata": {
    "collapsed": false
   },
   "outputs": [
    {
     "name": "stdout",
     "output_type": "stream",
     "text": [
      "*\n",
      "**\n",
      "***\n",
      "****\n",
      "*****\n"
     ]
    }
   ],
   "source": [
    "def case1(size):\n",
    "    for i in range(1, size+1):\n",
    "        print(\"*\" * i)\n",
    "        \n",
    "case1(5)"
   ]
  },
  {
   "cell_type": "code",
   "execution_count": 2,
   "metadata": {
    "collapsed": false
   },
   "outputs": [
    {
     "name": "stdout",
     "output_type": "stream",
     "text": [
      "    *\n",
      "   **\n",
      "  ***\n",
      " ****\n",
      "*****\n"
     ]
    }
   ],
   "source": [
    "def case2(size):\n",
    "    format_string = '{:>' + str(size) + '}'\n",
    "    \n",
    "    for i in range(1, size+1):\n",
    "        print(format_string.format(\"*\" * i))\n",
    "        \n",
    "case2(5)"
   ]
  },
  {
   "cell_type": "code",
   "execution_count": 3,
   "metadata": {
    "collapsed": false
   },
   "outputs": [
    {
     "name": "stdout",
     "output_type": "stream",
     "text": [
      "    *    \n",
      "   ***   \n",
      "  *****  \n",
      " ******* \n",
      "*********\n"
     ]
    }
   ],
   "source": [
    "def case3(size):\n",
    "    longgest_size = size * 2 - 1\n",
    "\n",
    "    format_string = '{:^'+ str(longgest_size) + '}'\n",
    "\n",
    "    for i in range(1, size+1):\n",
    "        star_count = i * 2 - 1\n",
    "        print(format_string.format(\"*\" * star_count))\n",
    "\n",
    "case3(5)"
   ]
  },
  {
   "cell_type": "code",
   "execution_count": 4,
   "metadata": {
    "collapsed": false
   },
   "outputs": [
    {
     "name": "stdout",
     "output_type": "stream",
     "text": [
      "*********\n",
      " ******* \n",
      "  *****  \n",
      "   ***   \n",
      "    *    \n"
     ]
    }
   ],
   "source": [
    "def case4(size):\n",
    "    longgest_size = size * 2 - 1\n",
    "\n",
    "    format_string = '{:^'+ str(longgest_size) + '}'\n",
    "\n",
    "    for i in range(size, 0, -1):\n",
    "        star_count = i * 2 - 1\n",
    "        print(format_string.format(\"*\" * star_count))\n",
    "        \n",
    "case4(5)"
   ]
  },
  {
   "cell_type": "code",
   "execution_count": 5,
   "metadata": {
    "collapsed": false
   },
   "outputs": [
    {
     "name": "stdout",
     "output_type": "stream",
     "text": [
      "    *    \n",
      "   ***   \n",
      "  *****  \n",
      " ******* \n",
      "*********\n",
      " ******* \n",
      "  *****  \n",
      "   ***   \n",
      "    *    \n"
     ]
    }
   ],
   "source": [
    "def case5(size):\n",
    "    longgest_size = size * 2 - 1\n",
    "\n",
    "    format_string = '{:^'+ str(longgest_size) + '}'\n",
    "\n",
    "    for i in range(1, size+1):\n",
    "        star_count = i * 2 - 1\n",
    "        print(format_string.format(\"*\" * star_count))\n",
    "\n",
    "    for i in range(size-1, 0, -1):\n",
    "        star_count = i * 2 - 1\n",
    "        print(format_string.format(\"*\" * star_count))\n",
    "        \n",
    "case5(5)"
   ]
  },
  {
   "cell_type": "code",
   "execution_count": 6,
   "metadata": {
    "collapsed": false
   },
   "outputs": [
    {
     "name": "stdout",
     "output_type": "stream",
     "text": [
      "    #    \n",
      "   #*#   \n",
      "  #***#  \n",
      " #*****# \n",
      "#*******#\n",
      " #*****# \n",
      "  #***#  \n",
      "   #*#   \n",
      "    #    \n"
     ]
    }
   ],
   "source": [
    "def case6(size):\n",
    "    longgest_size = size * 2 - 1\n",
    "\n",
    "    format_string = '{:^'+ str(longgest_size) + '}'\n",
    "    \n",
    "    for i in range(1, size+1):\n",
    "        star_count = i * 2 - 1\n",
    "        if star_count == 1:\n",
    "            print(format_string.format(\"#\"))\n",
    "        else:\n",
    "            print(format_string.format(\"#\" + \"*\" * (star_count - 2) + \"#\"))\n",
    "\n",
    "    for i in range(size-1, 0, -1):\n",
    "        star_count = i * 2 - 1\n",
    "        if star_count == 1:\n",
    "            print(format_string.format(\"#\"))\n",
    "        else:\n",
    "            print(format_string.format(\"#\" + \"*\" * (star_count - 2) + \"#\"))\n",
    "\n",
    "case6(5)"
   ]
  },
  {
   "cell_type": "code",
   "execution_count": null,
   "metadata": {
    "collapsed": true
   },
   "outputs": [],
   "source": []
  }
 ],
 "metadata": {
  "kernelspec": {
   "display_name": "Python 3",
   "language": "python",
   "name": "python3"
  },
  "language_info": {
   "codemirror_mode": {
    "name": "ipython",
    "version": 3
   },
   "file_extension": ".py",
   "mimetype": "text/x-python",
   "name": "python",
   "nbconvert_exporter": "python",
   "pygments_lexer": "ipython3",
   "version": "3.5.1"
  }
 },
 "nbformat": 4,
 "nbformat_minor": 1
}
