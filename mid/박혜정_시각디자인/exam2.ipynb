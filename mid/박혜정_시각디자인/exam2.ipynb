{
 "cells": [
  {
   "cell_type": "code",
   "execution_count": 1,
   "metadata": {
    "collapsed": false
   },
   "outputs": [
    {
     "name": "stdout",
     "output_type": "stream",
     "text": [
      "입력양식 : 이름, 키, 몸무게, 좋아하는브랜드\n",
      "(중단 : n)\n",
      "\n",
      "> 가, 150, 60, 구글\n",
      "> 나, 170, 55, 구글\n",
      "> 다, 168, 63, 카카오\n",
      "> 라, 150, 49, 페이스북\n",
      "> 마, 183, 80, 구글\n",
      "> 바, 159, 55, 페이스북\n",
      "> 사, 178, 82, 라인\n",
      "> 아, 183, 87, 구글\n",
      "> 자, 152, 43, 애플\n",
      "> 차, 173, 80, 카카오\n",
      "> n\n",
      "키 - 최대값: 183, 최소값: 150, 평균값: 166.6, 중위값: 169.0\n",
      "몸무게 - 최대값: 87, 최소값: 43, 평균값: 65.4, 중위값: 61.5\n",
      "브랜드 랭킹 TOP 3 = [('구글', 4), ('페이스북', 2), ('카카오', 2)]\n"
     ]
    }
   ],
   "source": [
    "from statistics import mean, median\n",
    "from collections import defaultdict\n",
    "import operator\n",
    "\n",
    "\n",
    "print('입력양식 : 이름, 키, 몸무게, 좋아하는브랜드')\n",
    "print('(중단 : n)')\n",
    "print('')\n",
    "\n",
    "people = {}\n",
    "\n",
    "while True:\n",
    "    line = input('> ')\n",
    "    if line.lower() == 'n':\n",
    "        break\n",
    "        \n",
    "    name, height, weight, brand = line.split(', ')\n",
    "    people[name] = [height, weight, brand]\n",
    "\n",
    "    \n",
    "height_list = []\n",
    "weight_list = []\n",
    "brand_list = []\n",
    " \n",
    "for name in people:\n",
    "    height_list.append(int(people[name][0]))\n",
    "    weight_list.append(int(people[name][1]))\n",
    "    brand_list.append(people[name][2])\n",
    "\n",
    "print(\"키 - 최대값: \" + str(max(height_list)) + \", 최소값: \" + str(min(height_list)) + \n",
    "      \", 평균값: \" + str(mean(height_list)) + \", 중위값: \" + str(median(height_list)))\n",
    "print(\"몸무게 - 최대값: \" + str(max(weight_list)) + \", 최소값: \" + str(min(weight_list)) +\n",
    "      \", 평균값: \" + str(mean(weight_list)) + \", 중위값: \" + str(median(weight_list)))\n",
    "\n",
    "\n",
    "brand_count = defaultdict(lambda: 0)\n",
    "\n",
    "for brand in brand_list:\n",
    "    brand_count[brand] += 1\n",
    "\n",
    "sorted_brand_count = sorted(brand_count.items(), key=operator.itemgetter(1), reverse=True)\n",
    "\n",
    "print(\"브랜드 랭킹 TOP 3 = \" + str(sorted_brand_count[:3]))"
   ]
  },
  {
   "cell_type": "code",
   "execution_count": null,
   "metadata": {
    "collapsed": true
   },
   "outputs": [],
   "source": []
  }
 ],
 "metadata": {
  "kernelspec": {
   "display_name": "Python 3",
   "language": "python",
   "name": "python3"
  },
  "language_info": {
   "codemirror_mode": {
    "name": "ipython",
    "version": 3
   },
   "file_extension": ".py",
   "mimetype": "text/x-python",
   "name": "python",
   "nbconvert_exporter": "python",
   "pygments_lexer": "ipython3",
   "version": "3.5.1"
  }
 },
 "nbformat": 4,
 "nbformat_minor": 1
}
