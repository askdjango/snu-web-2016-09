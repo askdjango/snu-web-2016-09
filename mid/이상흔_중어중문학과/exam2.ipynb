{
 "cells": [
  {
   "cell_type": "code",
   "execution_count": 6,
   "metadata": {
    "collapsed": false,
    "scrolled": true
   },
   "outputs": [
    {
     "name": "stdout",
     "output_type": "stream",
     "text": [
      "> a, 188, 66, apple\n",
      "> b, 177, 77, banana\n",
      "> c, 168, 65, apple\n",
      "> d, 175, 58, apple\n",
      "> e, 163, 48, grape\n",
      "> f, 158, 40, grape\n",
      "> g, 190, 100, apple\n",
      "> h, 158, 50, banana\n",
      "> i, 155, 43, pineapple\n",
      "> j, 173, 80, orange\n",
      "> k, 193, 93, apple\n",
      "> 계속 입력 하시겠습니까? (Y/N)n\n",
      "몸무게 : 최대값 100, 최소값 40, 평균값 65.45454545454545, 중앙값 65\n",
      "키 : 최대값 193, 최소값 155, 평균값 172.54545454545453, 중앙값 173\n",
      "순위(브랜드명, 언급 된 횟수) 1위: (' apple', 5), 2위: (' grape', 2), 3위: (' banana', 2)\n"
     ]
    }
   ],
   "source": [
    "from collections import Counter\n",
    "from statistics import median\n",
    "\n",
    "def dict_to_list(key, my_dict):\n",
    "    result = [value[key] for value in my_dict.values()]\n",
    "    return result\n",
    "\n",
    "def max_min_average_median(list_name, my_list):\n",
    "    result = list_name, max(my_list), min(my_list), sum(my_list)/len(my_list), median(my_list)\n",
    "    return result\n",
    "\n",
    "people = {}\n",
    "people_count = 0\n",
    "add_people = True\n",
    "\n",
    "\n",
    "while True:\n",
    "    if add_people:\n",
    "        data_input = input('> ')\n",
    "        name, height, weight, brand = data_input.split(',')\n",
    "        people[name] = {'height': int(height), 'weight': int(weight), 'brand': brand}\n",
    "\n",
    "        people_count += 1\n",
    "        if people_count > 10:\n",
    "            add_people = False\n",
    "    else:\n",
    "        user_input = input('> 계속 입력 하시겠습니까? (Y/N)')\n",
    "        if user_input.lower() == 'y':\n",
    "            add_people = True\n",
    "            \n",
    "        if user_input.lower() == 'n':\n",
    "            weight = dict_to_list('weight', people)\n",
    "            height = dict_to_list('height', people)\n",
    "            brand = dict_to_list('brand', people)\n",
    "            print('{} : 최대값 {}, 최소값 {}, 평균값 {}, 중앙값 {}'.format(*max_min_average_median('몸무게', weight)))\n",
    "            print('{} : 최대값 {}, 최소값 {}, 평균값 {}, 중앙값 {}'.format(*max_min_average_median('키', height)))\n",
    "            print('순위(브랜드명, 언급 된 횟수) 1위: {}, 2위: {}, 3위: {}'.format(*Counter(brand).most_common(3)))\n",
    "            break\n"
   ]
  },
  {
   "cell_type": "code",
   "execution_count": null,
   "metadata": {
    "collapsed": true
   },
   "outputs": [],
   "source": []
  },
  {
   "cell_type": "code",
   "execution_count": null,
   "metadata": {
    "collapsed": true
   },
   "outputs": [],
   "source": []
  },
  {
   "cell_type": "code",
   "execution_count": null,
   "metadata": {
    "collapsed": true
   },
   "outputs": [],
   "source": []
  },
  {
   "cell_type": "code",
   "execution_count": null,
   "metadata": {
    "collapsed": true
   },
   "outputs": [],
   "source": []
  },
  {
   "cell_type": "code",
   "execution_count": null,
   "metadata": {
    "collapsed": true
   },
   "outputs": [],
   "source": []
  },
  {
   "cell_type": "code",
   "execution_count": null,
   "metadata": {
    "collapsed": true
   },
   "outputs": [],
   "source": []
  },
  {
   "cell_type": "code",
   "execution_count": null,
   "metadata": {
    "collapsed": true
   },
   "outputs": [],
   "source": []
  },
  {
   "cell_type": "code",
   "execution_count": null,
   "metadata": {
    "collapsed": true
   },
   "outputs": [],
   "source": []
  },
  {
   "cell_type": "code",
   "execution_count": null,
   "metadata": {
    "collapsed": true
   },
   "outputs": [],
   "source": []
  },
  {
   "cell_type": "code",
   "execution_count": null,
   "metadata": {
    "collapsed": true
   },
   "outputs": [],
   "source": []
  }
 ],
 "metadata": {
  "kernelspec": {
   "display_name": "Python 3",
   "language": "python",
   "name": "python3"
  },
  "language_info": {
   "codemirror_mode": {
    "name": "ipython",
    "version": 3
   },
   "file_extension": ".py",
   "mimetype": "text/x-python",
   "name": "python",
   "nbconvert_exporter": "python",
   "pygments_lexer": "ipython3",
   "version": "3.5.2"
  }
 },
 "nbformat": 4,
 "nbformat_minor": 1
}
