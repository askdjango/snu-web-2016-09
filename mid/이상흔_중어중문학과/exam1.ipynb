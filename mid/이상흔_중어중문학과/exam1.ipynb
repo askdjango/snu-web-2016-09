{
 "cells": [
  {
   "cell_type": "code",
   "execution_count": 1,
   "metadata": {
    "collapsed": false,
    "scrolled": true
   },
   "outputs": [
    {
     "name": "stdout",
     "output_type": "stream",
     "text": [
      "*\n",
      "**\n",
      "***\n",
      "****\n",
      "*****\n"
     ]
    }
   ],
   "source": [
    "#case 1\n",
    "def print_asterisk(number):\n",
    "    for i in range(1, number + 1):\n",
    "        print('*' * i)\n",
    "\n",
    "print_asterisk(5)"
   ]
  },
  {
   "cell_type": "code",
   "execution_count": 2,
   "metadata": {
    "collapsed": false
   },
   "outputs": [
    {
     "name": "stdout",
     "output_type": "stream",
     "text": [
      "    *\n",
      "   **\n",
      "  ***\n",
      " ****\n",
      "*****\n"
     ]
    }
   ],
   "source": [
    "#case 2\n",
    "def print_asterisk2(number):\n",
    "    for i in range(1, number + 1):\n",
    "        space = ' ' * (number - i) \n",
    "        asterisk = '*' * i\n",
    "        print(space + asterisk)\n",
    "        \n",
    "print_asterisk2(5)"
   ]
  },
  {
   "cell_type": "code",
   "execution_count": 3,
   "metadata": {
    "collapsed": false
   },
   "outputs": [
    {
     "name": "stdout",
     "output_type": "stream",
     "text": [
      "    *\n",
      "   ***\n",
      "  *****\n",
      " *******\n",
      "*********\n"
     ]
    }
   ],
   "source": [
    "#case 3\n",
    "def print_asterisk3(number):\n",
    "    for i in range(1, number + 1):\n",
    "        space = ' ' * (number - i)\n",
    "        asterisk_count = (i * 2) - 1\n",
    "        asterisk = '*' * asterisk_count\n",
    "        print (space + asterisk)\n",
    "\n",
    "print_asterisk3(5)"
   ]
  },
  {
   "cell_type": "code",
   "execution_count": 4,
   "metadata": {
    "collapsed": false
   },
   "outputs": [
    {
     "name": "stdout",
     "output_type": "stream",
     "text": [
      "*********\n",
      " *******\n",
      "  *****\n",
      "   ***\n",
      "    *\n",
      "     \n"
     ]
    }
   ],
   "source": [
    "#case 4\n",
    "def print_asterisk4(number):\n",
    "    for i in range(number + 1):\n",
    "        asterisk_count = (number - i) * 2 - 1\n",
    "        asterisk = '*' * asterisk_count\n",
    "        space = ' ' * i\n",
    "        print(space + asterisk)\n",
    "\n",
    "print_asterisk4(5)"
   ]
  },
  {
   "cell_type": "code",
   "execution_count": 5,
   "metadata": {
    "collapsed": false,
    "scrolled": false
   },
   "outputs": [
    {
     "name": "stdout",
     "output_type": "stream",
     "text": [
      "    *\n",
      "   ***\n",
      "  *****\n",
      " *******\n",
      "*********\n",
      " *******\n",
      "  *****\n",
      "   ***\n",
      "    *\n"
     ]
    }
   ],
   "source": [
    "#case 5\n",
    "def print_asterisk5(number):\n",
    "    space = [(' '*i) for i in range(number)]\n",
    "    star = [('*'*int(2*i-1)) for i in range(1,number+1)]\n",
    "    result = ['{}{}'.format(space[::-1][num], star[num]) for num in range(len(space))]\n",
    "\n",
    "    new_result = result[:number-1] + result[::-1]\n",
    "    print('\\n'.join(new_result))\n",
    "\n",
    "print_asterisk5(5)\n"
   ]
  },
  {
   "cell_type": "code",
   "execution_count": 6,
   "metadata": {
    "collapsed": false
   },
   "outputs": [
    {
     "name": "stdout",
     "output_type": "stream",
     "text": [
      "    #\n",
      "   #*#\n",
      "  #***#\n",
      " #*****#\n",
      "#*******#\n",
      " #*****#\n",
      "  #***#\n",
      "   #*#\n",
      "    #\n"
     ]
    }
   ],
   "source": [
    "#case 6\n",
    "def print_asterisk6(number):\n",
    "    space = [(' '*i) for i in range(number)]\n",
    "    star = [('*'*int(2*i-3)) for i in range(1,number + 1)]\n",
    "    result = ['{}{}{}{}'.format(space[::-1][num], '#', star[num],'#') for num in range(len(space))]\n",
    "    result[0] = ' ' * (number -1) + '#'\n",
    "    new_result = result[:number-1] + result[::-1]\n",
    "    print('\\n'.join(new_result))\n",
    "\n",
    "\n",
    "print_asterisk6(5)"
   ]
  },
  {
   "cell_type": "code",
   "execution_count": null,
   "metadata": {
    "collapsed": true
   },
   "outputs": [],
   "source": []
  },
  {
   "cell_type": "code",
   "execution_count": null,
   "metadata": {
    "collapsed": true
   },
   "outputs": [],
   "source": []
  }
 ],
 "metadata": {
  "kernelspec": {
   "display_name": "Python 3",
   "language": "python",
   "name": "python3"
  },
  "language_info": {
   "codemirror_mode": {
    "name": "ipython",
    "version": 3
   },
   "file_extension": ".py",
   "mimetype": "text/x-python",
   "name": "python",
   "nbconvert_exporter": "python",
   "pygments_lexer": "ipython3",
   "version": "3.5.2"
  }
 },
 "nbformat": 4,
 "nbformat_minor": 1
}
