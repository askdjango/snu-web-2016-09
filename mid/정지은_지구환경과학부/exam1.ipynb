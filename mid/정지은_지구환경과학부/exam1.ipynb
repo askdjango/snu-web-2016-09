{
 "cells": [
  {
   "cell_type": "code",
   "execution_count": 1,
   "metadata": {
    "collapsed": false
   },
   "outputs": [
    {
     "name": "stdout",
     "output_type": "stream",
     "text": [
      "자, 다양한 모양을 출력해봅시다.\n"
     ]
    }
   ],
   "source": [
    "print('자, 다양한 모양을 출력해봅시다.')"
   ]
  },
  {
   "cell_type": "code",
   "execution_count": 7,
   "metadata": {
    "collapsed": false
   },
   "outputs": [
    {
     "name": "stdout",
     "output_type": "stream",
     "text": [
      "모양들의 크기를 정해주세요 : 5\n"
     ]
    }
   ],
   "source": [
    "size = int(input('모양들의 크기를 정해주세요 : '))"
   ]
  },
  {
   "cell_type": "markdown",
   "metadata": {},
   "source": [
    "### Shape #1\n",
    "* Shape #1은 * 을 i열에 i개만큼 i = size가 될 때까지 차례로 출력해주면 된다."
   ]
  },
  {
   "cell_type": "code",
   "execution_count": 5,
   "metadata": {
    "collapsed": false
   },
   "outputs": [
    {
     "name": "stdout",
     "output_type": "stream",
     "text": [
      "------------------------------\n",
      "Shape #1\n"
     ]
    }
   ],
   "source": [
    "print('------------------------------')\n",
    "print('Shape #1')"
   ]
  },
  {
   "cell_type": "code",
   "execution_count": 8,
   "metadata": {
    "collapsed": false
   },
   "outputs": [
    {
     "name": "stdout",
     "output_type": "stream",
     "text": [
      "*\n",
      "**\n",
      "***\n",
      "****\n",
      "*****\n"
     ]
    }
   ],
   "source": [
    "for i in range(1, size + 1) :\n",
    "    print('*' * i)"
   ]
  },
  {
   "cell_type": "markdown",
   "metadata": {},
   "source": [
    "### Shape #2\n",
    "* Shape #2는 * 을 i열에 i개만큼 i = size가 될 때까지 오른쪽 정렬하여 출력해주면 된다."
   ]
  },
  {
   "cell_type": "code",
   "execution_count": 9,
   "metadata": {
    "collapsed": false
   },
   "outputs": [
    {
     "name": "stdout",
     "output_type": "stream",
     "text": [
      "------------------------------\n",
      "Shape #2\n"
     ]
    }
   ],
   "source": [
    "print('------------------------------')\n",
    "print('Shape #2')"
   ]
  },
  {
   "cell_type": "code",
   "execution_count": 11,
   "metadata": {
    "collapsed": true
   },
   "outputs": [],
   "source": [
    "right_align = '{:>' + str(size) + '}'"
   ]
  },
  {
   "cell_type": "code",
   "execution_count": 12,
   "metadata": {
    "collapsed": false
   },
   "outputs": [
    {
     "name": "stdout",
     "output_type": "stream",
     "text": [
      "    *\n",
      "   **\n",
      "  ***\n",
      " ****\n",
      "*****\n"
     ]
    }
   ],
   "source": [
    "for i in range(1, size + 1) :\n",
    "    print(right_align.format('*' * i))"
   ]
  },
  {
   "cell_type": "markdown",
   "metadata": {},
   "source": [
    "### Shape #3\n",
    "* Shape #3는 * 을 i열에 2i-1개만큼 i = size가 될 때까지 가운데 정렬하여 출력해주면 된다."
   ]
  },
  {
   "cell_type": "code",
   "execution_count": 13,
   "metadata": {
    "collapsed": false
   },
   "outputs": [
    {
     "name": "stdout",
     "output_type": "stream",
     "text": [
      "------------------------------\n",
      "Shape #3\n"
     ]
    }
   ],
   "source": [
    "print('------------------------------')\n",
    "print('Shape #3')"
   ]
  },
  {
   "cell_type": "code",
   "execution_count": 30,
   "metadata": {
    "collapsed": true
   },
   "outputs": [],
   "source": [
    "max_size = size * 2 - 1\n",
    "center_align = '{:^' + str(max_size) + '}'"
   ]
  },
  {
   "cell_type": "code",
   "execution_count": 29,
   "metadata": {
    "collapsed": false
   },
   "outputs": [
    {
     "name": "stdout",
     "output_type": "stream",
     "text": [
      "    *    \n",
      "   ***   \n",
      "  *****  \n",
      " ******* \n",
      "*********\n"
     ]
    }
   ],
   "source": [
    "for i in range(1, size + 1) :\n",
    "    star_count = i * 2 - 1 \n",
    "    print(center_align.format('*' * star_count))"
   ]
  },
  {
   "cell_type": "markdown",
   "metadata": {},
   "source": [
    "### Shape #4\n",
    "* Shape #4는 * 을 2i-1개만큼 i = size가 될 때까지 가운데 정렬하여 출력하되, 그 순서를 거꾸로 출력해주면 된다."
   ]
  },
  {
   "cell_type": "code",
   "execution_count": 20,
   "metadata": {
    "collapsed": false
   },
   "outputs": [
    {
     "name": "stdout",
     "output_type": "stream",
     "text": [
      "------------------------------\n",
      "Shape #4\n"
     ]
    }
   ],
   "source": [
    "print('------------------------------')\n",
    "print('Shape #4')"
   ]
  },
  {
   "cell_type": "code",
   "execution_count": 23,
   "metadata": {
    "collapsed": false
   },
   "outputs": [
    {
     "name": "stdout",
     "output_type": "stream",
     "text": [
      "*********\n",
      " ******* \n",
      "  *****  \n",
      "   ***   \n",
      "    *    \n"
     ]
    }
   ],
   "source": [
    "for i in range(size, 0, -1) :\n",
    "    star_count = i * 2 - 1\n",
    "    print(center_align.format('*' * star_count))"
   ]
  },
  {
   "cell_type": "markdown",
   "metadata": {},
   "source": [
    "### Shape #5\n",
    "* Shape #5는 Shape #3의 형태에 size-1 크기의 Shape #4를 출력해주면 된다."
   ]
  },
  {
   "cell_type": "code",
   "execution_count": 24,
   "metadata": {
    "collapsed": false
   },
   "outputs": [
    {
     "name": "stdout",
     "output_type": "stream",
     "text": [
      "------------------------------\n",
      "Shape #5\n"
     ]
    }
   ],
   "source": [
    "print('------------------------------')\n",
    "print('Shape #5')"
   ]
  },
  {
   "cell_type": "code",
   "execution_count": 25,
   "metadata": {
    "collapsed": false
   },
   "outputs": [
    {
     "name": "stdout",
     "output_type": "stream",
     "text": [
      "    *    \n",
      "   ***   \n",
      "  *****  \n",
      " ******* \n",
      "*********\n",
      " ******* \n",
      "  *****  \n",
      "   ***   \n",
      "    *    \n"
     ]
    }
   ],
   "source": [
    "for i in range(1, size + 1) :\n",
    "    star_count = i * 2 - 1\n",
    "    print(center_align.format('*' * star_count))\n",
    "\n",
    "for i in range(size - 1, 0, -1) :\n",
    "    star_count = i * 2 - 1\n",
    "    print(center_align.format('*' * star_count))"
   ]
  },
  {
   "cell_type": "markdown",
   "metadata": {},
   "source": [
    "### Shape #6\n",
    "* Shape #6는 size - 1 크기의 Shape #5를 출력하되, 각 행의 시작과 끝에 # 을 출력해주면 된다.\n",
    "* 맨 앞과 뒤에 # 을 가운데 정렬 후 출력하여 다이아몬드의 모습을 완성해준다."
   ]
  },
  {
   "cell_type": "code",
   "execution_count": 26,
   "metadata": {
    "collapsed": false
   },
   "outputs": [
    {
     "name": "stdout",
     "output_type": "stream",
     "text": [
      "------------------------------\n",
      "Shape #6\n"
     ]
    }
   ],
   "source": [
    "print('------------------------------')\n",
    "print('Shape #6')"
   ]
  },
  {
   "cell_type": "code",
   "execution_count": 37,
   "metadata": {
    "collapsed": false
   },
   "outputs": [
    {
     "name": "stdout",
     "output_type": "stream",
     "text": [
      "    #    \n",
      "   #*#   \n",
      "  #***#  \n",
      " #*****# \n",
      "#*******#\n",
      " #*****# \n",
      "  #***#  \n",
      "   #*#   \n",
      "    #    \n"
     ]
    }
   ],
   "source": [
    "print(center_align.format('#'))\n",
    "\n",
    "for i in range(1, size) :\n",
    "    star_count = i * 2 - 1\n",
    "    print(center_align.format('#' + '*' * star_count + '#'))\n",
    "    \n",
    "for i in range(size - 2, 0, -1) :\n",
    "    star_count = i * 2 - 1\n",
    "    print(center_align.format('#' + '*' * star_count + '#'))\n",
    "\n",
    "print(center_align.format('#'))"
   ]
  },
  {
   "cell_type": "code",
   "execution_count": null,
   "metadata": {
    "collapsed": true
   },
   "outputs": [],
   "source": []
  }
 ],
 "metadata": {
  "anaconda-cloud": {},
  "kernelspec": {
   "display_name": "Python [Root]",
   "language": "python",
   "name": "Python [Root]"
  },
  "language_info": {
   "codemirror_mode": {
    "name": "ipython",
    "version": 3
   },
   "file_extension": ".py",
   "mimetype": "text/x-python",
   "name": "python",
   "nbconvert_exporter": "python",
   "pygments_lexer": "ipython3",
   "version": "3.5.2"
  }
 },
 "nbformat": 4,
 "nbformat_minor": 0
}
