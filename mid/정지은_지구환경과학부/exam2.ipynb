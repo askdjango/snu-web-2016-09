{
 "cells": [
  {
   "cell_type": "code",
   "execution_count": 19,
   "metadata": {
    "collapsed": false
   },
   "outputs": [
    {
     "name": "stdout",
     "output_type": "stream",
     "text": [
      "입력양식 : 이름, 키, 몸무게, 좋아하는브랜드\n",
      "(중단 : n)\n",
      "\n"
     ]
    }
   ],
   "source": [
    "print('입력양식 : 이름, 키, 몸무게, 좋아하는브랜드')\n",
    "print('(중단 : n)')\n",
    "print('')"
   ]
  },
  {
   "cell_type": "code",
   "execution_count": 20,
   "metadata": {
    "collapsed": true
   },
   "outputs": [],
   "source": [
    "people = {}"
   ]
  },
  {
   "cell_type": "code",
   "execution_count": 21,
   "metadata": {
    "collapsed": false
   },
   "outputs": [
    {
     "name": "stdout",
     "output_type": "stream",
     "text": [
      "> 철수, 156, 76, 삼성\n",
      "> 영희, 146, 54, 애플\n",
      "> 바둑이, 135, 39, 삼성\n",
      "> 선미, 165, 45, 샤오미\n",
      "> 린팡, 163, 50, 화웨이\n",
      "> 지은, 168, 55, 애플\n",
      "> 지오, 164, 53, 애플\n",
      "> 몽이, 148, 48, 샤오미\n",
      "> 타미, 157, 61, 애플\n",
      "> 탐, 183, 78, 삼성\n",
      "> 톰, 185, 75, 삼성\n",
      "> n\n"
     ]
    }
   ],
   "source": [
    "while True:\n",
    "    line = input('> ')\n",
    "    if line.lower() == 'n' :\n",
    "        break\n",
    "    \n",
    "    name, height, weight, brand = line.split(',')\n",
    "    \n",
    "    people[name] = {\n",
    "        'height' : height,\n",
    "        'weight' : weight,\n",
    "        'brand' : brand\n",
    "    }"
   ]
  },
  {
   "cell_type": "code",
   "execution_count": 22,
   "metadata": {
    "collapsed": false
   },
   "outputs": [
    {
     "name": "stdout",
     "output_type": "stream",
     "text": [
      "{'톰': {'weight': ' 75', 'height': ' 185', 'brand': ' 삼성'}, '바둑이': {'weight': ' 39', 'height': ' 135', 'brand': ' 삼성'}, '영희': {'weight': ' 54', 'height': ' 146', 'brand': ' 애플'}, '탐': {'weight': ' 78', 'height': ' 183', 'brand': ' 삼성'}, '타미': {'weight': ' 61', 'height': ' 157', 'brand': ' 애플'}, '지은': {'weight': ' 55', 'height': ' 168', 'brand': ' 애플'}, '선미': {'weight': ' 45', 'height': ' 165', 'brand': ' 샤오미'}, '몽이': {'weight': ' 48', 'height': ' 148', 'brand': ' 샤오미'}, '지오': {'weight': ' 53', 'height': ' 164', 'brand': ' 애플'}, '철수': {'weight': ' 76', 'height': ' 156', 'brand': ' 삼성'}, '린팡': {'weight': ' 50', 'height': ' 163', 'brand': ' 화웨이'}}\n"
     ]
    }
   ],
   "source": [
    "print(people)"
   ]
  },
  {
   "cell_type": "code",
   "execution_count": 23,
   "metadata": {
    "collapsed": false
   },
   "outputs": [],
   "source": [
    "def cal_min(**info) :\n",
    "\n",
    "    height_min = 10000\n",
    "    weight_min = 10000\n",
    "\n",
    "    for name in info :\n",
    "        if int(info[name]['height']) < height_min :\n",
    "            height_min = int(info[name]['height'])\n",
    "        else :\n",
    "            height_min = height_min\n",
    "\n",
    "        if int(info[name]['weight']) < weight_min :\n",
    "            weight_min = int(info[name]['weight'])\n",
    "        else :\n",
    "            weight_min = weight_min\n",
    "    \n",
    "    print('키의 최솟값 : ', end = \"\")\n",
    "    print(height_min)\n",
    "    print('몸무게의 최솟값 : ', end = \"\")\n",
    "    print(weight_min)"
   ]
  },
  {
   "cell_type": "code",
   "execution_count": 24,
   "metadata": {
    "collapsed": false
   },
   "outputs": [],
   "source": [
    "def cal_max(**info) :\n",
    "    \n",
    "    height_max = 0\n",
    "    weight_max = 0\n",
    "    \n",
    "    for name in info :\n",
    "        if int(info[name]['height']) > height_max :\n",
    "            height_max = int(info[name]['height'])\n",
    "        else :\n",
    "            height_max = height_max\n",
    "    \n",
    "    for name in info :\n",
    "        if int(info[name]['weight']) > weight_max :\n",
    "            weight_max = int(info[name]['weight'])\n",
    "        else :\n",
    "            weight_max = weight_max   \n",
    "    \n",
    "    print('키의 최댓값 : ', end = \"\")\n",
    "    print(height_max)\n",
    "    print('몸무게의 최댓값 : ', end = \"\")\n",
    "    print(weight_max)"
   ]
  },
  {
   "cell_type": "code",
   "execution_count": 25,
   "metadata": {
    "collapsed": true
   },
   "outputs": [],
   "source": [
    "def cal_avg(**info) :\n",
    "    height_sum = 0\n",
    "    weight_sum = 0\n",
    "    \n",
    "    a = 0\n",
    "    for name in info :\n",
    "        height_sum += int(info[name]['height'])\n",
    "        weight_sum += int(info[name]['weight'])\n",
    "        a = a + 1\n",
    "    \n",
    "    height_avg = float(height_sum / a)\n",
    "    weight_avg = float(weight_sum / a)\n",
    "    \n",
    "    print('키의 평균값 : ', end = \"\")\n",
    "    print(height_avg)\n",
    "    print('몸무게의 평균값 : ', end = \"\")\n",
    "    print(weight_avg)"
   ]
  },
  {
   "cell_type": "markdown",
   "metadata": {},
   "source": [
    "* 중위값 (= 중앙값) : 통계집단의 변량을 크기 순으로 늘어 놓았을 때, 중앙에 위치하는 값. 총수 n이 홀수일 때는 (n+1)/2번째의 변량, n이 짝수일 때는 n/2번째와 (n+2)/2번째의 산술평균을 취한다."
   ]
  },
  {
   "cell_type": "code",
   "execution_count": 49,
   "metadata": {
    "collapsed": false
   },
   "outputs": [],
   "source": [
    "def cal_med(**info) :\n",
    "    height = []\n",
    "    weight = []\n",
    "    \n",
    "    b = 0\n",
    "    for name in info :\n",
    "        height.append(int(info[name]['height']))\n",
    "        weight.append(int(info[name]['weight']))\n",
    "        b = b + 1\n",
    "\n",
    "    height.sort(reverse = False)\n",
    "    weight.sort(reverse = False)\n",
    "\n",
    "    if b % 2 == 1 :\n",
    "        height_med = height[int((b - 1) / 2)]\n",
    "        weight_med = weight[int((b - 1) / 2)]\n",
    "    else :\n",
    "        height_med = (height[int((b - 2) / 2)] + height[int(b / 2)]) / 2\n",
    "        weight_med = (weight[int((b - 2) / 2)] + weight[int(b / 2)]) / 2\n",
    "    \n",
    "    print('키의 중위값 : ', end = \"\")\n",
    "    print(height_med)\n",
    "    print('몸무게의 중위값 : ', end = \"\")\n",
    "    print(weight_med)"
   ]
  },
  {
   "cell_type": "code",
   "execution_count": 27,
   "metadata": {
    "collapsed": false
   },
   "outputs": [
    {
     "name": "stdout",
     "output_type": "stream",
     "text": [
      "키의 최솟값 : 135\n",
      "몸무게의 최솟값 : 39\n"
     ]
    }
   ],
   "source": [
    "cal_min(**people)"
   ]
  },
  {
   "cell_type": "code",
   "execution_count": 28,
   "metadata": {
    "collapsed": false
   },
   "outputs": [
    {
     "name": "stdout",
     "output_type": "stream",
     "text": [
      "키의 최댓값 : 185\n",
      "몸무게의 최댓값 : 78\n"
     ]
    }
   ],
   "source": [
    "cal_max(**people)"
   ]
  },
  {
   "cell_type": "code",
   "execution_count": 29,
   "metadata": {
    "collapsed": false
   },
   "outputs": [
    {
     "name": "stdout",
     "output_type": "stream",
     "text": [
      "키의 평균값 : 160.9090909090909\n",
      "몸무게의 평균값 : 57.63636363636363\n"
     ]
    }
   ],
   "source": [
    "cal_avg(**people)"
   ]
  },
  {
   "cell_type": "code",
   "execution_count": 50,
   "metadata": {
    "collapsed": false
   },
   "outputs": [
    {
     "name": "stdout",
     "output_type": "stream",
     "text": [
      "키의 중위값 : 163\n",
      "몸무게의 중위값 : 54\n"
     ]
    }
   ],
   "source": [
    "cal_med(**people)"
   ]
  },
  {
   "cell_type": "code",
   "execution_count": 47,
   "metadata": {
    "collapsed": false
   },
   "outputs": [],
   "source": [
    "def Top3(**info) :\n",
    "    from collections import defaultdict\n",
    "    \n",
    "    index_count = defaultdict(int)\n",
    "    for name in info :\n",
    "        word = info[name]['brand']\n",
    "        index_count[word] += 1\n",
    "    \n",
    "    count = []\n",
    "    \n",
    "    for key in index_count :\n",
    "        count.append(index_count[key])\n",
    "\n",
    "    count_set = sorted(set(count), reverse = True)\n",
    "    \n",
    "    i = 1\n",
    "    for number in count_set :\n",
    "        print(\"Top\", end = ' ')\n",
    "        print(i, end = ':')\n",
    "        for key in index_count :\n",
    "            if index_count[key] == number :\n",
    "                print(key, end = ' ')\n",
    "        print(\"\\n\")\n",
    "        i += 1\n",
    "        \n",
    "        if i == 4 :\n",
    "            break"
   ]
  },
  {
   "cell_type": "code",
   "execution_count": 48,
   "metadata": {
    "collapsed": false
   },
   "outputs": [
    {
     "name": "stdout",
     "output_type": "stream",
     "text": [
      "Top 1: 삼성  애플 \n",
      "\n",
      "Top 2: 샤오미 \n",
      "\n",
      "Top 3: 화웨이 \n",
      "\n"
     ]
    }
   ],
   "source": [
    "Top3(**people)"
   ]
  }
 ],
 "metadata": {
  "anaconda-cloud": {},
  "kernelspec": {
   "display_name": "Python [Root]",
   "language": "python",
   "name": "Python [Root]"
  },
  "language_info": {
   "codemirror_mode": {
    "name": "ipython",
    "version": 3
   },
   "file_extension": ".py",
   "mimetype": "text/x-python",
   "name": "python",
   "nbconvert_exporter": "python",
   "pygments_lexer": "ipython3",
   "version": "3.5.2"
  }
 },
 "nbformat": 4,
 "nbformat_minor": 0
}
