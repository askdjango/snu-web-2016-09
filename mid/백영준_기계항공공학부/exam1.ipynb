{
 "cells": [
  {
   "cell_type": "markdown",
   "metadata": {},
   "source": [
    "# exam1.ipynb"
   ]
  },
  {
   "cell_type": "markdown",
   "metadata": {},
   "source": [
    "## 다음과 같은 모양을 출려하는 6가지 함수를 작성하세요"
   ]
  },
  {
   "cell_type": "code",
   "execution_count": 9,
   "metadata": {
    "collapsed": true
   },
   "outputs": [],
   "source": [
    "def case(number):\n",
    "    print(\"\\ncase#\"+str(number))"
   ]
  },
  {
   "cell_type": "code",
   "execution_count": 3,
   "metadata": {
    "collapsed": true
   },
   "outputs": [],
   "source": [
    "def getPyramidInput():\n",
    "    return int(input(\"몇 층의 별피라미드를 나타낼까요?   \"))\n",
    "def getDiamondInput():\n",
    "    return int(input(\"몇 층의 별다이아를 나타낼까요? 홀수만 가능합니다   \"))"
   ]
  },
  {
   "cell_type": "code",
   "execution_count": 4,
   "metadata": {
    "collapsed": true
   },
   "outputs": [],
   "source": [
    "def formatting(arrangeStyle,number):\n",
    "    return '{:' + arrangeStyle + '{}'.format(number) + '}'"
   ]
  },
  {
   "cell_type": "code",
   "execution_count": 18,
   "metadata": {
    "collapsed": false
   },
   "outputs": [],
   "source": [
    "def printStar(formatter,start,finish,gap):\n",
    "    for i in range(start,finish,gap):\n",
    "        print(formatter.format('*'*i))\n",
    "def printSharpCoveredStar(formatter,start,finish,gap):\n",
    "    for i in range(start,finish,gap):\n",
    "        if i == 1 :\n",
    "            print(formatter.format('#'))\n",
    "        elif i > 2 :\n",
    "            print(formatter.format('#'+'*'*(i-2)+'#'))"
   ]
  },
  {
   "cell_type": "code",
   "execution_count": 21,
   "metadata": {
    "collapsed": false
   },
   "outputs": [],
   "source": [
    "def printStarPyramid(numberOfRow,arrangeStyle,upAndDown):\n",
    "    if arrangeStyle == '<' or arrangeStyle == '>':\n",
    "        formatter = formatting(arrangeStyle,numberOfRow)\n",
    "        printStar(formatter,1,numberOfRow+1,1)\n",
    "    else:\n",
    "        formatter = formatting(arrangeStyle,2*numberOfRow-1)\n",
    "        if upAndDown == 0:\n",
    "            printStar(formatter,1,2*numberOfRow+1,2)\n",
    "        elif upAndDown == 1:\n",
    "            printStar(formatter,2*numberOfRow-1,0,-2)\n",
    "        else:\n",
    "            print('error')"
   ]
  },
  {
   "cell_type": "code",
   "execution_count": 22,
   "metadata": {
    "collapsed": true
   },
   "outputs": [],
   "source": [
    "def printStarDiamond(numberOfRow):\n",
    "    if numberOfRow % 2 == 1:\n",
    "        formatter = formatting('^',int(numberOfRow)+1)\n",
    "        printStar(formatter,1,numberOfRow,2)\n",
    "        printStar(formatter,numberOfRow,0,-2)\n",
    "    elif numberOfRow % 2 == 0:\n",
    "        number = getDiamondInput()\n",
    "        printStarDiamond(number)\n",
    "    else:\n",
    "        print('error')"
   ]
  },
  {
   "cell_type": "code",
   "execution_count": 25,
   "metadata": {
    "collapsed": true
   },
   "outputs": [],
   "source": [
    "def printSharpCoveredDiamond(numberOfRow):\n",
    "    if numberOfRow % 2 == 1:\n",
    "        formatter = formatting('^',int(numberOfRow)+1)\n",
    "        printSharpCoveredStar(formatter,1,numberOfRow,2)\n",
    "        printSharpCoveredStar(formatter,numberOfRow,0,-2)\n",
    "    elif numberOfRow % 2 == 0:\n",
    "        number = getDiamondInput()\n",
    "        printSharpCoveredDiamond(number)"
   ]
  },
  {
   "cell_type": "markdown",
   "metadata": {},
   "source": [
    "### case #1 - #4"
   ]
  },
  {
   "cell_type": "code",
   "execution_count": 23,
   "metadata": {
    "collapsed": false
   },
   "outputs": [
    {
     "name": "stdout",
     "output_type": "stream",
     "text": [
      "몇 층의 별피라미드를 나타낼까요?   9\n",
      "\n",
      "case#1\n",
      "*        \n",
      "**       \n",
      "***      \n",
      "****     \n",
      "*****    \n",
      "******   \n",
      "*******  \n",
      "******** \n",
      "*********\n",
      "\n",
      "case#2\n",
      "        *\n",
      "       **\n",
      "      ***\n",
      "     ****\n",
      "    *****\n",
      "   ******\n",
      "  *******\n",
      " ********\n",
      "*********\n",
      "\n",
      "case#3\n",
      "        *        \n",
      "       ***       \n",
      "      *****      \n",
      "     *******     \n",
      "    *********    \n",
      "   ***********   \n",
      "  *************  \n",
      " *************** \n",
      "*****************\n",
      "\n",
      "case#4\n",
      "*****************\n",
      " *************** \n",
      "  *************  \n",
      "   ***********   \n",
      "    *********    \n",
      "     *******     \n",
      "      *****      \n",
      "       ***       \n",
      "        *        \n"
     ]
    }
   ],
   "source": [
    "n = getPyramidInput()\n",
    "case(1)\n",
    "printStarPyramid(n,'<',0)\n",
    "case(2)\n",
    "printStarPyramid(n,'>',0)\n",
    "case(3)\n",
    "printStarPyramid(n,'^',0)\n",
    "case(4)\n",
    "printStarPyramid(n,'^',1)"
   ]
  },
  {
   "cell_type": "markdown",
   "metadata": {},
   "source": [
    "### case #5"
   ]
  },
  {
   "cell_type": "code",
   "execution_count": 24,
   "metadata": {
    "collapsed": false
   },
   "outputs": [
    {
     "name": "stdout",
     "output_type": "stream",
     "text": [
      "몇 층의 별다이아를 나타낼까요? 홀수만 가능합니다   9\n",
      "    *     \n",
      "   ***    \n",
      "  *****   \n",
      " *******  \n",
      "********* \n",
      " *******  \n",
      "  *****   \n",
      "   ***    \n",
      "    *     \n"
     ]
    }
   ],
   "source": [
    "n = getDiamondInput()\n",
    "printStarDiamond(n)"
   ]
  },
  {
   "cell_type": "markdown",
   "metadata": {},
   "source": [
    "### case #6"
   ]
  },
  {
   "cell_type": "code",
   "execution_count": 26,
   "metadata": {
    "collapsed": false
   },
   "outputs": [
    {
     "name": "stdout",
     "output_type": "stream",
     "text": [
      "몇 층의 별다이아를 나타낼까요? 홀수만 가능합니다   9\n",
      "    #     \n",
      "   #*#    \n",
      "  #***#   \n",
      " #*****#  \n",
      "#*******# \n",
      " #*****#  \n",
      "  #***#   \n",
      "   #*#    \n",
      "    #     \n"
     ]
    }
   ],
   "source": [
    "n = getDiamondInput()\n",
    "printSharpCoveredDiamond(n)"
   ]
  },
  {
   "cell_type": "code",
   "execution_count": 27,
   "metadata": {
    "collapsed": false
   },
   "outputs": [
    {
     "name": "stdout",
     "output_type": "stream",
     "text": [
      "몇 층의 별다이아를 나타낼까요? 홀수만 가능합니다   10\n",
      "몇 층의 별다이아를 나타낼까요? 홀수만 가능합니다   7\n",
      "   #    \n",
      "  #*#   \n",
      " #***#  \n",
      "#*****# \n",
      " #***#  \n",
      "  #*#   \n",
      "   #    \n"
     ]
    }
   ],
   "source": [
    "n = getDiamondInput()\n",
    "printSharpCoveredDiamond(n)"
   ]
  }
 ],
 "metadata": {
  "anaconda-cloud": {},
  "kernelspec": {
   "display_name": "Python [Root]",
   "language": "python",
   "name": "Python [Root]"
  },
  "language_info": {
   "codemirror_mode": {
    "name": "ipython",
    "version": 3
   },
   "file_extension": ".py",
   "mimetype": "text/x-python",
   "name": "python",
   "nbconvert_exporter": "python",
   "pygments_lexer": "ipython3",
   "version": "3.5.2"
  }
 },
 "nbformat": 4,
 "nbformat_minor": 0
}
