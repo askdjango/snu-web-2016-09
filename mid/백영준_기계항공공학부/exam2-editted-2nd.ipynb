{
 "cells": [
  {
   "cell_type": "markdown",
   "metadata": {},
   "source": [
    "# exam2.ipynb"
   ]
  },
  {
   "cell_type": "markdown",
   "metadata": {},
   "source": [
    "## 아래 코드를 보완하여, 명단 관리 프로그램을 완성하세요."
   ]
  },
  {
   "cell_type": "markdown",
   "metadata": {},
   "source": [
    "백영준,200,100,지오다노\n",
    "김영준,180,80,나이키\n",
    "이영준,177,60,아디다스\n",
    "박영준,160,50,유니클로\n",
    "정영준,150,70,지오다노\n",
    "홍영준,190,80,리복\n",
    "진영준,174,70,퓨마\n",
    "서영준,172,60,나이키\n",
    "남영준,170,40,아디다스\n",
    "남궁영준,148,50,지오다노"
   ]
  },
  {
   "cell_type": "markdown",
   "metadata": {},
   "source": [
    "### 입력받기"
   ]
  },
  {
   "cell_type": "code",
   "execution_count": 1,
   "metadata": {
    "collapsed": false,
    "scrolled": true
   },
   "outputs": [
    {
     "name": "stdout",
     "output_type": "stream",
     "text": [
      "입력양식 : >입력,키,몸무게,좋아하는브랜드\n",
      "(중단 : n)\n",
      "\n",
      "> 백영준,200,100,지오다노\n",
      "> 김영준,180,80,나이키\n",
      "> 서영준,172,60,나이키\n",
      "> 남궁영준,148,50,지오다노\n",
      "> 정영준,150,70,지오다노\n",
      "> n\n"
     ]
    }
   ],
   "source": [
    "print('입력양식 : >입력,키,몸무게,좋아하는브랜드')\n",
    "print('(중단 : n)')\n",
    "print('')\n",
    "\n",
    "people = {}\n",
    "\n",
    "while True:\n",
    "    line = input('> ')\n",
    "    if line.lower() == 'n':\n",
    "        break\n",
    "    name, height, weight, brand = line.split(',')\n",
    "    people[name] = [int(height),int(weight),brand]"
   ]
  },
  {
   "cell_type": "markdown",
   "metadata": {},
   "source": [
    "### 기본데이터 만들기"
   ]
  },
  {
   "cell_type": "code",
   "execution_count": 2,
   "metadata": {
    "collapsed": false
   },
   "outputs": [],
   "source": [
    "from collections import defaultdict\n",
    "\n",
    "heightData = []\n",
    "weightData = []\n",
    "brandCount = defaultdict(int)\n",
    "\n",
    "\n",
    "for person in people:\n",
    "    heightData.append(people[person][0])\n",
    "    weightData.append(people[person][1])\n",
    "    brandCount[people[person][2]] += 1\n",
    "\n",
    "weightData.sort()\n",
    "heightData.sort()"
   ]
  },
  {
   "cell_type": "markdown",
   "metadata": {},
   "source": [
    "### 기본데이터를 인수로 받는 함수"
   ]
  },
  {
   "cell_type": "code",
   "execution_count": 3,
   "metadata": {
    "collapsed": false
   },
   "outputs": [],
   "source": [
    "def getBrandRanking(brandDict):\n",
    "    brandData = []\n",
    "    for item in brandDict.items():\n",
    "        brandData += [item]\n",
    "    rankedBrand = sorted(brandData, key=lambda brand: brand[1])\n",
    "    return rankedBrand"
   ]
  },
  {
   "cell_type": "code",
   "execution_count": 4,
   "metadata": {
    "collapsed": false
   },
   "outputs": [],
   "source": [
    "def getBrandResult(rankedBrand):\n",
    "    brandResult = defaultdict(list)\n",
    "    for items in rankedBrand:\n",
    "        brandResult[items[1]] += [items[0]]\n",
    "    return brandResult"
   ]
  },
  {
   "cell_type": "code",
   "execution_count": 5,
   "metadata": {
    "collapsed": false
   },
   "outputs": [],
   "source": [
    "def printBrandRanking(bResult):\n",
    "    print('\\n브랜드 랭킹 TOP 3')\n",
    "    keys = []\n",
    "    for key in bResult.keys():\n",
    "        keys += [key]\n",
    "    keys.sort()\n",
    "    print(keys)\n",
    "    print(len(keys))\n",
    "    if len(keys)==1:\n",
    "        brand1 = \", \".join(bResult[keys[-1]])\n",
    "        print('1. {}\\n2. {}\\n3. {}'.format(brand1,'-','-'))\n",
    "    elif len(keys)==2:\n",
    "        brand1 = \", \".join(bResult[keys[-1]])\n",
    "        brand2 = \", \".join(bResult[keys[-2]])\n",
    "        print('1. {}\\n2. {}\\n3. {}'.format(brand1,brand2,'-'))\n",
    "    else:\n",
    "        brand1 = \", \".join(bResult[keys[-1]])\n",
    "        brand2 = \", \".join(bResult[keys[-2]])\n",
    "        brand3 = \", \".join(bResult[keys[-3]])\n",
    "        print('1. {}\\n2. {}\\n3. {}'.format(brand1,brand2,brand3))\n",
    "        \n",
    "    \n",
    "    \n",
    "    "
   ]
  },
  {
   "cell_type": "code",
   "execution_count": 6,
   "metadata": {
    "collapsed": false
   },
   "outputs": [],
   "source": [
    "def getMedian(array):\n",
    "    arrayCount = len(array)\n",
    "    if len(array) % 2 == 1:\n",
    "        medianIndex = int((len(array)+1)/2)\n",
    "        median = array[medianIndex]\n",
    "    else:\n",
    "        medianIndex = int(len(array)/2)\n",
    "        median = (array[medianIndex]+array[medianIndex+1])/2\n",
    "    return median"
   ]
  },
  {
   "cell_type": "code",
   "execution_count": 7,
   "metadata": {
    "collapsed": true
   },
   "outputs": [],
   "source": [
    "def getResult(array):\n",
    "    array.sort()\n",
    "    arrayCount = len(array)\n",
    "    mina = array[0]\n",
    "    maxa = array[-1]\n",
    "    avga = sum(array)/arrayCount\n",
    "    meda = getMedian(array)\n",
    "    return [mina,maxa,avga,meda]"
   ]
  },
  {
   "cell_type": "markdown",
   "metadata": {},
   "source": [
    "### 결과 나타내기"
   ]
  },
  {
   "cell_type": "code",
   "execution_count": 8,
   "metadata": {
    "collapsed": false
   },
   "outputs": [
    {
     "name": "stdout",
     "output_type": "stream",
     "text": [
      "키(cm)[최소,최대,평균,중위] = [148, 200, 170.0, 180]\n",
      "몸무게(kg)[최소,최대,평균,중위] = [50, 100, 72.0, 80]\n",
      "\n",
      "브랜드 랭킹 TOP 3\n",
      "[2, 3]\n",
      "2\n",
      "1. 지오다노\n",
      "2. 나이키\n",
      "3. -\n"
     ]
    }
   ],
   "source": [
    "hResult = getResult(heightData)\n",
    "wResult = getResult(weightData)\n",
    "rankedBrand = getBrandRanking(brandCount)\n",
    "bResult = getBrandResult(rankedBrand)\n",
    "\n",
    "print('키(cm)[최소,최대,평균,중위] =',hResult)\n",
    "print('몸무게(kg)[최소,최대,평균,중위] =',wResult)\n",
    "printBrandRanking(bResult)"
   ]
  },
  {
   "cell_type": "code",
   "execution_count": 9,
   "metadata": {
    "collapsed": false
   },
   "outputs": [
    {
     "name": "stdout",
     "output_type": "stream",
     "text": [
      "defaultdict(<class 'int'>, {'나이키': 2, '지오다노': 3})\n",
      "[('나이키', 2), ('지오다노', 3)]\n",
      "defaultdict(<class 'list'>, {2: ['나이키'], 3: ['지오다노']})\n"
     ]
    }
   ],
   "source": [
    "print(brandCount)\n",
    "print(rankedBrand)\n",
    "print(bResult)"
   ]
  }
 ],
 "metadata": {
  "anaconda-cloud": {},
  "kernelspec": {
   "display_name": "Python [Root]",
   "language": "python",
   "name": "Python [Root]"
  },
  "language_info": {
   "codemirror_mode": {
    "name": "ipython",
    "version": 3
   },
   "file_extension": ".py",
   "mimetype": "text/x-python",
   "name": "python",
   "nbconvert_exporter": "python",
   "pygments_lexer": "ipython3",
   "version": "3.5.2"
  }
 },
 "nbformat": 4,
 "nbformat_minor": 0
}
