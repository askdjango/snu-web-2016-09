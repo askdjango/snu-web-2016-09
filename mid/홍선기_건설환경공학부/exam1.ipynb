{
 "cells": [
  {
   "cell_type": "code",
   "execution_count": 1,
   "metadata": {
    "collapsed": false
   },
   "outputs": [
    {
     "name": "stdout",
     "output_type": "stream",
     "text": [
      "*\n",
      "**\n",
      "***\n",
      "****\n",
      "*****\n"
     ]
    }
   ],
   "source": [
    "def case1(size):\n",
    "    for i in range(1,size + 1):\n",
    "        print(i * \"*\")\n",
    "case1(5)\n",
    "        "
   ]
  },
  {
   "cell_type": "code",
   "execution_count": 3,
   "metadata": {
    "collapsed": false
   },
   "outputs": [
    {
     "name": "stdout",
     "output_type": "stream",
     "text": [
      "     *\n",
      "    **\n",
      "   ***\n",
      "  ****\n",
      " *****\n"
     ]
    }
   ],
   "source": [
    "def case2(size):\n",
    "    for i in range(1,size + 1):\n",
    "       print((size - i)*\" \",i*\"*\")\n",
    "case2(5)"
   ]
  },
  {
   "cell_type": "code",
   "execution_count": 4,
   "metadata": {
    "collapsed": false
   },
   "outputs": [
    {
     "name": "stdout",
     "output_type": "stream",
     "text": [
      "    *    \n",
      "   ***   \n",
      "  *****  \n",
      " ******* \n",
      "*********\n"
     ]
    }
   ],
   "source": [
    "def case3(size):\n",
    "    for i in range(1,size + 1):\n",
    "        width = size * 2 - 1\n",
    "        formatter = '{:^' + str(width) + '}'\n",
    "        asteroid = (i * 2 - 1)*\"*\"\n",
    "        print(formatter.format(asteroid))\n",
    "case3(5)"
   ]
  },
  {
   "cell_type": "code",
   "execution_count": 8,
   "metadata": {
    "collapsed": false
   },
   "outputs": [
    {
     "name": "stdout",
     "output_type": "stream",
     "text": [
      "*********\n",
      " ******* \n",
      "  *****  \n",
      "   ***   \n",
      "    *    \n"
     ]
    }
   ],
   "source": [
    "def case4(size):\n",
    "    for i in range(1,size + 1):\n",
    "        width = size * 2 - 1\n",
    "        formatter = '{:^' + str(width) + '}'\n",
    "        asteroid = (width - ((i-1) * 2))*\"*\"\n",
    "        print(formatter.format(asteroid))\n",
    "case4(5)"
   ]
  },
  {
   "cell_type": "code",
   "execution_count": 14,
   "metadata": {
    "collapsed": false
   },
   "outputs": [
    {
     "name": "stdout",
     "output_type": "stream",
     "text": [
      "    *    \n",
      "   ***   \n",
      "  *****  \n",
      " ******* \n",
      "*********\n",
      " ******* \n",
      "  *****  \n",
      "   ***   \n",
      "    *    \n"
     ]
    }
   ],
   "source": [
    "def case5(size):\n",
    "    for i in range(1,size * 2):\n",
    "        width = size * 2 - 1\n",
    "        formatter = '{:^' + str(width) + '}'\n",
    "        asteroid = ((-abs(2 * (i - size)))+ width)*\"*\"\n",
    "        print(formatter.format(asteroid))\n",
    "case5(5)"
   ]
  },
  {
   "cell_type": "code",
   "execution_count": 1,
   "metadata": {
    "collapsed": false
   },
   "outputs": [
    {
     "name": "stdout",
     "output_type": "stream",
     "text": [
      "    #    \n",
      "   #*#   \n",
      "  #***#  \n",
      " #*****# \n",
      "#*******#\n",
      " #*****# \n",
      "  #***#  \n",
      "   #*#   \n",
      "    #    \n"
     ]
    }
   ],
   "source": [
    "def case6(size):\n",
    "    for i in range(1,size * 2):\n",
    "        width = size * 2 - 1\n",
    "        formatter = '{:^' + str(width) + '}'\n",
    "        if i == 1 or i == size * 2 - 1:\n",
    "            print (formatter.format(\"#\"))\n",
    "        else:\n",
    "            asteroid = '#'+((-abs(2 * (i - size)))+ width - 2)*\"*\"+'#'\n",
    "            print(formatter.format(asteroid))\n",
    "case6(5)"
   ]
  },
  {
   "cell_type": "code",
   "execution_count": null,
   "metadata": {
    "collapsed": true
   },
   "outputs": [],
   "source": []
  }
 ],
 "metadata": {
  "kernelspec": {
   "display_name": "Python 3",
   "language": "python",
   "name": "python3"
  },
  "language_info": {
   "codemirror_mode": {
    "name": "ipython",
    "version": 3
   },
   "file_extension": ".py",
   "mimetype": "text/x-python",
   "name": "python",
   "nbconvert_exporter": "python",
   "pygments_lexer": "ipython3",
   "version": "3.5.2"
  }
 },
 "nbformat": 4,
 "nbformat_minor": 1
}
