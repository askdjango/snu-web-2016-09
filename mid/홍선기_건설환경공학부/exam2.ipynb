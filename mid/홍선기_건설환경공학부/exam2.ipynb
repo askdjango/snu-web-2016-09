{
 "cells": [
  {
   "cell_type": "code",
   "execution_count": 2,
   "metadata": {
    "collapsed": false
   },
   "outputs": [
    {
     "name": "stdout",
     "output_type": "stream",
     "text": [
      "입력양식 : 이름, 키, 몸무게, 좋아하는브랜드\n",
      "(중단 : n)\n",
      "\n",
      "> sunki,150,150,nike\n",
      "> hong,160,160,adi\n",
      "> ken,170,170,new\n",
      "> ke,180,180,nike\n",
      "> k,200,200,new\n",
      "> hon,140,140,adi\n",
      "> ho,130,130,adi\n",
      "> h,120,120,adi\n",
      "> sunk,110,110,adi\n",
      "> sun,100,100,adi\n",
      "> a,120,120,kk\n",
      "> n\n",
      "키의 최솟값: 100\n",
      "키의 최댓값: 200\n",
      "키의 평균값: 143.63636363636363\n",
      "키의 중위값: 140\n",
      "무게의 최솟값: 100\n",
      "무게의 최댓값: 200\n",
      "무게의 평균값: 143.63636363636363\n",
      "무게의 중위값: 140\n",
      "Top 1 : adi\n",
      "Top 2 : nike\n",
      "Top 2 : new\n",
      "Top 3 : kk\n"
     ]
    }
   ],
   "source": [
    "print('입력양식 : 이름, 키, 몸무게, 좋아하는브랜드')\n",
    "print('(중단 : n)')\n",
    "print('')\n",
    "people = {}\n",
    "while True:\n",
    "    line = input('> ')\n",
    "    if line.lower() == 'n':\n",
    "        break\n",
    "    name, height, weight, brand = line.split(',')\n",
    "    people[name]={'height':height,'weight':weight,'brand':brand}\n",
    "\n",
    "height_list = []\n",
    "weight_list = []\n",
    "brand_list = []\n",
    "\n",
    "if len(people)>=10:\n",
    "    for name in people:\n",
    "        height_list.append(int(people[name]['height']))\n",
    "        weight_list.append(int(people[name]['weight']))\n",
    "        brand_list.append(people[name]['brand'])\n",
    "\n",
    "    #키\n",
    "    height_list.sort()\n",
    "    number = len(height_list)\n",
    "\n",
    "    print(\"키의 최솟값:\",height_list[0])\n",
    "    print(\"키의 최댓값:\",height_list[number-1])\n",
    "    print(\"키의 평균값:\",sum(height_list)/number)\n",
    "    print(\"키의 중위값:\",end=\" \")\n",
    "    if number % 2 == 0:\n",
    "        print(height_list[number//2-1],',',height_list[number//2])\n",
    "    else:\n",
    "        print(height_list[number//2])\n",
    "\n",
    "    #무게\n",
    "    weight_list.sort()\n",
    "    \n",
    "    print(\"무게의 최솟값:\",weight_list[0])\n",
    "    print(\"무게의 최댓값:\",weight_list[number-1])\n",
    "    print(\"무게의 평균값:\",sum(weight_list)/number)\n",
    "    print(\"무게의 중위값:\",end=\" \")\n",
    "    if number % 2 == 0:\n",
    "        print(weight_list[number//2-1],',',weight_list[number//2])\n",
    "    else:\n",
    "        print(weight_list[number//2])\n",
    "\n",
    "    #브랜드\n",
    "    brand_rank_dict = {}\n",
    "    for brand in brand_list:\n",
    "        if brand in brand_rank_dict:\n",
    "            brand_rank_dict[brand] += 1\n",
    "        else:\n",
    "            brand_rank_dict[brand] = 1\n",
    "    \n",
    "    brand_rank_list = list(set(list((brand_rank_dict.values()))))\n",
    "    brand_rank_list.sort(reverse = True)\n",
    "\n",
    "    for i in range(0,min(len(brand_rank_list),3)):\n",
    "        for brand, value in brand_rank_dict.items():\n",
    "            if brand_rank_list[i] == value:\n",
    "                print(\"Top\",i+1,\":\",brand)\n",
    "    \n",
    "else:\n",
    "    print(\"데이터를 10개이상 입력하세요\")"
   ]
  },
  {
   "cell_type": "code",
   "execution_count": null,
   "metadata": {
    "collapsed": true
   },
   "outputs": [],
   "source": []
  }
 ],
 "metadata": {
  "kernelspec": {
   "display_name": "Python 3",
   "language": "python",
   "name": "python3"
  },
  "language_info": {
   "codemirror_mode": {
    "name": "ipython",
    "version": 3
   },
   "file_extension": ".py",
   "mimetype": "text/x-python",
   "name": "python",
   "nbconvert_exporter": "python",
   "pygments_lexer": "ipython3",
   "version": "3.5.2"
  }
 },
 "nbformat": 4,
 "nbformat_minor": 1
}
