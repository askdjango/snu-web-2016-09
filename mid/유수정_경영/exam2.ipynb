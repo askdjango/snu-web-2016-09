{
 "cells": [
  {
   "cell_type": "markdown",
   "metadata": {},
   "source": [
    "## 중간고사 과제 2 - 명단 관리 프로그램 완성하기\n",
    " - 키와 몸무게의 최소값, 최대값, 평균값, 중위값을 출력\n",
    " - 좋아하는 브랜드 랭킹 TOP 3 출력"
   ]
  },
  {
   "cell_type": "markdown",
   "metadata": {},
   "source": [
    "## 1. 평균값, 중위값을 출력하는 함수 정의\n",
    "- 최댓값과 최솟값을 구하는 것은, 리스트를 sort시킨 뒤 각각 list[-1]과 list[0]을 호출하면 되므로 따로 함수로 정의하지 않았다.\n"
   ]
  },
  {
   "cell_type": "markdown",
   "metadata": {},
   "source": [
    "- (1) 리스트의 평균값을 호출하는 함수"
   ]
  },
  {
   "cell_type": "code",
   "execution_count": 1,
   "metadata": {
    "collapsed": true
   },
   "outputs": [],
   "source": [
    "def list_average(arg_list):\n",
    "    '숫자를 구성 요소로 갖는 리스트에 대해, 요소들의 평균값을 호출하는 함수'\n",
    "    total = 0\n",
    "    for i in range(len(arg_list)) : \n",
    "        total += arg_list[i]\n",
    "    return total/len(arg_list)"
   ]
  },
  {
   "cell_type": "markdown",
   "metadata": {},
   "source": [
    "- 함수 동작"
   ]
  },
  {
   "cell_type": "code",
   "execution_count": 2,
   "metadata": {
    "collapsed": false
   },
   "outputs": [
    {
     "data": {
      "text/plain": [
       "22.4"
      ]
     },
     "execution_count": 2,
     "metadata": {},
     "output_type": "execute_result"
    }
   ],
   "source": [
    "weight_list = [11,23,24,41,13]\n",
    "list_average(weight_list)"
   ]
  },
  {
   "cell_type": "markdown",
   "metadata": {},
   "source": [
    "- (2) 리스트의 중위값을 호출하는 함수"
   ]
  },
  {
   "cell_type": "code",
   "execution_count": 3,
   "metadata": {
    "collapsed": true
   },
   "outputs": [],
   "source": [
    "def list_median(arg_list) :\n",
    "    '숫자를 구성요소로 갖는 sort된 리스트에 대해, 요소들의 중위값을 호출하는 함수'\n",
    "    list_center = int(len(arg_list)/2) \n",
    "    \n",
    "    #리스트의 길이가 홀수일지라도, int를 사용하였기 때문에 정수 값 (나눗셈의 몫)이 호출된다.\n",
    "    # [0,0,0,0, 0 ,0,0,0,0] 9개\n",
    "    #[0,0,0, 0,0, 0,0,0] 8개\n",
    "    \n",
    "    if len(arg_list)%2==0 :\n",
    "        return (arg_list[list_center-1] + arg_list[list_center])/2\n",
    "    else :\n",
    "        return arg_list[list_center]"
   ]
  },
  {
   "cell_type": "markdown",
   "metadata": {},
   "source": [
    "- 함수 동작"
   ]
  },
  {
   "cell_type": "code",
   "execution_count": 4,
   "metadata": {
    "collapsed": false
   },
   "outputs": [
    {
     "name": "stdout",
     "output_type": "stream",
     "text": [
      "[1, 1, 2, 2, 2, 2, 2, 4, 4, 4, 4, 5, 5]\n"
     ]
    },
    {
     "data": {
      "text/plain": [
       "2"
      ]
     },
     "execution_count": 4,
     "metadata": {},
     "output_type": "execute_result"
    }
   ],
   "source": [
    "weight_list = [1,2,4,2,5,2,4,2,4,4,5,2,1]\n",
    "weight_list.sort()\n",
    "print(weight_list)\n",
    "list_median(weight_list)"
   ]
  },
  {
   "cell_type": "markdown",
   "metadata": {},
   "source": [
    "## 2. 코드 구축\n",
    "- 키와 몸무게의 최소값, 최대값, 평균값, 중위값을 출력"
   ]
  },
  {
   "cell_type": "code",
   "execution_count": 5,
   "metadata": {
    "collapsed": false,
    "scrolled": true
   },
   "outputs": [
    {
     "name": "stdout",
     "output_type": "stream",
     "text": [
      "입력양식 : 이름, 키, 몸무게, 좋아하는브랜드\n",
      "(중단 : n)\n",
      "\n",
      "> 유수정,160,50,자라\n",
      "> 유상림,178,60,가그린\n",
      "> 유제혁,180,83,롯데\n",
      "> 박경숙,170,49,자라\n",
      "> 최진석,180,83,롯데\n",
      "> 안태식,176,82,자라\n",
      "> 황진하,169,70,가그린\n",
      "> 유재석,180,94,주루\n",
      "> 정준하,190,100,돌\n",
      "> 박군혜,179,74,돌\n",
      "> 강우영,148,42,치킨\n",
      "> 김경우,188,73,스테이크\n",
      "> n\n",
      "사람들의 몸무게값 중 최솟값은 42,최댓값은 100, 평균은 71.66666666666667, 중위값은 73.5 입니다.\n",
      "사람들의 키값 중 최솟값은 148,최댓값은 190, 평균은 174.83333333333334, 중위값은 178.5 입니다.\n"
     ]
    }
   ],
   "source": [
    "print('입력양식 : 이름, 키, 몸무게, 좋아하는브랜드')\n",
    "print('(중단 : n)')\n",
    "print('')\n",
    "\n",
    "people = {}\n",
    "\n",
    "while True:\n",
    "    line = input('> ')\n",
    "    if line.lower() == 'n':\n",
    "        break\n",
    "    name, height, weight, brand = line.split(',')          \n",
    "    people[name] = {'height': int(height), 'weight':int(weight), 'brand': brand}\n",
    "\n",
    "    \n",
    "weight_list = []\n",
    "for name in people :\n",
    "    weight_list.append(people[name]['weight'])\n",
    "weight_list.sort()  #최댓값,최솟값,중위값을 구하기 위한 필수적 작업\n",
    "\n",
    "height_list = []\n",
    "for name in people :\n",
    "    height_list.append(people[name]['height'])\n",
    "height_list.sort()\n",
    "\n",
    "print('사람들의 몸무게값 중 최솟값은 {},최댓값은 {}, 평균은 {}, 중위값은 {} 입니다.'\n",
    "      .format(weight_list[0],weight_list[-1],list_average(weight_list), list_median(weight_list)))\n",
    "\n",
    "print('사람들의 키값 중 최솟값은 {},최댓값은 {}, 평균은 {}, 중위값은 {} 입니다.'\n",
    "      .format(height_list[0],height_list[-1],list_average(height_list), list_median(height_list)))\n",
    "\n"
   ]
  },
  {
   "cell_type": "markdown",
   "metadata": {},
   "source": [
    " - 좋아하는 브랜드 랭킹 TOP 3 출력"
   ]
  },
  {
   "cell_type": "code",
   "execution_count": 9,
   "metadata": {
    "collapsed": false
   },
   "outputs": [
    {
     "name": "stdout",
     "output_type": "stream",
     "text": [
      "defaultdict(<class 'int'>, {'가그린': 2, '주루': 1, '스테이크': 1, '돌': 2, '치킨': 1, '자라': 3, '롯데': 2})\n",
      "[('주루', 1), ('스테이크', 1), ('치킨', 1), ('가그린', 2), ('돌', 2), ('롯데', 2), ('자라', 3)]\n",
      "\n",
      "      선호브랜드 top1은 ['자라']이고 3명이 선택했습니다.\n",
      "      선호브랜드 top2은 ['롯데', '돌', '가그린']이고 2명이 선택했습니다.\n",
      "      선호브랜드 top3은 ['치킨', '스테이크', '주루']이고 1명이 선택했습니다.\n",
      "      \n"
     ]
    }
   ],
   "source": [
    "brand_list = []\n",
    "for name in people :\n",
    "    brand_list.append(people[name]['brand'])\n",
    "\n",
    "    \n",
    "from collections import defaultdict\n",
    "brand_count = defaultdict(int)\n",
    "for brand in brand_list:\n",
    "    brand_count[brand] += 1\n",
    "\n",
    "import operator\n",
    "sorted_brand_count = sorted(brand_count.items(), key=operator.itemgetter(1)) \n",
    "\n",
    "\n",
    "top1 = [sorted_brand_count[-1][0]]\n",
    "top1_value = sorted_brand_count[-1][1]\n",
    "top2 = []\n",
    "top3 = []\n",
    "for i in range(2,len(sorted_brand_count)+1):\n",
    "    if sorted_brand_count[-i][1] == top1_value :\n",
    "        top1.append(sorted_brand_count[-i][0])\n",
    "    else :\n",
    "        if sorted_brand_count[-i+1][1] == top1_value :\n",
    "            top2.append(sorted_brand_count[-i][0])\n",
    "            top2_value = sorted_brand_count[-i][1]\n",
    "        else :\n",
    "            if sorted_brand_count[-i][1] == top2_value : \n",
    "                top2.append(sorted_brand_count[-i][0])\n",
    "            else :\n",
    "                if sorted_brand_count[-i+1][1] == top2_value :\n",
    "                    top3.append(sorted_brand_count[-i][0])\n",
    "                    top3_value = sorted_brand_count[-i][1]\n",
    "                else :\n",
    "                    if sorted_brand_count[-i][1] == top3_value : \n",
    "                        top3.append(sorted_brand_count[-i][0])\n",
    "                    else :\n",
    "                        break\n",
    "\n",
    "print('''\n",
    "      선호브랜드 top1은 {}이고 {}명이 선택했습니다.\n",
    "      선호브랜드 top2은 {}이고 {}명이 선택했습니다.\n",
    "      선호브랜드 top3은 {}이고 {}명이 선택했습니다.\n",
    "      '''\n",
    "      .format(top1,top1_value,top2,top2_value,top3,top3_value))"
   ]
  },
  {
   "cell_type": "code",
   "execution_count": null,
   "metadata": {
    "collapsed": true
   },
   "outputs": [],
   "source": []
  }
 ],
 "metadata": {
  "kernelspec": {
   "display_name": "Python 3",
   "language": "python",
   "name": "python3"
  },
  "language_info": {
   "codemirror_mode": {
    "name": "ipython",
    "version": 3
   },
   "file_extension": ".py",
   "mimetype": "text/x-python",
   "name": "python",
   "nbconvert_exporter": "python",
   "pygments_lexer": "ipython3",
   "version": "3.5.2"
  }
 },
 "nbformat": 4,
 "nbformat_minor": 1
}
