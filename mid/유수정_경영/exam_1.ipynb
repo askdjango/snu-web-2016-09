{
 "cells": [
  {
   "cell_type": "markdown",
   "metadata": {},
   "source": [
    "## case 1 함수정의"
   ]
  },
  {
   "cell_type": "code",
   "execution_count": 18,
   "metadata": {
    "collapsed": true
   },
   "outputs": [],
   "source": [
    "def left_stair(size):\n",
    "    '지정된 크기의 왼쪽 정렬된 계단을 출력합니다'\n",
    "    for i in range(1,size+1) :\n",
    "        print('*'*i)"
   ]
  },
  {
   "cell_type": "markdown",
   "metadata": {},
   "source": [
    "## case 1 함수 실행"
   ]
  },
  {
   "cell_type": "code",
   "execution_count": 19,
   "metadata": {
    "collapsed": false
   },
   "outputs": [
    {
     "name": "stdout",
     "output_type": "stream",
     "text": [
      "몇층의 계단을 출력하겠습니까?5\n",
      "*\n",
      "**\n",
      "***\n",
      "****\n",
      "*****\n"
     ]
    }
   ],
   "source": [
    "size = int(input('몇층의 계단을 출력하겠습니까?'))\n",
    "left_stair(size)"
   ]
  },
  {
   "cell_type": "markdown",
   "metadata": {},
   "source": [
    "## case2 함수정의"
   ]
  },
  {
   "cell_type": "code",
   "execution_count": 20,
   "metadata": {
    "collapsed": true
   },
   "outputs": [],
   "source": [
    "def right_stair(size):\n",
    "    '지정된 크기의 오른쪽 정렬된 계단을 출력합니다.'\n",
    "    for i in range(1,size+1):\n",
    "        blank_count = size-i\n",
    "        star_count = i\n",
    "        print(' '*blank_count, end='')\n",
    "        print('*'*star_count)"
   ]
  },
  {
   "cell_type": "markdown",
   "metadata": {},
   "source": [
    "## case2 함수 실행"
   ]
  },
  {
   "cell_type": "code",
   "execution_count": 21,
   "metadata": {
    "collapsed": false
   },
   "outputs": [
    {
     "name": "stdout",
     "output_type": "stream",
     "text": [
      "몇층의 계단을 출력하겠습니까?5\n",
      "    *\n",
      "   **\n",
      "  ***\n",
      " ****\n",
      "*****\n"
     ]
    }
   ],
   "source": [
    "size = int(input('몇층의 계단을 출력하겠습니까?'))\n",
    "right_stair(size)"
   ]
  },
  {
   "cell_type": "markdown",
   "metadata": {},
   "source": [
    "## case3 함수 정의"
   ]
  },
  {
   "cell_type": "code",
   "execution_count": 22,
   "metadata": {
    "collapsed": false
   },
   "outputs": [],
   "source": [
    "def print_triangle(size) :\n",
    "    '지정된 크기의 삼각형을 출력합니다'\n",
    "    format_center = '{:^' +str(size*2-1)+ '}'  # 가장 긴 삼각형 길이! case3부터 6까지 동일하다\n",
    "    for i in range(1,size+1):\n",
    "        star_count = 2*i-1\n",
    "        print(format_center.format('*'*star_count))"
   ]
  },
  {
   "cell_type": "markdown",
   "metadata": {},
   "source": [
    "## case3 함수 실행"
   ]
  },
  {
   "cell_type": "code",
   "execution_count": 23,
   "metadata": {
    "collapsed": false
   },
   "outputs": [
    {
     "name": "stdout",
     "output_type": "stream",
     "text": [
      "몇층의 삼각형을 출력하겠습니까?5\n",
      "    *    \n",
      "   ***   \n",
      "  *****  \n",
      " ******* \n",
      "*********\n"
     ]
    }
   ],
   "source": [
    "size = int(input('몇층의 삼각형을 출력하겠습니까?'))\n",
    "print_triangle(size)"
   ]
  },
  {
   "cell_type": "markdown",
   "metadata": {},
   "source": [
    "## case4 함수 정의"
   ]
  },
  {
   "cell_type": "code",
   "execution_count": 24,
   "metadata": {
    "collapsed": false
   },
   "outputs": [],
   "source": [
    "def print_inverted_triangle(size):\n",
    "    '지정된 크기의 역삼각형을 출력합니다'\n",
    "    format_center = '{:^' +str(size*2-1)+ '}'\n",
    "    for i in range(size, 0, -1):\n",
    "        star_count = 2*i-1\n",
    "        print(format_center.format('*' * star_count))"
   ]
  },
  {
   "cell_type": "markdown",
   "metadata": {},
   "source": [
    "## case4 함수 실행"
   ]
  },
  {
   "cell_type": "code",
   "execution_count": 25,
   "metadata": {
    "collapsed": false
   },
   "outputs": [
    {
     "name": "stdout",
     "output_type": "stream",
     "text": [
      "몇층의 역삼각형을 출력하겠습니까?5\n",
      "*********\n",
      " ******* \n",
      "  *****  \n",
      "   ***   \n",
      "    *    \n"
     ]
    }
   ],
   "source": [
    "size = int(input('몇층의 역삼각형을 출력하겠습니까?'))\n",
    "print_inverted_triangle(size)"
   ]
  },
  {
   "cell_type": "markdown",
   "metadata": {},
   "source": [
    "## case5 함수 정의"
   ]
  },
  {
   "cell_type": "code",
   "execution_count": 26,
   "metadata": {
    "collapsed": true
   },
   "outputs": [],
   "source": [
    "def print_diamond(size):\n",
    "    '지정된 크기의 다이아몬드를 출력해줍니다.'\n",
    "    format_center = '{:^' +str(size*2-1)+ '}'\n",
    "    for i in range(1, size+1):\n",
    "        star_count = i * 2 - 1\n",
    "        print(format_center.format('*' * star_count))\n",
    "    for i in range(size-1, 0, -1):\n",
    "        star_count = i * 2 - 1\n",
    "        print(format_center.format('*' * star_count))"
   ]
  },
  {
   "cell_type": "markdown",
   "metadata": {},
   "source": [
    "## case5 함수 실행"
   ]
  },
  {
   "cell_type": "code",
   "execution_count": 27,
   "metadata": {
    "collapsed": false
   },
   "outputs": [
    {
     "name": "stdout",
     "output_type": "stream",
     "text": [
      "몇층의 다이아몬드를 출력하겠습니까?5\n",
      "    *    \n",
      "   ***   \n",
      "  *****  \n",
      " ******* \n",
      "*********\n",
      " ******* \n",
      "  *****  \n",
      "   ***   \n",
      "    *    \n"
     ]
    }
   ],
   "source": [
    "size = int(input('몇층의 다이아몬드를 출력하겠습니까?'))\n",
    "print_diamond(size)"
   ]
  },
  {
   "cell_type": "markdown",
   "metadata": {},
   "source": [
    "## case6 함수 정의"
   ]
  },
  {
   "cell_type": "code",
   "execution_count": 30,
   "metadata": {
    "collapsed": true
   },
   "outputs": [],
   "source": [
    "def print_diamond2(size):\n",
    "    '지정된 크기의 다이아몬드를 *과 #으로 출력해줍니다.'\n",
    "    format_center = '{:^' +str(size*2-1)+ '}'\n",
    "    print(format_center.format('#'))                \n",
    "    for i in range(2, size+1):\n",
    "        star_count = 2*i-3\n",
    "        print(format_center.format('#'+'*'* star_count+'#'))\n",
    "    for i in range(size-1, 1, -1):\n",
    "        star_count = 2*i-3\n",
    "        print(format_center.format('#'+'*'* star_count+'#'))\n",
    "    print(format_center.format('#'))"
   ]
  },
  {
   "cell_type": "markdown",
   "metadata": {},
   "source": [
    "## case6 함수 실행"
   ]
  },
  {
   "cell_type": "code",
   "execution_count": 31,
   "metadata": {
    "collapsed": false
   },
   "outputs": [
    {
     "name": "stdout",
     "output_type": "stream",
     "text": [
      "몇층의 다이아몬드를 출력하겠습니까?5\n",
      "    #    \n",
      "   #*#   \n",
      "  #***#  \n",
      " #*****# \n",
      "#*******#\n",
      " #*****# \n",
      "  #***#  \n",
      "   #*#   \n",
      "    #    \n"
     ]
    }
   ],
   "source": [
    "size = int(input('몇층의 다이아몬드를 출력하겠습니까?'))\n",
    "print_diamond2(size)"
   ]
  },
  {
   "cell_type": "code",
   "execution_count": null,
   "metadata": {
    "collapsed": true
   },
   "outputs": [],
   "source": []
  }
 ],
 "metadata": {
  "kernelspec": {
   "display_name": "Python 3",
   "language": "python",
   "name": "python3"
  },
  "language_info": {
   "codemirror_mode": {
    "name": "ipython",
    "version": 3
   },
   "file_extension": ".py",
   "mimetype": "text/x-python",
   "name": "python",
   "nbconvert_exporter": "python",
   "pygments_lexer": "ipython3",
   "version": "3.5.2"
  }
 },
 "nbformat": 4,
 "nbformat_minor": 1
}
