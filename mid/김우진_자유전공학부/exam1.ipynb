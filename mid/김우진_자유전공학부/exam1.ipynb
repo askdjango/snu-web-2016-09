{
 "cells": [
  {
   "cell_type": "markdown",
   "metadata": {},
   "source": [
    "벤처창업 웸프로그래밍1 2016 - 중간고사 대체과제"
   ]
  },
  {
   "cell_type": "markdown",
   "metadata": {},
   "source": [
    " "
   ]
  },
  {
   "cell_type": "markdown",
   "metadata": {},
   "source": [
    "자유전공학부 2011-13264 김우진"
   ]
  },
  {
   "cell_type": "markdown",
   "metadata": {},
   "source": [
    " "
   ]
  },
  {
   "cell_type": "markdown",
   "metadata": {},
   "source": [
    "Case #1"
   ]
  },
  {
   "cell_type": "code",
   "execution_count": 30,
   "metadata": {
    "collapsed": true
   },
   "outputs": [],
   "source": [
    "def print_triangle(size):\n",
    "    '지정된 크기의 직각삼각형을 출력해줍니다.'\n",
    "\n",
    "    print('TODO: {} 크기의 직각삼각형을 출력해봅시다.'.format(size))\n",
    "\n",
    "    width = size\n",
    "    formatter = '{:<' + str(width) + '}'\n",
    "\n",
    "    for i in range(1, size+1):\n",
    "        amount = i\n",
    "        print(formatter.format('*' * amount))\n"
   ]
  },
  {
   "cell_type": "code",
   "execution_count": 31,
   "metadata": {
    "collapsed": false
   },
   "outputs": [
    {
     "name": "stdout",
     "output_type": "stream",
     "text": [
      "TODO: 5 크기의 직각삼각형을 출력해봅시다.\n",
      "*    \n",
      "**   \n",
      "***  \n",
      "**** \n",
      "*****\n"
     ]
    }
   ],
   "source": [
    "print_triangle(5)"
   ]
  },
  {
   "cell_type": "markdown",
   "metadata": {},
   "source": [
    "Case #2"
   ]
  },
  {
   "cell_type": "code",
   "execution_count": 16,
   "metadata": {
    "collapsed": true
   },
   "outputs": [],
   "source": [
    "def print_reversetriangle(size):\n",
    "    '지정된 크기의 직각삼각형을 출력해줍니다.'\n",
    "\n",
    "    print('TODO: {} 크기의 직각삼각형을 출력해봅시다.'.format(size))\n",
    "\n",
    "    width = size\n",
    "    formatter = '{:>' + str(width) + '}'\n",
    "\n",
    "    for i in range(1, size+1):\n",
    "        amount = i\n",
    "        print(formatter.format('*' * amount))"
   ]
  },
  {
   "cell_type": "code",
   "execution_count": 19,
   "metadata": {
    "collapsed": false,
    "scrolled": true
   },
   "outputs": [
    {
     "name": "stdout",
     "output_type": "stream",
     "text": [
      "TODO: 5 크기의 직각삼각형을 출력해봅시다.\n",
      "    *\n",
      "   **\n",
      "  ***\n",
      " ****\n",
      "*****\n"
     ]
    }
   ],
   "source": [
    "print_reversetriangle(5)"
   ]
  },
  {
   "cell_type": "markdown",
   "metadata": {},
   "source": [
    "Case #3"
   ]
  },
  {
   "cell_type": "code",
   "execution_count": 22,
   "metadata": {
    "collapsed": true
   },
   "outputs": [],
   "source": [
    "def print_isoscelestriangle(size):\n",
    "    '지정된 크기의 이등변삼각형을 출력해줍니다.'\n",
    "\n",
    "    print('TODO: {} 크기의 이등변삼각형을 출력해봅시다.'.format(size))\n",
    "\n",
    "    width = 2 * size - 1\n",
    "    formatter = '{:^' + str(width) + '}'\n",
    "\n",
    "    for i in range(1, size+1):\n",
    "        amount = 2 * i - 1\n",
    "        print(formatter.format('*' * amount))"
   ]
  },
  {
   "cell_type": "code",
   "execution_count": 25,
   "metadata": {
    "collapsed": false
   },
   "outputs": [
    {
     "name": "stdout",
     "output_type": "stream",
     "text": [
      "TODO: 5 크기의 이등변삼각형을 출력해봅시다.\n",
      "    *    \n",
      "   ***   \n",
      "  *****  \n",
      " ******* \n",
      "*********\n"
     ]
    }
   ],
   "source": [
    "print_isoscelestriangle(5)"
   ]
  },
  {
   "cell_type": "markdown",
   "metadata": {},
   "source": [
    "Case #4"
   ]
  },
  {
   "cell_type": "code",
   "execution_count": 11,
   "metadata": {
    "collapsed": true
   },
   "outputs": [],
   "source": [
    "def print_reverseisoscelestriangle(size):\n",
    "    '지정된 크기의 이등변삼각형을 출력해줍니다.'\n",
    "\n",
    "    print('TODO: {} 크기의 이등변삼각형을 출력해봅시다.'.format(size))\n",
    "\n",
    "    width = 2 * size - 1\n",
    "    formatter = '{:^' + str(width) + '}'\n",
    "\n",
    "    for i in range(size, 0, -1):\n",
    "        amount = 2 * i - 1\n",
    "        print(formatter.format('*' * amount))"
   ]
  },
  {
   "cell_type": "code",
   "execution_count": 14,
   "metadata": {
    "collapsed": false
   },
   "outputs": [
    {
     "name": "stdout",
     "output_type": "stream",
     "text": [
      "TODO: 5 크기의 이등변삼각형을 출력해봅시다.\n",
      "*********\n",
      " ******* \n",
      "  *****  \n",
      "   ***   \n",
      "    *    \n"
     ]
    }
   ],
   "source": [
    "print_reverseisoscelestriangle(5)"
   ]
  },
  {
   "cell_type": "markdown",
   "metadata": {},
   "source": [
    "Case #5"
   ]
  },
  {
   "cell_type": "code",
   "execution_count": 24,
   "metadata": {
    "collapsed": false
   },
   "outputs": [],
   "source": [
    "def print_diamond(size):\n",
    "    '지정된 크기의 ascii 다이아몬드를 출력해줍니다.'\n",
    "\n",
    "    print('TODO: {} 크기의 다이아몬드를 출력해봅시다.'.format(size))\n",
    "\n",
    "    width = 2 * size - 1\n",
    "    formatter = '{:^' + str(width) + '}'\n",
    "\n",
    "    for i in range(1, size + 1):\n",
    "        amount = 2 * i - 1\n",
    "        print(formatter.format('*' * amount))\n",
    "\n",
    "    for i in range(size - 1, 0, -1):\n",
    "        amount = 2 * i - 1\n",
    "        print(formatter.format('*' * amount))"
   ]
  },
  {
   "cell_type": "code",
   "execution_count": 27,
   "metadata": {
    "collapsed": false
   },
   "outputs": [
    {
     "name": "stdout",
     "output_type": "stream",
     "text": [
      "TODO: 5 크기의 다이아몬드를 출력해봅시다.\n",
      "    *    \n",
      "   ***   \n",
      "  *****  \n",
      " ******* \n",
      "*********\n",
      " ******* \n",
      "  *****  \n",
      "   ***   \n",
      "    *    \n"
     ]
    }
   ],
   "source": [
    "print_diamond(5)"
   ]
  },
  {
   "cell_type": "markdown",
   "metadata": {},
   "source": [
    "Case #6"
   ]
  },
  {
   "cell_type": "code",
   "execution_count": 28,
   "metadata": {
    "collapsed": true
   },
   "outputs": [],
   "source": [
    "def print_specialdiamond(size):\n",
    "    '지정된 크기의 ascii 다이아몬드를 출력해줍니다.'\n",
    "    \n",
    "#intro\n",
    "\n",
    "    print('TODO: {} 크기의 다이아몬드를 출력해봅시다.'.format(size))\n",
    "\n",
    "    \n",
    "#frame\n",
    "\n",
    "    width = 2 * size - 1\n",
    "    formatter = '{:^' + str(width) + '}'\n",
    "\n",
    "    \n",
    "#윗부분\n",
    "\n",
    "    for i in range(1, size + 1): \n",
    "        lis = []\n",
    "        amount = 2 * i - 1 \n",
    "        for k in range(amount):\n",
    "            if k == 0:\n",
    "                lis.append('#')\n",
    "            elif k == amount - 1:\n",
    "                lis.append('#')\n",
    "                break\n",
    "            else:\n",
    "                lis.append('*')\n",
    "        print(formatter.format(''.join(lis)))\n",
    "\n",
    "        \n",
    "#아랫부분\n",
    "\n",
    "    for i in range(size - 1, 0, -1):\n",
    "        lis = []\n",
    "        amount = 2 * i - 1\n",
    "        for k in range(amount):\n",
    "            if k == 0:\n",
    "                lis.append('#')\n",
    "            elif k == amount-1:\n",
    "                lis.append('#')\n",
    "                break\n",
    "            else:\n",
    "                lis.append('*')\n",
    "        print(formatter.format(''.join(lis)))\n",
    "        "
   ]
  },
  {
   "cell_type": "code",
   "execution_count": 29,
   "metadata": {
    "collapsed": false
   },
   "outputs": [
    {
     "name": "stdout",
     "output_type": "stream",
     "text": [
      "TODO: 5 크기의 다이아몬드를 출력해봅시다.\n",
      "    #    \n",
      "   #*#   \n",
      "  #***#  \n",
      " #*****# \n",
      "#*******#\n",
      " #*****# \n",
      "  #***#  \n",
      "   #*#   \n",
      "    #    \n"
     ]
    }
   ],
   "source": [
    "print_specialdiamond(5)"
   ]
  },
  {
   "cell_type": "code",
   "execution_count": null,
   "metadata": {
    "collapsed": true
   },
   "outputs": [],
   "source": []
  }
 ],
 "metadata": {
  "anaconda-cloud": {},
  "kernelspec": {
   "display_name": "Python [Root]",
   "language": "python",
   "name": "Python [Root]"
  },
  "language_info": {
   "codemirror_mode": {
    "name": "ipython",
    "version": 3
   },
   "file_extension": ".py",
   "mimetype": "text/x-python",
   "name": "python",
   "nbconvert_exporter": "python",
   "pygments_lexer": "ipython3",
   "version": "3.5.2"
  }
 },
 "nbformat": 4,
 "nbformat_minor": 0
}
