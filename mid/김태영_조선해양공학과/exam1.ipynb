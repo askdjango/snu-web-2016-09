{
 "cells": [
  {
   "cell_type": "code",
   "execution_count": 9,
   "metadata": {
    "collapsed": true
   },
   "outputs": [],
   "source": [
    "## 중간고사 과제1\n",
    "## 2011-11894 김태영\n",
    "\n",
    "\n",
    "\n",
    "## Case 1\n",
    "\n",
    "def case1(size):\n",
    "    print('Case #1')\n",
    "    \n",
    "    for i in range(1,size+1):\n",
    "        print('*'*i)"
   ]
  },
  {
   "cell_type": "code",
   "execution_count": 10,
   "metadata": {
    "collapsed": false
   },
   "outputs": [
    {
     "name": "stdout",
     "output_type": "stream",
     "text": [
      "Case #1\n",
      "*\n",
      "**\n",
      "***\n",
      "****\n",
      "*****\n"
     ]
    }
   ],
   "source": [
    "case1(5)"
   ]
  },
  {
   "cell_type": "code",
   "execution_count": 11,
   "metadata": {
    "collapsed": true
   },
   "outputs": [],
   "source": [
    "## Case 2\n",
    "\n",
    "def case2(size):\n",
    "    print('Case #2')\n",
    "    \n",
    "    for i in range(1,size+1):\n",
    "        print(' '*(size-i),'*'*i)"
   ]
  },
  {
   "cell_type": "code",
   "execution_count": 12,
   "metadata": {
    "collapsed": false
   },
   "outputs": [
    {
     "name": "stdout",
     "output_type": "stream",
     "text": [
      "Case #2\n",
      "     *\n",
      "    **\n",
      "   ***\n",
      "  ****\n",
      " *****\n"
     ]
    }
   ],
   "source": [
    "case2(5)"
   ]
  },
  {
   "cell_type": "code",
   "execution_count": 13,
   "metadata": {
    "collapsed": true
   },
   "outputs": [],
   "source": [
    "## Case 3\n",
    "\n",
    "def case3(size):\n",
    "    print('Case #3')\n",
    "\n",
    "    width = 2 * size - 1\n",
    "    formatter = '{:^' + str(width) + '}'\n",
    "\n",
    "    for i in range(1, size+1):\n",
    "        amount = 2 * i - 1\n",
    "        print(formatter.format('*' * amount))"
   ]
  },
  {
   "cell_type": "code",
   "execution_count": 14,
   "metadata": {
    "collapsed": false
   },
   "outputs": [
    {
     "name": "stdout",
     "output_type": "stream",
     "text": [
      "Case #3\n",
      "    *    \n",
      "   ***   \n",
      "  *****  \n",
      " ******* \n",
      "*********\n"
     ]
    }
   ],
   "source": [
    "case3(5)"
   ]
  },
  {
   "cell_type": "code",
   "execution_count": 15,
   "metadata": {
    "collapsed": true
   },
   "outputs": [],
   "source": [
    "## Case 4\n",
    "\n",
    "def case4(size):\n",
    "    print('Case #4')\n",
    "\n",
    "    width = 2 * size - 1\n",
    "    formatter = '{:^' + str(width) + '}'\n",
    "    \n",
    "    for i in range(size, 0, -1):\n",
    "        amount = 2 * i - 1\n",
    "        print(formatter.format('*' * amount))"
   ]
  },
  {
   "cell_type": "code",
   "execution_count": 16,
   "metadata": {
    "collapsed": false
   },
   "outputs": [
    {
     "name": "stdout",
     "output_type": "stream",
     "text": [
      "Case #4\n",
      "*********\n",
      " ******* \n",
      "  *****  \n",
      "   ***   \n",
      "    *    \n"
     ]
    }
   ],
   "source": [
    "case4(5)"
   ]
  },
  {
   "cell_type": "code",
   "execution_count": 17,
   "metadata": {
    "collapsed": true
   },
   "outputs": [],
   "source": [
    "## Case 5\n",
    "\n",
    "def case5(size):\n",
    "    print('Case #5')\n",
    "\n",
    "    width = 2 * size - 1\n",
    "    formatter = '{:^' + str(width) + '}'\n",
    "\n",
    "    for i in range(1, size+1):\n",
    "        amount = 2 * i - 1\n",
    "        print(formatter.format('*' * amount))\n",
    "\n",
    "    for i in range(size-1, 0, -1):\n",
    "        amount = 2 * i - 1\n",
    "        print(formatter.format('*' * amount))"
   ]
  },
  {
   "cell_type": "code",
   "execution_count": 18,
   "metadata": {
    "collapsed": false
   },
   "outputs": [
    {
     "name": "stdout",
     "output_type": "stream",
     "text": [
      "Case #5\n",
      "    *    \n",
      "   ***   \n",
      "  *****  \n",
      " ******* \n",
      "*********\n",
      " ******* \n",
      "  *****  \n",
      "   ***   \n",
      "    *    \n"
     ]
    }
   ],
   "source": [
    "case5(5)"
   ]
  },
  {
   "cell_type": "code",
   "execution_count": 19,
   "metadata": {
    "collapsed": true
   },
   "outputs": [],
   "source": [
    "## Case 6\n",
    "\n",
    "def case6(size):\n",
    "    print('Case #6')\n",
    "\n",
    "    width = 2 * size - 1\n",
    "    formatter = '{:^' + str(width) + '}'\n",
    "\n",
    "    for i in range(1, size+1):\n",
    "        if i==1:\n",
    "            print(formatter.format('#'))\n",
    "        else:\n",
    "            amount = 2 * i - 1\n",
    "            print(formatter.format('#' + '*' *(amount-2)+ '#'))\n",
    "\n",
    "    for i in range(size-1, 0, -1):\n",
    "        if i==1:\n",
    "            print(formatter.format('#'))\n",
    "        else:\n",
    "            amount = 2 * i - 1\n",
    "            print(formatter.format('#' + '*' *(amount-2)+ '#'))"
   ]
  },
  {
   "cell_type": "code",
   "execution_count": 20,
   "metadata": {
    "collapsed": false
   },
   "outputs": [
    {
     "name": "stdout",
     "output_type": "stream",
     "text": [
      "Case #6\n",
      "    #    \n",
      "   #*#   \n",
      "  #***#  \n",
      " #*****# \n",
      "#*******#\n",
      " #*****# \n",
      "  #***#  \n",
      "   #*#   \n",
      "    #    \n"
     ]
    }
   ],
   "source": [
    "case6(5)"
   ]
  },
  {
   "cell_type": "code",
   "execution_count": null,
   "metadata": {
    "collapsed": true
   },
   "outputs": [],
   "source": [
    "#######코딩 해설\n",
    "\n",
    "\n",
    "## Case 1\n",
    "\n",
    "def case1(size):                             #size를 인자로 하는 함수 정의\n",
    "    print('Case #1')\n",
    "    \n",
    "    for i in range(1,size+1):                #i를 1부터 size까지 줄바꿔가면서 *를 i만큼 출력\n",
    "        print('*'*i)\n",
    "        \n",
    "\n",
    "## Case 2\n",
    "\n",
    "def case2(size):                             #마찬가지로 size를 인자로 하는 함수 정의\n",
    "    print('Case #2')\n",
    "    \n",
    "    for i in range(1,size+1):                #i를 1부터 size까지 줄바꿔가면서 *를 i만큼 출력\n",
    "        print(' '*(size-i),'*'*i)            #이 때, case1과 다른 점은 공백을 size-i만큼 출력후 그옆에 *를 출력하여 반대모양의 삼각형 표현.\n",
    "        \n",
    "\n",
    "## Case 3\n",
    "\n",
    "def case3(size):\n",
    "    print('Case #3')\n",
    "\n",
    "    width = 2 * size - 1                          #width를 2 * size - 1로 정의\n",
    "    formatter = '{:^' + str(width) + '}'          #왼쪽에서의 띄어쓰기할 간격을 정의\n",
    "\n",
    "    for i in range(1, size+1):                    #for문을 이용해 i를 1에서 size까지 증가시킴.\n",
    "        amount = 2 * i - 1\n",
    "        print(formatter.format('*' * amount))     #왼쪽에서 띄어쓰기하여 가운데 정렬 후에, amount만큼 *를 출력.\n",
    "        \n",
    "\n",
    "## Case 4\n",
    "\n",
    "def case4(size):\n",
    "    print('Case #4')\n",
    "\n",
    "    width = 2 * size - 1\n",
    "    formatter = '{:^' + str(width) + '}'          #case3과 마찬가지로 왼쪽에서 띄어쓰기할 간격 정의.\n",
    "    \n",
    "    for i in range(size, 0, -1):                  #for문을 case3과 i를 size에서 1까지 1씩 감소시킴.\n",
    "        amount = 2 * i - 1\n",
    "        print(formatter.format('*' * amount))     #case3과 나머지는 동일, 역삼각형 표현\n",
    "        \n",
    "        \n",
    "## Case 5\n",
    "\n",
    "def case5(size):\n",
    "    print('Case #5')\n",
    "\n",
    "    width = 2 * size - 1\n",
    "    formatter = '{:^' + str(width) + '}'\n",
    "\n",
    "    for i in range(1, size+1):\n",
    "        amount = 2 * i - 1\n",
    "        print(formatter.format('*' * amount))     #case3과 동일. 다이아몬드에서 위의 삼각형 부분을 표현.\n",
    "\n",
    "    for i in range(size-1, 0, -1):\n",
    "        amount = 2 * i - 1\n",
    "        print(formatter.format('*' * amount))     #case4와 비슷하나 i를 size-1부터 시작하여 한줄 적은 역삼각형 표현. 다이아몬드의 아랫부분.\n",
    "        \n",
    "        \n",
    "## Case 6\n",
    "\n",
    "def case6(size):\n",
    "    print('Case #6')\n",
    "\n",
    "    width = 2 * size - 1\n",
    "    formatter = '{:^' + str(width) + '}'          #마찬가지로 가운데 정렬.\n",
    "\n",
    "    for i in range(1, size+1):\n",
    "        if i==1:\n",
    "            print(formatter.format('#'))          #맨위에 있는 #를 표현.\n",
    "        else:\n",
    "            amount = 2 * i - 1\n",
    "            print(formatter.format('#' + '*' *(amount-2)+ '#'))  #size가 1이상일 때 2번째 줄. case5와 비슷하나 양끝에 *대신 #출력.\n",
    "\n",
    "    for i in range(size-1, 0, -1):\n",
    "        if i==1:\n",
    "            print(formatter.format('#'))          #맨 아래에 있는 #를 표현.\n",
    "        else:\n",
    "            amount = 2 * i - 1\n",
    "            print(formatter.format('#' + '*' *(amount-2)+ '#')) #size가 2이상일 때 끝에서 2번째 줄. case5와 비슷하나 마찬가지로 양끝에 #출력."
   ]
  }
 ],
 "metadata": {
  "anaconda-cloud": {},
  "kernelspec": {
   "display_name": "Python [Root]",
   "language": "python",
   "name": "Python [Root]"
  },
  "language_info": {
   "codemirror_mode": {
    "name": "ipython",
    "version": 3
   },
   "file_extension": ".py",
   "mimetype": "text/x-python",
   "name": "python",
   "nbconvert_exporter": "python",
   "pygments_lexer": "ipython3",
   "version": "3.5.2"
  }
 },
 "nbformat": 4,
 "nbformat_minor": 0
}
