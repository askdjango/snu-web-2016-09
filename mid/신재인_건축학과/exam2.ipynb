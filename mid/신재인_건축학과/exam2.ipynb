{
 "cells": [
  {
   "cell_type": "markdown",
   "metadata": {},
   "source": [
    "## 명단관리프로그램 \n",
    "\n",
    "* 신재인 건축학과 2015-15103"
   ]
  },
  {
   "cell_type": "code",
   "execution_count": 62,
   "metadata": {
    "collapsed": false,
    "scrolled": true
   },
   "outputs": [
    {
     "name": "stdout",
     "output_type": "stream",
     "text": [
      " 입력양식 : 이름, 키, 몸무게, 좋아하는브랜드 \n",
      "(중단 :  n )\n",
      "> 신재인, 181, 77, 애플\n",
      "> 신인섭, 173, 82, 애플\n",
      "> 황기은, 162, 50, 엘지\n",
      "> 신해성, 161, 51, 엘지\n",
      "> 이소현, 165, 56, 삼성\n",
      "> 신수정, 167, 60, 애플\n",
      "> 신동현, 172, 73, 삼성\n",
      "> 이태임, 160, 49, 삼성\n",
      "> 서민기, 185, 80, 애플\n",
      "> 서민제, 182, 72, 삼성\n",
      "> 황다원, 176, 80, 스카이\n",
      "> n\n",
      "키의 최대값은?\n",
      "185\n",
      "키의 최소값은?\n",
      "160\n",
      "키의 중위값은? \n",
      "172\n",
      "키의 평균값은? \n",
      "171.27272727272728\n",
      "몸무게의 최대값은?\n",
      "82\n",
      "몸무게의 최소값은?\n",
      "49\n",
      "몸무게의 중위값은? \n",
      "72\n",
      "몸무게의 평균값은? \n",
      "66.36363636363636\n",
      "좋아하는 브랜드 랭킹 TOP 3 !\n",
      "[(' 삼성', 4), (' 애플', 4), (' 엘지', 2)]\n",
      " 출력방식 : ( 브랜드명, 선호횟수 )\n"
     ]
    }
   ],
   "source": [
    "print( ' 입력양식 : 이름, 키, 몸무게, 좋아하는브랜드 ')\n",
    "print('(중단 :  n )')\n",
    "\n",
    "people = {}\n",
    "\n",
    "while True : \n",
    "    line = input('> ')\n",
    "    if line.lower() == 'n' : \n",
    "        break \n",
    "        \n",
    "    name, height, weight, brand = line.split(',')\n",
    "    people[name] = { \n",
    "        'height' : int( height ),\n",
    "        'weight' : int( weight ),\n",
    "        'brand' : brand \n",
    "    }\n",
    "    \n",
    "def get_4m( data, korean ) :  \n",
    "\n",
    "    listboard = [ ]\n",
    "    for name in people : \n",
    "        listboard.append( people[name][data] )\n",
    "        \n",
    "    print( korean + '의 최대값은?')\n",
    "    print( max(listboard) )\n",
    "    \n",
    "    print( korean + '의 최소값은?')\n",
    "    print( min(listboard) )\n",
    "\n",
    "    print( korean + '의 중위값은? ')\n",
    "    listboard.sort() \n",
    "    lb_len = len( listboard ) \n",
    "    lb_center = int( lb_len / 2 )\n",
    "\n",
    "    if lb_len % 2 == 1 : \n",
    "        print ( listboard[lb_center])\n",
    "    else : \n",
    "        print ( (listboard[lb_center-1] + listboard[lb_center])/2 )\n",
    "        \n",
    "    print( korean + '의 평균값은? ')\n",
    "    total = sum( listboard )\n",
    "    average = total / len(people)  \n",
    "    print( average ) \n",
    "\n",
    "get_4m( 'height',  '키' )\n",
    "\n",
    "get_4m( 'weight', '몸무게')\n",
    "\n",
    "import operator\n",
    "\n",
    "brandlist = [ ]\n",
    "for name in people :\n",
    "    brandlist.append( people[name]['brand']) \n",
    "\n",
    "bcountdic = { }\n",
    "for brandname in brandlist :\n",
    "    brandcount = brandlist.count( brandname )\n",
    "    bcountdic[brandname] = brandcount\n",
    "\n",
    "sorted_bcountdic = sorted(bcountdic.items(), key = operator.itemgetter(1), reverse=True)\n",
    "print ( '좋아하는 브랜드 랭킹 TOP 3 !' )\n",
    "print ( sorted_bcountdic[:3])\n",
    "print (' 출력방식 : ( 브랜드명, 선호횟수 )')"
   ]
  },
  {
   "cell_type": "code",
   "execution_count": null,
   "metadata": {
    "collapsed": true
   },
   "outputs": [],
   "source": [
    "> 신재인, 181, 77, 애플\n",
    "> 신인섭, 173, 82, 애플\n",
    "> 황기은, 162, 50, 엘지\n",
    "> 신해성, 161, 51, 엘지\n",
    "> 이소현, 165, 56, 삼성\n",
    "> 신수정, 167, 60, 애플\n",
    "> 신동현, 172, 73, 삼성\n",
    "> 이태임, 160, 49, 삼성\n",
    "> 서민기, 185, 80, 애플\n",
    "> 서민제, 182, 72, 삼성\n",
    "> 황다원, 176, 80, 스카이"
   ]
  },
  {
   "cell_type": "code",
   "execution_count": null,
   "metadata": {
    "collapsed": true
   },
   "outputs": [],
   "source": []
  },
  {
   "cell_type": "code",
   "execution_count": null,
   "metadata": {
    "collapsed": true
   },
   "outputs": [],
   "source": []
  },
  {
   "cell_type": "code",
   "execution_count": null,
   "metadata": {
    "collapsed": true
   },
   "outputs": [],
   "source": []
  },
  {
   "cell_type": "code",
   "execution_count": null,
   "metadata": {
    "collapsed": true
   },
   "outputs": [],
   "source": [
    "print( ' 입력양식 : 이름, 키, 몸무게, 좋아하는브랜드 ')\n",
    "print('(중단 :  n )')\n",
    "\n",
    "people = {}\n",
    "\n",
    "while True :  \n",
    "    line = input('> ')\n",
    "    if line.lower() == 'n' : \n",
    "        break \n",
    "        \n",
    "    name, height, weight, brand = line.split(',')"
   ]
  },
  {
   "cell_type": "code",
   "execution_count": null,
   "metadata": {
    "collapsed": true
   },
   "outputs": [],
   "source": [
    "    people[name] = { \n",
    "        'height' : int( height ),\n",
    "        'weight' : int( weight ),\n",
    "        'brand' : brand \n",
    "    }"
   ]
  },
  {
   "cell_type": "code",
   "execution_count": null,
   "metadata": {
    "collapsed": true
   },
   "outputs": [],
   "source": [
    "def get_4m( 'data' , korean ) :  \n",
    "\n",
    "    listboard = [ ]\n",
    "    for name in people : \n",
    "        listboard.append( people[name]['height'] )\n",
    "        \n",
    "    print( '키' + '의 최대값은?')\n",
    "    print( max(listboard) )\n",
    "    \n",
    "    print( '키' + '의 최소값은?')\n",
    "    print( min(listboard) )\n",
    "\n",
    "    print( '키' + '의 중위값은? ')\n",
    "    listboard.sort() \n",
    "    lb_len = len( listboard ) \n",
    "    lb_center = int( lb_len / 2 )\n",
    "\n",
    "    if lb_len % 2 == 1 : \n",
    "        print ( listboard[lb_center])\n",
    "    else : \n",
    "        print ( (listboard[lb_center-1] + listboard[lb_center])/2 )\n",
    "        \n",
    "    print( '키' + '의 평균값은? ')\n",
    "    total = sum( listboard )\n",
    "    average = total / len(people)  \n",
    "    print( average ) \n",
    "\n"
   ]
  },
  {
   "cell_type": "code",
   "execution_count": null,
   "metadata": {
    "collapsed": true
   },
   "outputs": [],
   "source": [
    "get_4m( 'height',  '키' )\n",
    "\n",
    "get_4m( 'weight', '몸무게')\n",
    "\n"
   ]
  },
  {
   "cell_type": "code",
   "execution_count": 63,
   "metadata": {
    "collapsed": false
   },
   "outputs": [
    {
     "name": "stdout",
     "output_type": "stream",
     "text": [
      "[(' 삼성', 4), (' 애플', 4), (' 엘지', 2), (' 스카이', 1)]\n",
      "좋아하는 브랜드 랭킹 TOP 3 !\n",
      "[(' 삼성', 4), (' 애플', 4), (' 엘지', 2)]\n",
      " 출력방식 : ( 브랜드명, 선호횟수 )\n"
     ]
    }
   ],
   "source": [
    "import operator\n",
    "\n",
    "brandlist = [ ]\n",
    "for name in people :\n",
    "    brandlist.append( people[name]['brand']) \n",
    "\n",
    "bcountdic = { }\n",
    "for brandname in brandlist :\n",
    "    brandcount = brandlist.count( brandname )\n",
    "    bcountdic[brandname] = brandcount\n",
    "    # 나이키 : 3 \n",
    "\n",
    "sorted_bcountdic = sorted(bcountdic.items(), key = operator.itemgetter(1), reverse=True)\n",
    "print( sorted_bcountdic )\n",
    "print ( '좋아하는 브랜드 랭킹 TOP 3 !' )\n",
    "print ( sorted_bcountdic[:3])\n",
    "print (' 출력방식 : ( 브랜드명, 선호횟수 )')"
   ]
  },
  {
   "cell_type": "code",
   "execution_count": null,
   "metadata": {
    "collapsed": true
   },
   "outputs": [],
   "source": []
  },
  {
   "cell_type": "code",
   "execution_count": null,
   "metadata": {
    "collapsed": true
   },
   "outputs": [],
   "source": []
  }
 ],
 "metadata": {
  "anaconda-cloud": {},
  "kernelspec": {
   "display_name": "Python [default]",
   "language": "python",
   "name": "python3"
  },
  "language_info": {
   "codemirror_mode": {
    "name": "ipython",
    "version": 3
   },
   "file_extension": ".py",
   "mimetype": "text/x-python",
   "name": "python",
   "nbconvert_exporter": "python",
   "pygments_lexer": "ipython3",
   "version": "3.5.2"
  }
 },
 "nbformat": 4,
 "nbformat_minor": 1
}
