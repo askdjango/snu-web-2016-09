{
 "cells": [
  {
   "cell_type": "markdown",
   "metadata": {},
   "source": [
    "## case 1"
   ]
  },
  {
   "cell_type": "code",
   "execution_count": 23,
   "metadata": {
    "collapsed": false
   },
   "outputs": [],
   "source": [
    "def case1(size) : \n",
    "    print ( ' {} 크기의 제1도형 ' .format(size))\n",
    "    i = 1\n",
    "    while i <= size : \n",
    "        print ( '*' * i )\n",
    "        i = i + 1 \n",
    "   "
   ]
  },
  {
   "cell_type": "code",
   "execution_count": 24,
   "metadata": {
    "collapsed": false,
    "scrolled": true
   },
   "outputs": [
    {
     "name": "stdout",
     "output_type": "stream",
     "text": [
      " 5 크기의 제1도형 \n",
      "\n",
      "*\n",
      "**\n",
      "***\n",
      "****\n",
      "*****\n"
     ]
    }
   ],
   "source": [
    "case1(5)\n"
   ]
  },
  {
   "cell_type": "markdown",
   "metadata": {},
   "source": [
    "## case 2"
   ]
  },
  {
   "cell_type": "code",
   "execution_count": 25,
   "metadata": {
    "collapsed": true
   },
   "outputs": [],
   "source": [
    "def case2(size) : \n",
    "    print ( ' {} 크기의 제2도형 ' .format(size))\n",
    "    i = 1\n",
    "    while i <= size : \n",
    "        print ( ' ' * ( size - i ),  '*' * i )\n",
    "        i = i + 1 "
   ]
  },
  {
   "cell_type": "code",
   "execution_count": 27,
   "metadata": {
    "collapsed": false
   },
   "outputs": [
    {
     "name": "stdout",
     "output_type": "stream",
     "text": [
      " 7 크기의 제2도형 \n",
      "        \n",
      "       *\n",
      "      **\n",
      "     ***\n",
      "    ****\n",
      "   *****\n",
      "  ******\n",
      " *******\n"
     ]
    }
   ],
   "source": [
    "case2(7)"
   ]
  },
  {
   "cell_type": "markdown",
   "metadata": {},
   "source": [
    "## case 3"
   ]
  },
  {
   "cell_type": "code",
   "execution_count": 28,
   "metadata": {
    "collapsed": true
   },
   "outputs": [],
   "source": [
    "def case3(size) : \n",
    "    print ( ' {} 크기의 제3도형 ' .format(size))\n",
    "    i = 1\n",
    "    while i <= size : \n",
    "        print ( ' ' * ( size - i ),  '*' * ( 2*i -1 ) )\n",
    "        i = i + 1 "
   ]
  },
  {
   "cell_type": "code",
   "execution_count": 30,
   "metadata": {
    "collapsed": false
   },
   "outputs": [
    {
     "name": "stdout",
     "output_type": "stream",
     "text": [
      " 7 크기의 제3도형 \n",
      "        \n",
      "       *\n",
      "      ***\n",
      "     *****\n",
      "    *******\n",
      "   *********\n",
      "  ***********\n",
      " *************\n"
     ]
    }
   ],
   "source": [
    "case3(7)"
   ]
  },
  {
   "cell_type": "markdown",
   "metadata": {},
   "source": [
    "## case 4"
   ]
  },
  {
   "cell_type": "code",
   "execution_count": 33,
   "metadata": {
    "collapsed": true
   },
   "outputs": [],
   "source": [
    "def case4(size) : \n",
    "    print ( ' {} 크기의 제4도형 ' .format(size))\n",
    "    i = 1\n",
    "    while i <= size : \n",
    "        print ( ' ' * ( i - 1 ),  '*' * ( 2*size - 2*i + 1 ) )\n",
    "        i = i + 1 "
   ]
  },
  {
   "cell_type": "code",
   "execution_count": 58,
   "metadata": {
    "collapsed": false,
    "scrolled": true
   },
   "outputs": [
    {
     "name": "stdout",
     "output_type": "stream",
     "text": [
      " 5 크기의 제4도형 \n",
      " *********\n",
      "  *******\n",
      "   *****\n",
      "    ***\n",
      "     *\n"
     ]
    }
   ],
   "source": [
    "case4(5)"
   ]
  },
  {
   "cell_type": "code",
   "execution_count": null,
   "metadata": {
    "collapsed": true
   },
   "outputs": [],
   "source": []
  },
  {
   "cell_type": "markdown",
   "metadata": {},
   "source": [
    "## case 5"
   ]
  },
  {
   "cell_type": "code",
   "execution_count": 40,
   "metadata": {
    "collapsed": true
   },
   "outputs": [],
   "source": [
    "def case5(size) : \n",
    "    print ( ' {} 크기의 제5도형 ' .format(size))\n",
    "    i = 1\n",
    "    while i < size : \n",
    "        print ( ' ' * ( size - i ),  '*' * ( 2*i -1 ) )\n",
    "        i = i + 1 \n",
    "        \n",
    "    i = 1\n",
    "    while i <= size : \n",
    "        print ( ' ' * ( i - 1 ),  '*' * ( 2*size - 2*i + 1 ) )\n",
    "        i = i + 1 "
   ]
  },
  {
   "cell_type": "code",
   "execution_count": 53,
   "metadata": {
    "collapsed": false,
    "scrolled": true
   },
   "outputs": [
    {
     "name": "stdout",
     "output_type": "stream",
     "text": [
      " 5 크기의 제5도형 \n",
      "     *\n",
      "    ***\n",
      "   *****\n",
      "  *******\n",
      " *********\n",
      "  *******\n",
      "   *****\n",
      "    ***\n",
      "     *\n"
     ]
    }
   ],
   "source": [
    "case5(5)"
   ]
  },
  {
   "cell_type": "markdown",
   "metadata": {},
   "source": [
    "## case 6"
   ]
  },
  {
   "cell_type": "code",
   "execution_count": 56,
   "metadata": {
    "collapsed": true
   },
   "outputs": [],
   "source": [
    "def case6(size) : \n",
    "    print ( ' {} 크기의 제6도형 ' .format(size))\n",
    "    \n",
    "    innersize = (size - 1)\n",
    "    \n",
    "    print (' '*(size - 1) + '#')\n",
    "    i = 1\n",
    "    while i < innersize :\n",
    "        print ( ' ' * ( innersize - i ) + '#' + '*' * ( 2*i -1 ) + '#')\n",
    "        i = i + 1 \n",
    "        \n",
    "    i = 1\n",
    "    while i <= innersize  : \n",
    "        print ( ' ' * ( i - 1 ) + '#' + '*' * ( 2*innersize - 2*i + 1 ) + '#' )\n",
    "        i = i + 1\n",
    "    print (' '*(size - 1) + '#')"
   ]
  },
  {
   "cell_type": "code",
   "execution_count": 60,
   "metadata": {
    "collapsed": false
   },
   "outputs": [
    {
     "name": "stdout",
     "output_type": "stream",
     "text": [
      " 5 크기의 제6도형 \n",
      "    #\n",
      "   #*#\n",
      "  #***#\n",
      " #*****#\n",
      "#*******#\n",
      " #*****#\n",
      "  #***#\n",
      "   #*#\n",
      "    #\n"
     ]
    }
   ],
   "source": [
    "case6(5)"
   ]
  },
  {
   "cell_type": "code",
   "execution_count": null,
   "metadata": {
    "collapsed": true
   },
   "outputs": [],
   "source": []
  },
  {
   "cell_type": "code",
   "execution_count": null,
   "metadata": {
    "collapsed": true
   },
   "outputs": [],
   "source": []
  }
 ],
 "metadata": {
  "anaconda-cloud": {},
  "kernelspec": {
   "display_name": "Python [default]",
   "language": "python",
   "name": "python3"
  },
  "language_info": {
   "codemirror_mode": {
    "name": "ipython",
    "version": 3
   },
   "file_extension": ".py",
   "mimetype": "text/x-python",
   "name": "python",
   "nbconvert_exporter": "python",
   "pygments_lexer": "ipython3",
   "version": "3.5.2"
  }
 },
 "nbformat": 4,
 "nbformat_minor": 1
}
