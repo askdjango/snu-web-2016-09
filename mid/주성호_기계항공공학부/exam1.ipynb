{
 "cells": [
  {
   "cell_type": "code",
   "execution_count": 66,
   "metadata": {
    "collapsed": false
   },
   "outputs": [],
   "source": [
    "def diamond1(size):\n",
    "    print('원하는 {}사이즈를 뽑아봅시다'.format(size))\n",
    "    \n",
    "    for i in range(1,size+1):\n",
    "        amount = i\n",
    "        print('{}'.format('*'* amount))"
   ]
  },
  {
   "cell_type": "code",
   "execution_count": 71,
   "metadata": {
    "collapsed": false
   },
   "outputs": [],
   "source": [
    "def diamond2(size):\n",
    "    print('원하는 {}사이즈를 뽑아봅시다'.format(size))\n",
    "    \n",
    "    for i in range(1,size+1):\n",
    "        blank = size - i\n",
    "        amount = i\n",
    "        print('{}{}'.format(' '* blank, '*' * amount))"
   ]
  },
  {
   "cell_type": "code",
   "execution_count": 108,
   "metadata": {
    "collapsed": false
   },
   "outputs": [],
   "source": [
    "def diamond3(size):\n",
    "    print('원하는 {}사이즈를 뽑아봅시다'.format(size))\n",
    "    \n",
    "    width = 2 * size-1\n",
    "    word_leng = '{:^'+ str(width) +'}'\n",
    "    \n",
    "    for i in range(1,size+1):\n",
    "        amount = 2*i-1\n",
    "        print(word_leng.format('*' * amount))   "
   ]
  },
  {
   "cell_type": "code",
   "execution_count": 117,
   "metadata": {
    "collapsed": false
   },
   "outputs": [],
   "source": [
    "def diamond4(size):\n",
    "    print('원하는 {}사이즈를 뽑아봅시다'.format(size))\n",
    "    \n",
    "    width = 2 * size-1\n",
    "    word_leng = '{:^'+ str(width) +'}'\n",
    "    \n",
    "    for i in range(size,0,-1):\n",
    "        amount = 2*i-1\n",
    "        print(word_leng.format('*' * amount))   "
   ]
  },
  {
   "cell_type": "code",
   "execution_count": 139,
   "metadata": {
    "collapsed": true
   },
   "outputs": [],
   "source": [
    "def diamond5(size):\n",
    "    print('원하는 {}사이즈를 뽑아봅시다'.format(size))\n",
    "    \n",
    "    width = 2 * size-1\n",
    "    word_leng = '{:^'+ str(width) +'}'\n",
    "    \n",
    "    for i in range(1,size+1):\n",
    "        amount = 2*i-1\n",
    "        print(word_leng.format('*' * amount))\n",
    "        \n",
    "    for i in range(size-1,0,-1):\n",
    "        amount = 2*i-1\n",
    "        print(word_leng.format('*' * amount))   \n",
    "    "
   ]
  },
  {
   "cell_type": "code",
   "execution_count": 158,
   "metadata": {
    "collapsed": false
   },
   "outputs": [],
   "source": [
    "def diamond6(size):\n",
    "    print('원하는 {}사이즈를 뽑아봅시다'.format(size))\n",
    "    \n",
    "    width = 2 * size-1\n",
    "    word_leng = '{:^'+ str(width) +'}'\n",
    "    \n",
    "    print(word_leng.format('#'))\n",
    "    for i in range(2,size+1):\n",
    "        amount = 2*i-3\n",
    "        word_first = '{:>' + str(size-i+1)+'}'\n",
    "        print(word_first.format('#'),end='')\n",
    "        print('{}'.format('*' * amount),end='')\n",
    "        word_last = '{:<' + str(size-i+1) + '}'\n",
    "        print(word_last.format('#'))\n",
    "   \n",
    "        \n",
    "    for i in range(size-1,1,-1):\n",
    "        amount = 2*i-3\n",
    "        word_first = '{:>' + str(size-i+1)+'}'\n",
    "        print(word_first.format('#'),end='')\n",
    "        print('{}'.format('*' * amount),end='')\n",
    "        word_last = '{:<' + str(size-i+1) + '}'\n",
    "        print(word_last.format('#'))\n",
    "    \n",
    "    print(word_leng.format('#'))"
   ]
  }
 ],
 "metadata": {
  "anaconda-cloud": {},
  "kernelspec": {
   "display_name": "Python [default]",
   "language": "python",
   "name": "python3"
  },
  "language_info": {
   "codemirror_mode": {
    "name": "ipython",
    "version": 3
   },
   "file_extension": ".py",
   "mimetype": "text/x-python",
   "name": "python",
   "nbconvert_exporter": "python",
   "pygments_lexer": "ipython3",
   "version": "3.5.2"
  }
 },
 "nbformat": 4,
 "nbformat_minor": 1
}
