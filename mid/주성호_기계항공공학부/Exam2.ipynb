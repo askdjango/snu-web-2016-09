{
 "cells": [
  {
   "cell_type": "code",
   "execution_count": 40,
   "metadata": {
    "collapsed": false,
    "scrolled": true
   },
   "outputs": [
    {
     "name": "stdout",
     "output_type": "stream",
     "text": [
      "입력양식 : 이름, 키, 몸무게, 좋아하는브랜드\n",
      "(중단 : n)\n",
      "\n",
      "> 주성호,183,86,나이키\n",
      "> 주지호,188,56,아디다스\n",
      "> 송연경,155,55,리복\n",
      "> 임지은,155,66,나이키\n",
      "> 파랑이,133,55,나이키\n",
      "> 임밤비,156,77,리복\n",
      "> 주준태,180,56,르코\n",
      "> 이지호,177,78,르코\n",
      "> n\n",
      "키의 최소값은:133\n",
      "키의 최대값은:188\n",
      "키의 평균값은:165.875\n",
      "키의 중위값은:166.5\n",
      "몸무게의 최소값은:55\n",
      "몸무게의 최대값은:86\n",
      "몸무게의 평균값은:66.125\n",
      "몸무게의 중위값은:61.0\n",
      "3\n",
      "2\n",
      "1\n",
      "좋아하는 브랜드 top 3->1등:['나이키'],2등:['르코', '리복'],3등:['아디다스']\n"
     ]
    }
   ],
   "source": [
    "print('입력양식 : 이름, 키, 몸무게, 좋아하는브랜드')\n",
    "print('(중단 : n)')\n",
    "print('')\n",
    "people = {}\n",
    "weight_list = []\n",
    "height_list = []\n",
    "brand_list = []\n",
    "\n",
    "while True:\n",
    "    line = input('> ')\n",
    "      \n",
    "    if line.lower() == 'n':\n",
    "        break\n",
    "    result = line.split(',')\n",
    "    name = result[0]\n",
    "    people[name] = {'height': result[1],'weight': result[2], 'brand': result[3]}    \n",
    "    weight_list.append(int(result[2]))\n",
    "    height_list.append(int(result[1]))\n",
    "    brand_list.append(result[3])\n",
    "        \n",
    "\n",
    "weight_list.sort()\n",
    "height_list.sort()\n",
    "\n",
    "\n",
    "\n",
    "print('키의 최소값은:{}'.format(height_list[0]))\n",
    "print('키의 최대값은:{}'.format(height_list[-1]))\n",
    "print('키의 평균값은:{}'.format(sumof(*height_list)/len(height_list)))\n",
    "print('키의 중위값은:{}'.format(getMedian(*height_list)))\n",
    "\n",
    "print('몸무게의 최소값은:{}'.format(weight_list[0]))\n",
    "print('몸무게의 최대값은:{}'.format(weight_list[-1]))\n",
    "print('몸무게의 평균값은:{}'.format(sumof(*weight_list)/len(weight_list)))\n",
    "print('몸무게의 중위값은:{}'.format(getMedian(*weight_list)))\n",
    "\n",
    "from collections import defaultdict\n",
    "\n",
    "word_count = defaultdict(int)\n",
    "for word in brand_list:\n",
    "    word_count[word] += 1\n",
    "    \n",
    "srt_value = sorted(word_count.values())\n",
    "srt_keys = sorted(word_count,key=word_count.get)\n",
    "\n",
    "top1 = []\n",
    "top2 = []\n",
    "top3 = []\n",
    "\n",
    "from collections import OrderedDict\n",
    "\n",
    "if (len(list(OrderedDict.fromkeys(srt_value))) == 1):\n",
    "    top1_value = list(OrderedDict.fromkeys(srt_value))[-1]\n",
    "elif (len(list(OrderedDict.fromkeys(srt_value))) == 2):\n",
    "    top1_value = list(OrderedDict.fromkeys(srt_value))[-1]\n",
    "    top2_value = list(OrderedDict.fromkeys(srt_value))[-2]\n",
    "else:\n",
    "    top1_value = list(OrderedDict.fromkeys(srt_value))[-1]\n",
    "    top2_value = list(OrderedDict.fromkeys(srt_value))[-2]\n",
    "    top3_value = list(OrderedDict.fromkeys(srt_value))[-3]\n",
    "\n",
    "for (key,value) in word_count.items():\n",
    "    if (value == top1_value):\n",
    "        top1.append(key)\n",
    "    elif (value == top2_value):\n",
    "        top2.append(key)\n",
    "    elif (value == top3_value):\n",
    "        top3.append(key)\n",
    "    \n",
    "\n",
    "\n",
    "print('좋아하는 브랜드 top 3->1등:{},2등:{},3등:{}'.format(top1,top2,top3))\n",
    "    "
   ]
  },
  {
   "cell_type": "code",
   "execution_count": 2,
   "metadata": {
    "collapsed": false
   },
   "outputs": [],
   "source": [
    "def sumof(*args):\n",
    "    sumof = int(0)\n",
    "    for i in args:\n",
    "        sumof += i\n",
    "    return sumof"
   ]
  },
  {
   "cell_type": "code",
   "execution_count": 3,
   "metadata": {
    "collapsed": false
   },
   "outputs": [],
   "source": [
    "def getMedian(*a):\n",
    "    a_len = len(a)\n",
    "    a_center = int(a_len / 2)    \n",
    "    if (a_len % 2 == 1):\n",
    "        return a[a_center]\n",
    "    else:\n",
    "        return (a[a_center - 1] + a[a_center]) / 2.0"
   ]
  }
 ],
 "metadata": {
  "kernelspec": {
   "display_name": "Python [default]",
   "language": "python",
   "name": "python3"
  },
  "language_info": {
   "codemirror_mode": {
    "name": "ipython",
    "version": 3
   },
   "file_extension": ".py",
   "mimetype": "text/x-python",
   "name": "python",
   "nbconvert_exporter": "python",
   "pygments_lexer": "ipython3",
   "version": "3.5.2"
  }
 },
 "nbformat": 4,
 "nbformat_minor": 1
}
