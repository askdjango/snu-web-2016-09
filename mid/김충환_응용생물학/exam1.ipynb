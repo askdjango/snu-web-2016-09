{
 "cells": [
  {
   "cell_type": "code",
   "execution_count": 1,
   "metadata": {
    "collapsed": false
   },
   "outputs": [
    {
     "name": "stdout",
     "output_type": "stream",
     "text": [
      "몇단의 모양을 만드시겠습니까? : 5\n",
      "*\n",
      "**\n",
      "***\n",
      "****\n",
      "*****\n"
     ]
    }
   ],
   "source": [
    "#case1\n",
    "\n",
    "n = int(input(\"몇단의 모양을 만드시겠습니까? : \"))\n",
    "\n",
    "for i in range(1,n+1) :\n",
    "    print(i*\"*\")"
   ]
  },
  {
   "cell_type": "code",
   "execution_count": 2,
   "metadata": {
    "collapsed": false
   },
   "outputs": [
    {
     "name": "stdout",
     "output_type": "stream",
     "text": [
      "몇단의 모양을 만드시겠습니까? : 5\n",
      "    *\n",
      "   **\n",
      "  ***\n",
      " ****\n",
      "*****\n"
     ]
    }
   ],
   "source": [
    "#case2\n",
    "n = int(input(\"몇단의 모양을 만드시겠습니까? : \"))\n",
    "\n",
    "for i in range(1,n+1) :\n",
    "    star = i*\"*\"\n",
    "    print(star.rjust(n))"
   ]
  },
  {
   "cell_type": "code",
   "execution_count": 3,
   "metadata": {
    "collapsed": false
   },
   "outputs": [
    {
     "name": "stdout",
     "output_type": "stream",
     "text": [
      "몇단의 모양을 만드시겠습니까? : 5\n",
      "    *    \n",
      "   ***   \n",
      "  *****  \n",
      " ******* \n",
      "*********\n"
     ]
    }
   ],
   "source": [
    "#case3\n",
    "\n",
    "n = int(input(\"몇단의 모양을 만드시겠습니까? : \"))\n",
    "\n",
    "for i in range(1,n+1) :\n",
    "    star = (2*i-1)*\"*\"\n",
    "    print(star.center(2*n-1))"
   ]
  },
  {
   "cell_type": "code",
   "execution_count": 4,
   "metadata": {
    "collapsed": false
   },
   "outputs": [
    {
     "name": "stdout",
     "output_type": "stream",
     "text": [
      "몇단의 모양을 만드시겠습니까? : 5\n",
      "*********\n",
      " ******* \n",
      "  *****  \n",
      "   ***   \n",
      "    *    \n"
     ]
    }
   ],
   "source": [
    "#case4\n",
    "\n",
    "n = int(input(\"몇단의 모양을 만드시겠습니까? : \"))\n",
    "\n",
    "for i in range(1,n+1) :\n",
    "    star = ((2*n-1)-(2*(i-1)))*\"*\"\n",
    "    print(star.center(2*n-1))"
   ]
  },
  {
   "cell_type": "code",
   "execution_count": 8,
   "metadata": {
    "collapsed": false
   },
   "outputs": [
    {
     "name": "stdout",
     "output_type": "stream",
     "text": [
      "몇단의 모양을 만드시겠습니까? : 5\n",
      "    *    \n",
      "   ***   \n",
      "  *****  \n",
      " ******* \n",
      "*********\n",
      " ******* \n",
      "  *****  \n",
      "   ***   \n",
      "    *    \n"
     ]
    }
   ],
   "source": [
    "#case5\n",
    "\n",
    "n = int(input(\"몇단의 모양을 만드시겠습니까? : \"))\n",
    "\n",
    "for i in range(1,2*n) :\n",
    "    star = int(((2*n/2)-abs((2*n/2)-i))*2-1)*\"*\"\n",
    "    print(star. center(2*n-1))\n"
   ]
  },
  {
   "cell_type": "code",
   "execution_count": 12,
   "metadata": {
    "collapsed": false
   },
   "outputs": [
    {
     "name": "stdout",
     "output_type": "stream",
     "text": [
      "몇단의 모양을 만드시겠습니까? : 5\n",
      "    #    \n",
      "   #*#   \n",
      "  #***#  \n",
      " #*****# \n",
      "#*******#\n",
      " #*****# \n",
      "  #***#  \n",
      "   #*#   \n",
      "    #    \n"
     ]
    }
   ],
   "source": [
    "n = int(input(\"몇단의 모양을 만드시겠습니까? : \"))\n",
    "\n",
    "for i in range(1,2*n) :\n",
    "    if i == 1:\n",
    "        star = (\"#\")\n",
    "    elif i == 2*n-1 :\n",
    "        star = (\"#\")\n",
    "    else :\n",
    "        star = (\"#\"+(+int(((2*n/2)-abs((2*n/2)-i))*2-3)*\"*\")+\"#\")\n",
    "    print(star.center(2*n-1))\n"
   ]
  },
  {
   "cell_type": "code",
   "execution_count": null,
   "metadata": {
    "collapsed": true
   },
   "outputs": [],
   "source": []
  }
 ],
 "metadata": {
  "anaconda-cloud": {},
  "kernelspec": {
   "display_name": "Python [Root]",
   "language": "python",
   "name": "Python [Root]"
  },
  "language_info": {
   "codemirror_mode": {
    "name": "ipython",
    "version": 3
   },
   "file_extension": ".py",
   "mimetype": "text/x-python",
   "name": "python",
   "nbconvert_exporter": "python",
   "pygments_lexer": "ipython3",
   "version": "3.5.2"
  }
 },
 "nbformat": 4,
 "nbformat_minor": 0
}
