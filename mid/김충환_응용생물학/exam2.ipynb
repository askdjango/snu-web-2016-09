{
 "cells": [
  {
   "cell_type": "code",
   "execution_count": 9,
   "metadata": {
    "collapsed": false,
    "scrolled": true
   },
   "outputs": [
    {
     "name": "stdout",
     "output_type": "stream",
     "text": [
      "입력양식 : 이름, 키, 몸무게, 좋아하는브랜드\n",
      "(중단 : n)\n",
      "\n",
      ">김충환,188, 78, 아디다스\n",
      ">김충순,182, 77, 아디다스\n",
      ">김충충,176, 65, 아디다스\n",
      ">김충만,168, 48, 아디다스\n",
      ">김충길,162, 44, 아디다스\n",
      ">박충환,186, 98, 나이키\n",
      ">박충순,175, 78, 나이키\n",
      ">박충충,179, 79, 나이키\n",
      ">박충만,198, 88, 나이키\n",
      ">박충실,164, 44, 반스\n",
      ">이충성,174, 74, 반스\n",
      ">이충박,164, 44, 뉴발란스\n",
      ">n\n",
      "키\n",
      " 최대값 :  198 \n",
      " 최소값 :  162 \n",
      " 평균값 :  176.33333333333334 \n",
      " 중위값 :  175 or 176 \n",
      "\n",
      "몸무게\n",
      " 최대값 :   98 \n",
      " 최소값 :   44 \n",
      " 평균값 :  68.08333333333333 \n",
      " 중위값 :   74 or  77\n",
      "사람들이 좋아하는 브랜드 랭킹 TOP 1 :  아디다스\n",
      "사람들이 좋아하는 브랜드 랭킹 TOP 2 :  나이키\n",
      "사람들이 좋아하는 브랜드 랭킹 TOP 3 :  반스\n"
     ]
    }
   ],
   "source": [
    "print(\"입력양식 : 이름, 키, 몸무게, 좋아하는브랜드\")\n",
    "print(\"(중단 : n)\")\n",
    "print('')\n",
    "\n",
    "people = {}\n",
    "t_name = []\n",
    "t_height = []\n",
    "t_weight = []\n",
    "t_brand = []\n",
    "t_brand_dict = {}\n",
    "\n",
    "while True :\n",
    "    line = input('>')\n",
    "    if line.lower() == 'n' :\n",
    "        break\n",
    "\n",
    "    name, height, weight, brand = line.split(',')\n",
    "    t_name.append(name)\n",
    "    t_height.append(height)\n",
    "    t_weight.append(weight)\n",
    "    t_brand.append(brand)\n",
    "\n",
    "t_height.sort(reverse = True)\n",
    "t_weight.sort(reverse = True)\n",
    "\n",
    "p = len(t_name)\n",
    "\n",
    "def average(list):\n",
    "    sum = 0\n",
    "    for q in list :\n",
    "        sum = sum + int(q)\n",
    "    average = sum / len(list)\n",
    "    return average\n",
    "\n",
    "\n",
    "\n",
    "if p %2 == 0 :\n",
    "    p = p/2\n",
    "    print(\"키\" \"\\n\", \"최대값 : \", max(t_height), \"\\n\", \"최소값 : \", min(t_height), \"\\n\", \"평균값 : \", average(t_height), \"\\n\", \"중위값 : \", t_height[int(p)], \"or\",t_height[int(p-1)], '\\n')\n",
    "    print(\"몸무게\" \"\\n\", \"최대값 : \", max(t_weight), \"\\n\", \"최소값 : \", min(t_weight), \"\\n\", \"평균값 : \",average(t_weight),  \"\\n\",\"중위값 : \", t_weight[int(p)], \"or\",t_weight[int(p-1)] )\n",
    "else :\n",
    "    p = p/2\n",
    "    print(\"키\" \"\\n\", \"최대값 : \", max(t_height), \"\\n\", \"최소값 : \", min(t_height), \"\\n\", \"평균값 : \",average(t_height),  \"\\n\", \"중위값 : \", t_height[int(p)], '\\n')\n",
    "    print(\"몸무게\" \"\\n\", \"최대값 : \", max(t_weight), \"\\n\", \"최소값 : \", min(t_weight), \"\\n\", \"평균값 : \",average(t_weight),  \"\\n\",\"중위값 : \", t_weight[int(p)])\n",
    "\n",
    "    \n",
    "for i in list(t_brand) :\n",
    "    if i not in t_brand_dict :\n",
    "        t_brand_dict[i] = 1\n",
    "    elif i in t_brand_dict :\n",
    "        t_brand_dict[i] += 1\n",
    "\n",
    "sorted_t_brand_dict = sorted(t_brand_dict, key=t_brand_dict.get, reverse=True)\n",
    "for r in range(0,3):\n",
    "    print(\"사람들이 좋아하는 브랜드 랭킹 TOP\", r+1, \":\", sorted_t_brand_dict[r])\n",
    "    \n",
    "\n"
   ]
  },
  {
   "cell_type": "code",
   "execution_count": null,
   "metadata": {
    "collapsed": true
   },
   "outputs": [],
   "source": []
  }
 ],
 "metadata": {
  "anaconda-cloud": {},
  "kernelspec": {
   "display_name": "Python [Root]",
   "language": "python",
   "name": "Python [Root]"
  },
  "language_info": {
   "codemirror_mode": {
    "name": "ipython",
    "version": 3
   },
   "file_extension": ".py",
   "mimetype": "text/x-python",
   "name": "python",
   "nbconvert_exporter": "python",
   "pygments_lexer": "ipython3",
   "version": "3.5.2"
  }
 },
 "nbformat": 4,
 "nbformat_minor": 0
}
