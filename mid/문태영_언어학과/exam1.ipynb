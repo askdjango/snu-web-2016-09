{
 "cells": [
  {
   "cell_type": "code",
   "execution_count": null,
   "metadata": {
    "collapsed": false
   },
   "outputs": [
    {
     "name": "stdout",
     "output_type": "stream",
     "text": [
      "\n",
      "Case #1\n",
      "크기를 입력하세요 : 5\n",
      "*\n",
      "**\n",
      "***\n",
      "****\n",
      "*****\n",
      "\n",
      "Case #2\n",
      "크기를 입력하세요 : 5\n",
      "    *\n",
      "   **\n",
      "  ***\n",
      " ****\n",
      "*****\n",
      "\n",
      "Case #3\n"
     ]
    }
   ],
   "source": [
    "def fn1():\n",
    "    print(\"\\nCase #1\")\n",
    "    star = \"*\"\n",
    "    size = int(input(\"크기를 입력하세요 : \"))\n",
    "    \n",
    "    for i in range(1,size+1):\n",
    "        print(star*i)\n",
    "\n",
    "def fn2():\n",
    "    print(\"\\nCase #2\")\n",
    "    star = \"*\"\n",
    "    blank = \" \"\n",
    "    size = int(input(\"크기를 입력하세요 : \"))\n",
    "    \n",
    "    for i in range(1,size+1):\n",
    "        print('{}{}'.format(blank*(size-i),star*i))\n",
    "        \n",
    "def fn3():\n",
    "    print(\"\\nCase #3\")\n",
    "    star = \"*\"\n",
    "    size = int(input(\"크기를 입력하세요 : \"))\n",
    "    \n",
    "    len = size*2-1\n",
    "    format_string = '{:^' + str(len) + '}'\n",
    "    for i in range(1,len+1,2):\n",
    "        print(format_string.format(star*i))\n",
    "def fn4():\n",
    "    print(\"\\nCase #4\")\n",
    "    star = \"*\"        \n",
    "    size = int(input(\"크기를 입력하세요 : \"))\n",
    "    \n",
    "    len = size*2-1\n",
    "    format_string = '{:^' + str(len) + '}'\n",
    "    for i in range(len,0,-2):\n",
    "        print(format_string.format(star*i))\n",
    "       \n",
    "def fn5():\n",
    "    print(\"\\nCase #5\")\n",
    "    star = \"*\"        \n",
    "    size = int(input(\"크기를 입력하세요 : \"))  \n",
    "\n",
    "    len = size*2-1\n",
    "    format_string = '{:^' + str(len) + '}'\n",
    "    for i in range(1,len+1,2):\n",
    "        print(format_string.format(star*i))\n",
    "    for i in range(len-2,0,-2):\n",
    "        print(format_string.format(star*i))\n",
    "        \n",
    "def fn6():\n",
    "    print(\"\\nCase #6\")\n",
    "    star = \"*\"\n",
    "    sharp = \"#\"\n",
    "    size = int(input(\"크기를 입력하세요 : \"))\n",
    "    \n",
    "    len = size*2-1\n",
    "    format_string = '{:^' + str(len) + '}'\n",
    "    print(format_string.format(sharp))\n",
    "    for i in range(1,len-1,2):\n",
    "        print(format_string.format(sharp+star*i+sharp))\n",
    "    for i in range(len-4,0,-2):\n",
    "        print(format_string.format(sharp+star*i+sharp))\n",
    "    print(format_string.format(sharp)) \n",
    "        \n",
    "\n",
    "fn1()\n",
    "fn2()\n",
    "fn3()\n",
    "fn4()\n",
    "fn5()\n",
    "fn6()\n"
   ]
  },
  {
   "cell_type": "code",
   "execution_count": null,
   "metadata": {
    "collapsed": true
   },
   "outputs": [],
   "source": []
  },
  {
   "cell_type": "code",
   "execution_count": null,
   "metadata": {
    "collapsed": true
   },
   "outputs": [],
   "source": []
  },
  {
   "cell_type": "code",
   "execution_count": null,
   "metadata": {
    "collapsed": true
   },
   "outputs": [],
   "source": []
  },
  {
   "cell_type": "code",
   "execution_count": null,
   "metadata": {
    "collapsed": true
   },
   "outputs": [],
   "source": []
  },
  {
   "cell_type": "code",
   "execution_count": null,
   "metadata": {
    "collapsed": true
   },
   "outputs": [],
   "source": []
  },
  {
   "cell_type": "code",
   "execution_count": null,
   "metadata": {
    "collapsed": true
   },
   "outputs": [],
   "source": []
  },
  {
   "cell_type": "code",
   "execution_count": null,
   "metadata": {
    "collapsed": true
   },
   "outputs": [],
   "source": []
  },
  {
   "cell_type": "code",
   "execution_count": null,
   "metadata": {
    "collapsed": true
   },
   "outputs": [],
   "source": []
  },
  {
   "cell_type": "code",
   "execution_count": null,
   "metadata": {
    "collapsed": true
   },
   "outputs": [],
   "source": []
  },
  {
   "cell_type": "code",
   "execution_count": null,
   "metadata": {
    "collapsed": true
   },
   "outputs": [],
   "source": []
  }
 ],
 "metadata": {
  "anaconda-cloud": {},
  "kernelspec": {
   "display_name": "Python [default]",
   "language": "python",
   "name": "python3"
  },
  "language_info": {
   "codemirror_mode": {
    "name": "ipython",
    "version": 3
   },
   "file_extension": ".py",
   "mimetype": "text/x-python",
   "name": "python",
   "nbconvert_exporter": "python",
   "pygments_lexer": "ipython3",
   "version": "3.5.2"
  }
 },
 "nbformat": 4,
 "nbformat_minor": 1
}
