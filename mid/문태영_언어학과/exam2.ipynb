{
 "cells": [
  {
   "cell_type": "code",
   "execution_count": 1,
   "metadata": {
    "collapsed": false
   },
   "outputs": [
    {
     "name": "stdout",
     "output_type": "stream",
     "text": [
      "입력양식 : 이름, 키, 몸무게, 좋아하는브랜드\n",
      "(중단 : n)\n",
      "\n",
      "> 1,180,60,나이키\n",
      "> 2,181,63,나이키\n",
      "> 3,170,50,아디다스\n",
      "> 4,160,51,나이키\n",
      "> n\n",
      "10명 이상의 데이터를 입력해주세요.\n",
      "> 5,176,63,아디다스\n",
      "> 6,158,48,퓨마\n",
      "> 7,163,63,뉴발란스\n",
      "> 8,173,56,퓨마\n",
      "> 9,159,69,아디다스\n",
      "> 10,160,60,필라\n",
      "> n\n",
      "\n",
      "키의 최소값 : 158\n",
      "키의 최대값 : 181\n",
      "키의 평균값 : 168.0\n",
      "키의 중위값 : 166.5\n",
      "\n",
      "몸무게의 최소값 : 48\n",
      "몸무게의 최대값 : 69\n",
      "몸무게의 평균값 : 58.3\n",
      "몸무게의 중위값 : 60.0\n",
      "\n",
      "브랜드 랭킹 TOP 1 : ('나이키', 3) , ('아디다스', 3) \n",
      "브랜드 랭킹 TOP 2 : ('퓨마', 2) \n",
      "브랜드 랭킹 TOP 3 : ('필라', 1) , ('뉴발란스', 1) "
     ]
    }
   ],
   "source": [
    "import operator\n",
    "\n",
    "\n",
    "print('입력양식 : 이름, 키, 몸무게, 좋아하는브랜드')\n",
    "print('(중단 : n)')\n",
    "print('')\n",
    "\n",
    "people = {}\n",
    "\n",
    "while True:\n",
    "    line = input('> ')\n",
    "    if line.lower() == 'n' and len(people) > 9:\n",
    "        break\n",
    "    while line.lower() == 'n' and len(people) < 10:\n",
    "        line = input('10명 이상의 데이터를 입력해주세요.\\n> ')\n",
    "\n",
    "    name, height, weight, brand = line.split(',')\n",
    "\n",
    "    people[name] = {\n",
    "        'height' : int(height),\n",
    "        'weight' : int(weight),\n",
    "        'brand' : brand,\n",
    "    }\n",
    "\n",
    "#키 정리 및 출력\n",
    "h_dict = {}\n",
    "for name in people.keys():\n",
    "    h_dict[name] = people[name]['height']\n",
    "\n",
    "sorted_h = sorted(h_dict.items(), key=operator.itemgetter(1))\n",
    "\n",
    "sum = 0\n",
    "for i in sorted_h:\n",
    "    sum += i[1]\n",
    "average = sum/len(sorted_h)\n",
    "\n",
    "n=len(sorted_h)\n",
    "if n%2 == 1:\n",
    "    median = sorted_h[int((n-1)/2)][1]\n",
    "else:\n",
    "    median = ( sorted_h[int(n/2)][1]+sorted_h[int(n/2)-1][1] )/2\n",
    "    \n",
    "print(\"\\n키의 최소값 : {}\".format(sorted_h[0][1]))\n",
    "print(\"키의 최대값 : {}\".format(sorted_h[-1][1]))\n",
    "print(\"키의 평균값 : {}\".format(average))\n",
    "print(\"키의 중위값 : {}\".format(median))\n",
    "\n",
    "\n",
    "#몸무게 정리 및 출력\n",
    "w_dict = {}\n",
    "for name in people.keys():\n",
    "    w_dict[name] = people[name]['weight']\n",
    "\n",
    "sorted_w = sorted(w_dict.items(), key=operator.itemgetter(1))\n",
    "\n",
    "sum = 0\n",
    "for i in sorted_w:\n",
    "    sum += i[1]\n",
    "average = sum/len(sorted_w)\n",
    "\n",
    "n=len(sorted_w)\n",
    "if n%2 == 1:\n",
    "    median = sorted_w[int((n-1)/2)][1]\n",
    "else:\n",
    "    median = ( sorted_w[int(n/2)][1]+sorted_w[int(n/2)-1][1] )/2\n",
    "    \n",
    "print(\"\\n몸무게의 최소값 : {}\".format(sorted_w[0][1]))\n",
    "print(\"몸무게의 최대값 : {}\".format(sorted_w[-1][1]))\n",
    "print(\"몸무게의 평균값 : {}\".format(average))\n",
    "print(\"몸무게의 중위값 : {}\".format(median))\n",
    "\n",
    "\n",
    "#브랜드 TOP 3 출력\n",
    "\n",
    "b_dict = {}\n",
    "for name in people.keys():\n",
    "    brand = people[name]['brand']\n",
    "    if brand not in b_dict:\n",
    "        b_dict[brand] = 1\n",
    "    else:\n",
    "        b_dict[brand] +=1\n",
    "\n",
    "sorted_b = sorted(b_dict.items(), key=operator.itemgetter(1), reverse=True)\n",
    "\n",
    "rank = 1\n",
    "print(\"\\n브랜드 랭킹 TOP {} : {}\".format(rank, sorted_b[0]), end=\" \")\n",
    "for i in range(1,len(sorted_b)):\n",
    "    if sorted_b[i][1] == sorted_b[i-1][1]:\n",
    "        print(\", {}\".format(sorted_b[i]), end=\" \")\n",
    "    else:\n",
    "        print()\n",
    "        rank += 1\n",
    "        if rank >3:\n",
    "            break\n",
    "        print(\"브랜드 랭킹 TOP {} : {}\".format(rank, sorted_b[i]), end=\" \")\n",
    "    "
   ]
  },
  {
   "cell_type": "code",
   "execution_count": null,
   "metadata": {
    "collapsed": true
   },
   "outputs": [],
   "source": []
  },
  {
   "cell_type": "code",
   "execution_count": null,
   "metadata": {
    "collapsed": true
   },
   "outputs": [],
   "source": []
  },
  {
   "cell_type": "markdown",
   "metadata": {
    "collapsed": true
   },
   "source": [
    "# "
   ]
  },
  {
   "cell_type": "code",
   "execution_count": null,
   "metadata": {
    "collapsed": true
   },
   "outputs": [],
   "source": []
  },
  {
   "cell_type": "code",
   "execution_count": null,
   "metadata": {
    "collapsed": true
   },
   "outputs": [],
   "source": []
  }
 ],
 "metadata": {
  "anaconda-cloud": {},
  "kernelspec": {
   "display_name": "Python [default]",
   "language": "python",
   "name": "python3"
  },
  "language_info": {
   "codemirror_mode": {
    "name": "ipython",
    "version": 3
   },
   "file_extension": ".py",
   "mimetype": "text/x-python",
   "name": "python",
   "nbconvert_exporter": "python",
   "pygments_lexer": "ipython3",
   "version": "3.5.2"
  }
 },
 "nbformat": 4,
 "nbformat_minor": 1
}
