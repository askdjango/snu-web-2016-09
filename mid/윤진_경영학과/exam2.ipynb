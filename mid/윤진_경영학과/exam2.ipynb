{
 "cells": [
  {
   "cell_type": "code",
   "execution_count": 1,
   "metadata": {
    "collapsed": true
   },
   "outputs": [],
   "source": [
    "from collections import defaultdict"
   ]
  },
  {
   "cell_type": "markdown",
   "metadata": {},
   "source": [
    "* 중위값 함수 정의 (영상에서 4번째 줄 설명을 처음에 잘못해서 바로 정정했습니다)"
   ]
  },
  {
   "cell_type": "code",
   "execution_count": 2,
   "metadata": {
    "collapsed": true
   },
   "outputs": [],
   "source": [
    "def median(lst=[]):\n",
    "    lst = sorted(lst)\n",
    "    if len(lst) % 2 == 1 :\n",
    "        return lst[int(((len(lst)+1) / 2 ) - 1)]\n",
    "    else:\n",
    "        return ( lst[int(len(lst) / 2 - 1)] + lst[int(len(lst) / 2 + 1)] ) / 2"
   ]
  },
  {
   "cell_type": "markdown",
   "metadata": {},
   "source": [
    "* 랭킹 3위 함수 정의. \n",
    "<br>영상에 더 추가된 것은, 다른 사전 데이터를 넣어도 값을 출력할 수 있도록 [ ]안의 제목에 원하는 string을 넣을 수 있게 하였습니다."
   ]
  },
  {
   "cell_type": "code",
   "execution_count": 14,
   "metadata": {
    "collapsed": true
   },
   "outputs": [],
   "source": [
    "def top3(title='', dic={}):\n",
    "    sorted_dic = sorted(dic.items(), key=lambda x: x[1])\n",
    "    return '[{}] 1위: {} / 2위: {} / 3위: {}'.format(title, sorted_dic[-1][0], sorted_dic[-2][0], sorted_dic[-3][0])"
   ]
  },
  {
   "cell_type": "code",
   "execution_count": 8,
   "metadata": {
    "collapsed": false
   },
   "outputs": [
    {
     "name": "stdout",
     "output_type": "stream",
     "text": [
      "입력양식 : 이름, 키, 몸무게, 좋아하는브랜드\n",
      "(중단을 원하시면  n 을 입력해주세요. 10명 이상 입력하셔야 하며, 키와 몸무게는 정수로 입력해주세요.)\n",
      "\n"
     ]
    }
   ],
   "source": [
    "print('입력양식 : 이름, 키, 몸무게, 좋아하는브랜드')\n",
    "print('(중단을 원하시면  n 을 입력해주세요. 10명 이상 입력하셔야 하며, 키와 몸무게는 정수로 입력해주세요.)')\n",
    "print('')"
   ]
  },
  {
   "cell_type": "code",
   "execution_count": 17,
   "metadata": {
    "collapsed": true
   },
   "outputs": [],
   "source": [
    "people = defaultdict(dict)\n",
    "total_brand = defaultdict(int)"
   ]
  },
  {
   "cell_type": "code",
   "execution_count": 18,
   "metadata": {
    "collapsed": false
   },
   "outputs": [
    {
     "name": "stdout",
     "output_type": "stream",
     "text": [
      "> 가가, 162, 52, 애플\n",
      "> 나나, 186, 78, 삼성\n",
      "> 다다, 155, 53, 애플\n",
      "> 라라, 171, 73, 샤오미\n",
      "> 마마, 162, 52, 애플\n",
      "> 바바, 180, 79, 삼성\n",
      "> 사사, 159, 49, 애플\n",
      "> n\n",
      "3명 더 입력해주세요.\n",
      "> 아아, 177, 81, 애플\n",
      "> 자자, 164, 56, 삼성\n",
      "> 차차, 178, 73, 샤오미\n",
      "> 카카, 151, 50, 롯데\n",
      "> n\n"
     ]
    }
   ],
   "source": [
    "while True:\n",
    "    line = input('> ')\n",
    "    if line.lower() == 'n':\n",
    "        if len(people) < 10:\n",
    "            print('{}명 더 입력해주세요.'.format(10 - len(people)))\n",
    "            line = input('> ')\n",
    "        else:\n",
    "            break\n",
    "    name, height, weight, brand = line.split(', ')\n",
    "    people[name] = {'height': int(height), 'weight': int(weight), 'brand': brand}\n",
    "    total_height = list(value['height'] for name, value in people.items())\n",
    "    total_weight = list(value['weight'] for name, value in people.items())\n",
    "    total_brand[brand] += 1"
   ]
  },
  {
   "cell_type": "markdown",
   "metadata": {},
   "source": [
    "* 효율성을 위해 loop 구문을 만들어, 추후에 데이터가 추가되더라도 zip()안의 값만 수정하면 되도록 코드를 짰습니다."
   ]
  },
  {
   "cell_type": "code",
   "execution_count": 19,
   "metadata": {
    "collapsed": false
   },
   "outputs": [
    {
     "name": "stdout",
     "output_type": "stream",
     "text": [
      "[키] 최소값: 151, 최대값: 186, 평균값: 167.73, 중위값: 164\n",
      "[몸무게] 최소값: 49, 최대값: 81, 평균값: 63.27, 중위값: 56\n",
      "[브랜드] 1위: 애플 / 2위: 삼성 / 3위: 샤오미\n"
     ]
    }
   ],
   "source": [
    "for title, x in zip(['키', '몸무게'], [total_height, total_weight]):\n",
    "    print('[{}] 최소값: {}, 최대값: {}, 평균값: {}, 중위값: {}'.format(title, min(x), max(x), round(sum(x) / len(x), 2), median(x)))\n",
    "print(top3('브랜드', total_brand))"
   ]
  },
  {
   "cell_type": "code",
   "execution_count": null,
   "metadata": {
    "collapsed": true
   },
   "outputs": [],
   "source": []
  }
 ],
 "metadata": {
  "kernelspec": {
   "display_name": "Python [Root]",
   "language": "python",
   "name": "Python [Root]"
  },
  "language_info": {
   "codemirror_mode": {
    "name": "ipython",
    "version": 3
   },
   "file_extension": ".py",
   "mimetype": "text/x-python",
   "name": "python",
   "nbconvert_exporter": "python",
   "pygments_lexer": "ipython3",
   "version": "3.5.2"
  }
 },
 "nbformat": 4,
 "nbformat_minor": 0
}
