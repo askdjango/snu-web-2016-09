{
 "cells": [
  {
   "cell_type": "markdown",
   "metadata": {},
   "source": [
    "# 삼각형 함수 정의\n",
    "* 삼각형과 다이아몬드 모두를 표현할 수 있도록 삼각형 함수를 정의했습니다."
   ]
  },
  {
   "cell_type": "code",
   "execution_count": 1,
   "metadata": {
    "collapsed": true
   },
   "outputs": [],
   "source": [
    "def triangle(start=1, end=0, jump=1, alignment=''):\n",
    "    for i in range(start, end, jump):\n",
    "        print(alignment.format('*'*i))"
   ]
  },
  {
   "cell_type": "code",
   "execution_count": 18,
   "metadata": {
    "collapsed": false
   },
   "outputs": [
    {
     "name": "stdout",
     "output_type": "stream",
     "text": [
      "너비 입력?5\n"
     ]
    }
   ],
   "source": [
    "width = int(input('너비 입력?'))"
   ]
  },
  {
   "cell_type": "code",
   "execution_count": 3,
   "metadata": {
    "collapsed": true
   },
   "outputs": [],
   "source": [
    "real_width = width * 2 - 1\n",
    "left = '{:<' + str(width) + '}'\n",
    "right = '{:>' + str(width) + '}'\n",
    "center = '{:^' + str(real_width) + '}'"
   ]
  },
  {
   "cell_type": "code",
   "execution_count": 19,
   "metadata": {
    "collapsed": false,
    "scrolled": true
   },
   "outputs": [
    {
     "name": "stdout",
     "output_type": "stream",
     "text": [
      "Case #1\n",
      "*    \n",
      "**   \n",
      "***  \n",
      "**** \n",
      "*****\n"
     ]
    }
   ],
   "source": [
    "print('Case #1')\n",
    "triangle(1, width + 1, 1, left)"
   ]
  },
  {
   "cell_type": "code",
   "execution_count": 9,
   "metadata": {
    "collapsed": false
   },
   "outputs": [
    {
     "name": "stdout",
     "output_type": "stream",
     "text": [
      "Case #2\n",
      "    *\n",
      "   **\n",
      "  ***\n",
      " ****\n",
      "*****\n"
     ]
    }
   ],
   "source": [
    "print('Case #2')\n",
    "triangle(1, width + 1, 1, right)"
   ]
  },
  {
   "cell_type": "code",
   "execution_count": 10,
   "metadata": {
    "collapsed": false
   },
   "outputs": [
    {
     "name": "stdout",
     "output_type": "stream",
     "text": [
      "Case #3\n",
      "    *    \n",
      "   ***   \n",
      "  *****  \n",
      " ******* \n",
      "*********\n"
     ]
    }
   ],
   "source": [
    "print('Case #3')\n",
    "triangle(1, real_width+1, 2, center)"
   ]
  },
  {
   "cell_type": "code",
   "execution_count": 11,
   "metadata": {
    "collapsed": false
   },
   "outputs": [
    {
     "name": "stdout",
     "output_type": "stream",
     "text": [
      "Case #4\n",
      "*********\n",
      " ******* \n",
      "  *****  \n",
      "   ***   \n",
      "    *    \n"
     ]
    }
   ],
   "source": [
    "print('Case #4')\n",
    "triangle(real_width, 0, -2, center)"
   ]
  },
  {
   "cell_type": "code",
   "execution_count": 13,
   "metadata": {
    "collapsed": false
   },
   "outputs": [
    {
     "name": "stdout",
     "output_type": "stream",
     "text": [
      "Case #5\n",
      "    *    \n",
      "   ***   \n",
      "  *****  \n",
      " ******* \n",
      "*********\n",
      " ******* \n",
      "  *****  \n",
      "   ***   \n",
      "    *    \n"
     ]
    }
   ],
   "source": [
    "print('Case #5')\n",
    "triangle(1, real_width+1, 2, center)\n",
    "triangle(real_width-2, 0, -2, center)"
   ]
  },
  {
   "cell_type": "code",
   "execution_count": 15,
   "metadata": {
    "collapsed": false
   },
   "outputs": [
    {
     "name": "stdout",
     "output_type": "stream",
     "text": [
      "Case #6\n",
      "    #    \n",
      "   #*#   \n",
      "  #***#  \n",
      " #*****# \n",
      "#*******#\n",
      " #*****# \n",
      "  #***#  \n",
      "   #*#   \n",
      "    #    \n"
     ]
    }
   ],
   "source": [
    "print('Case #6')\n",
    "print(center.format('#'))\n",
    "for i in range(1, real_width-1, 2):\n",
    "    surround = '#' + '*'*i + '#'\n",
    "    print(center.format(surround))\n",
    "for i in range(real_width-4, 0, -2):\n",
    "    surround = '#' + '*'*i + '#'\n",
    "    print(center.format(surround))\n",
    "print(center.format('#'))"
   ]
  },
  {
   "cell_type": "code",
   "execution_count": null,
   "metadata": {
    "collapsed": true
   },
   "outputs": [],
   "source": []
  }
 ],
 "metadata": {
  "anaconda-cloud": {},
  "kernelspec": {
   "display_name": "Python [Root]",
   "language": "python",
   "name": "Python [Root]"
  },
  "language_info": {
   "codemirror_mode": {
    "name": "ipython",
    "version": 3
   },
   "file_extension": ".py",
   "mimetype": "text/x-python",
   "name": "python",
   "nbconvert_exporter": "python",
   "pygments_lexer": "ipython3",
   "version": "3.5.2"
  }
 },
 "nbformat": 4,
 "nbformat_minor": 0
}
