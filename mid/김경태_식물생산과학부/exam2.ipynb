{
 "cells": [
  {
   "cell_type": "code",
   "execution_count": null,
   "metadata": {
    "collapsed": false
   },
   "outputs": [
    {
     "name": "stdout",
     "output_type": "stream",
     "text": [
      "입력양식: 이름,키,몸무게,좋아하는브랜드\n",
      "(중단: n)\n",
      "\n"
     ]
    }
   ],
   "source": [
    "print('입력양식: 이름,키,몸무게,좋아하는브랜드')\n",
    "print('(중단: n)')\n",
    "print('')\n",
    "\n",
    "count = 0\n",
    "height_list = []\n",
    "weight_list = []\n",
    "brand_list = []\n",
    "height_sum = 0\n",
    "weight_sum = 0\n",
    "\n",
    "while True:\n",
    "    line = input('> ')\n",
    "\n",
    "    if line.lower() == 'n':\n",
    "        if count < 3:\n",
    "            print('10명 이상의 데이터가 필요합니다.')\n",
    "            continue\n",
    "        else:\n",
    "            break\n",
    "\n",
    "    name, height, weight, brand = line.split(',')\n",
    "    height_sum += float(height)\n",
    "    weight_sum += float(weight)\n",
    "    height_list.append(height)\n",
    "    weight_list.append(weight)\n",
    "    brand_list.append(brand)\n",
    "    count += 1\n",
    "\n",
    "#키\n",
    "height_len = len(height_list)\n",
    "\n",
    "height_min = height_list[0]\n",
    "for i in height_list:\n",
    "    if i < height_min:\n",
    "        height_min = i\n",
    "\n",
    "height_max = height_list[0]\n",
    "for i in height_list:\n",
    "    if i > height_max:\n",
    "        height_max = i\n",
    "\n",
    "height_list.sort()\n",
    "if height_len%2 == 0:\n",
    "    height_med = (int(height_list[int(height_len/2-1)])+int(height_list[int(height_len/2)]))/2\n",
    "else:\n",
    "    height_med = height_list[int((height_len-1)/2)]\n",
    "\n",
    "#몸무게\n",
    "weight_len = len(weight_list)\n",
    "\n",
    "weight_min = weight_list[0]\n",
    "for i in weight_list:\n",
    "    if i < weight_min:\n",
    "        weight_min = i\n",
    "\n",
    "weight_max = weight_list[0]\n",
    "for i in weight_list:\n",
    "    if i > weight_max:\n",
    "        weight_max = i\n",
    "\n",
    "weight_list.sort()\n",
    "if weight_len%2 == 0:\n",
    "    weight_med = (int(weight_list[int(weight_len/2-1)])+int(weight_list[int(weight_len/2)]))/2\n",
    "else:\n",
    "    weight_med = weight_list[int((weight_len-1)/2)]\n",
    "\n",
    "#브랜드 TOP3\n",
    "print('좋아하는 브랜드 랭킹 TOP3는 다음과 같습니다.')\n",
    "brand_count = {i:brand_list.count(i) for i in brand_list}\n",
    "key_count = 0\n",
    "for w in sorted(brand_count, key=brand_count.get, reverse=True):\n",
    "    key_count += 1\n",
    "    print(w)\n",
    "    if key_count == 3:\n",
    "        break\n",
    "print('')\n",
    "\n",
    "print('키의 평균값은 {0:0.2f}입니다.'.format(height_sum/len(height_list)))\n",
    "print('키의 최소값은 {}입니다.'.format(height_min))\n",
    "print('키의 최대값은 {}입니다.'.format(height_max))\n",
    "print('키의 중위값은 {}입니다.'.format(height_med))\n",
    "print('')\n",
    "print('몸무게의 평균값은 {0:0.2f}입니다.'.format(weight_sum/len(weight_list)))\n",
    "print('몸무게의 최소값은 {}입니다.'.format(weight_min))\n",
    "print('몸무게의 최대값은 {}입니다.'.format(weight_max))\n",
    "print('몸무게의 중위값은 {}입니다.'.format(weight_med))"
   ]
  },
  {
   "cell_type": "code",
   "execution_count": null,
   "metadata": {
    "collapsed": true
   },
   "outputs": [],
   "source": []
  },
  {
   "cell_type": "code",
   "execution_count": null,
   "metadata": {
    "collapsed": true
   },
   "outputs": [],
   "source": []
  },
  {
   "cell_type": "code",
   "execution_count": null,
   "metadata": {
    "collapsed": true
   },
   "outputs": [],
   "source": []
  }
 ],
 "metadata": {
  "kernelspec": {
   "display_name": "Python [Root]",
   "language": "python",
   "name": "Python [Root]"
  },
  "language_info": {
   "codemirror_mode": {
    "name": "ipython",
    "version": 3
   },
   "file_extension": ".py",
   "mimetype": "text/x-python",
   "name": "python",
   "nbconvert_exporter": "python",
   "pygments_lexer": "ipython3",
   "version": "3.5.2"
  }
 },
 "nbformat": 4,
 "nbformat_minor": 0
}
