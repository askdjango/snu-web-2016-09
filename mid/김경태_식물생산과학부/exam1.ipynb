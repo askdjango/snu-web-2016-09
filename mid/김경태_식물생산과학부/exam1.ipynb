{
 "cells": [
  {
   "cell_type": "code",
   "execution_count": null,
   "metadata": {
    "collapsed": true
   },
   "outputs": [],
   "source": [
    "num = int(input('숫자를 입력하세요:'))\n",
    "\n",
    "def star1(num):\n",
    "    for i in range(num):\n",
    "        print('*'*(i+1))\n",
    "\n",
    "def star2(num):\n",
    "    for i in range(num):\n",
    "        print(' '*(num-i-1)+'*'*(i+1))\n",
    "\n",
    "def star3(num):\n",
    "    for i in range(num):\n",
    "        print(' '*(num-i-1)+'*'*(2*i+1))\n",
    "\n",
    "def star4(num):\n",
    "    for i in range(num):\n",
    "        print(' '*i+'*'*(2*(num-i)-1))\n",
    "\n",
    "def star5(num):\n",
    "    for i in range(num):\n",
    "        print(' '*(num-i-1)+'*'*(2*i+1))\n",
    "    for i in range(1, num):\n",
    "        print(' '*i+'*'*(2*(num-i)-1))\n",
    "\n",
    "def star6(num):\n",
    "    for i in range(num):\n",
    "        if i == 0:\n",
    "            print(' '*(num-i-1)+'#')\n",
    "        else:\n",
    "            print(' '*(num-i-1)+'#'+'*'*(2*i-1)+'#')\n",
    "    for i in range(1,num):\n",
    "        if i == num-1:\n",
    "            print(' '*i+'#')\n",
    "        else:\n",
    "            print(' '*i+'#'+'*'*(2*(num-i-1)-1)+'#')\n",
    "\n",
    "star1(num)\n",
    "star2(num)\n",
    "star3(num)\n",
    "star4(num)\n",
    "star5(num)\n",
    "star6(num)"
   ]
  }
 ],
 "metadata": {
  "kernelspec": {
   "display_name": "Python [Root]",
   "language": "python",
   "name": "Python [Root]"
  },
  "language_info": {
   "codemirror_mode": {
    "name": "ipython",
    "version": 3
   },
   "file_extension": ".py",
   "mimetype": "text/x-python",
   "name": "python",
   "nbconvert_exporter": "python",
   "pygments_lexer": "ipython3",
   "version": "3.5.2"
  }
 },
 "nbformat": 4,
 "nbformat_minor": 0
}
