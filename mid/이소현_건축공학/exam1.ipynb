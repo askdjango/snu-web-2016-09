{
 "cells": [
  {
   "cell_type": "markdown",
   "metadata": {},
   "source": [
    "# Case #1"
   ]
  },
  {
   "cell_type": "code",
   "execution_count": 2,
   "metadata": {
    "collapsed": false
   },
   "outputs": [],
   "source": [
    "def case1(size) : \n",
    "    star = \"*\"\n",
    "    print( \" \" )\n",
    "\n",
    "    for i in range( 1, size + 1 ) : \n",
    "        print( star * i )"
   ]
  },
  {
   "cell_type": "code",
   "execution_count": 3,
   "metadata": {
    "collapsed": false
   },
   "outputs": [
    {
     "name": "stdout",
     "output_type": "stream",
     "text": [
      " \n",
      "*\n",
      "**\n",
      "***\n",
      "****\n",
      "*****\n"
     ]
    }
   ],
   "source": [
    "case1(5)"
   ]
  },
  {
   "cell_type": "markdown",
   "metadata": {},
   "source": [
    "# Case #2"
   ]
  },
  {
   "cell_type": "code",
   "execution_count": 4,
   "metadata": {
    "collapsed": false
   },
   "outputs": [],
   "source": [
    "def case2(size) : \n",
    "    blank = \" \"\n",
    "    star = \"*\"\n",
    "    print( \" \" )\n",
    "    \n",
    "    for i in range( 1, size + 1 ) : \n",
    "        print( blank * ( size - i ), star * i )"
   ]
  },
  {
   "cell_type": "code",
   "execution_count": 5,
   "metadata": {
    "collapsed": false
   },
   "outputs": [
    {
     "name": "stdout",
     "output_type": "stream",
     "text": [
      " \n",
      "     *\n",
      "    **\n",
      "   ***\n",
      "  ****\n",
      " *****\n"
     ]
    }
   ],
   "source": [
    "case2(5)"
   ]
  },
  {
   "cell_type": "markdown",
   "metadata": {},
   "source": [
    "# Case #3"
   ]
  },
  {
   "cell_type": "code",
   "execution_count": 6,
   "metadata": {
    "collapsed": false
   },
   "outputs": [],
   "source": [
    "def case3(size) : \n",
    "    blank = \" \"\n",
    "    star = \"*\"\n",
    "    print( \" \" )\n",
    "\n",
    "    for i in range( 1, size + 1 ) : \n",
    "        print( blank * ( size - i ), star * ( 2 * i - 1 ) )"
   ]
  },
  {
   "cell_type": "code",
   "execution_count": 7,
   "metadata": {
    "collapsed": false
   },
   "outputs": [
    {
     "name": "stdout",
     "output_type": "stream",
     "text": [
      " \n",
      "     *\n",
      "    ***\n",
      "   *****\n",
      "  *******\n",
      " *********\n"
     ]
    }
   ],
   "source": [
    "case3(5)"
   ]
  },
  {
   "cell_type": "markdown",
   "metadata": {},
   "source": [
    "# Case #4"
   ]
  },
  {
   "cell_type": "code",
   "execution_count": 8,
   "metadata": {
    "collapsed": false
   },
   "outputs": [],
   "source": [
    "def case4(size) : \n",
    "    blank = \" \"\n",
    "    star = \"*\"\n",
    "    print( \" \" )\n",
    "\n",
    "    for i in range( 1, size + 1 ) : \n",
    "        print( blank * ( i - 1 ), star * ( 2 * size - 2 * i + 1 ))"
   ]
  },
  {
   "cell_type": "code",
   "execution_count": 9,
   "metadata": {
    "collapsed": false
   },
   "outputs": [
    {
     "name": "stdout",
     "output_type": "stream",
     "text": [
      " \n",
      " *********\n",
      "  *******\n",
      "   *****\n",
      "    ***\n",
      "     *\n"
     ]
    }
   ],
   "source": [
    "case4(5)"
   ]
  },
  {
   "cell_type": "markdown",
   "metadata": {},
   "source": [
    "# Case #5"
   ]
  },
  {
   "cell_type": "code",
   "execution_count": 11,
   "metadata": {
    "collapsed": false
   },
   "outputs": [],
   "source": [
    "def case5(size) : \n",
    "    blank = \" \"\n",
    "    star = \"*\"\n",
    "    print( \" \" )\n",
    "\n",
    "    for i in range( 1, size + 1 ) : \n",
    "        print( blank * ( size - i ), star * ( 2 * i - 1 ) )\n",
    "\n",
    "    for i in range( size + 1 , 2 * size ) :\n",
    "        print( blank * ( i - size ), star * ( 4 * size - 2 * i - 1 ))"
   ]
  },
  {
   "cell_type": "code",
   "execution_count": 12,
   "metadata": {
    "collapsed": false
   },
   "outputs": [
    {
     "name": "stdout",
     "output_type": "stream",
     "text": [
      " \n",
      "     *\n",
      "    ***\n",
      "   *****\n",
      "  *******\n",
      " *********\n",
      "  *******\n",
      "   *****\n",
      "    ***\n",
      "     *\n"
     ]
    }
   ],
   "source": [
    "case5(5)"
   ]
  },
  {
   "cell_type": "markdown",
   "metadata": {},
   "source": [
    "# Case #6"
   ]
  },
  {
   "cell_type": "code",
   "execution_count": 13,
   "metadata": {
    "collapsed": false
   },
   "outputs": [],
   "source": [
    "def case6(size) : \n",
    "    blank = \" \"\n",
    "    sharp = \"#\"\n",
    "    star = \"*\"\n",
    "\n",
    "    print( \" \" )\n",
    "\n",
    "    for i in range( 1, size + 1 ) : \n",
    "        if i < 2 :\n",
    "            print( blank * ( size - i ) + sharp )\n",
    "        else : \n",
    "            print( blank * ( size - i ) + sharp + star * ( 2 * i - 3 ) + sharp )\n",
    "\n",
    "    for i in range( size + 1 , 2 * size ) :\n",
    "        if i < 2 * size - 1 : \n",
    "            print( blank * ( i - size ) + sharp + star * ( 4 * size - 2 * i - 3 ) + sharp)\n",
    "        else :\n",
    "            print( blank * ( i - size ) + sharp )"
   ]
  },
  {
   "cell_type": "code",
   "execution_count": 14,
   "metadata": {
    "collapsed": false
   },
   "outputs": [
    {
     "name": "stdout",
     "output_type": "stream",
     "text": [
      " \n",
      "    #\n",
      "   #*#\n",
      "  #***#\n",
      " #*****#\n",
      "#*******#\n",
      " #*****#\n",
      "  #***#\n",
      "   #*#\n",
      "    #\n"
     ]
    }
   ],
   "source": [
    "case6(5)"
   ]
  }
 ],
 "metadata": {
  "anaconda-cloud": {},
  "kernelspec": {
   "display_name": "Python [default]",
   "language": "python",
   "name": "python3"
  },
  "language_info": {
   "codemirror_mode": {
    "name": "ipython",
    "version": 3
   },
   "file_extension": ".py",
   "mimetype": "text/x-python",
   "name": "python",
   "nbconvert_exporter": "python",
   "pygments_lexer": "ipython3",
   "version": "3.5.2"
  }
 },
 "nbformat": 4,
 "nbformat_minor": 1
}
