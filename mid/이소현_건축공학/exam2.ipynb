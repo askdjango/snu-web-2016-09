{
 "cells": [
  {
   "cell_type": "markdown",
   "metadata": {},
   "source": [
    "## 명단관리"
   ]
  },
  {
   "cell_type": "code",
   "execution_count": null,
   "metadata": {
    "collapsed": false,
    "scrolled": true
   },
   "outputs": [
    {
     "name": "stdout",
     "output_type": "stream",
     "text": [
      " 입력양식 : 이름, 키, 몸무게, 좋아하는브랜드 \n",
      "(중단 :  n )\n"
     ]
    }
   ],
   "source": [
    "print( ' 입력양식 : 이름, 키, 몸무게, 좋아하는브랜드 ')\n",
    "print('(중단 :  n )')\n",
    "\n",
    "people = {}\n",
    "\n",
    "while True : \n",
    "    line = input('> ')\n",
    "    if line.lower() == 'n' : \n",
    "        break \n",
    "        \n",
    "    name, height, weight, brand = line.split(',')\n",
    "    \n",
    "    \n",
    "    people[name] = { \n",
    "        '키' : int( height ),\n",
    "        '몸무게' : int( weight ),\n",
    "        '브랜드' : brand \n",
    "    }\n",
    "    \n",
    "# 키 구하기 \n",
    "    \n",
    "h_list = [ ]\n",
    "for name in people : \n",
    "     h_list.append( people[name]['키'] )\n",
    "        \n",
    "print( '키 최댓값')\n",
    "print( max(h_list) )\n",
    "    \n",
    "print( '키 최소값')\n",
    "print( min(h_list) )\n",
    "\n",
    "print( '키 중위값 ')\n",
    "h_list.sort() \n",
    "\n",
    "if  len(h_list) % 2 == 1 : \n",
    "    print ( h_list[ int(( len(h_list) )/2 - 1) ])\n",
    "else : \n",
    "    print ( h_list[ int(( len(h_list) )/2 )] )\n",
    "        \n",
    "print( '키 평균값 ')\n",
    "total = sum( h_list )\n",
    "h_average = total / len(people)  \n",
    "print( h_average ) \n",
    "    \n",
    "#몸무게 구하기\n",
    "    \n",
    "w_list = [ ]\n",
    "for name in people : \n",
    "    w_list.append( people[name]['몸무게'] )\n",
    "        \n",
    "print( '몸무게 최댓값')\n",
    "print( max(w_list) )\n",
    "    \n",
    "print( '몸무게 최소값')\n",
    "print( min(w_list) )\n",
    "\n",
    "print( '몸무게 중위값 ')\n",
    "w_list.sort() \n",
    "    \n",
    "\n",
    "if len(w_list) % 2 == 1 : \n",
    "    print ( w_list[ int(( len(w_list) )/2 - 1) ])\n",
    "else : \n",
    "    print ( w_list[ int(( len(w_list) )/2 )] )\n",
    "        \n",
    "print( '몸무게 평균값 ')\n",
    "total = sum( w_list )\n",
    "w_average = total / len(people)  \n",
    "print( w_average ) \n",
    "\n",
    "# 브랜드 구하기\n",
    "\n",
    "import operator\n",
    "\n",
    "b_list = [ ]\n",
    "for name in people :\n",
    "    b_list.append( people[name]['브랜드']) \n",
    "\n",
    "bcountdic = { }\n",
    "for b_name in b_list :\n",
    "    b_count = b_list.count( b_name )\n",
    "    bcountdic[b_name] = b_count\n",
    "\n",
    "sorted_bcountdic = sorted(bcountdic.items(), key = operator.itemgetter(1), reverse=True)\n",
    "print ( '1위' )\n",
    "print ( sorted_bcountdic[0])\n",
    "print ( '2위' )\n",
    "print ( sorted_bcountdic[1])\n",
    "print ( '3위' )\n",
    "print ( sorted_bcountdic[2])\n",
    "\n",
    "\n"
   ]
  },
  {
   "cell_type": "code",
   "execution_count": null,
   "metadata": {
    "collapsed": true
   },
   "outputs": [],
   "source": []
  },
  {
   "cell_type": "code",
   "execution_count": null,
   "metadata": {
    "collapsed": true
   },
   "outputs": [],
   "source": []
  },
  {
   "cell_type": "code",
   "execution_count": null,
   "metadata": {
    "collapsed": true
   },
   "outputs": [],
   "source": []
  },
  {
   "cell_type": "code",
   "execution_count": null,
   "metadata": {
    "collapsed": true
   },
   "outputs": [],
   "source": []
  }
 ],
 "metadata": {
  "anaconda-cloud": {},
  "kernelspec": {
   "display_name": "Python [default]",
   "language": "python",
   "name": "python3"
  },
  "language_info": {
   "codemirror_mode": {
    "name": "ipython",
    "version": 3
   },
   "file_extension": ".py",
   "mimetype": "text/x-python",
   "name": "python",
   "nbconvert_exporter": "python",
   "pygments_lexer": "ipython3",
   "version": "3.5.2"
  }
 },
 "nbformat": 4,
 "nbformat_minor": 1
}
