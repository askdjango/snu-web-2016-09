{
 "cells": [
  {
   "cell_type": "code",
   "execution_count": 4,
   "metadata": {
    "collapsed": false
   },
   "outputs": [
    {
     "name": "stdout",
     "output_type": "stream",
     "text": [
      "*\n",
      "**\n",
      "***\n",
      "****\n",
      "*****\n"
     ]
    }
   ],
   "source": [
    "#Case1\n",
    "\n",
    "size = 5\n",
    "\n",
    "for i in range(1,size+1):\n",
    "    star_count = i\n",
    "    print('*'*star_count)"
   ]
  },
  {
   "cell_type": "code",
   "execution_count": 10,
   "metadata": {
    "collapsed": false
   },
   "outputs": [
    {
     "name": "stdout",
     "output_type": "stream",
     "text": [
      "    *\n",
      "   **\n",
      "  ***\n",
      " ****\n",
      "*****\n"
     ]
    }
   ],
   "source": [
    "#Case2\n",
    "\n",
    "size = 5\n",
    "\n",
    "for i in range(1,size+1):\n",
    "    blank_count = size - i\n",
    "    star_count = i\n",
    "    print(' '*blank_count, end='')\n",
    "    print('*'*star_count)"
   ]
  },
  {
   "cell_type": "code",
   "execution_count": 5,
   "metadata": {
    "collapsed": false
   },
   "outputs": [
    {
     "name": "stdout",
     "output_type": "stream",
     "text": [
      "    *\n",
      "   ***\n",
      "  *****\n",
      " *******\n",
      "*********\n"
     ]
    }
   ],
   "source": [
    "#Case3\n",
    "\n",
    "size = 5\n",
    "\n",
    "for i in range(1, size+1): \n",
    "    blank_count = size - i\n",
    "    star_count = i * 2 -1\n",
    "    print(' '*blank_count, end='') \n",
    "    print('*'*star_count)"
   ]
  },
  {
   "cell_type": "code",
   "execution_count": 7,
   "metadata": {
    "collapsed": false
   },
   "outputs": [
    {
     "name": "stdout",
     "output_type": "stream",
     "text": [
      "*********\n",
      " *******\n",
      "  *****\n",
      "   ***\n",
      "    *\n"
     ]
    }
   ],
   "source": [
    "#case4\n",
    "\n",
    "size = 5\n",
    "\n",
    "for i in range(size, 0, -1): \n",
    "    blank_count = size - i\n",
    "    star_count = i * 2 -1\n",
    "    print(' ' *blank_count,end='')\n",
    "    print('*'*star_count)"
   ]
  },
  {
   "cell_type": "code",
   "execution_count": 8,
   "metadata": {
    "collapsed": false
   },
   "outputs": [
    {
     "name": "stdout",
     "output_type": "stream",
     "text": [
      "    *\n",
      "   ***\n",
      "  *****\n",
      " *******\n",
      "*********\n",
      " *******\n",
      "  *****\n",
      "   ***\n",
      "    *\n"
     ]
    }
   ],
   "source": [
    "#case5\n",
    "\n",
    "size = 5\n",
    "\n",
    "for i in range(1, size+1): \n",
    "    blank_count = size - i\n",
    "    star_count = i * 2 -1\n",
    "    print(' '*blank_count, end='') \n",
    "    print('*'*star_count)\n",
    "    \n",
    "for i in range(size-1, 0, -1): \n",
    "    blank_count = size - i\n",
    "    star_count = i * 2 -1\n",
    "    print(' ' *blank_count,end='')\n",
    "    print('*'*star_count)"
   ]
  },
  {
   "cell_type": "code",
   "execution_count": 9,
   "metadata": {
    "collapsed": false
   },
   "outputs": [
    {
     "name": "stdout",
     "output_type": "stream",
     "text": [
      "    #\n",
      "   #*#\n",
      "  #***#\n",
      " #*****#\n",
      "#*******#\n",
      " #*****#\n",
      "  #***#\n",
      "   #*#\n",
      "    #\n"
     ]
    }
   ],
   "source": [
    "# case6\n",
    "\n",
    "size = 5\n",
    "\n",
    "for i in range(1, size + 1):\n",
    "    blank_count= size - i\n",
    "    star_count = (i - 1) * 2 - 1\n",
    "    sharp_count = 0 if i == 1 else 1\n",
    "   \n",
    "    print(' ' * blank_count, end='')\n",
    "    print('#', end='')\n",
    "    print('*' * star_count, end='')\n",
    "    print('#' * sharp_count)\n",
    "    \n",
    "for i in range(size-1, 0, -1):\n",
    "    blank_count = size - i\n",
    "    star_count = i * 2 - 3\n",
    "    sharp_count = 0 if i == 1 else 1\n",
    "    \n",
    "    print(' ' * blank_count, end='')\n",
    "    print('#', end='')\n",
    "    print('*' * star_count, end='')\n",
    "    print('#' * sharp_count)"
   ]
  },
  {
   "cell_type": "code",
   "execution_count": null,
   "metadata": {
    "collapsed": true
   },
   "outputs": [],
   "source": []
  }
 ],
 "metadata": {
  "anaconda-cloud": {},
  "kernelspec": {
   "display_name": "Python [default]",
   "language": "python",
   "name": "python3"
  },
  "language_info": {
   "codemirror_mode": {
    "name": "ipython",
    "version": 3
   },
   "file_extension": ".py",
   "mimetype": "text/x-python",
   "name": "python",
   "nbconvert_exporter": "python",
   "pygments_lexer": "ipython3",
   "version": "3.5.2"
  }
 },
 "nbformat": 4,
 "nbformat_minor": 1
}
