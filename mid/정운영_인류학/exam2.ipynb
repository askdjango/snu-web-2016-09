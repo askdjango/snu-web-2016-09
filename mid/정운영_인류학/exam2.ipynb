{
 "cells": [
  {
   "cell_type": "code",
   "execution_count": 6,
   "metadata": {
    "collapsed": false
   },
   "outputs": [
    {
     "name": "stdout",
     "output_type": "stream",
     "text": [
      "입력양식 : 이름, 키, 몸무게, 좋아하는브랜드\n",
      "(중단 : n)\n",
      "\n",
      "> 김구라,185,85,나이키\n",
      "> 신동엽,180,70,나이키\n",
      "> 유재석,178,71,아디다스\n",
      "> 강호동,188,99,퓨마\n",
      "> 전현무,170,75,뉴발란스\n",
      "> 이휘재,181,75,아디다스\n",
      "> 하하,165,60,나이키\n",
      "> 정형돈,175,80,나이키\n",
      "> 정준하,185,85,아디다스\n",
      "> 황광희,177,62,뉴발란스\n",
      "> n\n",
      "* 키의 평균값은 178.4 최소값은 165 최대값은 188 입니다.\n",
      "* 몸무게의 평균값은 76.2 최소값은 60 최대값은 99 입니다.\n",
      "* 좋아하는 브랜드의 순서와 좋아하는 사람 숫자는?\n",
      "[('나이키', 4), ('아디다스', 3), ('뉴발란스', 2), ('퓨마', 1)]\n"
     ]
    }
   ],
   "source": [
    "print('입력양식 : 이름, 키, 몸무게, 좋아하는브랜드')\n",
    "print('(중단 : n)')\n",
    "print('')\n",
    "\n",
    "people = {}\n",
    "\n",
    "while True:\n",
    "    line = input('> ')\n",
    "    if line.lower() == 'n':\n",
    "        break\n",
    "     \n",
    "    people[line.split(',')[0]] = {'height':line.split(',')[1],'weight':line.split(',')[2], 'brand' :line.split(',')[3]}\n",
    "\n",
    "height_sum = 0\n",
    "for name in people:\n",
    "    height_sum += int(people[name]['height'])\n",
    "\n",
    "height_min = 300\n",
    "for name in people:\n",
    "    if int(people[name]['height']) < height_min:\n",
    "        height_min = int(people[name]['height'])\n",
    "\n",
    "height_max = 0\n",
    "for name in people:\n",
    "     if int(people[name]['height']) > height_max:\n",
    "        height_max = int(people[name]['height'])\n",
    "\n",
    "print('* 키의 평균값은 {0} 최소값은 {1} 최대값은 {2} 입니다.'.format(height_sum/len(people), height_min, height_max))\n",
    "        \n",
    "weight_sum = 0\n",
    "for name in people:\n",
    "    weight_sum += int(people[name]['weight'])\n",
    "\n",
    "weight_min = 300\n",
    "for name in people:\n",
    "    if int(people[name]['weight']) < weight_min:\n",
    "        weight_min = int(people[name]['weight'])\n",
    "\n",
    "weight_max = 0\n",
    "for name in people:\n",
    "     if int(people[name]['weight']) > weight_max:\n",
    "        weight_max = int(people[name]['weight'])        \n",
    "\n",
    "print('* 몸무게의 평균값은 {0} 최소값은 {1} 최대값은 {2} 입니다.'.format(weight_sum/len(people), weight_min, weight_max))\n",
    "\n",
    "        \n",
    "topbrand = {}\n",
    "for name in people:\n",
    "    if people[name]['brand'] in topbrand:\n",
    "        topbrand[people[name]['brand']] += 1\n",
    "    else:\n",
    "        topbrand[people[name]['brand']] = 1\n",
    "\n",
    "import operator\n",
    "sorted_topbrand = sorted(topbrand.items(), key=operator.itemgetter(1))\n",
    "sorted_topbrand.reverse()\n",
    "print('* 좋아하는 브랜드의 순서와 좋아하는 사람 숫자는?')\n",
    "print(sorted_topbrand)"
   ]
  },
  {
   "cell_type": "code",
   "execution_count": null,
   "metadata": {
    "collapsed": true
   },
   "outputs": [],
   "source": []
  }
 ],
 "metadata": {
  "anaconda-cloud": {},
  "kernelspec": {
   "display_name": "Python [default]",
   "language": "python",
   "name": "python3"
  },
  "language_info": {
   "codemirror_mode": {
    "name": "ipython",
    "version": 3
   },
   "file_extension": ".py",
   "mimetype": "text/x-python",
   "name": "python",
   "nbconvert_exporter": "python",
   "pygments_lexer": "ipython3",
   "version": "3.5.2"
  }
 },
 "nbformat": 4,
 "nbformat_minor": 1
}
