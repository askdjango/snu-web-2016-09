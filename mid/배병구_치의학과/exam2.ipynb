{
 "cells": [
  {
   "cell_type": "code",
   "execution_count": 1,
   "metadata": {
    "collapsed": false
   },
   "outputs": [
    {
     "name": "stdout",
     "output_type": "stream",
     "text": [
      "입력양식 : 이름, 키(cm), 몸무게(kg), 좋아하는브랜드\n",
      "(중단 : n)\n",
      "\n",
      "> 철수, 190, 90, 나이키\n",
      "> 민수, 180, 80, 나이키\n",
      "> 영수, 160, 60, 나이키\n",
      "> 덕수, 170, 70, 퓨마\n",
      "> 일수, 170, 65, 아디다스\n",
      "> 경수, 200, 100, 아디다스\n",
      "> 장수, 195, 95, 아디다스\n",
      "> 병수, 170, 77, 아디다스\n",
      "> 갑수, 195, 98, 퓨마\n",
      "> 을수, 210, 120, 파이썬\n",
      "> 정수, 175, 70, 애플\n",
      "> n\n",
      "<<결 과>>\n",
      "<키>= [160, 170, 170, 170, 175, 180, 190, 195, 195, 200, 210]\n",
      "최댓값 210 cm\n",
      "최솟값 160 cm\n",
      "평균값 183.1818181818182 cm\n",
      "중위값 180 cm\n",
      "\n",
      "\n",
      "<몸무게>= [60, 65, 70, 70, 77, 80, 90, 95, 98, 100, 120]\n",
      "최댓값 120 kg\n",
      "최솟값 60 kg\n",
      "평균값 84.0909090909091 kg\n",
      "중위값 80 kg\n",
      "\n",
      "\n",
      "<좋아하는브랜드>= [(' 아디다스', 4), (' 나이키', 3), (' 퓨마', 2), (' 애플', 1), (' 파이썬', 1)]\n",
      "공동 등수 유의하세요 :)\n",
      "1 위 :  (' 아디다스', 4)\n",
      "2 위 :  (' 나이키', 3)\n",
      "3 위 :  (' 퓨마', 2)\n"
     ]
    }
   ],
   "source": [
    "import operator\n",
    "import statistics\n",
    "\n",
    "print('입력양식 : 이름, 키(cm), 몸무게(kg), 좋아하는브랜드')\n",
    "print('(중단 : n)')\n",
    "print('')\n",
    "\n",
    "height_list = []\n",
    "weight_list = []\n",
    "brand_dic = {}\n",
    "\n",
    "while True:\n",
    "    line = input('> ')\n",
    "    if line.lower() == 'n':\n",
    "        break\n",
    "    name, height, weight, brand = line.split(',')\n",
    "\n",
    "\n",
    "    height_list.append(int(height))\n",
    "    weight_list.append(int(weight))\n",
    "\n",
    "    if brand in brand_dic:\n",
    "        brand_dic[brand] += 1\n",
    "    else:\n",
    "        brand_dic[brand] = 1\n",
    "\n",
    "print('<<결 과>>')\n",
    "height_list.sort()\n",
    "print('<키>=', height_list)\n",
    "print('최댓값', max(height_list), 'cm')\n",
    "print('최솟값', min(height_list), 'cm')\n",
    "print('평균값', statistics.mean(height_list), 'cm')\n",
    "print('중위값', statistics.median(height_list), 'cm')\n",
    "print('\\n')\n",
    "\n",
    "weight_list.sort()\n",
    "print('<몸무게>=', weight_list)\n",
    "print('최댓값', max(weight_list), 'kg')\n",
    "print('최솟값', min(weight_list), 'kg')\n",
    "print('평균값', statistics.mean(weight_list), 'kg')\n",
    "print('중위값', statistics.median(weight_list), 'kg')\n",
    "print('\\n')\n",
    "\n",
    "sorted_brand_dic = sorted(brand_dic.items(), key=operator.itemgetter(1), reverse=True)\n",
    "print('<좋아하는브랜드>=', sorted_brand_dic)\n",
    "print('공동 등수 유의하세요 :)')\n",
    "\n",
    "ranking = 0\n",
    "for brand in sorted_brand_dic:\n",
    "    if ranking <= 2:\n",
    "        print(ranking+1, '위 : ', brand)\n",
    "        ranking += 1\n",
    "    else:\n",
    "        break"
   ]
  },
  {
   "cell_type": "code",
   "execution_count": null,
   "metadata": {
    "collapsed": true
   },
   "outputs": [],
   "source": []
  }
 ],
 "metadata": {
  "anaconda-cloud": {},
  "kernelspec": {
   "display_name": "Python [Root]",
   "language": "python",
   "name": "Python [Root]"
  },
  "language_info": {
   "codemirror_mode": {
    "name": "ipython",
    "version": 3
   },
   "file_extension": ".py",
   "mimetype": "text/x-python",
   "name": "python",
   "nbconvert_exporter": "python",
   "pygments_lexer": "ipython3",
   "version": "3.5.2"
  }
 },
 "nbformat": 4,
 "nbformat_minor": 0
}
