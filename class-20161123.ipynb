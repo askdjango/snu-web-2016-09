{
 "cells": [
  {
   "cell_type": "code",
   "execution_count": 6,
   "metadata": {
    "collapsed": false
   },
   "outputs": [
    {
     "name": "stdout",
     "output_type": "stream",
     "text": [
      "이름,국어성적,영어성적,수학성적\n",
      "철수,89,10,78\n",
      "철수1,89,10,78\n",
      "철수2,89,10,78\n",
      "철수3,89,10,78\n",
      "철수4,89,10,78\n",
      "철수5,89,10,78\n",
      "철수6,89,10,78\n",
      "철수7,89,10,78\n",
      "철수8,89,10,78\n",
      "철수9,89,10,78\n"
     ]
    }
   ],
   "source": [
    "print(open('/Users/allieus/Workbook1.csv', 'rt', encoding='cp949').read())"
   ]
  },
  {
   "cell_type": "code",
   "execution_count": 11,
   "metadata": {
    "collapsed": false
   },
   "outputs": [
    {
     "name": "stdout",
     "output_type": "stream",
     "text": [
      "이름,국어성적,영어성적,수학성적,\n",
      "철수,89,10,78\n",
      "철수1,89,10,78\n",
      "철수2,89,10,78\n"
     ]
    }
   ],
   "source": [
    "columns = ['이름', '국어성적', '영어성적', '수학성적']\n",
    "score_list = [\n",
    "    {'이름': '철수', '국어성적': 89, '영어성적': 10, '수학성적': 78},\n",
    "    {'이름': '철수1', '국어성적': 89, '영어성적': 10, '수학성적': 78},\n",
    "    {'이름': '철수2', '국어성적': 89, '영어성적': 10, '수학성적': 78},\n",
    "]\n",
    "\n",
    "for column in columns:\n",
    "    print(column, end=',')\n",
    "print()\n",
    "\n",
    "for score_dict in score_list:\n",
    "    print('{이름},{국어성적},{영어성적},{수학성적}'.format(**score_dict))"
   ]
  },
  {
   "cell_type": "code",
   "execution_count": 18,
   "metadata": {
    "collapsed": false
   },
   "outputs": [],
   "source": [
    "import csv\n",
    "\n",
    "with open('result.csv', 'wt', encoding='cp949') as f:\n",
    "    writer = csv.writer(f, delimiter='|')\n",
    "    # csv.reader(f)\n",
    "    writer.writerow(['이름', '국어성적', '영어성적', '수학성적'])\n",
    "    writer.writerow(['철수1', '90', '95', '100'])\n",
    "    writer.writerow(['철수2', '90', '95', '100'])\n",
    "    # print(writer.writerows)"
   ]
  },
  {
   "cell_type": "code",
   "execution_count": 19,
   "metadata": {
    "collapsed": false
   },
   "outputs": [
    {
     "name": "stdout",
     "output_type": "stream",
     "text": [
      "�̸�|�����|�����|���м���\r",
      "\r\n",
      "ö��1|90|95|100\r",
      "\r\n",
      "ö��2|90|95|100\r",
      "\r\n"
     ]
    }
   ],
   "source": [
    "!cat result.csv"
   ]
  },
  {
   "cell_type": "markdown",
   "metadata": {},
   "source": [
    "## hashlib"
   ]
  },
  {
   "cell_type": "code",
   "execution_count": 23,
   "metadata": {
    "collapsed": false
   },
   "outputs": [
    {
     "name": "stdout",
     "output_type": "stream",
     "text": [
      "3fb5df47fec0bee2f00a4e9cc162b824\n",
      "b'?\\xb5\\xdfG\\xfe\\xc0\\xbe\\xe2\\xf0\\nN\\x9c\\xc1b\\xb8$'\n"
     ]
    }
   ],
   "source": [
    "ipynb_data = open('class-20161123.ipynb', 'rb').read()\n",
    "\n",
    "import hashlib\n",
    "md5 = hashlib.md5()\n",
    "md5.update(ipynb_data)\n",
    "print(md5.hexdigest())\n",
    "print(md5.digest())"
   ]
  },
  {
   "cell_type": "markdown",
   "metadata": {},
   "source": [
    "## queue"
   ]
  },
  {
   "cell_type": "code",
   "execution_count": 25,
   "metadata": {
    "collapsed": false
   },
   "outputs": [
    {
     "data": {
      "text/plain": [
       "['a', 'b', 'c', 'd']"
      ]
     },
     "execution_count": 25,
     "metadata": {},
     "output_type": "execute_result"
    }
   ],
   "source": [
    "mylist = []\n",
    "mylist.append('a')\n",
    "mylist.append('b')\n",
    "mylist.append('c')\n",
    "mylist.append('d')\n",
    "mylist"
   ]
  },
  {
   "cell_type": "code",
   "execution_count": 27,
   "metadata": {
    "collapsed": false
   },
   "outputs": [
    {
     "data": {
      "text/plain": [
       "'a'"
      ]
     },
     "execution_count": 27,
     "metadata": {},
     "output_type": "execute_result"
    }
   ],
   "source": [
    "mylist.pop(0)"
   ]
  },
  {
   "cell_type": "code",
   "execution_count": 28,
   "metadata": {
    "collapsed": false
   },
   "outputs": [
    {
     "data": {
      "text/plain": [
       "'b'"
      ]
     },
     "execution_count": 28,
     "metadata": {},
     "output_type": "execute_result"
    }
   ],
   "source": [
    "mylist.pop(0)"
   ]
  },
  {
   "cell_type": "code",
   "execution_count": 29,
   "metadata": {
    "collapsed": false
   },
   "outputs": [
    {
     "data": {
      "text/plain": [
       "'c'"
      ]
     },
     "execution_count": 29,
     "metadata": {},
     "output_type": "execute_result"
    }
   ],
   "source": [
    "mylist.pop(0)"
   ]
  },
  {
   "cell_type": "code",
   "execution_count": 30,
   "metadata": {
    "collapsed": false
   },
   "outputs": [
    {
     "data": {
      "text/plain": [
       "'d'"
      ]
     },
     "execution_count": 30,
     "metadata": {},
     "output_type": "execute_result"
    }
   ],
   "source": [
    "mylist.pop(0)"
   ]
  },
  {
   "cell_type": "code",
   "execution_count": 31,
   "metadata": {
    "collapsed": false
   },
   "outputs": [
    {
     "ename": "IndexError",
     "evalue": "pop from empty list",
     "output_type": "error",
     "traceback": [
      "\u001b[0;31m---------------------------------------------------------------------------\u001b[0m",
      "\u001b[0;31mIndexError\u001b[0m                                Traceback (most recent call last)",
      "\u001b[0;32m<ipython-input-31-4276717e3066>\u001b[0m in \u001b[0;36m<module>\u001b[0;34m()\u001b[0m\n\u001b[0;32m----> 1\u001b[0;31m \u001b[0mmylist\u001b[0m\u001b[0;34m.\u001b[0m\u001b[0mpop\u001b[0m\u001b[0;34m(\u001b[0m\u001b[0;36m0\u001b[0m\u001b[0;34m)\u001b[0m\u001b[0;34m\u001b[0m\u001b[0m\n\u001b[0m",
      "\u001b[0;31mIndexError\u001b[0m: pop from empty list"
     ]
    }
   ],
   "source": [
    "mylist.pop(0)"
   ]
  },
  {
   "cell_type": "markdown",
   "metadata": {},
   "source": [
    "## queue.PriorityQueue (연습문제) - 프린터 큐"
   ]
  },
  {
   "cell_type": "code",
   "execution_count": 41,
   "metadata": {
    "collapsed": false
   },
   "outputs": [
    {
     "name": "stdout",
     "output_type": "stream",
     "text": [
      "1 B\n",
      "2 A\n",
      "3 D\n",
      "4 C\n"
     ]
    }
   ],
   "source": [
    "from queue import PriorityQueue, Empty\n",
    "\n",
    "class Job:\n",
    "    def __init__(self, value, priority):\n",
    "        self.value = value\n",
    "        self.priority = priority\n",
    "    \n",
    "    def __lt__(self, other):\n",
    "        return self.priority < other.priority\n",
    "\n",
    "queue = PriorityQueue()\n",
    "queue.put_nowait(Job('A', 2))\n",
    "queue.put_nowait(Job('B', 1))\n",
    "queue.put_nowait(Job('C', 4))\n",
    "queue.put_nowait(Job('D', 3))\n",
    "\n",
    "while not queue.empty():\n",
    "    job = queue.get_nowait()\n",
    "    print(job.priority, job.value)"
   ]
  },
  {
   "cell_type": "markdown",
   "metadata": {},
   "source": [
    "## Graph 실습"
   ]
  },
  {
   "cell_type": "code",
   "execution_count": 46,
   "metadata": {
    "collapsed": true
   },
   "outputs": [],
   "source": [
    "graph = {'A': ['B', 'C'],\n",
    "             'B': ['C', 'D'],\n",
    "             'C': ['F'],\n",
    "             'D': ['C'],\n",
    "             'E': ['F'],\n",
    "             'F': ['C']}"
   ]
  },
  {
   "cell_type": "code",
   "execution_count": 47,
   "metadata": {
    "collapsed": true
   },
   "outputs": [],
   "source": [
    "def find_path(graph, start, end, path=None):\n",
    "    if path is None:\n",
    "        path = []\n",
    "\n",
    "    path = path + [start]\n",
    "    if start == end:\n",
    "        return path\n",
    "    if start not in graph:\n",
    "        return None\n",
    "    for node in graph[start]:\n",
    "        if node not in path:\n",
    "            newpath = find_path(graph, node, end, path)\n",
    "            if newpath:\n",
    "                return newpath\n",
    "    return None"
   ]
  },
  {
   "cell_type": "code",
   "execution_count": 48,
   "metadata": {
    "collapsed": false
   },
   "outputs": [
    {
     "data": {
      "text/plain": [
       "['A', 'B', 'D']"
      ]
     },
     "execution_count": 48,
     "metadata": {},
     "output_type": "execute_result"
    }
   ],
   "source": [
    "find_path(graph, 'A', 'D')"
   ]
  },
  {
   "cell_type": "code",
   "execution_count": null,
   "metadata": {
    "collapsed": true
   },
   "outputs": [],
   "source": []
  }
 ],
 "metadata": {
  "anaconda-cloud": {},
  "kernelspec": {
   "display_name": "Python [conda root]",
   "language": "python",
   "name": "conda-root-py"
  },
  "language_info": {
   "codemirror_mode": {
    "name": "ipython",
    "version": 3
   },
   "file_extension": ".py",
   "mimetype": "text/x-python",
   "name": "python",
   "nbconvert_exporter": "python",
   "pygments_lexer": "ipython3",
   "version": "3.5.2"
  }
 },
 "nbformat": 4,
 "nbformat_minor": 1
}
