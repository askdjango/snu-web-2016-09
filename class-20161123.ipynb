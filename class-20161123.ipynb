{
 "cells": [
  {
   "cell_type": "code",
   "execution_count": 6,
   "metadata": {
    "collapsed": false
   },
   "outputs": [
    {
     "name": "stdout",
     "output_type": "stream",
     "text": [
      "이름,국어성적,영어성적,수학성적\n",
      "철수,89,10,78\n",
      "철수1,89,10,78\n",
      "철수2,89,10,78\n",
      "철수3,89,10,78\n",
      "철수4,89,10,78\n",
      "철수5,89,10,78\n",
      "철수6,89,10,78\n",
      "철수7,89,10,78\n",
      "철수8,89,10,78\n",
      "철수9,89,10,78\n"
     ]
    }
   ],
   "source": [
    "print(open('/Users/allieus/Workbook1.csv', 'rt', encoding='cp949').read())"
   ]
  },
  {
   "cell_type": "code",
   "execution_count": 11,
   "metadata": {
    "collapsed": false
   },
   "outputs": [
    {
     "name": "stdout",
     "output_type": "stream",
     "text": [
      "이름,국어성적,영어성적,수학성적,\n",
      "철수,89,10,78\n",
      "철수1,89,10,78\n",
      "철수2,89,10,78\n"
     ]
    }
   ],
   "source": [
    "columns = ['이름', '국어성적', '영어성적', '수학성적']\n",
    "score_list = [\n",
    "    {'이름': '철수', '국어성적': 89, '영어성적': 10, '수학성적': 78},\n",
    "    {'이름': '철수1', '국어성적': 89, '영어성적': 10, '수학성적': 78},\n",
    "    {'이름': '철수2', '국어성적': 89, '영어성적': 10, '수학성적': 78},\n",
    "]\n",
    "\n",
    "for column in columns:\n",
    "    print(column, end=',')\n",
    "print()\n",
    "\n",
    "for score_dict in score_list:\n",
    "    print('{이름},{국어성적},{영어성적},{수학성적}'.format(**score_dict))"
   ]
  },
  {
   "cell_type": "code",
   "execution_count": 18,
   "metadata": {
    "collapsed": false
   },
   "outputs": [],
   "source": [
    "import csv\n",
    "\n",
    "with open('result.csv', 'wt', encoding='cp949') as f:\n",
    "    writer = csv.writer(f, delimiter='|')\n",
    "    # csv.reader(f)\n",
    "    writer.writerow(['이름', '국어성적', '영어성적', '수학성적'])\n",
    "    writer.writerow(['철수1', '90', '95', '100'])\n",
    "    writer.writerow(['철수2', '90', '95', '100'])\n",
    "    # print(writer.writerows)"
   ]
  },
  {
   "cell_type": "code",
   "execution_count": 19,
   "metadata": {
    "collapsed": false
   },
   "outputs": [
    {
     "name": "stdout",
     "output_type": "stream",
     "text": [
      "�̸�|�����|�����|���м���\r",
      "\r\n",
      "ö��1|90|95|100\r",
      "\r\n",
      "ö��2|90|95|100\r",
      "\r\n"
     ]
    }
   ],
   "source": [
    "!cat result.csv"
   ]
  },
  {
   "cell_type": "code",
   "execution_count": null,
   "metadata": {
    "collapsed": true
   },
   "outputs": [],
   "source": []
  }
 ],
 "metadata": {
  "anaconda-cloud": {},
  "kernelspec": {
   "display_name": "Python [conda root]",
   "language": "python",
   "name": "conda-root-py"
  },
  "language_info": {
   "codemirror_mode": {
    "name": "ipython",
    "version": 3
   },
   "file_extension": ".py",
   "mimetype": "text/x-python",
   "name": "python",
   "nbconvert_exporter": "python",
   "pygments_lexer": "ipython3",
   "version": "3.5.2"
  }
 },
 "nbformat": 4,
 "nbformat_minor": 1
}
