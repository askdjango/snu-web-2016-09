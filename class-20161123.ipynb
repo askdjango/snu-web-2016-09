{
 "cells": [
  {
   "cell_type": "code",
   "execution_count": 6,
   "metadata": {
    "collapsed": false
   },
   "outputs": [
    {
     "name": "stdout",
     "output_type": "stream",
     "text": [
      "이름,국어성적,영어성적,수학성적\n",
      "철수,89,10,78\n",
      "철수1,89,10,78\n",
      "철수2,89,10,78\n",
      "철수3,89,10,78\n",
      "철수4,89,10,78\n",
      "철수5,89,10,78\n",
      "철수6,89,10,78\n",
      "철수7,89,10,78\n",
      "철수8,89,10,78\n",
      "철수9,89,10,78\n"
     ]
    }
   ],
   "source": [
    "print(open('/Users/allieus/Workbook1.csv', 'rt', encoding='cp949').read())"
   ]
  },
  {
   "cell_type": "code",
   "execution_count": 11,
   "metadata": {
    "collapsed": false
   },
   "outputs": [
    {
     "name": "stdout",
     "output_type": "stream",
     "text": [
      "이름,국어성적,영어성적,수학성적,\n",
      "철수,89,10,78\n",
      "철수1,89,10,78\n",
      "철수2,89,10,78\n"
     ]
    }
   ],
   "source": [
    "columns = ['이름', '국어성적', '영어성적', '수학성적']\n",
    "score_list = [\n",
    "    {'이름': '철수', '국어성적': 89, '영어성적': 10, '수학성적': 78},\n",
    "    {'이름': '철수1', '국어성적': 89, '영어성적': 10, '수학성적': 78},\n",
    "    {'이름': '철수2', '국어성적': 89, '영어성적': 10, '수학성적': 78},\n",
    "]\n",
    "\n",
    "for column in columns:\n",
    "    print(column, end=',')\n",
    "print()\n",
    "\n",
    "for score_dict in score_list:\n",
    "    print('{이름},{국어성적},{영어성적},{수학성적}'.format(**score_dict))"
   ]
  },
  {
   "cell_type": "code",
   "execution_count": 18,
   "metadata": {
    "collapsed": false
   },
   "outputs": [],
   "source": [
    "import csv\n",
    "\n",
    "with open('result.csv', 'wt', encoding='cp949') as f:\n",
    "    writer = csv.writer(f, delimiter='|')\n",
    "    # csv.reader(f)\n",
    "    writer.writerow(['이름', '국어성적', '영어성적', '수학성적'])\n",
    "    writer.writerow(['철수1', '90', '95', '100'])\n",
    "    writer.writerow(['철수2', '90', '95', '100'])\n",
    "    # print(writer.writerows)"
   ]
  },
  {
   "cell_type": "code",
   "execution_count": 19,
   "metadata": {
    "collapsed": false
   },
   "outputs": [
    {
     "name": "stdout",
     "output_type": "stream",
     "text": [
      "�̸�|�����|�����|���м���\r",
      "\r\n",
      "ö��1|90|95|100\r",
      "\r\n",
      "ö��2|90|95|100\r",
      "\r\n"
     ]
    }
   ],
   "source": [
    "!cat result.csv"
   ]
  },
  {
   "cell_type": "markdown",
   "metadata": {},
   "source": [
    "## hashlib"
   ]
  },
  {
   "cell_type": "code",
   "execution_count": 23,
   "metadata": {
    "collapsed": false
   },
   "outputs": [
    {
     "name": "stdout",
     "output_type": "stream",
     "text": [
      "3fb5df47fec0bee2f00a4e9cc162b824\n",
      "b'?\\xb5\\xdfG\\xfe\\xc0\\xbe\\xe2\\xf0\\nN\\x9c\\xc1b\\xb8$'\n"
     ]
    }
   ],
   "source": [
    "ipynb_data = open('class-20161123.ipynb', 'rb').read()\n",
    "\n",
    "import hashlib\n",
    "md5 = hashlib.md5()\n",
    "md5.update(ipynb_data)\n",
    "print(md5.hexdigest())\n",
    "print(md5.digest())"
   ]
  },
  {
   "cell_type": "markdown",
   "metadata": {},
   "source": [
    "## queue"
   ]
  },
  {
   "cell_type": "code",
   "execution_count": 25,
   "metadata": {
    "collapsed": false
   },
   "outputs": [
    {
     "data": {
      "text/plain": [
       "['a', 'b', 'c', 'd']"
      ]
     },
     "execution_count": 25,
     "metadata": {},
     "output_type": "execute_result"
    }
   ],
   "source": [
    "mylist = []\n",
    "mylist.append('a')\n",
    "mylist.append('b')\n",
    "mylist.append('c')\n",
    "mylist.append('d')\n",
    "mylist"
   ]
  },
  {
   "cell_type": "code",
   "execution_count": 27,
   "metadata": {
    "collapsed": false
   },
   "outputs": [
    {
     "data": {
      "text/plain": [
       "'a'"
      ]
     },
     "execution_count": 27,
     "metadata": {},
     "output_type": "execute_result"
    }
   ],
   "source": [
    "mylist.pop(0)"
   ]
  },
  {
   "cell_type": "code",
   "execution_count": 28,
   "metadata": {
    "collapsed": false
   },
   "outputs": [
    {
     "data": {
      "text/plain": [
       "'b'"
      ]
     },
     "execution_count": 28,
     "metadata": {},
     "output_type": "execute_result"
    }
   ],
   "source": [
    "mylist.pop(0)"
   ]
  },
  {
   "cell_type": "code",
   "execution_count": 29,
   "metadata": {
    "collapsed": false
   },
   "outputs": [
    {
     "data": {
      "text/plain": [
       "'c'"
      ]
     },
     "execution_count": 29,
     "metadata": {},
     "output_type": "execute_result"
    }
   ],
   "source": [
    "mylist.pop(0)"
   ]
  },
  {
   "cell_type": "code",
   "execution_count": 30,
   "metadata": {
    "collapsed": false
   },
   "outputs": [
    {
     "data": {
      "text/plain": [
       "'d'"
      ]
     },
     "execution_count": 30,
     "metadata": {},
     "output_type": "execute_result"
    }
   ],
   "source": [
    "mylist.pop(0)"
   ]
  },
  {
   "cell_type": "code",
   "execution_count": 31,
   "metadata": {
    "collapsed": false
   },
   "outputs": [
    {
     "ename": "IndexError",
     "evalue": "pop from empty list",
     "output_type": "error",
     "traceback": [
      "\u001b[0;31m---------------------------------------------------------------------------\u001b[0m",
      "\u001b[0;31mIndexError\u001b[0m                                Traceback (most recent call last)",
      "\u001b[0;32m<ipython-input-31-4276717e3066>\u001b[0m in \u001b[0;36m<module>\u001b[0;34m()\u001b[0m\n\u001b[0;32m----> 1\u001b[0;31m \u001b[0mmylist\u001b[0m\u001b[0;34m.\u001b[0m\u001b[0mpop\u001b[0m\u001b[0;34m(\u001b[0m\u001b[0;36m0\u001b[0m\u001b[0;34m)\u001b[0m\u001b[0;34m\u001b[0m\u001b[0m\n\u001b[0m",
      "\u001b[0;31mIndexError\u001b[0m: pop from empty list"
     ]
    }
   ],
   "source": [
    "mylist.pop(0)"
   ]
  },
  {
   "cell_type": "markdown",
   "metadata": {},
   "source": [
    "## queue.PriorityQueue (연습문제) - 프린터 큐"
   ]
  },
  {
   "cell_type": "code",
   "execution_count": 41,
   "metadata": {
    "collapsed": false
   },
   "outputs": [
    {
     "name": "stdout",
     "output_type": "stream",
     "text": [
      "1 B\n",
      "2 A\n",
      "3 D\n",
      "4 C\n"
     ]
    }
   ],
   "source": [
    "from queue import PriorityQueue, Empty\n",
    "\n",
    "class Job:\n",
    "    def __init__(self, value, priority):\n",
    "        self.value = value\n",
    "        self.priority = priority\n",
    "    \n",
    "    def __lt__(self, other):\n",
    "        return self.priority < other.priority\n",
    "\n",
    "queue = PriorityQueue()\n",
    "queue.put_nowait(Job('A', 2))\n",
    "queue.put_nowait(Job('B', 1))\n",
    "queue.put_nowait(Job('C', 4))\n",
    "queue.put_nowait(Job('D', 3))\n",
    "\n",
    "while not queue.empty():\n",
    "    job = queue.get_nowait()\n",
    "    print(job.priority, job.value)"
   ]
  },
  {
   "cell_type": "markdown",
   "metadata": {},
   "source": [
    "## Graph 실습"
   ]
  },
  {
   "cell_type": "code",
   "execution_count": 46,
   "metadata": {
    "collapsed": true
   },
   "outputs": [],
   "source": [
    "graph = {'A': ['B', 'C'],\n",
    "             'B': ['C', 'D'],\n",
    "             'C': ['F'],\n",
    "             'D': ['C'],\n",
    "             'E': ['F'],\n",
    "             'F': ['C']}"
   ]
  },
  {
   "cell_type": "code",
   "execution_count": 47,
   "metadata": {
    "collapsed": true
   },
   "outputs": [],
   "source": [
    "def find_path(graph, start, end, path=None):\n",
    "    if path is None:\n",
    "        path = []\n",
    "\n",
    "    path = path + [start]\n",
    "    if start == end:\n",
    "        return path\n",
    "    if start not in graph:\n",
    "        return None\n",
    "    for node in graph[start]:\n",
    "        if node not in path:\n",
    "            newpath = find_path(graph, node, end, path)\n",
    "            if newpath:\n",
    "                return newpath\n",
    "    return None"
   ]
  },
  {
   "cell_type": "code",
   "execution_count": 48,
   "metadata": {
    "collapsed": false
   },
   "outputs": [
    {
     "data": {
      "text/plain": [
       "['A', 'B', 'D']"
      ]
     },
     "execution_count": 48,
     "metadata": {},
     "output_type": "execute_result"
    }
   ],
   "source": [
    "find_path(graph, 'A', 'D')"
   ]
  },
  {
   "cell_type": "markdown",
   "metadata": {},
   "source": [
    "## 이동국"
   ]
  },
  {
   "cell_type": "code",
   "execution_count": 49,
   "metadata": {
    "collapsed": false
   },
   "outputs": [
    {
     "name": "stdout",
     "output_type": "stream",
     "text": [
      "출전수 :  439\n",
      "총득점 :  192\n",
      "대회별 득점\n",
      "98 아디다스코리아컵 4\n",
      "98 현대컵 K-리그 7\n",
      "99 대한화재컵 0\n",
      "99 바이코리아컵 K-리그 6\n",
      "99 아디다스컵 1\n",
      "99 바이코리아컵 K-리그 1\n",
      "2000 대한화재컵 0\n",
      "2000 삼성디지털 K-리그 4\n",
      "2001 포스코 K-리그 3\n",
      "2002 삼성 파브 K-리그 7\n",
      "삼성 하우젠 K-리그 2003 11\n",
      "삼성 하우젠 K-리그 2004 1\n",
      "삼성 하우젠컵 2004 3\n",
      "삼성 하우젠 K-리그 2004 0\n",
      "삼성 하우젠컵 2005 4\n",
      "삼성 하우젠 K-리그 2005 3\n",
      "삼성 하우젠 K-리그 2006 7\n",
      "삼성 하우젠 K-리그 2008 0\n",
      "삼성 하우젠컵 2008 0\n",
      "삼성 하우젠 K-리그 2008 0\n",
      "삼성 하우젠컵 2008 0\n",
      "삼성 하우젠 K-리그 2008 0\n",
      "삼성 하우젠컵 2008 0\n",
      "삼성 하우젠 K-리그 2008 2\n",
      "2009 K-리그 2\n",
      "피스컵 코리아 2009 1\n",
      "2009 K-리그 4\n",
      "피스컵 코리아 2009 0\n",
      "2009 K-리그 0\n",
      "피스컵 코리아 2009 0\n",
      "2009 K-리그 15\n",
      "쏘나타 K리그 2010  7\n",
      "포스코컵 2010 1\n",
      "쏘나타 K리그 2010  0\n",
      "포스코컵 2010 0\n",
      "쏘나타 K리그 2010  5\n",
      "현대오일뱅크 K리그 2011 16\n",
      "현대오일뱅크 K리그 2012 26\n",
      "현대오일뱅크 K리그 클래식 13\n",
      "현대오일뱅크 K리그 클래식 2014 13\n",
      "현대오일뱅크 K리그 클래식 2015 13\n",
      "현대오일뱅크 K리그 클래식 2016 12\n",
      "Top3 대회 : [('현대오일뱅크 K리그 2012', 26), ('현대오일뱅크 K리그 2011', 16), ('2009 K-리그', 15)]\n",
      "Home/Away 별 득점\n",
      "A 86\n",
      "H 104\n",
      "N 2\n"
     ]
    }
   ],
   "source": [
    "import requests\n",
    "from bs4 import BeautifulSoup\n",
    "from itertools import groupby\n",
    "\n",
    "\n",
    "def get_records(player_id):\n",
    "    url = 'http://www.kleague.com/KOR_2016/record/data_5.asp'\n",
    "    params = {'player': player_id}\n",
    "\n",
    "    html = requests.get(url, params=params).text\n",
    "    soup = BeautifulSoup(html, 'html.parser')\n",
    "\n",
    "    header = [th_tag.text for th_tag in soup.select('.table1-col thead th')]\n",
    "\n",
    "    rows = []\n",
    "    for tr_tag in soup.select('.table1-col tbody tr'):\n",
    "        cols = [td_tag.text for td_tag in tr_tag.select('td')]\n",
    "        if rows:\n",
    "            diff_size = len(rows[-1]) - len(cols)\n",
    "            if diff_size > 0:\n",
    "                cols = rows[-1][:diff_size] + cols\n",
    "        rows.append(cols)\n",
    "\n",
    "    records = [dict(zip(header, row)) for row in rows]\n",
    "\n",
    "    return records\n",
    "\n",
    "if __name__ == '__main__':\n",
    "    records = get_records('19980443')  # 이동국\n",
    "\n",
    "    print('출전수 : ', len(records))\n",
    "    print('총득점 : ', sum(int(record['득점']) for record in records))\n",
    "\n",
    "    print('대회별 득점')\n",
    "\n",
    "    group_list = []\n",
    "    for criteria, group in groupby(records, lambda record: record['대회']):\n",
    "        total_score = sum(int(record['득점']) for record in group)\n",
    "        print(criteria, total_score)\n",
    "        group_list.append((criteria, total_score))\n",
    "\n",
    "    group_list.sort(key=lambda row: row[1], reverse=True)\n",
    "    print('Top3 대회 :', group_list[:3])\n",
    "\n",
    "    print('Home/Away 별 득점')\n",
    "    records.sort(key=lambda record: record['H'])\n",
    "\n",
    "    for criteria, group in groupby(records, lambda record: record['H']):\n",
    "        total_score = sum(int(record['득점']) for record in group)\n",
    "        print(criteria, total_score)"
   ]
  },
  {
   "cell_type": "markdown",
   "metadata": {},
   "source": [
    "## MRO"
   ]
  },
  {
   "cell_type": "code",
   "execution_count": 53,
   "metadata": {
    "collapsed": true
   },
   "outputs": [],
   "source": [
    "class A:\n",
    "    def fn(self):\n",
    "        print('A')\n",
    "\n",
    "class B(A):\n",
    "    def fn(self):\n",
    "        super().fn()\n",
    "        print('B')\n",
    "\n",
    "class C(A):\n",
    "    def fn(self):\n",
    "        super().fn()\n",
    "        print('C')\n",
    "\n",
    "class D(B, C):\n",
    "    def fn(self):\n",
    "        super().fn()\n",
    "        print('D')"
   ]
  },
  {
   "cell_type": "code",
   "execution_count": 54,
   "metadata": {
    "collapsed": false
   },
   "outputs": [
    {
     "data": {
      "text/plain": [
       "(__main__.E, __main__.C, __main__.B, __main__.A, object)"
      ]
     },
     "execution_count": 54,
     "metadata": {},
     "output_type": "execute_result"
    }
   ],
   "source": [
    "E.__mro__"
   ]
  },
  {
   "cell_type": "code",
   "execution_count": 55,
   "metadata": {
    "collapsed": false
   },
   "outputs": [
    {
     "data": {
      "text/plain": [
       "(__main__.D, __main__.B, __main__.C, __main__.A, object)"
      ]
     },
     "execution_count": 55,
     "metadata": {},
     "output_type": "execute_result"
    }
   ],
   "source": [
    "D.__mro__"
   ]
  },
  {
   "cell_type": "code",
   "execution_count": 56,
   "metadata": {
    "collapsed": false
   },
   "outputs": [
    {
     "name": "stdout",
     "output_type": "stream",
     "text": [
      "A\n",
      "C\n",
      "B\n",
      "D\n"
     ]
    }
   ],
   "source": [
    "D().fn()"
   ]
  },
  {
   "cell_type": "code",
   "execution_count": 57,
   "metadata": {
    "collapsed": false
   },
   "outputs": [
    {
     "data": {
      "text/plain": [
       "175"
      ]
     },
     "execution_count": 57,
     "metadata": {},
     "output_type": "execute_result"
    }
   ],
   "source": [
    "int(\"af\", 16)"
   ]
  },
  {
   "cell_type": "code",
   "execution_count": 58,
   "metadata": {
    "collapsed": false
   },
   "outputs": [
    {
     "data": {
      "text/plain": [
       "175"
      ]
     },
     "execution_count": 58,
     "metadata": {},
     "output_type": "execute_result"
    }
   ],
   "source": [
    "0xaf"
   ]
  },
  {
   "cell_type": "code",
   "execution_count": null,
   "metadata": {
    "collapsed": true
   },
   "outputs": [],
   "source": []
  }
 ],
 "metadata": {
  "anaconda-cloud": {},
  "kernelspec": {
   "display_name": "Python [conda root]",
   "language": "python",
   "name": "conda-root-py"
  },
  "language_info": {
   "codemirror_mode": {
    "name": "ipython",
    "version": 3
   },
   "file_extension": ".py",
   "mimetype": "text/x-python",
   "name": "python",
   "nbconvert_exporter": "python",
   "pygments_lexer": "ipython3",
   "version": "3.5.2"
  }
 },
 "nbformat": 4,
 "nbformat_minor": 1
}
